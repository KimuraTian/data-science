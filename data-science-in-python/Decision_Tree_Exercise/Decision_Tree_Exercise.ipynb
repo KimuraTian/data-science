{
 "cells": [
  {
   "cell_type": "markdown",
   "metadata": {},
   "source": [
    "## Decision Tree Exercise\n",
    "\n",
    "Mucun Tian"
   ]
  },
  {
   "cell_type": "markdown",
   "metadata": {},
   "source": [
    "### Import labraries"
   ]
  },
  {
   "cell_type": "code",
   "execution_count": 1,
   "metadata": {
    "collapsed": true
   },
   "outputs": [],
   "source": [
    "import numpy as np\n",
    "from sklearn.model_selection import train_test_split\n",
    "import pandas as pd\n",
    "from sklearn import preprocessing\n",
    "import matplotlib.pyplot as plt\n",
    "from sklearn import tree"
   ]
  },
  {
   "cell_type": "markdown",
   "metadata": {},
   "source": [
    "### Load the data in iris1.csv"
   ]
  },
  {
   "cell_type": "code",
   "execution_count": 2,
   "metadata": {
    "collapsed": true
   },
   "outputs": [],
   "source": [
    "raw_data=pd.read_csv(\"./data/iris1.csv\")"
   ]
  },
  {
   "cell_type": "markdown",
   "metadata": {},
   "source": [
    "### Train-Test\n",
    "\n",
    "Get the features and labels"
   ]
  },
  {
   "cell_type": "code",
   "execution_count": 3,
   "metadata": {
    "collapsed": true
   },
   "outputs": [],
   "source": [
    "X = raw_data.iloc[:,0:4].values\n",
    "y = raw_data.iloc[:,4].values"
   ]
  },
  {
   "cell_type": "markdown",
   "metadata": {},
   "source": [
    "Perform the stratified 5-fold splits and plot the histogram for each fold"
   ]
  },
  {
   "cell_type": "code",
   "execution_count": 4,
   "metadata": {},
   "outputs": [
    {
     "data": {
      "image/png": "[encoded data removed]",
      "text/plain": [
       "<matplotlib.figure.Figure at 0x7fda41b9dc50>"
      ]
     },
     "metadata": {},
     "output_type": "display_data"
    }
   ],
   "source": [
    "from sklearn.model_selection import StratifiedKFold\n",
    "kf = StratifiedKFold(n_splits=5)\n",
    "folds = []\n",
    "k = 1\n",
    "for train_index, test_index in kf.split(X,y):\n",
    "    y_train=y[train_index]\n",
    "    y_test=y[test_index]\n",
    "    from sklearn import preprocessing\n",
    "    le = preprocessing.LabelEncoder()\n",
    "    c_train=le.fit_transform(y_train)\n",
    "    c_test=le.fit_transform(y_test)\n",
    "    \n",
    "    # save data into a dataframe for plots\n",
    "    df_train = pd.DataFrame()\n",
    "    df_train['Data'] = c_train\n",
    "    df_train['Split'] = 'train'\n",
    "    df_test = pd.DataFrame()\n",
    "    df_test['Data'] = c_test\n",
    "    df_test['Split'] = 'test'\n",
    "    df = df_train.append(df_test, ignore_index=True)\n",
    "    df['Fold'] = k\n",
    "    folds.append(df)\n",
    "    k = k + 1\n",
    "    \n",
    "splits_df = pd.concat(folds, ignore_index=True)\n",
    "    \n",
    "import seaborn as sns\n",
    "g = sns.FacetGrid(data=splits_df, row='Split', col='Fold', margin_titles=True)\n",
    "g.map(plt.hist, \"Data\", bins=7, facecolor='blue', alpha=0.5)\n",
    "plt.show()"
   ]
  },
  {
   "cell_type": "markdown",
   "metadata": {},
   "source": [
    "Perform Train-Test tasks on each of the 5 folds using a classification tree\n",
    "\n",
    "For each fold:\n",
    "1. scale the independent features with mean zero and unit standard deviation\n",
    "2. normalize the scaled result with the norm \"l1\"\n",
    "3. train and test on a classification tree using the entropy to split\n",
    "4. compute the accuracy which will be aggregated into the final average accuracy."
   ]
  },
  {
   "cell_type": "code",
   "execution_count": 5,
   "metadata": {},
   "outputs": [
    {
     "name": "stdout",
     "output_type": "stream",
     "text": [
      "1  fold, accuracy= 0.8\n",
      "2  fold, accuracy= 0.7\n",
      "3  fold, accuracy= 0.833333333333\n",
      "4  fold, accuracy= 0.8\n",
      "5  fold, accuracy= 0.933333333333\n",
      "The average accuracy on all the 5 folds is:  0.813333333333\n"
     ]
    }
   ],
   "source": [
    "k = 1\n",
    "accuracy_fold = []\n",
    "for train_index, test_index in kf.split(X,y):\n",
    "    X_train=X[train_index]\n",
    "    y_train=y[train_index]\n",
    "    X_test=X[test_index]\n",
    "    y_test=y[test_index]\n",
    "    \n",
    "    # Scale features with mean zero and unit standard deviation\n",
    "    sd = preprocessing.StandardScaler()\n",
    "    sd.fit(X_train)\n",
    "    X_train_scaled = sd.transform(X_train)\n",
    "    X_test_scaled = sd.transform(X_test)\n",
    "    \n",
    "    # Normalize the scaled result with the norm \"l1\"\n",
    "    normalizer = preprocessing.Normalizer(norm=\"l1\")\n",
    "    X_train_normalized = normalizer.fit_transform(X_train_scaled)\n",
    "    X_test_normalized = normalizer.fit_transform(X_test_scaled)\n",
    "    \n",
    "    # Decision tree classifier\n",
    "    dtc = tree.DecisionTreeClassifier(criterion=\"entropy\")\n",
    "    dtc = dtc.fit(X_train_normalized, y_train)\n",
    "    y_pred=dtc.predict(X_test_normalized)\n",
    "    y_true=y_test\n",
    "    \n",
    "    # calculcate the accuracy\n",
    "    accuracy = 1 - np.sum(np.not_equal(y_true, y_pred)) / float(y_true.size)\n",
    "    accuracy_fold.append(accuracy)\n",
    "    print(k, ' fold, accuracy=', accuracy)\n",
    "    k = k + 1\n",
    "avg_accuracy = np.mean(accuracy_fold)\n",
    "print(\"The average accuracy on all the 5 folds is: \", avg_accuracy)"
   ]
  },
  {
   "cell_type": "markdown",
   "metadata": {},
   "source": [
    "### Part 2"
   ]
  },
  {
   "cell_type": "code",
   "execution_count": 6,
   "metadata": {},
   "outputs": [
    {
     "name": "stdout",
     "output_type": "stream",
     "text": [
      "The average accuracy for entropy on 1  fold is:  0.784493284493\n",
      "The average accuracy for gini on 1  fold is:  0.833333333333\n",
      "gini is selected\n",
      "1  fold, accuracy= 0.766666666667 using gini\n",
      "The average accuracy for entropy on 2  fold is:  0.767399267399\n",
      "The average accuracy for gini on 2  fold is:  0.798534798535\n",
      "gini is selected\n",
      "2  fold, accuracy= 0.8 using gini\n",
      "The average accuracy for entropy on 3  fold is:  0.825396825397\n",
      "The average accuracy for gini on 3  fold is:  0.858363858364\n",
      "gini is selected\n",
      "3  fold, accuracy= 0.8 using gini\n",
      "The average accuracy for entropy on 4  fold is:  0.858363858364\n",
      "The average accuracy for gini on 4  fold is:  0.824175824176\n",
      "entropy is selected\n",
      "4  fold, accuracy= 0.833333333333 using entropy\n",
      "The average accuracy for entropy on 5  fold is:  0.790598290598\n",
      "The average accuracy for gini on 5  fold is:  0.764346764347\n",
      "entropy is selected\n",
      "5  fold, accuracy= 0.933333333333 using entropy\n",
      "The average accuracy on all the 5 folds is:  0.826666666667\n"
     ]
    }
   ],
   "source": [
    "k = 1\n",
    "accuracy_fold = []\n",
    "kf_outer = StratifiedKFold(n_splits=5)\n",
    "for train_index, test_index in kf_outer.split(X,y):\n",
    "    X_train = X[train_index]\n",
    "    y_train = y[train_index]\n",
    "    X_test = X[test_index]\n",
    "    y_test = y[test_index]\n",
    "    \n",
    "    kf_inner = StratifiedKFold(n_splits=3)\n",
    "    \n",
    "    accuracy_entropy = []\n",
    "    accuracy_gini = []\n",
    "    # Parameter selection\n",
    "    for train_index2, test_index2 in kf_inner.split(X_train, y_train):\n",
    "        \n",
    "        X_train2 = X_train[train_index2]\n",
    "        y_train2 = y_train[train_index2]\n",
    "        X_test2 = X_train[test_index2]\n",
    "        y_test2 = y_train[test_index2]\n",
    "        \n",
    "        # Scale features witimport seaborn as snsh mean zero and unit standard deviation\n",
    "        sd = preprocessing.StandardScaler()\n",
    "        sd.fit(X_train2)\n",
    "        X_train2_scaled = sd.transform(X_train2)\n",
    "        X_test2_scaled = sd.transform(X_test2)\n",
    "\n",
    "        # Normalize the scaled result with the norm \"l1\"\n",
    "        normalizer = preprocessing.Normalizer(norm=\"l1\")\n",
    "        X_train2_normalized = normalizer.fit_transform(X_train2_scaled)\n",
    "        X_test2_normalized = normalizer.fit_transform(X_test2_scaled)\n",
    "\n",
    "        # Decision tree classifier for entropy\n",
    "        dtc = tree.DecisionTreeClassifier(criterion=\"entropy\")\n",
    "        dtc = dtc.fit(X_train2_normalized, y_train2)\n",
    "        y_pred2=dtc.predict(X_test2_normalized)\n",
    "        y_true2=y_test2\n",
    "\n",
    "        # calculcate the accuracy\n",
    "        accuracy1 = 1 - np.sum(np.not_equal(y_true2, y_pred2)) / float(y_true2.size)\n",
    "        accuracy_entropy.append(accuracy1)\n",
    "        \n",
    "        \n",
    "        # Decision tree classifier for gini\n",
    "        dtc = tree.DecisionTreeClassifier(criterion=\"gini\")\n",
    "        dtc = dtc.fit(X_train2_normalized, y_train2)\n",
    "        y_pred2=dtc.predict(X_test2_normalized)\n",
    "        y_true2=y_test2\n",
    "\n",
    "        # calculcate the accuracy\n",
    "        accuracy2 = 1 - np.sum(np.not_equal(y_true2, y_pred2)) / float(y_true2.size)\n",
    "        accuracy_gini.append(accuracy2)\n",
    "        \n",
    "    avg_accuracy1 = np.mean(accuracy_entropy)\n",
    "    avg_accuracy2 = np.mean(accuracy_gini)\n",
    "    \n",
    "    print(\"The average accuracy for entropy on\", k, \" fold is: \", avg_accuracy1)\n",
    "    print(\"The average accuracy for gini on\", k, \" fold is: \", avg_accuracy2)\n",
    "    \n",
    "    criterion_selected = \"entropy\"\n",
    "    \n",
    "    if avg_accuracy1 < avg_accuracy2:\n",
    "        criterion_selected = \"gini\"\n",
    "        \n",
    "    # Scale features with mean zero and unit standard deviation\n",
    "    sd = preprocessing.StandardScaler()\n",
    "    sd.fit(X_train)\n",
    "    X_train_scaled = sd.transform(X_train)\n",
    "    X_test_scaled = sd.transform(X_test)\n",
    "    \n",
    "    # Normalize the scaled result with the norm \"l1\"\n",
    "    normalizer = preprocessing.Normalizer(norm=\"l1\")\n",
    "    X_train_normalized = normalizer.fit_transform(X_train_scaled)\n",
    "    X_test_normalized = normalizer.fit_transform(X_test_scaled)\n",
    "    \n",
    "    # Decision tree classifier using the selected criterion\n",
    "    print(criterion_selected + \" is selected\")\n",
    "    dtc = tree.DecisionTreeClassifier(criterion=criterion_selected)\n",
    "    dtc = dtc.fit(X_train_normalized, y_train)\n",
    "    y_pred=dtc.predict(X_test_normalized)\n",
    "    y_true=y_test\n",
    "    \n",
    "    # calculcate the accuracy\n",
    "    accuracy = 1 - np.sum(np.not_equal(y_true, y_pred)) / float(y_true.size)\n",
    "    accuracy_fold.append(accuracy)\n",
    "    print(k, ' fold, accuracy=', accuracy, \"using \" + criterion_selected)\n",
    "    k = k + 1\n",
    "    \n",
    "avg_accuracy = np.mean(accuracy_fold)\n",
    "print(\"The average accuracy on all the 5 folds is: \", avg_accuracy)"
   ]
  },
  {
   "cell_type": "code",
   "execution_count": null,
   "metadata": {
    "collapsed": true
   },
   "outputs": [],
   "source": []
  }
 ],
 "metadata": {
  "kernelspec": {
   "display_name": "Python 3",
   "language": "python",
   "name": "python3"
  },
  "language_info": {
   "codemirror_mode": {
    "name": "ipython",
    "version": 3
   },
   "file_extension": ".py",
   "mimetype": "text/x-python",
   "name": "python",
   "nbconvert_exporter": "python",
   "pygments_lexer": "ipython3",
   "version": "3.6.3"
  }
 },
 "nbformat": 4,
 "nbformat_minor": 2
}
