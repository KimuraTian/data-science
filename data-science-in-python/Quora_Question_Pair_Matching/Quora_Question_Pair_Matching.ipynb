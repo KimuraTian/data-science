{
 "cells": [
  {
   "cell_type": "markdown",
   "metadata": {},
   "source": [
    "## Quora Question Pairs\n",
    "\n",
    "This notebook predicts if two questions have the similar meaning."
   ]
  },
  {
   "cell_type": "markdown",
   "metadata": {},
   "source": [
    "### Load libraries"
   ]
  },
  {
   "cell_type": "code",
   "execution_count": 1,
   "metadata": {
    "collapsed": true
   },
   "outputs": [],
   "source": [
    "import numpy as np\n",
    "import pandas as pd"
   ]
  },
  {
   "cell_type": "code",
   "execution_count": 2,
   "metadata": {
    "collapsed": true
   },
   "outputs": [],
   "source": [
    "# nltk.download()"
   ]
  },
  {
   "cell_type": "markdown",
   "metadata": {},
   "source": [
    "Define a function to pre-process a question sentence."
   ]
  },
  {
   "cell_type": "code",
   "execution_count": 3,
   "metadata": {
    "collapsed": true
   },
   "outputs": [],
   "source": [
    "def text_preprocess(question, tokenizer, remove_stopwords=True, stemming=True):\n",
    "    from nltk.corpus import stopwords\n",
    "    from nltk.stem import PorterStemmer\n",
    "    # tokenize sentence\n",
    "    words = tokenizer.tokenize(str(question))\n",
    "    # remove stopwords\n",
    "    if remove_stopwords:\n",
    "        stopwords = set(stopwords.words('english'))\n",
    "        words = [x.lower() for x in words if x.lower() not in stopwords]\n",
    "    # stemming\n",
    "    if stemming:\n",
    "        ps = PorterStemmer()\n",
    "        words = [ps.stem(x) for x in words]\n",
    "    return words"
   ]
  },
  {
   "cell_type": "markdown",
   "metadata": {},
   "source": [
    "Example"
   ]
  },
  {
   "cell_type": "code",
   "execution_count": 4,
   "metadata": {},
   "outputs": [
    {
     "name": "stdout",
     "output_type": "stream",
     "text": [
      "['find', 'remaind', '[', 'math', ']', '23', '^{', '24', '}[/', 'math', ']', 'divid', '24', ',', '23', '?']\n",
      "['find', 'remaind', 'math', '23', '24', 'math', 'divid', '24', '23']\n"
     ]
    }
   ],
   "source": [
    "from nltk.tokenize import RegexpTokenizer, WordPunctTokenizer\n",
    "\n",
    "reg_tknzr = RegexpTokenizer('\\w+')\n",
    "word_tknzr = WordPunctTokenizer()\n",
    "\n",
    "example_str = 'Find the remainder when [math]23^{24}[/math] is divided by 24,23?'\n",
    "print(text_preprocess(example_str, word_tknzr))\n",
    "print(text_preprocess(example_str, reg_tknzr))"
   ]
  },
  {
   "cell_type": "markdown",
   "metadata": {},
   "source": [
    "### Load data"
   ]
  },
  {
   "cell_type": "code",
   "execution_count": 5,
   "metadata": {
    "collapsed": true
   },
   "outputs": [],
   "source": [
    "data = pd.read_csv('data/train.csv')"
   ]
  },
  {
   "cell_type": "code",
   "execution_count": 6,
   "metadata": {},
   "outputs": [
    {
     "data": {
      "text/plain": [
       "id               int64\n",
       "qid1             int64\n",
       "qid2             int64\n",
       "question1       object\n",
       "question2       object\n",
       "is_duplicate     int64\n",
       "dtype: object"
      ]
     },
     "execution_count": 6,
     "metadata": {},
     "output_type": "execute_result"
    }
   ],
   "source": [
    "data.dtypes"
   ]
  },
  {
   "cell_type": "code",
   "execution_count": 7,
   "metadata": {},
   "outputs": [
    {
     "data": {
      "text/html": [
       "<div>\n",
       "<style scoped>\n",
       "    .dataframe tbody tr th:only-of-type {\n",
       "        vertical-align: middle;\n",
       "    }\n",
       "\n",
       "    .dataframe tbody tr th {\n",
       "        vertical-align: top;\n",
       "    }\n",
       "\n",
       "    .dataframe thead th {\n",
       "        text-align: right;\n",
       "    }\n",
       "</style>\n",
       "<table border=\"1\" class=\"dataframe\">\n",
       "  <thead>\n",
       "    <tr style=\"text-align: right;\">\n",
       "      <th></th>\n",
       "      <th>id</th>\n",
       "      <th>qid1</th>\n",
       "      <th>qid2</th>\n",
       "      <th>question1</th>\n",
       "      <th>question2</th>\n",
       "      <th>is_duplicate</th>\n",
       "    </tr>\n",
       "  </thead>\n",
       "  <tbody>\n",
       "    <tr>\n",
       "      <th>0</th>\n",
       "      <td>0</td>\n",
       "      <td>1</td>\n",
       "      <td>2</td>\n",
       "      <td>What is the step by step guide to invest in sh...</td>\n",
       "      <td>What is the step by step guide to invest in sh...</td>\n",
       "      <td>0</td>\n",
       "    </tr>\n",
       "    <tr>\n",
       "      <th>1</th>\n",
       "      <td>1</td>\n",
       "      <td>3</td>\n",
       "      <td>4</td>\n",
       "      <td>What is the story of Kohinoor (Koh-i-Noor) Dia...</td>\n",
       "      <td>What would happen if the Indian government sto...</td>\n",
       "      <td>0</td>\n",
       "    </tr>\n",
       "    <tr>\n",
       "      <th>2</th>\n",
       "      <td>2</td>\n",
       "      <td>5</td>\n",
       "      <td>6</td>\n",
       "      <td>How can I increase the speed of my internet co...</td>\n",
       "      <td>How can Internet speed be increased by hacking...</td>\n",
       "      <td>0</td>\n",
       "    </tr>\n",
       "    <tr>\n",
       "      <th>3</th>\n",
       "      <td>3</td>\n",
       "      <td>7</td>\n",
       "      <td>8</td>\n",
       "      <td>Why am I mentally very lonely? How can I solve...</td>\n",
       "      <td>Find the remainder when [math]23^{24}[/math] i...</td>\n",
       "      <td>0</td>\n",
       "    </tr>\n",
       "    <tr>\n",
       "      <th>4</th>\n",
       "      <td>4</td>\n",
       "      <td>9</td>\n",
       "      <td>10</td>\n",
       "      <td>Which one dissolve in water quikly sugar, salt...</td>\n",
       "      <td>Which fish would survive in salt water?</td>\n",
       "      <td>0</td>\n",
       "    </tr>\n",
       "  </tbody>\n",
       "</table>\n",
       "</div>"
      ],
      "text/plain": [
       "   id  qid1  qid2                                          question1  \\\n",
       "0   0     1     2  What is the step by step guide to invest in sh...   \n",
       "1   1     3     4  What is the story of Kohinoor (Koh-i-Noor) Dia...   \n",
       "2   2     5     6  How can I increase the speed of my internet co...   \n",
       "3   3     7     8  Why am I mentally very lonely? How can I solve...   \n",
       "4   4     9    10  Which one dissolve in water quikly sugar, salt...   \n",
       "\n",
       "                                           question2  is_duplicate  \n",
       "0  What is the step by step guide to invest in sh...             0  \n",
       "1  What would happen if the Indian government sto...             0  \n",
       "2  How can Internet speed be increased by hacking...             0  \n",
       "3  Find the remainder when [math]23^{24}[/math] i...             0  \n",
       "4            Which fish would survive in salt water?             0  "
      ]
     },
     "execution_count": 7,
     "metadata": {},
     "output_type": "execute_result"
    }
   ],
   "source": [
    "data.head(5)"
   ]
  },
  {
   "cell_type": "code",
   "execution_count": 8,
   "metadata": {
    "collapsed": true
   },
   "outputs": [
    {
     "data": {
      "text/plain": [
       "300000"
      ]
     },
     "execution_count": 8,
     "metadata": {},
     "output_type": "execute_result"
    }
   ],
   "source": [
    "nquestions = len(data)\n",
    "nquestions"
   ]
  },
  {
   "cell_type": "markdown",
   "metadata": {},
   "source": [
    "Pre-process each question."
   ]
  },
  {
   "cell_type": "code",
   "execution_count": 9,
   "metadata": {},
   "outputs": [
    {
     "name": "stdout",
     "output_type": "stream",
     "text": [
      "8\n"
     ]
    }
   ],
   "source": [
    "import multiprocessing\n",
    "from multiprocessing import Pool\n",
    "\n",
    "print(multiprocessing.cpu_count())"
   ]
  },
  {
   "cell_type": "code",
   "execution_count": 10,
   "metadata": {
    "collapsed": true
   },
   "outputs": [],
   "source": [
    "with Pool(4) as p:\n",
    "    question_tokens = p.starmap(text_preprocess, zip(data['question1'].values, [word_tknzr] * nquestions))\n",
    "    data['q1_tokens'] = question_tokens\n",
    "    \n",
    "with Pool(4) as p:\n",
    "    question_tokens = p.starmap(text_preprocess, zip(data['question2'].values, [word_tknzr] * nquestions))\n",
    "    data['q2_tokens'] = question_tokens"
   ]
  },
  {
   "cell_type": "code",
   "execution_count": 11,
   "metadata": {},
   "outputs": [
    {
     "data": {
      "text/html": [
       "<div>\n",
       "<style scoped>\n",
       "    .dataframe tbody tr th:only-of-type {\n",
       "        vertical-align: middle;\n",
       "    }\n",
       "\n",
       "    .dataframe tbody tr th {\n",
       "        vertical-align: top;\n",
       "    }\n",
       "\n",
       "    .dataframe thead th {\n",
       "        text-align: right;\n",
       "    }\n",
       "</style>\n",
       "<table border=\"1\" class=\"dataframe\">\n",
       "  <thead>\n",
       "    <tr style=\"text-align: right;\">\n",
       "      <th></th>\n",
       "      <th>id</th>\n",
       "      <th>qid1</th>\n",
       "      <th>qid2</th>\n",
       "      <th>question1</th>\n",
       "      <th>question2</th>\n",
       "      <th>is_duplicate</th>\n",
       "      <th>q1_tokens</th>\n",
       "      <th>q2_tokens</th>\n",
       "    </tr>\n",
       "  </thead>\n",
       "  <tbody>\n",
       "    <tr>\n",
       "      <th>0</th>\n",
       "      <td>0</td>\n",
       "      <td>1</td>\n",
       "      <td>2</td>\n",
       "      <td>What is the step by step guide to invest in sh...</td>\n",
       "      <td>What is the step by step guide to invest in sh...</td>\n",
       "      <td>0</td>\n",
       "      <td>[step, step, guid, invest, share, market, indi...</td>\n",
       "      <td>[step, step, guid, invest, share, market, ?]</td>\n",
       "    </tr>\n",
       "    <tr>\n",
       "      <th>1</th>\n",
       "      <td>1</td>\n",
       "      <td>3</td>\n",
       "      <td>4</td>\n",
       "      <td>What is the story of Kohinoor (Koh-i-Noor) Dia...</td>\n",
       "      <td>What would happen if the Indian government sto...</td>\n",
       "      <td>0</td>\n",
       "      <td>[stori, kohinoor, (, koh, -, -, noor, ), diamo...</td>\n",
       "      <td>[would, happen, indian, govern, stole, kohinoo...</td>\n",
       "    </tr>\n",
       "    <tr>\n",
       "      <th>2</th>\n",
       "      <td>2</td>\n",
       "      <td>5</td>\n",
       "      <td>6</td>\n",
       "      <td>How can I increase the speed of my internet co...</td>\n",
       "      <td>How can Internet speed be increased by hacking...</td>\n",
       "      <td>0</td>\n",
       "      <td>[increas, speed, internet, connect, use, vpn, ?]</td>\n",
       "      <td>[internet, speed, increas, hack, dn, ?]</td>\n",
       "    </tr>\n",
       "    <tr>\n",
       "      <th>3</th>\n",
       "      <td>3</td>\n",
       "      <td>7</td>\n",
       "      <td>8</td>\n",
       "      <td>Why am I mentally very lonely? How can I solve...</td>\n",
       "      <td>Find the remainder when [math]23^{24}[/math] i...</td>\n",
       "      <td>0</td>\n",
       "      <td>[mental, lone, ?, solv, ?]</td>\n",
       "      <td>[find, remaind, [, math, ], 23, ^{, 24, }[/, m...</td>\n",
       "    </tr>\n",
       "    <tr>\n",
       "      <th>4</th>\n",
       "      <td>4</td>\n",
       "      <td>9</td>\n",
       "      <td>10</td>\n",
       "      <td>Which one dissolve in water quikly sugar, salt...</td>\n",
       "      <td>Which fish would survive in salt water?</td>\n",
       "      <td>0</td>\n",
       "      <td>[one, dissolv, water, quikli, sugar, ,, salt, ...</td>\n",
       "      <td>[fish, would, surviv, salt, water, ?]</td>\n",
       "    </tr>\n",
       "  </tbody>\n",
       "</table>\n",
       "</div>"
      ],
      "text/plain": [
       "   id  qid1  qid2                                          question1  \\\n",
       "0   0     1     2  What is the step by step guide to invest in sh...   \n",
       "1   1     3     4  What is the story of Kohinoor (Koh-i-Noor) Dia...   \n",
       "2   2     5     6  How can I increase the speed of my internet co...   \n",
       "3   3     7     8  Why am I mentally very lonely? How can I solve...   \n",
       "4   4     9    10  Which one dissolve in water quikly sugar, salt...   \n",
       "\n",
       "                                           question2  is_duplicate  \\\n",
       "0  What is the step by step guide to invest in sh...             0   \n",
       "1  What would happen if the Indian government sto...             0   \n",
       "2  How can Internet speed be increased by hacking...             0   \n",
       "3  Find the remainder when [math]23^{24}[/math] i...             0   \n",
       "4            Which fish would survive in salt water?             0   \n",
       "\n",
       "                                           q1_tokens  \\\n",
       "0  [step, step, guid, invest, share, market, indi...   \n",
       "1  [stori, kohinoor, (, koh, -, -, noor, ), diamo...   \n",
       "2   [increas, speed, internet, connect, use, vpn, ?]   \n",
       "3                         [mental, lone, ?, solv, ?]   \n",
       "4  [one, dissolv, water, quikli, sugar, ,, salt, ...   \n",
       "\n",
       "                                           q2_tokens  \n",
       "0       [step, step, guid, invest, share, market, ?]  \n",
       "1  [would, happen, indian, govern, stole, kohinoo...  \n",
       "2            [internet, speed, increas, hack, dn, ?]  \n",
       "3  [find, remaind, [, math, ], 23, ^{, 24, }[/, m...  \n",
       "4              [fish, would, surviv, salt, water, ?]  "
      ]
     },
     "execution_count": 11,
     "metadata": {},
     "output_type": "execute_result"
    }
   ],
   "source": [
    "data.head()"
   ]
  },
  {
   "cell_type": "markdown",
   "metadata": {},
   "source": [
    "Combine all the tokenized questions together and train a word2vec model"
   ]
  },
  {
   "cell_type": "code",
   "execution_count": 12,
   "metadata": {
    "collapsed": true
   },
   "outputs": [],
   "source": [
    "sentences_w2v = np.hstack((data['q1_tokens'].values, data['q2_tokens'].values))"
   ]
  },
  {
   "cell_type": "code",
   "execution_count": 13,
   "metadata": {
    "collapsed": true
   },
   "outputs": [],
   "source": [
    "from gensim.models import Word2Vec\n",
    "\n",
    "model = Word2Vec(sentences_w2v, min_count=1, workers=6)"
   ]
  },
  {
   "cell_type": "code",
   "execution_count": 14,
   "metadata": {
    "collapsed": true
   },
   "outputs": [],
   "source": [
    "model.save('data/word2vec.model')"
   ]
  },
  {
   "cell_type": "code",
   "execution_count": 15,
   "metadata": {
    "collapsed": true
   },
   "outputs": [],
   "source": [
    "model = Word2Vec.load('data/word2vec.model')"
   ]
  },
  {
   "cell_type": "code",
   "execution_count": 16,
   "metadata": {
    "collapsed": true
   },
   "outputs": [],
   "source": [
    "word_vectors = model.wv\n",
    "vector_size = model.vector_size\n",
    "del model"
   ]
  },
  {
   "cell_type": "markdown",
   "metadata": {},
   "source": [
    "For each question, each word is a vector of length 100, use element-wise summation of each word vector to represent a question vector.\n",
    "\n",
    "For each question pair, stack two question vectors to form a vector of length 200 as the final feature vector used by classification."
   ]
  },
  {
   "cell_type": "code",
   "execution_count": 17,
   "metadata": {
    "collapsed": true
   },
   "outputs": [],
   "source": [
    "def question2vector(question_tokens):\n",
    "    vector = np.zeros(vector_size)\n",
    "    for token in question_tokens:\n",
    "        if token in word_vectors:\n",
    "            vector += word_vectors[token]\n",
    "    return vector"
   ]
  },
  {
   "cell_type": "code",
   "execution_count": 18,
   "metadata": {
    "collapsed": true
   },
   "outputs": [],
   "source": [
    "def qpair2vector(question_pair):\n",
    "    q1_tokens = question_pair[0]\n",
    "    q2_tokens = question_pair[1]\n",
    "    return np.hstack((question2vector(q1_tokens), question2vector(q2_tokens)))"
   ]
  },
  {
   "cell_type": "code",
   "execution_count": 19,
   "metadata": {},
   "outputs": [],
   "source": [
    "qpair_vectors = data[['q1_tokens', 'q2_tokens']].apply(qpair2vector, axis=1, result_type='expand')"
   ]
  },
  {
   "cell_type": "code",
   "execution_count": 20,
   "metadata": {},
   "outputs": [],
   "source": [
    "qpair_vectors['is_duplicate'] = data['is_duplicate']"
   ]
  },
  {
   "cell_type": "code",
   "execution_count": 21,
   "metadata": {},
   "outputs": [
    {
     "data": {
      "text/html": [
       "<div>\n",
       "<style scoped>\n",
       "    .dataframe tbody tr th:only-of-type {\n",
       "        vertical-align: middle;\n",
       "    }\n",
       "\n",
       "    .dataframe tbody tr th {\n",
       "        vertical-align: top;\n",
       "    }\n",
       "\n",
       "    .dataframe thead th {\n",
       "        text-align: right;\n",
       "    }\n",
       "</style>\n",
       "<table border=\"1\" class=\"dataframe\">\n",
       "  <thead>\n",
       "    <tr style=\"text-align: right;\">\n",
       "      <th></th>\n",
       "      <th>0</th>\n",
       "      <th>1</th>\n",
       "      <th>2</th>\n",
       "      <th>3</th>\n",
       "      <th>4</th>\n",
       "      <th>5</th>\n",
       "      <th>6</th>\n",
       "      <th>7</th>\n",
       "      <th>8</th>\n",
       "      <th>9</th>\n",
       "      <th>...</th>\n",
       "      <th>191</th>\n",
       "      <th>192</th>\n",
       "      <th>193</th>\n",
       "      <th>194</th>\n",
       "      <th>195</th>\n",
       "      <th>196</th>\n",
       "      <th>197</th>\n",
       "      <th>198</th>\n",
       "      <th>199</th>\n",
       "      <th>is_duplicate</th>\n",
       "    </tr>\n",
       "  </thead>\n",
       "  <tbody>\n",
       "    <tr>\n",
       "      <th>0</th>\n",
       "      <td>-2.156157</td>\n",
       "      <td>6.643500</td>\n",
       "      <td>3.054326</td>\n",
       "      <td>3.907453</td>\n",
       "      <td>0.852425</td>\n",
       "      <td>2.267368</td>\n",
       "      <td>-1.701995</td>\n",
       "      <td>-2.221284</td>\n",
       "      <td>-0.637580</td>\n",
       "      <td>5.213196</td>\n",
       "      <td>...</td>\n",
       "      <td>-0.413092</td>\n",
       "      <td>0.627900</td>\n",
       "      <td>-0.835702</td>\n",
       "      <td>2.323166</td>\n",
       "      <td>-1.759867</td>\n",
       "      <td>-2.983500</td>\n",
       "      <td>-2.154580</td>\n",
       "      <td>3.719437</td>\n",
       "      <td>-3.788028</td>\n",
       "      <td>0</td>\n",
       "    </tr>\n",
       "    <tr>\n",
       "      <th>1</th>\n",
       "      <td>1.687733</td>\n",
       "      <td>10.222186</td>\n",
       "      <td>-1.882403</td>\n",
       "      <td>5.861205</td>\n",
       "      <td>-0.445831</td>\n",
       "      <td>-1.331147</td>\n",
       "      <td>-4.375886</td>\n",
       "      <td>-0.660034</td>\n",
       "      <td>0.438650</td>\n",
       "      <td>-5.562514</td>\n",
       "      <td>...</td>\n",
       "      <td>-2.523814</td>\n",
       "      <td>3.205657</td>\n",
       "      <td>-0.279237</td>\n",
       "      <td>-16.469647</td>\n",
       "      <td>2.580349</td>\n",
       "      <td>-10.018491</td>\n",
       "      <td>3.994422</td>\n",
       "      <td>1.330824</td>\n",
       "      <td>2.273180</td>\n",
       "      <td>0</td>\n",
       "    </tr>\n",
       "    <tr>\n",
       "      <th>2</th>\n",
       "      <td>0.178269</td>\n",
       "      <td>1.808385</td>\n",
       "      <td>6.385694</td>\n",
       "      <td>6.790597</td>\n",
       "      <td>-2.070033</td>\n",
       "      <td>-0.507843</td>\n",
       "      <td>0.109221</td>\n",
       "      <td>1.580514</td>\n",
       "      <td>-0.253203</td>\n",
       "      <td>0.754769</td>\n",
       "      <td>...</td>\n",
       "      <td>-0.747845</td>\n",
       "      <td>-3.370323</td>\n",
       "      <td>2.483994</td>\n",
       "      <td>-5.634591</td>\n",
       "      <td>-0.134453</td>\n",
       "      <td>5.830806</td>\n",
       "      <td>-3.231422</td>\n",
       "      <td>0.276338</td>\n",
       "      <td>-1.593215</td>\n",
       "      <td>0</td>\n",
       "    </tr>\n",
       "    <tr>\n",
       "      <th>3</th>\n",
       "      <td>0.462880</td>\n",
       "      <td>-0.373310</td>\n",
       "      <td>0.579856</td>\n",
       "      <td>-0.331945</td>\n",
       "      <td>3.005991</td>\n",
       "      <td>2.953964</td>\n",
       "      <td>2.868057</td>\n",
       "      <td>1.087494</td>\n",
       "      <td>0.571178</td>\n",
       "      <td>-0.829834</td>\n",
       "      <td>...</td>\n",
       "      <td>-3.385631</td>\n",
       "      <td>-7.298527</td>\n",
       "      <td>-17.116871</td>\n",
       "      <td>1.785401</td>\n",
       "      <td>17.851413</td>\n",
       "      <td>-13.004873</td>\n",
       "      <td>-7.684263</td>\n",
       "      <td>11.530005</td>\n",
       "      <td>4.630310</td>\n",
       "      <td>0</td>\n",
       "    </tr>\n",
       "    <tr>\n",
       "      <th>4</th>\n",
       "      <td>-0.616648</td>\n",
       "      <td>0.357837</td>\n",
       "      <td>0.408068</td>\n",
       "      <td>3.266895</td>\n",
       "      <td>0.307053</td>\n",
       "      <td>4.126242</td>\n",
       "      <td>-4.163109</td>\n",
       "      <td>-1.199611</td>\n",
       "      <td>6.447889</td>\n",
       "      <td>-5.604953</td>\n",
       "      <td>...</td>\n",
       "      <td>-7.234048</td>\n",
       "      <td>1.582192</td>\n",
       "      <td>1.020403</td>\n",
       "      <td>-4.499362</td>\n",
       "      <td>-0.646023</td>\n",
       "      <td>2.781960</td>\n",
       "      <td>-2.008184</td>\n",
       "      <td>3.021362</td>\n",
       "      <td>2.155658</td>\n",
       "      <td>0</td>\n",
       "    </tr>\n",
       "  </tbody>\n",
       "</table>\n",
       "<p>5 rows × 201 columns</p>\n",
       "</div>"
      ],
      "text/plain": [
       "          0          1         2         3         4         5         6  \\\n",
       "0 -2.156157   6.643500  3.054326  3.907453  0.852425  2.267368 -1.701995   \n",
       "1  1.687733  10.222186 -1.882403  5.861205 -0.445831 -1.331147 -4.375886   \n",
       "2  0.178269   1.808385  6.385694  6.790597 -2.070033 -0.507843  0.109221   \n",
       "3  0.462880  -0.373310  0.579856 -0.331945  3.005991  2.953964  2.868057   \n",
       "4 -0.616648   0.357837  0.408068  3.266895  0.307053  4.126242 -4.163109   \n",
       "\n",
       "          7         8         9      ...            191       192        193  \\\n",
       "0 -2.221284 -0.637580  5.213196      ...      -0.413092  0.627900  -0.835702   \n",
       "1 -0.660034  0.438650 -5.562514      ...      -2.523814  3.205657  -0.279237   \n",
       "2  1.580514 -0.253203  0.754769      ...      -0.747845 -3.370323   2.483994   \n",
       "3  1.087494  0.571178 -0.829834      ...      -3.385631 -7.298527 -17.116871   \n",
       "4 -1.199611  6.447889 -5.604953      ...      -7.234048  1.582192   1.020403   \n",
       "\n",
       "         194        195        196       197        198       199  \\\n",
       "0   2.323166  -1.759867  -2.983500 -2.154580   3.719437 -3.788028   \n",
       "1 -16.469647   2.580349 -10.018491  3.994422   1.330824  2.273180   \n",
       "2  -5.634591  -0.134453   5.830806 -3.231422   0.276338 -1.593215   \n",
       "3   1.785401  17.851413 -13.004873 -7.684263  11.530005  4.630310   \n",
       "4  -4.499362  -0.646023   2.781960 -2.008184   3.021362  2.155658   \n",
       "\n",
       "   is_duplicate  \n",
       "0             0  \n",
       "1             0  \n",
       "2             0  \n",
       "3             0  \n",
       "4             0  \n",
       "\n",
       "[5 rows x 201 columns]"
      ]
     },
     "execution_count": 21,
     "metadata": {},
     "output_type": "execute_result"
    }
   ],
   "source": [
    "qpair_vectors.head()"
   ]
  },
  {
   "cell_type": "markdown",
   "metadata": {},
   "source": [
    "Get numerical features and labels of the data."
   ]
  },
  {
   "cell_type": "code",
   "execution_count": 22,
   "metadata": {
    "collapsed": true
   },
   "outputs": [],
   "source": [
    "X = qpair_vectors.iloc[:, :-1].values\n",
    "y = qpair_vectors.iloc[:, -1].values"
   ]
  },
  {
   "cell_type": "code",
   "execution_count": 23,
   "metadata": {},
   "outputs": [],
   "source": [
    "from sklearn.model_selection import train_test_split\n",
    "\n",
    "X_train, X_test, y_train, y_test = train_test_split(X, y, test_size=0.2, random_state=99)"
   ]
  },
  {
   "cell_type": "markdown",
   "metadata": {},
   "source": [
    "Train a xgboosting classifier and test it on the test data."
   ]
  },
  {
   "cell_type": "code",
   "execution_count": 24,
   "metadata": {},
   "outputs": [
    {
     "name": "stderr",
     "output_type": "stream",
     "text": [
      "/home/mtian/anaconda3/lib/python3.6/site-packages/sklearn/cross_validation.py:41: DeprecationWarning: This module was deprecated in version 0.18 in favor of the model_selection module into which all the refactored classes and functions are moved. Also note that the interface of the new CV iterators are different from that of this module. This module will be removed in 0.20.\n",
      "  \"This module will be removed in 0.20.\", DeprecationWarning)\n"
     ]
    },
    {
     "data": {
      "text/plain": [
       "XGBClassifier(base_score=0.5, colsample_bylevel=1, colsample_bytree=1,\n",
       "       gamma=0, learning_rate=0.1, max_delta_step=0, max_depth=12,\n",
       "       min_child_weight=1, missing=None, n_estimators=150, nthread=6,\n",
       "       objective='binary:logistic', reg_alpha=0, reg_lambda=1,\n",
       "       scale_pos_weight=1, seed=0, silent=True, subsample=1)"
      ]
     },
     "execution_count": 24,
     "metadata": {},
     "output_type": "execute_result"
    }
   ],
   "source": [
    "from xgboost import XGBClassifier\n",
    "\n",
    "xgb_clf = XGBClassifier()\n",
    "parameters = {'max_depth':12, 'n_estimators': 150, 'nthread': 6}\n",
    "xgb_clf.set_params(**parameters)"
   ]
  },
  {
   "cell_type": "code",
   "execution_count": 25,
   "metadata": {},
   "outputs": [
    {
     "data": {
      "text/plain": [
       "XGBClassifier(base_score=0.5, colsample_bylevel=1, colsample_bytree=1,\n",
       "       gamma=0, learning_rate=0.1, max_delta_step=0, max_depth=12,\n",
       "       min_child_weight=1, missing=None, n_estimators=150, nthread=6,\n",
       "       objective='binary:logistic', reg_alpha=0, reg_lambda=1,\n",
       "       scale_pos_weight=1, seed=0, silent=True, subsample=1)"
      ]
     },
     "execution_count": 25,
     "metadata": {},
     "output_type": "execute_result"
    }
   ],
   "source": [
    "xgb_clf.fit(X_train, y_train)"
   ]
  },
  {
   "cell_type": "code",
   "execution_count": 26,
   "metadata": {},
   "outputs": [
    {
     "name": "stdout",
     "output_type": "stream",
     "text": [
      "accuracy score on test data is  0.7968666666666666\n",
      "0.7968666666666666\n"
     ]
    },
    {
     "name": "stderr",
     "output_type": "stream",
     "text": [
      "/home/mtian/anaconda3/lib/python3.6/site-packages/sklearn/preprocessing/label.py:151: DeprecationWarning: The truth value of an empty array is ambiguous. Returning False, but in future this will result in an error. Use `array.size > 0` to check that an array is not empty.\n",
      "  if diff:\n"
     ]
    }
   ],
   "source": [
    "from sklearn.metrics import accuracy_score\n",
    "y_pred = xgb_clf.predict(X_test)\n",
    "acc_score = accuracy_score(y_test, y_pred)\n",
    "print('accuracy score on test data is ', acc_score)\n",
    "\n",
    "print(np.sum(y_pred == y_test) / len(y_test))"
   ]
  },
  {
   "cell_type": "markdown",
   "metadata": {},
   "source": [
    "Save the trained model and load it using the xgboost package methods"
   ]
  },
  {
   "cell_type": "code",
   "execution_count": 27,
   "metadata": {
    "collapsed": true
   },
   "outputs": [],
   "source": [
    "xgb_clf._Booster.save_model('data/quota_question_mapping_word2vec200_xgb.model')"
   ]
  },
  {
   "cell_type": "code",
   "execution_count": 28,
   "metadata": {
    "collapsed": true
   },
   "outputs": [],
   "source": [
    "from xgboost import Booster\n",
    "from sklearn.preprocessing import LabelEncoder\n",
    "\n",
    "bstr = Booster()\n",
    "bstr.load_model('data/quota_question_mapping_word2vec200_xgb.model')\n",
    "xgb_clf = XGBClassifier()\n",
    "xgb_clf._Booster = bstr\n",
    "xgb_clf._le = LabelEncoder().fit(y_train)"
   ]
  },
  {
   "cell_type": "code",
   "execution_count": 29,
   "metadata": {},
   "outputs": [
    {
     "name": "stdout",
     "output_type": "stream",
     "text": [
      "accuracy score on test data is  0.7968666666666666\n"
     ]
    },
    {
     "name": "stderr",
     "output_type": "stream",
     "text": [
      "/home/mtian/anaconda3/lib/python3.6/site-packages/sklearn/preprocessing/label.py:151: DeprecationWarning: The truth value of an empty array is ambiguous. Returning False, but in future this will result in an error. Use `array.size > 0` to check that an array is not empty.\n",
      "  if diff:\n"
     ]
    }
   ],
   "source": [
    "y_pred = xgb_clf.predict(X_test)\n",
    "acc_score = accuracy_score(y_test, y_pred)\n",
    "print('accuracy score on test data is ', acc_score)"
   ]
  },
  {
   "cell_type": "markdown",
   "metadata": {},
   "source": [
    "Or save to pickle"
   ]
  },
  {
   "cell_type": "code",
   "execution_count": 30,
   "metadata": {
    "collapsed": true
   },
   "outputs": [],
   "source": [
    "import pickle as pkl\n",
    "\n",
    "with open('data/quota_question_mapping_word2vec200_xgb.pkl', 'wb') as f:\n",
    "    pkl.dump(xgb_clf, f)"
   ]
  },
  {
   "cell_type": "code",
   "execution_count": 31,
   "metadata": {
    "collapsed": true
   },
   "outputs": [],
   "source": [
    "with open('data/quota_question_mapping_word2vec200_xgb.pkl', 'rb') as f:\n",
    "    xgb_clf = pkl.load(f)"
   ]
  },
  {
   "cell_type": "code",
   "execution_count": 32,
   "metadata": {},
   "outputs": [
    {
     "name": "stderr",
     "output_type": "stream",
     "text": [
      "/home/mtian/anaconda3/lib/python3.6/site-packages/sklearn/preprocessing/label.py:151: DeprecationWarning: The truth value of an empty array is ambiguous. Returning False, but in future this will result in an error. Use `array.size > 0` to check that an array is not empty.\n",
      "  if diff:\n"
     ]
    },
    {
     "data": {
      "text/plain": [
       "0.7968666666666666"
      ]
     },
     "execution_count": 32,
     "metadata": {},
     "output_type": "execute_result"
    }
   ],
   "source": [
    "np.sum(xgb_clf.predict(X_test) == y_test) / len(y_test)"
   ]
  },
  {
   "cell_type": "code",
   "execution_count": null,
   "metadata": {
    "collapsed": true
   },
   "outputs": [],
   "source": []
  }
 ],
 "metadata": {
  "kernelspec": {
   "display_name": "Python 3",
   "language": "python",
   "name": "python3"
  },
  "language_info": {
   "codemirror_mode": {
    "name": "ipython",
    "version": 3
   },
   "file_extension": ".py",
   "mimetype": "text/x-python",
   "name": "python",
   "nbconvert_exporter": "python",
   "pygments_lexer": "ipython3",
   "version": "3.6.6"
  }
 },
 "nbformat": 4,
 "nbformat_minor": 2
}
