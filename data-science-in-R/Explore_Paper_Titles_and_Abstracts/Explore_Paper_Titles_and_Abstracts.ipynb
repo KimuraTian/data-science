{
 "cells": [
  {
   "cell_type": "markdown",
   "metadata": {},
   "source": [
    "# Explore Paper Titles and Abstracts\n",
    "\n",
    "Mucun Tian\n",
    "\n",
    "\n",
    "In this notebook, you will examine titles and abstracts of papers published in CHI, the premier human-computer interaction research conference, and build a Naive Bayesian Classifier to classify paper year before or after 2000.\n",
    "\n",
    "The paper data is taken from the [HCI Bibliography](http://hcibib.org)."
   ]
  },
  {
   "cell_type": "markdown",
   "metadata": {},
   "source": [
    "## Setup"
   ]
  },
  {
   "cell_type": "code",
   "execution_count": 1,
   "metadata": {},
   "outputs": [
    {
     "name": "stderr",
     "output_type": "stream",
     "text": [
      "Loading tidyverse: ggplot2\n",
      "Loading tidyverse: tibble\n",
      "Loading tidyverse: tidyr\n",
      "Loading tidyverse: readr\n",
      "Loading tidyverse: purrr\n",
      "Loading tidyverse: dplyr\n",
      "Conflicts with tidy packages ---------------------------------------------------\n",
      "filter(): dplyr, stats\n",
      "lag():    dplyr, stats\n"
     ]
    }
   ],
   "source": [
    "library(tidyverse)\n",
    "library(tidytext)\n",
    "library(stringr)"
   ]
  },
  {
   "cell_type": "markdown",
   "metadata": {},
   "source": [
    "options"
   ]
  },
  {
   "cell_type": "code",
   "execution_count": 2,
   "metadata": {
    "collapsed": true
   },
   "outputs": [],
   "source": [
    "options(repr.matrix.max.rows=10,\n",
    "        repr.plot.height=5)"
   ]
  },
  {
   "cell_type": "markdown",
   "metadata": {},
   "source": [
    "## Load Data"
   ]
  },
  {
   "cell_type": "code",
   "execution_count": 3,
   "metadata": {},
   "outputs": [
    {
     "name": "stderr",
     "output_type": "stream",
     "text": [
      "Parsed with column specification:\n",
      "cols(\n",
      "  id = col_character(),\n",
      "  year = col_integer(),\n",
      "  title = col_character(),\n",
      "  keywords = col_character(),\n",
      "  abstract = col_character()\n",
      ")\n"
     ]
    },
    {
     "data": {
      "text/html": [
       "<table>\n",
       "<thead><tr><th scope=col>id</th><th scope=col>year</th><th scope=col>title</th><th scope=col>keywords</th><th scope=col>abstract</th></tr></thead>\n",
       "<tbody>\n",
       "\t<tr><td>C.CHI.2000.1.1                                                                                                                                                                                                                                                                                                                                                                                                                                                                                                                                                                                                                                                                                                                                                                                                                                                                                                                                                                                                                                                                                                                                                            </td><td>2000                                                                                                                                                                                                                                                                                                                                                                                                                                                                                                                                                                                                                                                                                                                                                                                                                                                                                                                                                                                                                                                                                                                                                                      </td><td>Unleashed: Web Tablet Integration Into the Home                                                                                                                                                                                                                                                                                                                                                                                                                                                                                                                                                                                                                                                                                                                                                                                                                                                                                                                                                                                                                                                                                                                           </td><td>Internet appliances, Pen-based computing, Hand-held computers, Ergonomics, Ethnography                                                                                                                                                                                                                                                                                                                                                                                                                                                                                                                                                                                                                                                                                                                                                                                                                                                                                                                                                                                                                                                                                    </td><td>To understand how web access from a portable tablet appliance changes the way people use the Internet, MediaOne gave families pen-based tablet computers with a wireless connection to our high-speed data network. We used ethnographic and usability methods to understand how tablets would be integrated into household activities and to define user requirements for such devices. Participants viewed the tablet as conceptually different from a PC. The tablet enabled a high degree of multitasking with household activities, yet flaws in form and function affected use. Results suggest that correctly designed portable Internet appliances will fill a special role in peoples' daily lives, particularly if these devices share information with each other. They will allow spontaneous access to information and communication anywhere.                                                                                                                                                                                                                                                                                                               </td></tr>\n",
       "\t<tr><td>C.CHI.2000.1.9                                                                                                                                                                                                                                                                                                                                                                                                                                                                                                                                                                                                                                                                                                                                                                                                                                                                                                                                                                                                                                                                                                                                                            </td><td>2000                                                                                                                                                                                                                                                                                                                                                                                                                                                                                                                                                                                                                                                                                                                                                                                                                                                                                                                                                                                                                                                                                                                                                                      </td><td>Predicting Text Entry Speed on Mobile Phones                                                                                                                                                                                                                                                                                                                                                                                                                                                                                                                                                                                                                                                                                                                                                                                                                                                                                                                                                                                                                                                                                                                              </td><td>Text entry, Mobile systems, Mobile phones, Keypad input, Human performance modeling, Fitts' law, Digraph frequencies                                                                                                                                                                                                                                                                                                                                                                                                                                                                                                                                                                                                                                                                                                                                                                                                                                                                                                                                                                                                                                                      </td><td>We present a model for predicting expert text entry rates for several input methods on a 12-key mobile phone keypad. The model includes a movement component based on Fitts' law and a linguistic component based on digraph, or letter-pair, probabilities. Predictions are provided for one-handed thumb and two-handed index finger input. For the traditional multi-press method or the lesser-used two-key method, predicted expert rates vary from about 21 to 27 words per minute (wpm). The relatively new T9 method works with a disambiguating algorithm and inputs each character with a single key press. Predicted expert rates vary from 41 wpm for one-handed thumb input to 46 wpm for two-handed index finger input. These figures are degraded somewhat depending on the user's strategy in coping with less-than-perfect disambiguation. Analyses of these strategies are presented.                                                                                                                                                                                                                                                                   </td></tr>\n",
       "\t<tr><td>C.CHI.2000.1.17                                                                                                                                                                                                                                                                                                                                                                                                                                                                                                                                                                                                                                                                                                                                                                                                                                                                                                                                                                                                                                                                                                                                                           </td><td>2000                                                                                                                                                                                                                                                                                                                                                                                                                                                                                                                                                                                                                                                                                                                                                                                                                                                                                                                                                                                                                                                                                                                                                                      </td><td>Developing a Context-Aware Electronic Tourist Guide: Some Issues and Experiences                                                                                                                                                                                                                                                                                                                                                                                                                                                                                                                                                                                                                                                                                                                                                                                                                                                                                                                                                                                                                                                                                          </td><td>Mobile computing, Context-awareness, Adaptive hypermedia, User interface design, Evaluation                                                                                                                                                                                                                                                                                                                                                                                                                                                                                                                                                                                                                                                                                                                                                                                                                                                                                                                                                                                                                                                                               </td><td>In this paper, we describe our experiences of developing and evaluating GUIDE, an intelligent electronic tourist guide. The GUIDE system has been built to overcome many of the limitations of the traditional information and navigation tools available to city visitors. For example, group-based tours are inherently inflexible with fixed starting times and fixed durations and (like most guidebooks) are constrained by the need to satisfy the interests of the majority rather than the specific interests of individuals. Following a period of requirements capture, involving experts in the field of tourism, we developed and installed a system for use by visitors to Lancaster. The system combines mobile computing technologies with a wireless infrastructure to present city visitors with information tailored to both their personal and environmental contexts. In this paper we present an evaluation of GUIDE, focusing on the quality of the visitor's experience when using the system.                                                                                                                                                     </td></tr>\n",
       "\t<tr><td>C.CHI.2000.1.25                                                                                                                                                                                                                                                                                                                                                                                                                                                                                                                                                                                                                                                                                                                                                                                                                                                                                                                                                                                                                                                                                                                                                           </td><td>2000                                                                                                                                                                                                                                                                                                                                                                                                                                                                                                                                                                                                                                                                                                                                                                                                                                                                                                                                                                                                                                                                                                                                                                      </td><td>Measuring the Allocation of Control in a 6 Degree-of-Freedom Docking Experiment                                                                                                                                                                                                                                                                                                                                                                                                                                                                                                                                                                                                                                                                                                                                                                                                                                                                                                                                                                                                                                                                                           </td><td>Coordination, Interaction techniques, Allocation of control, Virtual docking task, The M-metric, Evaluation methods, Motor control, Input devices, 6 degree-of-freedom control                                                                                                                                                                                                                                                                                                                                                                                                                                                                                                                                                                                                                                                                                                                                                                                                                                                                                                                                                                                            </td><td>Coordination definitions and metrics are reviewed from the motor control, biomedical, and human factors literature. This paper presents an alternative measurement called the M-metric, the product of the simultaneity and efficiency of a trajectory, as a means of quantifying allocation of control within a docking task. A 6 degree-of-freedom (DOF) longitudinal virtual docking task experiment was conducted to address how control is allocated across six DOFs, how allocation of control changes with extended practice, and if differences in the allocation of control are input device dependent. The results show that operators, rather than controlling all 6 DOFs equally, allocate their control to the rotational and translational DOFs separately, and switch control between the two groups. With practice, allocation of control within the translational and rotational subsets increases at a faster rate than across all 6 DOFs together.                                                                                                                                                                                                     </td></tr>\n",
       "\t<tr><td>C.CHI.2000.1.33                                                                                                                                                                                                                                                                                                                                                                                                                                                                                                                                                                                                                                                                                                                                                                                                                                                                                                                                                                                                                                                                                                                                                           </td><td>2000                                                                                                                                                                                                                                                                                                                                                                                                                                                                                                                                                                                                                                                                                                                                                                                                                                                                                                                                                                                                                                                                                                                                                                      </td><td>Symmetric Bimanual Interaction                                                                                                                                                                                                                                                                                                                                                                                                                                                                                                                                                                                                                                                                                                                                                                                                                                                                                                                                                                                                                                                                                                                                            </td><td>Two-handed input, Symmetric interaction, Guiard theory, Input, Interaction techniques                                                                                                                                                                                                                                                                                                                                                                                                                                                                                                                                                                                                                                                                                                                                                                                                                                                                                                                                                                                                                                                                                     </td><td>We present experimental work that explores the factors governing symmetric bimanual interaction in a two-handed task that requires the user to track a pair of targets, one target with each hand. A symmetric bimanual task is a two-handed task in which each hand is assigned an identical role. In this context, we explore three main experimental factors. We vary the distance between the pair of targets to track: as the targets become further apart, visual diversion increases, forcing the user to divide attention between the two targets. We also vary the demands of the task by using both a slow and a fast tracking speed. Finally, we explore visual integration of sub-tasks: in one condition, the two targets to track are connected by a line segment which visually links the targets, while in the other condition there is no connecting line. Our results indicate that all three experimental factors affect the degree of parallelism, which we quantify using a new metric of bimanual parallelism. However, differences in tracking error between the two hands are affected only by the visual integration factor.                     </td></tr>\n",
       "\t<tr><td>C.CHI.2000.1.41                                                                                                                                                                                                                                                                                                                                                                                                                                                                                                                                                                                                                                                                                                                                                                                                                                                                                                                                                                                                                                                                                                                                                           </td><td>2000                                                                                                                                                                                                                                                                                                                                                                                                                                                                                                                                                                                                                                                                                                                                                                                                                                                                                                                                                                                                                                                                                                                                                                      </td><td>Two-Handed Input Using a PDA and a Mouse                                                                                                                                                                                                                                                                                                                                                                                                                                                                                                                                                                                                                                                                                                                                                                                                                                                                                                                                                                                                                                                                                                                                  </td><td>Personal Digital Assistants (PDAs), Hand-held computers, Palm Pilot, Windows CE, Two-handed input, Smart environments, Ubiquitous computing, Pebbles                                                                                                                                                                                                                                                                                                                                                                                                                                                                                                                                                                                                                                                                                                                                                                                                                                                                                                                                                                                                                      </td><td>We performed several experiments using a Personal Digital Assistant (PDA) as an input device in the non-dominant hand along with a mouse in the dominant hand. A PDA is a small hand-held palm-size computer like a 3Com Palm Pilot or a Windows CE device. These are becoming widely available and are easily connected to a PC. Results of our experiments indicate that people can accurately and quickly select among a small numbers of buttons on the PDA using the left hand without looking, and that, as predicted, performance, does decrease as the number of buttons increases. Homing times to move both hands between the keyboard and devices are only about 10% to 15% slower than times to move a single hand to the mouse, suggesting that acquiring two devices does not cause a large penalty. In an application task, we found that scrolling web pages using buttons or a scroller on the PDA matched the speed of using a mouse with a conventional scroll bar, and beat the best two-handed times reported in an earlier experiment. These results will help make two-handed interactions with computers more widely available and more effective.</td></tr>\n",
       "</tbody>\n",
       "</table>\n"
      ],
      "text/latex": [
       "\\begin{tabular}{r|lllll}\n",
       " id & year & title & keywords & abstract\\\\\n",
       "\\hline\n",
       "\t C.CHI.2000.1.1                                                                                                                                                                                                                                                                                                                                                                                                                                                                                                                                                                                                                                                                                                                                                                                                                                                                                                                                                                                                                                                                                                                                                             & 2000                                                                                                                                                                                                                                                                                                                                                                                                                                                                                                                                                                                                                                                                                                                                                                                                                                                                                                                                                                                                                                                                                                                                                                       & Unleashed: Web Tablet Integration Into the Home                                                                                                                                                                                                                                                                                                                                                                                                                                                                                                                                                                                                                                                                                                                                                                                                                                                                                                                                                                                                                                                                                                                            & Internet appliances, Pen-based computing, Hand-held computers, Ergonomics, Ethnography                                                                                                                                                                                                                                                                                                                                                                                                                                                                                                                                                                                                                                                                                                                                                                                                                                                                                                                                                                                                                                                                                     & To understand how web access from a portable tablet appliance changes the way people use the Internet, MediaOne gave families pen-based tablet computers with a wireless connection to our high-speed data network. We used ethnographic and usability methods to understand how tablets would be integrated into household activities and to define user requirements for such devices. Participants viewed the tablet as conceptually different from a PC. The tablet enabled a high degree of multitasking with household activities, yet flaws in form and function affected use. Results suggest that correctly designed portable Internet appliances will fill a special role in peoples' daily lives, particularly if these devices share information with each other. They will allow spontaneous access to information and communication anywhere.                                                                                                                                                                                                                                                                                                               \\\\\n",
       "\t C.CHI.2000.1.9                                                                                                                                                                                                                                                                                                                                                                                                                                                                                                                                                                                                                                                                                                                                                                                                                                                                                                                                                                                                                                                                                                                                                             & 2000                                                                                                                                                                                                                                                                                                                                                                                                                                                                                                                                                                                                                                                                                                                                                                                                                                                                                                                                                                                                                                                                                                                                                                       & Predicting Text Entry Speed on Mobile Phones                                                                                                                                                                                                                                                                                                                                                                                                                                                                                                                                                                                                                                                                                                                                                                                                                                                                                                                                                                                                                                                                                                                               & Text entry, Mobile systems, Mobile phones, Keypad input, Human performance modeling, Fitts' law, Digraph frequencies                                                                                                                                                                                                                                                                                                                                                                                                                                                                                                                                                                                                                                                                                                                                                                                                                                                                                                                                                                                                                                                       & We present a model for predicting expert text entry rates for several input methods on a 12-key mobile phone keypad. The model includes a movement component based on Fitts' law and a linguistic component based on digraph, or letter-pair, probabilities. Predictions are provided for one-handed thumb and two-handed index finger input. For the traditional multi-press method or the lesser-used two-key method, predicted expert rates vary from about 21 to 27 words per minute (wpm). The relatively new T9 method works with a disambiguating algorithm and inputs each character with a single key press. Predicted expert rates vary from 41 wpm for one-handed thumb input to 46 wpm for two-handed index finger input. These figures are degraded somewhat depending on the user's strategy in coping with less-than-perfect disambiguation. Analyses of these strategies are presented.                                                                                                                                                                                                                                                                   \\\\\n",
       "\t C.CHI.2000.1.17                                                                                                                                                                                                                                                                                                                                                                                                                                                                                                                                                                                                                                                                                                                                                                                                                                                                                                                                                                                                                                                                                                                                                            & 2000                                                                                                                                                                                                                                                                                                                                                                                                                                                                                                                                                                                                                                                                                                                                                                                                                                                                                                                                                                                                                                                                                                                                                                       & Developing a Context-Aware Electronic Tourist Guide: Some Issues and Experiences                                                                                                                                                                                                                                                                                                                                                                                                                                                                                                                                                                                                                                                                                                                                                                                                                                                                                                                                                                                                                                                                                           & Mobile computing, Context-awareness, Adaptive hypermedia, User interface design, Evaluation                                                                                                                                                                                                                                                                                                                                                                                                                                                                                                                                                                                                                                                                                                                                                                                                                                                                                                                                                                                                                                                                                & In this paper, we describe our experiences of developing and evaluating GUIDE, an intelligent electronic tourist guide. The GUIDE system has been built to overcome many of the limitations of the traditional information and navigation tools available to city visitors. For example, group-based tours are inherently inflexible with fixed starting times and fixed durations and (like most guidebooks) are constrained by the need to satisfy the interests of the majority rather than the specific interests of individuals. Following a period of requirements capture, involving experts in the field of tourism, we developed and installed a system for use by visitors to Lancaster. The system combines mobile computing technologies with a wireless infrastructure to present city visitors with information tailored to both their personal and environmental contexts. In this paper we present an evaluation of GUIDE, focusing on the quality of the visitor's experience when using the system.                                                                                                                                                     \\\\\n",
       "\t C.CHI.2000.1.25                                                                                                                                                                                                                                                                                                                                                                                                                                                                                                                                                                                                                                                                                                                                                                                                                                                                                                                                                                                                                                                                                                                                                            & 2000                                                                                                                                                                                                                                                                                                                                                                                                                                                                                                                                                                                                                                                                                                                                                                                                                                                                                                                                                                                                                                                                                                                                                                       & Measuring the Allocation of Control in a 6 Degree-of-Freedom Docking Experiment                                                                                                                                                                                                                                                                                                                                                                                                                                                                                                                                                                                                                                                                                                                                                                                                                                                                                                                                                                                                                                                                                            & Coordination, Interaction techniques, Allocation of control, Virtual docking task, The M-metric, Evaluation methods, Motor control, Input devices, 6 degree-of-freedom control                                                                                                                                                                                                                                                                                                                                                                                                                                                                                                                                                                                                                                                                                                                                                                                                                                                                                                                                                                                             & Coordination definitions and metrics are reviewed from the motor control, biomedical, and human factors literature. This paper presents an alternative measurement called the M-metric, the product of the simultaneity and efficiency of a trajectory, as a means of quantifying allocation of control within a docking task. A 6 degree-of-freedom (DOF) longitudinal virtual docking task experiment was conducted to address how control is allocated across six DOFs, how allocation of control changes with extended practice, and if differences in the allocation of control are input device dependent. The results show that operators, rather than controlling all 6 DOFs equally, allocate their control to the rotational and translational DOFs separately, and switch control between the two groups. With practice, allocation of control within the translational and rotational subsets increases at a faster rate than across all 6 DOFs together.                                                                                                                                                                                                     \\\\\n",
       "\t C.CHI.2000.1.33                                                                                                                                                                                                                                                                                                                                                                                                                                                                                                                                                                                                                                                                                                                                                                                                                                                                                                                                                                                                                                                                                                                                                            & 2000                                                                                                                                                                                                                                                                                                                                                                                                                                                                                                                                                                                                                                                                                                                                                                                                                                                                                                                                                                                                                                                                                                                                                                       & Symmetric Bimanual Interaction                                                                                                                                                                                                                                                                                                                                                                                                                                                                                                                                                                                                                                                                                                                                                                                                                                                                                                                                                                                                                                                                                                                                             & Two-handed input, Symmetric interaction, Guiard theory, Input, Interaction techniques                                                                                                                                                                                                                                                                                                                                                                                                                                                                                                                                                                                                                                                                                                                                                                                                                                                                                                                                                                                                                                                                                      & We present experimental work that explores the factors governing symmetric bimanual interaction in a two-handed task that requires the user to track a pair of targets, one target with each hand. A symmetric bimanual task is a two-handed task in which each hand is assigned an identical role. In this context, we explore three main experimental factors. We vary the distance between the pair of targets to track: as the targets become further apart, visual diversion increases, forcing the user to divide attention between the two targets. We also vary the demands of the task by using both a slow and a fast tracking speed. Finally, we explore visual integration of sub-tasks: in one condition, the two targets to track are connected by a line segment which visually links the targets, while in the other condition there is no connecting line. Our results indicate that all three experimental factors affect the degree of parallelism, which we quantify using a new metric of bimanual parallelism. However, differences in tracking error between the two hands are affected only by the visual integration factor.                     \\\\\n",
       "\t C.CHI.2000.1.41                                                                                                                                                                                                                                                                                                                                                                                                                                                                                                                                                                                                                                                                                                                                                                                                                                                                                                                                                                                                                                                                                                                                                                & 2000                                                                                                                                                                                                                                                                                                                                                                                                                                                                                                                                                                                                                                                                                                                                                                                                                                                                                                                                                                                                                                                                                                                                                                           & Two-Handed Input Using a PDA and a Mouse                                                                                                                                                                                                                                                                                                                                                                                                                                                                                                                                                                                                                                                                                                                                                                                                                                                                                                                                                                                                                                                                                                                                       & Personal Digital Assistants (PDAs), Hand-held computers, Palm Pilot, Windows CE, Two-handed input, Smart environments, Ubiquitous computing, Pebbles                                                                                                                                                                                                                                                                                                                                                                                                                                                                                                                                                                                                                                                                                                                                                                                                                                                                                                                                                                                                                           & We performed several experiments using a Personal Digital Assistant (PDA) as an input device in the non-dominant hand along with a mouse in the dominant hand. A PDA is a small hand-held palm-size computer like a 3Com Palm Pilot or a Windows CE device. These are becoming widely available and are easily connected to a PC. Results of our experiments indicate that people can accurately and quickly select among a small numbers of buttons on the PDA using the left hand without looking, and that, as predicted, performance, does decrease as the number of buttons increases. Homing times to move both hands between the keyboard and devices are only about 10\\% to 15\\% slower than times to move a single hand to the mouse, suggesting that acquiring two devices does not cause a large penalty. In an application task, we found that scrolling web pages using buttons or a scroller on the PDA matched the speed of using a mouse with a conventional scroll bar, and beat the best two-handed times reported in an earlier experiment. These results will help make two-handed interactions with computers more widely available and more effective.\\\\\n",
       "\\end{tabular}\n"
      ],
      "text/markdown": [
       "\n",
       "id | year | title | keywords | abstract | \n",
       "|---|---|---|---|---|---|\n",
       "| C.CHI.2000.1.1                                                                                                                                                                                                                                                                                                                                                                                                                                                                                                                                                                                                                                                                                                                                                                                                                                                                                                                                                                                                                                                                                                                                                             | 2000                                                                                                                                                                                                                                                                                                                                                                                                                                                                                                                                                                                                                                                                                                                                                                                                                                                                                                                                                                                                                                                                                                                                                                       | Unleashed: Web Tablet Integration Into the Home                                                                                                                                                                                                                                                                                                                                                                                                                                                                                                                                                                                                                                                                                                                                                                                                                                                                                                                                                                                                                                                                                                                            | Internet appliances, Pen-based computing, Hand-held computers, Ergonomics, Ethnography                                                                                                                                                                                                                                                                                                                                                                                                                                                                                                                                                                                                                                                                                                                                                                                                                                                                                                                                                                                                                                                                                     | To understand how web access from a portable tablet appliance changes the way people use the Internet, MediaOne gave families pen-based tablet computers with a wireless connection to our high-speed data network. We used ethnographic and usability methods to understand how tablets would be integrated into household activities and to define user requirements for such devices. Participants viewed the tablet as conceptually different from a PC. The tablet enabled a high degree of multitasking with household activities, yet flaws in form and function affected use. Results suggest that correctly designed portable Internet appliances will fill a special role in peoples' daily lives, particularly if these devices share information with each other. They will allow spontaneous access to information and communication anywhere.                                                                                                                                                                                                                                                                                                                | \n",
       "| C.CHI.2000.1.9                                                                                                                                                                                                                                                                                                                                                                                                                                                                                                                                                                                                                                                                                                                                                                                                                                                                                                                                                                                                                                                                                                                                                             | 2000                                                                                                                                                                                                                                                                                                                                                                                                                                                                                                                                                                                                                                                                                                                                                                                                                                                                                                                                                                                                                                                                                                                                                                       | Predicting Text Entry Speed on Mobile Phones                                                                                                                                                                                                                                                                                                                                                                                                                                                                                                                                                                                                                                                                                                                                                                                                                                                                                                                                                                                                                                                                                                                               | Text entry, Mobile systems, Mobile phones, Keypad input, Human performance modeling, Fitts' law, Digraph frequencies                                                                                                                                                                                                                                                                                                                                                                                                                                                                                                                                                                                                                                                                                                                                                                                                                                                                                                                                                                                                                                                       | We present a model for predicting expert text entry rates for several input methods on a 12-key mobile phone keypad. The model includes a movement component based on Fitts' law and a linguistic component based on digraph, or letter-pair, probabilities. Predictions are provided for one-handed thumb and two-handed index finger input. For the traditional multi-press method or the lesser-used two-key method, predicted expert rates vary from about 21 to 27 words per minute (wpm). The relatively new T9 method works with a disambiguating algorithm and inputs each character with a single key press. Predicted expert rates vary from 41 wpm for one-handed thumb input to 46 wpm for two-handed index finger input. These figures are degraded somewhat depending on the user's strategy in coping with less-than-perfect disambiguation. Analyses of these strategies are presented.                                                                                                                                                                                                                                                                    | \n",
       "| C.CHI.2000.1.17                                                                                                                                                                                                                                                                                                                                                                                                                                                                                                                                                                                                                                                                                                                                                                                                                                                                                                                                                                                                                                                                                                                                                            | 2000                                                                                                                                                                                                                                                                                                                                                                                                                                                                                                                                                                                                                                                                                                                                                                                                                                                                                                                                                                                                                                                                                                                                                                       | Developing a Context-Aware Electronic Tourist Guide: Some Issues and Experiences                                                                                                                                                                                                                                                                                                                                                                                                                                                                                                                                                                                                                                                                                                                                                                                                                                                                                                                                                                                                                                                                                           | Mobile computing, Context-awareness, Adaptive hypermedia, User interface design, Evaluation                                                                                                                                                                                                                                                                                                                                                                                                                                                                                                                                                                                                                                                                                                                                                                                                                                                                                                                                                                                                                                                                                | In this paper, we describe our experiences of developing and evaluating GUIDE, an intelligent electronic tourist guide. The GUIDE system has been built to overcome many of the limitations of the traditional information and navigation tools available to city visitors. For example, group-based tours are inherently inflexible with fixed starting times and fixed durations and (like most guidebooks) are constrained by the need to satisfy the interests of the majority rather than the specific interests of individuals. Following a period of requirements capture, involving experts in the field of tourism, we developed and installed a system for use by visitors to Lancaster. The system combines mobile computing technologies with a wireless infrastructure to present city visitors with information tailored to both their personal and environmental contexts. In this paper we present an evaluation of GUIDE, focusing on the quality of the visitor's experience when using the system.                                                                                                                                                      | \n",
       "| C.CHI.2000.1.25                                                                                                                                                                                                                                                                                                                                                                                                                                                                                                                                                                                                                                                                                                                                                                                                                                                                                                                                                                                                                                                                                                                                                            | 2000                                                                                                                                                                                                                                                                                                                                                                                                                                                                                                                                                                                                                                                                                                                                                                                                                                                                                                                                                                                                                                                                                                                                                                       | Measuring the Allocation of Control in a 6 Degree-of-Freedom Docking Experiment                                                                                                                                                                                                                                                                                                                                                                                                                                                                                                                                                                                                                                                                                                                                                                                                                                                                                                                                                                                                                                                                                            | Coordination, Interaction techniques, Allocation of control, Virtual docking task, The M-metric, Evaluation methods, Motor control, Input devices, 6 degree-of-freedom control                                                                                                                                                                                                                                                                                                                                                                                                                                                                                                                                                                                                                                                                                                                                                                                                                                                                                                                                                                                             | Coordination definitions and metrics are reviewed from the motor control, biomedical, and human factors literature. This paper presents an alternative measurement called the M-metric, the product of the simultaneity and efficiency of a trajectory, as a means of quantifying allocation of control within a docking task. A 6 degree-of-freedom (DOF) longitudinal virtual docking task experiment was conducted to address how control is allocated across six DOFs, how allocation of control changes with extended practice, and if differences in the allocation of control are input device dependent. The results show that operators, rather than controlling all 6 DOFs equally, allocate their control to the rotational and translational DOFs separately, and switch control between the two groups. With practice, allocation of control within the translational and rotational subsets increases at a faster rate than across all 6 DOFs together.                                                                                                                                                                                                      | \n",
       "| C.CHI.2000.1.33                                                                                                                                                                                                                                                                                                                                                                                                                                                                                                                                                                                                                                                                                                                                                                                                                                                                                                                                                                                                                                                                                                                                                            | 2000                                                                                                                                                                                                                                                                                                                                                                                                                                                                                                                                                                                                                                                                                                                                                                                                                                                                                                                                                                                                                                                                                                                                                                       | Symmetric Bimanual Interaction                                                                                                                                                                                                                                                                                                                                                                                                                                                                                                                                                                                                                                                                                                                                                                                                                                                                                                                                                                                                                                                                                                                                             | Two-handed input, Symmetric interaction, Guiard theory, Input, Interaction techniques                                                                                                                                                                                                                                                                                                                                                                                                                                                                                                                                                                                                                                                                                                                                                                                                                                                                                                                                                                                                                                                                                      | We present experimental work that explores the factors governing symmetric bimanual interaction in a two-handed task that requires the user to track a pair of targets, one target with each hand. A symmetric bimanual task is a two-handed task in which each hand is assigned an identical role. In this context, we explore three main experimental factors. We vary the distance between the pair of targets to track: as the targets become further apart, visual diversion increases, forcing the user to divide attention between the two targets. We also vary the demands of the task by using both a slow and a fast tracking speed. Finally, we explore visual integration of sub-tasks: in one condition, the two targets to track are connected by a line segment which visually links the targets, while in the other condition there is no connecting line. Our results indicate that all three experimental factors affect the degree of parallelism, which we quantify using a new metric of bimanual parallelism. However, differences in tracking error between the two hands are affected only by the visual integration factor.                      | \n",
       "| C.CHI.2000.1.41                                                                                                                                                                                                                                                                                                                                                                                                                                                                                                                                                                                                                                                                                                                                                                                                                                                                                                                                                                                                                                                                                                                                                            | 2000                                                                                                                                                                                                                                                                                                                                                                                                                                                                                                                                                                                                                                                                                                                                                                                                                                                                                                                                                                                                                                                                                                                                                                       | Two-Handed Input Using a PDA and a Mouse                                                                                                                                                                                                                                                                                                                                                                                                                                                                                                                                                                                                                                                                                                                                                                                                                                                                                                                                                                                                                                                                                                                                   | Personal Digital Assistants (PDAs), Hand-held computers, Palm Pilot, Windows CE, Two-handed input, Smart environments, Ubiquitous computing, Pebbles                                                                                                                                                                                                                                                                                                                                                                                                                                                                                                                                                                                                                                                                                                                                                                                                                                                                                                                                                                                                                       | We performed several experiments using a Personal Digital Assistant (PDA) as an input device in the non-dominant hand along with a mouse in the dominant hand. A PDA is a small hand-held palm-size computer like a 3Com Palm Pilot or a Windows CE device. These are becoming widely available and are easily connected to a PC. Results of our experiments indicate that people can accurately and quickly select among a small numbers of buttons on the PDA using the left hand without looking, and that, as predicted, performance, does decrease as the number of buttons increases. Homing times to move both hands between the keyboard and devices are only about 10% to 15% slower than times to move a single hand to the mouse, suggesting that acquiring two devices does not cause a large penalty. In an application task, we found that scrolling web pages using buttons or a scroller on the PDA matched the speed of using a mouse with a conventional scroll bar, and beat the best two-handed times reported in an earlier experiment. These results will help make two-handed interactions with computers more widely available and more effective. | \n",
       "\n",
       "\n"
      ],
      "text/plain": [
       "  id              year\n",
       "1 C.CHI.2000.1.1  2000\n",
       "2 C.CHI.2000.1.9  2000\n",
       "3 C.CHI.2000.1.17 2000\n",
       "4 C.CHI.2000.1.25 2000\n",
       "5 C.CHI.2000.1.33 2000\n",
       "6 C.CHI.2000.1.41 2000\n",
       "  title                                                                           \n",
       "1 Unleashed: Web Tablet Integration Into the Home                                 \n",
       "2 Predicting Text Entry Speed on Mobile Phones                                    \n",
       "3 Developing a Context-Aware Electronic Tourist Guide: Some Issues and Experiences\n",
       "4 Measuring the Allocation of Control in a 6 Degree-of-Freedom Docking Experiment \n",
       "5 Symmetric Bimanual Interaction                                                  \n",
       "6 Two-Handed Input Using a PDA and a Mouse                                        \n",
       "  keywords                                                                                                                                                                      \n",
       "1 Internet appliances, Pen-based computing, Hand-held computers, Ergonomics, Ethnography                                                                                        \n",
       "2 Text entry, Mobile systems, Mobile phones, Keypad input, Human performance modeling, Fitts' law, Digraph frequencies                                                          \n",
       "3 Mobile computing, Context-awareness, Adaptive hypermedia, User interface design, Evaluation                                                                                   \n",
       "4 Coordination, Interaction techniques, Allocation of control, Virtual docking task, The M-metric, Evaluation methods, Motor control, Input devices, 6 degree-of-freedom control\n",
       "5 Two-handed input, Symmetric interaction, Guiard theory, Input, Interaction techniques                                                                                         \n",
       "6 Personal Digital Assistants (PDAs), Hand-held computers, Palm Pilot, Windows CE, Two-handed input, Smart environments, Ubiquitous computing, Pebbles                          \n",
       "  abstract                                                                                                                                                                                                                                                                                                                                                                                                                                                                                                                                                                                                                                                                                                                                                                                                                                                                                                                                                                                                                                                                                                                                                                  \n",
       "1 To understand how web access from a portable tablet appliance changes the way people use the Internet, MediaOne gave families pen-based tablet computers with a wireless connection to our high-speed data network. We used ethnographic and usability methods to understand how tablets would be integrated into household activities and to define user requirements for such devices. Participants viewed the tablet as conceptually different from a PC. The tablet enabled a high degree of multitasking with household activities, yet flaws in form and function affected use. Results suggest that correctly designed portable Internet appliances will fill a special role in peoples' daily lives, particularly if these devices share information with each other. They will allow spontaneous access to information and communication anywhere.                                                                                                                                                                                                                                                                                                               \n",
       "2 We present a model for predicting expert text entry rates for several input methods on a 12-key mobile phone keypad. The model includes a movement component based on Fitts' law and a linguistic component based on digraph, or letter-pair, probabilities. Predictions are provided for one-handed thumb and two-handed index finger input. For the traditional multi-press method or the lesser-used two-key method, predicted expert rates vary from about 21 to 27 words per minute (wpm). The relatively new T9 method works with a disambiguating algorithm and inputs each character with a single key press. Predicted expert rates vary from 41 wpm for one-handed thumb input to 46 wpm for two-handed index finger input. These figures are degraded somewhat depending on the user's strategy in coping with less-than-perfect disambiguation. Analyses of these strategies are presented.                                                                                                                                                                                                                                                                   \n",
       "3 In this paper, we describe our experiences of developing and evaluating GUIDE, an intelligent electronic tourist guide. The GUIDE system has been built to overcome many of the limitations of the traditional information and navigation tools available to city visitors. For example, group-based tours are inherently inflexible with fixed starting times and fixed durations and (like most guidebooks) are constrained by the need to satisfy the interests of the majority rather than the specific interests of individuals. Following a period of requirements capture, involving experts in the field of tourism, we developed and installed a system for use by visitors to Lancaster. The system combines mobile computing technologies with a wireless infrastructure to present city visitors with information tailored to both their personal and environmental contexts. In this paper we present an evaluation of GUIDE, focusing on the quality of the visitor's experience when using the system.                                                                                                                                                     \n",
       "4 Coordination definitions and metrics are reviewed from the motor control, biomedical, and human factors literature. This paper presents an alternative measurement called the M-metric, the product of the simultaneity and efficiency of a trajectory, as a means of quantifying allocation of control within a docking task. A 6 degree-of-freedom (DOF) longitudinal virtual docking task experiment was conducted to address how control is allocated across six DOFs, how allocation of control changes with extended practice, and if differences in the allocation of control are input device dependent. The results show that operators, rather than controlling all 6 DOFs equally, allocate their control to the rotational and translational DOFs separately, and switch control between the two groups. With practice, allocation of control within the translational and rotational subsets increases at a faster rate than across all 6 DOFs together.                                                                                                                                                                                                     \n",
       "5 We present experimental work that explores the factors governing symmetric bimanual interaction in a two-handed task that requires the user to track a pair of targets, one target with each hand. A symmetric bimanual task is a two-handed task in which each hand is assigned an identical role. In this context, we explore three main experimental factors. We vary the distance between the pair of targets to track: as the targets become further apart, visual diversion increases, forcing the user to divide attention between the two targets. We also vary the demands of the task by using both a slow and a fast tracking speed. Finally, we explore visual integration of sub-tasks: in one condition, the two targets to track are connected by a line segment which visually links the targets, while in the other condition there is no connecting line. Our results indicate that all three experimental factors affect the degree of parallelism, which we quantify using a new metric of bimanual parallelism. However, differences in tracking error between the two hands are affected only by the visual integration factor.                     \n",
       "6 We performed several experiments using a Personal Digital Assistant (PDA) as an input device in the non-dominant hand along with a mouse in the dominant hand. A PDA is a small hand-held palm-size computer like a 3Com Palm Pilot or a Windows CE device. These are becoming widely available and are easily connected to a PC. Results of our experiments indicate that people can accurately and quickly select among a small numbers of buttons on the PDA using the left hand without looking, and that, as predicted, performance, does decrease as the number of buttons increases. Homing times to move both hands between the keyboard and devices are only about 10% to 15% slower than times to move a single hand to the mouse, suggesting that acquiring two devices does not cause a large penalty. In an application task, we found that scrolling web pages using buttons or a scroller on the PDA matched the speed of using a mouse with a conventional scroll bar, and beat the best two-handed times reported in an earlier experiment. These results will help make two-handed interactions with computers more widely available and more effective."
      ]
     },
     "metadata": {},
     "output_type": "display_data"
    }
   ],
   "source": [
    "chi_papers = read_csv('chi-papers.csv')\n",
    "head(chi_papers)"
   ]
  },
  {
   "cell_type": "markdown",
   "metadata": {},
   "source": [
    "## Conference Stats"
   ]
  },
  {
   "cell_type": "markdown",
   "metadata": {},
   "source": [
    "Plot the number of papers per year as a line chart.\n",
    "\n",
    "Group by _year_ and count the number of papers"
   ]
  },
  {
   "cell_type": "code",
   "execution_count": 4,
   "metadata": {},
   "outputs": [
    {
     "data": {
      "text/html": [
       "<table>\n",
       "<thead><tr><th scope=col>year</th><th scope=col>n</th></tr></thead>\n",
       "<tbody>\n",
       "\t<tr><td>1981</td><td>78  </td></tr>\n",
       "\t<tr><td>1982</td><td>75  </td></tr>\n",
       "\t<tr><td>1983</td><td>58  </td></tr>\n",
       "\t<tr><td>1985</td><td>41  </td></tr>\n",
       "\t<tr><td>1986</td><td>59  </td></tr>\n",
       "\t<tr><td>...</td><td>...</td></tr>\n",
       "\t<tr><td>2013</td><td>1009</td></tr>\n",
       "\t<tr><td>2014</td><td> 956</td></tr>\n",
       "\t<tr><td>2015</td><td> 932</td></tr>\n",
       "\t<tr><td>2016</td><td>1125</td></tr>\n",
       "\t<tr><td>  NA</td><td>  33</td></tr>\n",
       "</tbody>\n",
       "</table>\n"
      ],
      "text/latex": [
       "\\begin{tabular}{r|ll}\n",
       " year & n\\\\\n",
       "\\hline\n",
       "\t 1981 & 78  \\\\\n",
       "\t 1982 & 75  \\\\\n",
       "\t 1983 & 58  \\\\\n",
       "\t 1985 & 41  \\\\\n",
       "\t 1986 & 59  \\\\\n",
       "\t ... & ...\\\\\n",
       "\t 2013 & 1009\\\\\n",
       "\t 2014 &  956\\\\\n",
       "\t 2015 &  932\\\\\n",
       "\t 2016 & 1125\\\\\n",
       "\t   NA &   33\\\\\n",
       "\\end{tabular}\n"
      ],
      "text/markdown": [
       "\n",
       "year | n | \n",
       "|---|---|---|---|---|---|---|---|---|---|---|\n",
       "| 1981 | 78   | \n",
       "| 1982 | 75   | \n",
       "| 1983 | 58   | \n",
       "| 1985 | 41   | \n",
       "| 1986 | 59   | \n",
       "| ... | ... | \n",
       "| 2013 | 1009 | \n",
       "| 2014 |  956 | \n",
       "| 2015 |  932 | \n",
       "| 2016 | 1125 | \n",
       "|   NA |   33 | \n",
       "\n",
       "\n"
      ],
      "text/plain": [
       "    year n   \n",
       "1   1981 78  \n",
       "2   1982 75  \n",
       "3   1983 58  \n",
       "4   1985 41  \n",
       "5   1986 59  \n",
       "... ...  ... \n",
       "32  2013 1009\n",
       "33  2014  956\n",
       "34  2015  932\n",
       "35  2016 1125\n",
       "36    NA   33"
      ]
     },
     "metadata": {},
     "output_type": "display_data"
    }
   ],
   "source": [
    "paper.per.year = chi_papers %>%\n",
    "    count(year) %>%\n",
    "    ungroup()\n",
    "paper.per.year"
   ]
  },
  {
   "cell_type": "markdown",
   "metadata": {},
   "source": [
    "We see that there are 33 papers without year information. Actually, year information can be inferred from column _id_ as the first numeric field of _id_ represents _year_. So we can extract _year_ from _id_ and fill up _NA_ rows. For those digits less than 17, they probably represent years after 2000. And for those digits greater than 80 and less than 100, they probably represent years between 1980 and 2000."
   ]
  },
  {
   "cell_type": "code",
   "execution_count": 5,
   "metadata": {
    "collapsed": true
   },
   "outputs": [],
   "source": [
    "chi_papers_year_processed = chi_papers %>%\n",
    "    mutate(extracted_year = ifelse(is.na(year) & !is.na(id), as.numeric(str_extract(id, \"[:digit:]+\")), year)) %>%\n",
    "    mutate(extracted_year = ifelse(extracted_year < 17, extracted_year + 2000, extracted_year)) %>%\n",
    "    mutate(extracted_year = ifelse(extracted_year < 100, extracted_year + 1900, extracted_year)) %>%\n",
    "    mutate(year = ifelse(is.na(year) & !is.na(id), extracted_year, year)) %>%\n",
    "    select(-extracted_year)"
   ]
  },
  {
   "cell_type": "code",
   "execution_count": 6,
   "metadata": {},
   "outputs": [
    {
     "data": {
      "text/html": [
       "<table>\n",
       "<thead><tr><th scope=col>year</th><th scope=col>n</th></tr></thead>\n",
       "<tbody>\n",
       "\t<tr><td>1981</td><td>78  </td></tr>\n",
       "\t<tr><td>1982</td><td>75  </td></tr>\n",
       "\t<tr><td>1983</td><td>58  </td></tr>\n",
       "\t<tr><td>1985</td><td>41  </td></tr>\n",
       "\t<tr><td>1986</td><td>59  </td></tr>\n",
       "\t<tr><td>...</td><td>...</td></tr>\n",
       "\t<tr><td>2013</td><td>1010</td></tr>\n",
       "\t<tr><td>2014</td><td> 959</td></tr>\n",
       "\t<tr><td>2015</td><td> 935</td></tr>\n",
       "\t<tr><td>2016</td><td>1128</td></tr>\n",
       "\t<tr><td>  NA</td><td>   8</td></tr>\n",
       "</tbody>\n",
       "</table>\n"
      ],
      "text/latex": [
       "\\begin{tabular}{r|ll}\n",
       " year & n\\\\\n",
       "\\hline\n",
       "\t 1981 & 78  \\\\\n",
       "\t 1982 & 75  \\\\\n",
       "\t 1983 & 58  \\\\\n",
       "\t 1985 & 41  \\\\\n",
       "\t 1986 & 59  \\\\\n",
       "\t ... & ...\\\\\n",
       "\t 2013 & 1010\\\\\n",
       "\t 2014 &  959\\\\\n",
       "\t 2015 &  935\\\\\n",
       "\t 2016 & 1128\\\\\n",
       "\t   NA &    8\\\\\n",
       "\\end{tabular}\n"
      ],
      "text/markdown": [
       "\n",
       "year | n | \n",
       "|---|---|---|---|---|---|---|---|---|---|---|\n",
       "| 1981 | 78   | \n",
       "| 1982 | 75   | \n",
       "| 1983 | 58   | \n",
       "| 1985 | 41   | \n",
       "| 1986 | 59   | \n",
       "| ... | ... | \n",
       "| 2013 | 1010 | \n",
       "| 2014 |  959 | \n",
       "| 2015 |  935 | \n",
       "| 2016 | 1128 | \n",
       "|   NA |    8 | \n",
       "\n",
       "\n"
      ],
      "text/plain": [
       "    year n   \n",
       "1   1981 78  \n",
       "2   1982 75  \n",
       "3   1983 58  \n",
       "4   1985 41  \n",
       "5   1986 59  \n",
       "... ...  ... \n",
       "32  2013 1010\n",
       "33  2014  959\n",
       "34  2015  935\n",
       "35  2016 1128\n",
       "36    NA    8"
      ]
     },
     "metadata": {},
     "output_type": "display_data"
    }
   ],
   "source": [
    "chi_papers_year_processed %>%\n",
    "    count(year) %>%\n",
    "    ungroup()"
   ]
  },
  {
   "cell_type": "markdown",
   "metadata": {},
   "source": [
    "We can see there are still 8 rows without year information. Remove those rows and plot a line chart."
   ]
  },
  {
   "cell_type": "code",
   "execution_count": 7,
   "metadata": {
    "collapsed": true
   },
   "outputs": [],
   "source": [
    "paper.per.year = chi_papers_year_processed %>%\n",
    "    count(year) %>%\n",
    "    ungroup() %>%\n",
    "    filter(!is.na(year))"
   ]
  },
  {
   "cell_type": "code",
   "execution_count": 8,
   "metadata": {},
   "outputs": [
    {
     "data": {},
     "metadata": {},
     "output_type": "display_data"
    },
    {
     "data": {
      "image/png": "[encoded data removed]",
      "text/plain": [
       "plot without title"
      ]
     },
     "metadata": {},
     "output_type": "display_data"
    }
   ],
   "source": [
    "ggplot(paper.per.year) +\n",
    "    aes(x=year, y=n) +\n",
    "    geom_line() +\n",
    "    geom_point() +\n",
    "    geom_text(mapping=aes(label=n, vjust= -1), \n",
    "              size=2.5)"
   ]
  },
  {
   "cell_type": "markdown",
   "metadata": {},
   "source": [
    "The plot shows that the number of papers increases quickly during two periods: 1990--1994 and 2003--2016."
   ]
  },
  {
   "cell_type": "markdown",
   "metadata": {},
   "source": [
    "The tidyr [separate_rows](http://tidyr.tidyverse.org/reference/separate_rows.html) function allows you to split a column containing multiple values into separate rows. This is useful for handling things like the `keywords`, which is a comma-separated list of keywords.  For example:\n",
    "\n",
    "```r\n",
    "data %>%\n",
    "    separate_rows(keywords, sep=',[[:space:]]*')\n",
    "```\n",
    "\n",
    "Use that to split the keywords, and then plot the _number of different keywords_ used in each year's conference.  You can compute the number of different keywords by using the dplyr [n_distinct](http://dplyr.tidyverse.org/reference/n_distinct.html) function inside `summarize`."
   ]
  },
  {
   "cell_type": "markdown",
   "metadata": {},
   "source": [
    "Remove rows with missing keywords and compute the _number of different keywords_ in each year"
   ]
  },
  {
   "cell_type": "code",
   "execution_count": 9,
   "metadata": {},
   "outputs": [
    {
     "data": {
      "text/html": [
       "<table>\n",
       "<thead><tr><th scope=col>year</th><th scope=col>n_distinct_keywords</th></tr></thead>\n",
       "<tbody>\n",
       "\t<tr><td>1982</td><td>  9 </td></tr>\n",
       "\t<tr><td>1983</td><td>  3 </td></tr>\n",
       "\t<tr><td>1986</td><td> 36 </td></tr>\n",
       "\t<tr><td>1987</td><td>170 </td></tr>\n",
       "\t<tr><td>1988</td><td>158 </td></tr>\n",
       "\t<tr><td>...</td><td>...</td></tr>\n",
       "\t<tr><td>2008</td><td>  15</td></tr>\n",
       "\t<tr><td>2009</td><td>2220</td></tr>\n",
       "\t<tr><td>2010</td><td>2174</td></tr>\n",
       "\t<tr><td>2011</td><td>  10</td></tr>\n",
       "\t<tr><td>  NA</td><td>   6</td></tr>\n",
       "</tbody>\n",
       "</table>\n"
      ],
      "text/latex": [
       "\\begin{tabular}{r|ll}\n",
       " year & n\\_distinct\\_keywords\\\\\n",
       "\\hline\n",
       "\t 1982 &   9 \\\\\n",
       "\t 1983 &   3 \\\\\n",
       "\t 1986 &  36 \\\\\n",
       "\t 1987 & 170 \\\\\n",
       "\t 1988 & 158 \\\\\n",
       "\t ... & ...\\\\\n",
       "\t 2008 &   15\\\\\n",
       "\t 2009 & 2220\\\\\n",
       "\t 2010 & 2174\\\\\n",
       "\t 2011 &   10\\\\\n",
       "\t   NA &    6\\\\\n",
       "\\end{tabular}\n"
      ],
      "text/markdown": [
       "\n",
       "year | n_distinct_keywords | \n",
       "|---|---|---|---|---|---|---|---|---|---|---|\n",
       "| 1982 |   9  | \n",
       "| 1983 |   3  | \n",
       "| 1986 |  36  | \n",
       "| 1987 | 170  | \n",
       "| 1988 | 158  | \n",
       "| ... | ... | \n",
       "| 2008 |   15 | \n",
       "| 2009 | 2220 | \n",
       "| 2010 | 2174 | \n",
       "| 2011 |   10 | \n",
       "|   NA |    6 | \n",
       "\n",
       "\n"
      ],
      "text/plain": [
       "    year n_distinct_keywords\n",
       "1   1982   9                \n",
       "2   1983   3                \n",
       "3   1986  36                \n",
       "4   1987 170                \n",
       "5   1988 158                \n",
       "... ...  ...                \n",
       "24  2008   15               \n",
       "25  2009 2220               \n",
       "26  2010 2174               \n",
       "27  2011   10               \n",
       "28    NA    6               "
      ]
     },
     "metadata": {},
     "output_type": "display_data"
    }
   ],
   "source": [
    "distinct.keywords.per.year = chi_papers_year_processed %>%\n",
    "    filter(!is.na(keywords)) %>%\n",
    "    separate_rows(keywords, sep=',[[:space:]]*') %>%\n",
    "    group_by(year) %>%\n",
    "    summarize(n_distinct_keywords = n_distinct(keywords, na.rm = TRUE)) %>%\n",
    "    ungroup()\n",
    "distinct.keywords.per.year"
   ]
  },
  {
   "cell_type": "markdown",
   "metadata": {},
   "source": [
    "Plot a line chart of the _number of different keywords_ used in each year's conference"
   ]
  },
  {
   "cell_type": "code",
   "execution_count": 10,
   "metadata": {},
   "outputs": [
    {
     "data": {},
     "metadata": {},
     "output_type": "display_data"
    },
    {
     "data": {
      "image/png": "[encoded data removed]",
      "text/plain": [
       "plot without title"
      ]
     },
     "metadata": {},
     "output_type": "display_data"
    }
   ],
   "source": [
    "ggplot(distinct.keywords.per.year %>% filter(!is.na(year))) +\n",
    "    aes(x=year, y=n_distinct_keywords) +\n",
    "    geom_line() +\n",
    "    geom_point() +\n",
    "    geom_text(mapping=aes(label=n_distinct_keywords, vjust= -1), \n",
    "              size=2.5)"
   ]
  },
  {
   "cell_type": "markdown",
   "metadata": {},
   "source": [
    "From the chart above, we can see the counts of keywords are very low in some years, this may be because of the missing keywords. So we can assume that the papers with missing keywords have one unique keyword. "
   ]
  },
  {
   "cell_type": "code",
   "execution_count": 11,
   "metadata": {},
   "outputs": [
    {
     "name": "stderr",
     "output_type": "stream",
     "text": [
      "Joining, by = \"year\"\n"
     ]
    }
   ],
   "source": [
    "distinct.keywordsWithNA.per.year = chi_papers_year_processed %>%\n",
    "    filter(is.na(keywords)) %>%\n",
    "    group_by(year) %>%\n",
    "    summarize(n_na=n()) %>%\n",
    "    ungroup() %>%\n",
    "    left_join(distinct.keywords.per.year) %>%\n",
    "    mutate(total=ifelse(is.na(n_distinct_keywords), n_na, n_na + n_distinct_keywords)) %>%\n",
    "    filter(!is.na(year)) %>%\n",
    "    select(year, n=total)"
   ]
  },
  {
   "cell_type": "code",
   "execution_count": 12,
   "metadata": {},
   "outputs": [
    {
     "data": {},
     "metadata": {},
     "output_type": "display_data"
    },
    {
     "data": {
      "image/png": "[encoded data removed]",
      "text/plain": [
       "plot without title"
      ]
     },
     "metadata": {},
     "output_type": "display_data"
    }
   ],
   "source": [
    "ggplot(distinct.keywordsWithNA.per.year) +\n",
    "    aes(x=year, y=n) +\n",
    "    geom_line() +\n",
    "    geom_point() +\n",
    "    geom_text(mapping=aes(label=n, vjust= -1), \n",
    "              size=2.5)"
   ]
  },
  {
   "cell_type": "markdown",
   "metadata": {},
   "source": [
    "We can see considering NA values makes a better chart. But this may not be a good processing since it may be more reasonable to replace the number of keywords of each paper with unknown keywords by the average number of keywords per paper in the year which the paper is in. This may also be an improper way, since, in some years, a large portion of papers has no keywords information. In order to make an accurate plot, we can remove entries of those years in which the number of papers with missing keywords is greater than 70% of total papers."
   ]
  },
  {
   "cell_type": "code",
   "execution_count": 13,
   "metadata": {},
   "outputs": [
    {
     "name": "stderr",
     "output_type": "stream",
     "text": [
      "Joining, by = \"year\"\n",
      "Joining, by = \"year\"\n"
     ]
    }
   ],
   "source": [
    "paper.missing.keywords.stats = chi_papers_year_processed %>%\n",
    "    count(year) %>%\n",
    "    ungroup() %>%\n",
    "    rename(totalCount=n) %>%\n",
    "    left_join(chi_papers_year_processed %>%\n",
    "              filter(is.na(keywords)) %>%\n",
    "              count(year) %>%\n",
    "              ungroup() %>%\n",
    "              rename(naCount=n)) %>%\n",
    "    mutate(na_rate = naCount / totalCount)\n",
    "\n",
    "good.year = paper.missing.keywords.stats %>%\n",
    "    filter(na_rate < 0.7) %>%\n",
    "    select(year)\n",
    "\n",
    "distinct.keywords.per.good.year = distinct.keywords.per.year %>%\n",
    "    inner_join(good.year) "
   ]
  },
  {
   "cell_type": "code",
   "execution_count": 14,
   "metadata": {},
   "outputs": [
    {
     "data": {},
     "metadata": {},
     "output_type": "display_data"
    },
    {
     "data": {
      "image/png": "[encoded data removed]",
      "text/plain": [
       "plot without title"
      ]
     },
     "metadata": {},
     "output_type": "display_data"
    }
   ],
   "source": [
    "ggplot(distinct.keywords.per.good.year) +\n",
    "    aes(x=year, y=n_distinct_keywords) +\n",
    "    geom_line() +\n",
    "    geom_point() +\n",
    "    geom_text(mapping=aes(label=n_distinct_keywords, vjust= -1), \n",
    "              size=2.5)"
   ]
  },
  {
   "cell_type": "markdown",
   "metadata": {},
   "source": [
    "From the figure above, we can see that the number of distinct keywords has an increasing trend."
   ]
  },
  {
   "cell_type": "markdown",
   "metadata": {},
   "source": [
    "Plot the distribution (histogram) of the number of keywords per paper.\n",
    "\n",
    "Check _NA_ rows"
   ]
  },
  {
   "cell_type": "code",
   "execution_count": 15,
   "metadata": {},
   "outputs": [
    {
     "data": {
      "text/html": [
       "0"
      ],
      "text/latex": [
       "0"
      ],
      "text/markdown": [
       "0"
      ],
      "text/plain": [
       "[1] 0"
      ]
     },
     "metadata": {},
     "output_type": "display_data"
    }
   ],
   "source": [
    "chi_papers_year_processed %>%\n",
    "    filter(is.na(id) & is.na(title) & is.na(abstract)) %>%\n",
    "    nrow()"
   ]
  },
  {
   "cell_type": "markdown",
   "metadata": {},
   "source": [
    "Rows where all of the _id_, _title_, and _abstract_ are _NA_ do not exist in this data. So we can group by _id_, _title_, _abstract_ since once at least one of these three fields is not _NA_, we can identify an unique paper.\n",
    "\n",
    "Remove rows with missing keywords, and compute the number of keywords per paper."
   ]
  },
  {
   "cell_type": "code",
   "execution_count": 16,
   "metadata": {
    "collapsed": true
   },
   "outputs": [],
   "source": [
    "num.keywords.per.paper = chi_papers_year_processed %>%\n",
    "    filter(!is.na(keywords)) %>%\n",
    "    separate_rows(keywords, sep=',[[:space:]]*') %>%\n",
    "    group_by(id, year, title, abstract) %>%\n",
    "    summarize(n_keywords = n())\n",
    "# num.keywords.per.paper"
   ]
  },
  {
   "cell_type": "markdown",
   "metadata": {},
   "source": [
    "Plot the distribution\n",
    "- Set _binwidth_ to 1 to see the histogram for every the _number of keywords_"
   ]
  },
  {
   "cell_type": "code",
   "execution_count": 17,
   "metadata": {},
   "outputs": [
    {
     "data": {},
     "metadata": {},
     "output_type": "display_data"
    },
    {
     "data": {
      "image/png": "[encoded data removed]",
      "text/plain": [
       "plot without title"
      ]
     },
     "metadata": {},
     "output_type": "display_data"
    }
   ],
   "source": [
    "ggplot(num.keywords.per.paper) +\n",
    "    aes(x=n_keywords) +\n",
    "    geom_bar()"
   ]
  },
  {
   "cell_type": "markdown",
   "metadata": {},
   "source": [
    "## Use of Terms"
   ]
  },
  {
   "cell_type": "markdown",
   "metadata": {},
   "source": [
    "After removing stop words, plot the distribution of the log of word counts in paper **titles**.\n",
    "\n",
    "First, check the number of rows of missing titles"
   ]
  },
  {
   "cell_type": "code",
   "execution_count": 18,
   "metadata": {},
   "outputs": [
    {
     "data": {
      "text/html": [
       "33"
      ],
      "text/latex": [
       "33"
      ],
      "text/markdown": [
       "33"
      ],
      "text/plain": [
       "[1] 33"
      ]
     },
     "metadata": {},
     "output_type": "display_data"
    }
   ],
   "source": [
    "chi_papers_year_processed %>%\n",
    "    filter(is.na(title)) %>%\n",
    "    nrow()"
   ]
  },
  {
   "cell_type": "markdown",
   "metadata": {},
   "source": [
    "It is only 33 of rows, which is good. We can simply remove them all."
   ]
  },
  {
   "cell_type": "code",
   "execution_count": 19,
   "metadata": {},
   "outputs": [
    {
     "name": "stderr",
     "output_type": "stream",
     "text": [
      "Joining, by = \"word\"\n"
     ]
    }
   ],
   "source": [
    "word.counts.per.title = chi_papers_year_processed %>%\n",
    "    filter(!is.na(title)) %>%\n",
    "    unnest_tokens(word, title, drop=FALSE) %>%\n",
    "    anti_join(stop_words) %>%\n",
    "    count(id, year, title, abstract) %>%\n",
    "    mutate(log_n = log(n))"
   ]
  },
  {
   "cell_type": "markdown",
   "metadata": {},
   "source": [
    "Plot the distribution"
   ]
  },
  {
   "cell_type": "code",
   "execution_count": 20,
   "metadata": {},
   "outputs": [
    {
     "name": "stderr",
     "output_type": "stream",
     "text": [
      "`stat_bin()` using `bins = 30`. Pick better value with `binwidth`.\n"
     ]
    },
    {
     "data": {},
     "metadata": {},
     "output_type": "display_data"
    },
    {
     "data": {
      "image/png": "[encoded data removed]",
      "text/plain": [
       "plot without title"
      ]
     },
     "metadata": {},
     "output_type": "display_data"
    }
   ],
   "source": [
    "ggplot(word.counts.per.title) +\n",
    "    aes(x=log_n) +\n",
    "    geom_histogram() "
   ]
  },
  {
   "cell_type": "markdown",
   "metadata": {},
   "source": [
    "From above, we can see the majority of paper titles has about 3 ($e^1$) to 12 ($e^{2.5}$) words"
   ]
  },
  {
   "cell_type": "markdown",
   "metadata": {},
   "source": [
    "After removing stop words, plot the distribution of the log of word counts in paper **titles and abstracts**."
   ]
  },
  {
   "cell_type": "markdown",
   "metadata": {},
   "source": [
    "Compute word counts in abstracts after removing stop words"
   ]
  },
  {
   "cell_type": "code",
   "execution_count": 21,
   "metadata": {},
   "outputs": [
    {
     "name": "stderr",
     "output_type": "stream",
     "text": [
      "Joining, by = \"word\"\n"
     ]
    }
   ],
   "source": [
    "word.counts.per.abstract = chi_papers_year_processed %>%\n",
    "    filter(!is.na(abstract)) %>%\n",
    "    unnest_tokens(word, abstract, drop=FALSE) %>%\n",
    "    anti_join(stop_words) %>%\n",
    "    count(id, year, title, abstract) %>%\n",
    "    ungroup() %>%\n",
    "    rename(wordCount_abstract=n)"
   ]
  },
  {
   "cell_type": "markdown",
   "metadata": {},
   "source": [
    "Full join with word counts in titles since either the title or abstract of a paper can be missing value. And we can treat _NA_ vaules as _zero_. "
   ]
  },
  {
   "cell_type": "code",
   "execution_count": 22,
   "metadata": {},
   "outputs": [
    {
     "name": "stderr",
     "output_type": "stream",
     "text": [
      "Joining, by = c(\"id\", \"year\", \"title\", \"abstract\")\n"
     ]
    }
   ],
   "source": [
    "word.counts.title.abstract = word.counts.per.title %>%\n",
    "    select(id, year, title, abstract, wordCount_title=n) %>%\n",
    "    full_join(word.counts.per.abstract) %>%\n",
    "    mutate(wordCount_title=ifelse(is.na(wordCount_title), 0, wordCount_title),\n",
    "           wordCount_abstract=ifelse(is.na(wordCount_abstract), 0, wordCount_abstract),\n",
    "           wordCount = wordCount_title + wordCount_abstract) %>%\n",
    "    select(-one_of(c('wordCount_title', 'wordCount_abstract'))) %>%\n",
    "    mutate(log_n=log(wordCount))"
   ]
  },
  {
   "cell_type": "markdown",
   "metadata": {},
   "source": [
    "Plot the histogram"
   ]
  },
  {
   "cell_type": "code",
   "execution_count": 23,
   "metadata": {},
   "outputs": [
    {
     "name": "stderr",
     "output_type": "stream",
     "text": [
      "`stat_bin()` using `bins = 30`. Pick better value with `binwidth`.\n"
     ]
    },
    {
     "data": {},
     "metadata": {},
     "output_type": "display_data"
    },
    {
     "data": {
      "image/png": "[encoded data removed]",
      "text/plain": [
       "plot without title"
      ]
     },
     "metadata": {},
     "output_type": "display_data"
    }
   ],
   "source": [
    "ggplot(word.counts.title.abstract) +\n",
    "    aes(x=log_n) +\n",
    "    geom_histogram()"
   ]
  },
  {
   "cell_type": "markdown",
   "metadata": {},
   "source": [
    "From the figure above, it shows that the most papers have about 20 ($e^3$) to 150 ($e^5$) of words in title and abstract."
   ]
  },
  {
   "cell_type": "markdown",
   "metadata": {},
   "source": [
    "What are the 10 most common words (after removing stop words) in titles in 1990?\n",
    "\n",
    "Tokenize words in titles and anti join stop words"
   ]
  },
  {
   "cell_type": "code",
   "execution_count": 24,
   "metadata": {},
   "outputs": [
    {
     "name": "stderr",
     "output_type": "stream",
     "text": [
      "Joining, by = \"word\"\n"
     ]
    }
   ],
   "source": [
    "word.title.1990 = chi_papers_year_processed %>%\n",
    "    filter(!is.na(title) & year==1990) %>%\n",
    "    unnest_tokens(word, title, drop=FALSE) %>%\n",
    "    anti_join(stop_words)"
   ]
  },
  {
   "cell_type": "markdown",
   "metadata": {},
   "source": [
    "Count words and rank by counts"
   ]
  },
  {
   "cell_type": "code",
   "execution_count": 25,
   "metadata": {},
   "outputs": [
    {
     "data": {
      "text/html": [
       "<table>\n",
       "<thead><tr><th scope=col>word</th><th scope=col>n</th><th scope=col>lag_n</th><th scope=col>rank</th></tr></thead>\n",
       "<tbody>\n",
       "\t<tr><td>interface  </td><td>12         </td><td>12         </td><td>1          </td></tr>\n",
       "\t<tr><td>design     </td><td>10         </td><td>12         </td><td>2          </td></tr>\n",
       "\t<tr><td>computer   </td><td> 8         </td><td>10         </td><td>3          </td></tr>\n",
       "\t<tr><td>systems    </td><td> 8         </td><td> 8         </td><td>3          </td></tr>\n",
       "\t<tr><td>user       </td><td> 8         </td><td> 8         </td><td>3          </td></tr>\n",
       "\t<tr><td>human      </td><td> 7         </td><td> 8         </td><td>4          </td></tr>\n",
       "\t<tr><td>interaction</td><td> 7         </td><td> 7         </td><td>4          </td></tr>\n",
       "\t<tr><td>interfaces </td><td> 6         </td><td> 7         </td><td>5          </td></tr>\n",
       "\t<tr><td>analysis   </td><td> 5         </td><td> 6         </td><td>6          </td></tr>\n",
       "\t<tr><td>research   </td><td> 5         </td><td> 5         </td><td>6          </td></tr>\n",
       "</tbody>\n",
       "</table>\n"
      ],
      "text/latex": [
       "\\begin{tabular}{r|llll}\n",
       " word & n & lag\\_n & rank\\\\\n",
       "\\hline\n",
       "\t interface   & 12          & 12          & 1          \\\\\n",
       "\t design      & 10          & 12          & 2          \\\\\n",
       "\t computer    &  8          & 10          & 3          \\\\\n",
       "\t systems     &  8          &  8          & 3          \\\\\n",
       "\t user        &  8          &  8          & 3          \\\\\n",
       "\t human       &  7          &  8          & 4          \\\\\n",
       "\t interaction &  7          &  7          & 4          \\\\\n",
       "\t interfaces  &  6          &  7          & 5          \\\\\n",
       "\t analysis    &  5          &  6          & 6          \\\\\n",
       "\t research    &  5          &  5          & 6          \\\\\n",
       "\\end{tabular}\n"
      ],
      "text/markdown": [
       "\n",
       "word | n | lag_n | rank | \n",
       "|---|---|---|---|---|---|---|---|---|---|\n",
       "| interface   | 12          | 12          | 1           | \n",
       "| design      | 10          | 12          | 2           | \n",
       "| computer    |  8          | 10          | 3           | \n",
       "| systems     |  8          |  8          | 3           | \n",
       "| user        |  8          |  8          | 3           | \n",
       "| human       |  7          |  8          | 4           | \n",
       "| interaction |  7          |  7          | 4           | \n",
       "| interfaces  |  6          |  7          | 5           | \n",
       "| analysis    |  5          |  6          | 6           | \n",
       "| research    |  5          |  5          | 6           | \n",
       "\n",
       "\n"
      ],
      "text/plain": [
       "   word        n  lag_n rank\n",
       "1  interface   12 12    1   \n",
       "2  design      10 12    2   \n",
       "3  computer     8 10    3   \n",
       "4  systems      8  8    3   \n",
       "5  user         8  8    3   \n",
       "6  human        7  8    4   \n",
       "7  interaction  7  7    4   \n",
       "8  interfaces   6  7    5   \n",
       "9  analysis     5  6    6   \n",
       "10 research     5  5    6   "
      ]
     },
     "metadata": {},
     "output_type": "display_data"
    }
   ],
   "source": [
    "word.title.1990 %>%\n",
    "    count(word, sort=TRUE) %>%\n",
    "    ungroup() %>%\n",
    "    mutate(lag_n=lag(n, default=max(n)),\n",
    "           rank = cumsum(n!=lag_n) + 1) %>%\n",
    "    head(10)"
   ]
  },
  {
   "cell_type": "markdown",
   "metadata": {},
   "source": [
    "We can see top 10 words are the words before rank 6 and with at least 5 co-occurrence. It has same results when considering words occurrence in distinct titles."
   ]
  },
  {
   "cell_type": "code",
   "execution_count": 26,
   "metadata": {},
   "outputs": [
    {
     "data": {
      "text/html": [
       "<table>\n",
       "<thead><tr><th scope=col>word</th></tr></thead>\n",
       "<tbody>\n",
       "\t<tr><td>interface  </td></tr>\n",
       "\t<tr><td>design     </td></tr>\n",
       "\t<tr><td>computer   </td></tr>\n",
       "\t<tr><td>systems    </td></tr>\n",
       "\t<tr><td>user       </td></tr>\n",
       "\t<tr><td>human      </td></tr>\n",
       "\t<tr><td>interaction</td></tr>\n",
       "\t<tr><td>interfaces </td></tr>\n",
       "\t<tr><td>analysis   </td></tr>\n",
       "\t<tr><td>research   </td></tr>\n",
       "</tbody>\n",
       "</table>\n"
      ],
      "text/latex": [
       "\\begin{tabular}{r|l}\n",
       " word\\\\\n",
       "\\hline\n",
       "\t interface  \\\\\n",
       "\t design     \\\\\n",
       "\t computer   \\\\\n",
       "\t systems    \\\\\n",
       "\t user       \\\\\n",
       "\t human      \\\\\n",
       "\t interaction\\\\\n",
       "\t interfaces \\\\\n",
       "\t analysis   \\\\\n",
       "\t research   \\\\\n",
       "\\end{tabular}\n"
      ],
      "text/markdown": [
       "\n",
       "word | \n",
       "|---|---|---|---|---|---|---|---|---|---|\n",
       "| interface   | \n",
       "| design      | \n",
       "| computer    | \n",
       "| systems     | \n",
       "| user        | \n",
       "| human       | \n",
       "| interaction | \n",
       "| interfaces  | \n",
       "| analysis    | \n",
       "| research    | \n",
       "\n",
       "\n"
      ],
      "text/plain": [
       "   word       \n",
       "1  interface  \n",
       "2  design     \n",
       "3  computer   \n",
       "4  systems    \n",
       "5  user       \n",
       "6  human      \n",
       "7  interaction\n",
       "8  interfaces \n",
       "9  analysis   \n",
       "10 research   "
      ]
     },
     "metadata": {},
     "output_type": "display_data"
    }
   ],
   "source": [
    "word.title.1990 %>%\n",
    "    count(word, sort=TRUE) %>%\n",
    "    ungroup() %>%\n",
    "    filter(n > 4) %>%\n",
    "    select(word)"
   ]
  },
  {
   "cell_type": "markdown",
   "metadata": {},
   "source": [
    "The 10 most common words in titles in 1990 are **interface, design, computer, systems, user, human, interaction, interfaces, analysis, research**"
   ]
  },
  {
   "cell_type": "markdown",
   "metadata": {},
   "source": [
    "What are the 10 most common words (after removing stop words) in titles in 2015?\n",
    "\n",
    "Tokenize words and remove stop words"
   ]
  },
  {
   "cell_type": "code",
   "execution_count": 27,
   "metadata": {},
   "outputs": [
    {
     "name": "stderr",
     "output_type": "stream",
     "text": [
      "Joining, by = \"word\"\n"
     ]
    }
   ],
   "source": [
    "word.title.2015 = chi_papers_year_processed %>%\n",
    "    filter(!is.na(title) & year==2015) %>%\n",
    "    unnest_tokens(word, title, drop=FALSE) %>%\n",
    "    anti_join(stop_words)"
   ]
  },
  {
   "cell_type": "markdown",
   "metadata": {},
   "source": [
    "When it comes to the 10 most common words, we can only consider the 10 most common words appearing in different titles. It means duplicate words in one title can only be counted once. "
   ]
  },
  {
   "cell_type": "code",
   "execution_count": 28,
   "metadata": {},
   "outputs": [
    {
     "data": {
      "text/html": [
       "<table>\n",
       "<thead><tr><th scope=col>word</th><th scope=col>n</th><th scope=col>lag_n</th><th scope=col>rank</th></tr></thead>\n",
       "<tbody>\n",
       "\t<tr><td>design     </td><td>81         </td><td>81         </td><td>1          </td></tr>\n",
       "\t<tr><td>interaction</td><td>72         </td><td>81         </td><td>2          </td></tr>\n",
       "\t<tr><td>mobile     </td><td>50         </td><td>72         </td><td>3          </td></tr>\n",
       "\t<tr><td>interactive</td><td>49         </td><td>50         </td><td>4          </td></tr>\n",
       "\t<tr><td>user       </td><td>44         </td><td>49         </td><td>5          </td></tr>\n",
       "\t<tr><td>designing  </td><td>43         </td><td>44         </td><td>6          </td></tr>\n",
       "\t<tr><td>based      </td><td>39         </td><td>43         </td><td>7          </td></tr>\n",
       "\t<tr><td>social     </td><td>39         </td><td>39         </td><td>7          </td></tr>\n",
       "\t<tr><td>exploring  </td><td>36         </td><td>39         </td><td>8          </td></tr>\n",
       "\t<tr><td>data       </td><td>35         </td><td>36         </td><td>9          </td></tr>\n",
       "</tbody>\n",
       "</table>\n"
      ],
      "text/latex": [
       "\\begin{tabular}{r|llll}\n",
       " word & n & lag\\_n & rank\\\\\n",
       "\\hline\n",
       "\t design      & 81          & 81          & 1          \\\\\n",
       "\t interaction & 72          & 81          & 2          \\\\\n",
       "\t mobile      & 50          & 72          & 3          \\\\\n",
       "\t interactive & 49          & 50          & 4          \\\\\n",
       "\t user        & 44          & 49          & 5          \\\\\n",
       "\t designing   & 43          & 44          & 6          \\\\\n",
       "\t based       & 39          & 43          & 7          \\\\\n",
       "\t social      & 39          & 39          & 7          \\\\\n",
       "\t exploring   & 36          & 39          & 8          \\\\\n",
       "\t data        & 35          & 36          & 9          \\\\\n",
       "\\end{tabular}\n"
      ],
      "text/markdown": [
       "\n",
       "word | n | lag_n | rank | \n",
       "|---|---|---|---|---|---|---|---|---|---|\n",
       "| design      | 81          | 81          | 1           | \n",
       "| interaction | 72          | 81          | 2           | \n",
       "| mobile      | 50          | 72          | 3           | \n",
       "| interactive | 49          | 50          | 4           | \n",
       "| user        | 44          | 49          | 5           | \n",
       "| designing   | 43          | 44          | 6           | \n",
       "| based       | 39          | 43          | 7           | \n",
       "| social      | 39          | 39          | 7           | \n",
       "| exploring   | 36          | 39          | 8           | \n",
       "| data        | 35          | 36          | 9           | \n",
       "\n",
       "\n"
      ],
      "text/plain": [
       "   word        n  lag_n rank\n",
       "1  design      81 81    1   \n",
       "2  interaction 72 81    2   \n",
       "3  mobile      50 72    3   \n",
       "4  interactive 49 50    4   \n",
       "5  user        44 49    5   \n",
       "6  designing   43 44    6   \n",
       "7  based       39 43    7   \n",
       "8  social      39 39    7   \n",
       "9  exploring   36 39    8   \n",
       "10 data        35 36    9   "
      ]
     },
     "metadata": {},
     "output_type": "display_data"
    }
   ],
   "source": [
    "word.title.2015 %>%\n",
    "    distinct() %>%\n",
    "    count(word, sort=TRUE) %>%\n",
    "    ungroup() %>%\n",
    "    mutate(lag_n=lag(n, default=max(n)),\n",
    "           rank = cumsum(n!=lag_n) + 1) %>%\n",
    "    head(10)"
   ]
  },
  {
   "cell_type": "markdown",
   "metadata": {},
   "source": [
    "Top 10 words are the words before rank 9 and with at least 35 co-occurrence."
   ]
  },
  {
   "cell_type": "code",
   "execution_count": 29,
   "metadata": {},
   "outputs": [
    {
     "data": {
      "text/html": [
       "<table>\n",
       "<thead><tr><th scope=col>word</th></tr></thead>\n",
       "<tbody>\n",
       "\t<tr><td>design     </td></tr>\n",
       "\t<tr><td>interaction</td></tr>\n",
       "\t<tr><td>mobile     </td></tr>\n",
       "\t<tr><td>interactive</td></tr>\n",
       "\t<tr><td>user       </td></tr>\n",
       "\t<tr><td>...</td></tr>\n",
       "\t<tr><td>based    </td></tr>\n",
       "\t<tr><td>social   </td></tr>\n",
       "\t<tr><td>exploring</td></tr>\n",
       "\t<tr><td>data     </td></tr>\n",
       "\t<tr><td>hci      </td></tr>\n",
       "</tbody>\n",
       "</table>\n"
      ],
      "text/latex": [
       "\\begin{tabular}{r|l}\n",
       " word\\\\\n",
       "\\hline\n",
       "\t design     \\\\\n",
       "\t interaction\\\\\n",
       "\t mobile     \\\\\n",
       "\t interactive\\\\\n",
       "\t user       \\\\\n",
       "\t ...\\\\\n",
       "\t based    \\\\\n",
       "\t social   \\\\\n",
       "\t exploring\\\\\n",
       "\t data     \\\\\n",
       "\t hci      \\\\\n",
       "\\end{tabular}\n"
      ],
      "text/markdown": [
       "\n",
       "word | \n",
       "|---|---|---|---|---|---|---|---|---|---|---|\n",
       "| design      | \n",
       "| interaction | \n",
       "| mobile      | \n",
       "| interactive | \n",
       "| user        | \n",
       "| ... | \n",
       "| based     | \n",
       "| social    | \n",
       "| exploring | \n",
       "| data      | \n",
       "| hci       | \n",
       "\n",
       "\n"
      ],
      "text/plain": [
       "    word       \n",
       "1   design     \n",
       "2   interaction\n",
       "3   mobile     \n",
       "4   interactive\n",
       "5   user       \n",
       "... ...        \n",
       "7   based      \n",
       "8   social     \n",
       "9   exploring  \n",
       "10  data       \n",
       "11  hci        "
      ]
     },
     "metadata": {},
     "output_type": "display_data"
    }
   ],
   "source": [
    "word.title.2015 %>%\n",
    "    distinct() %>%\n",
    "    count(word, sort=TRUE) %>%\n",
    "    ungroup() %>%\n",
    "    filter(n > 34) %>%\n",
    "    select(word)"
   ]
  },
  {
   "cell_type": "markdown",
   "metadata": {},
   "source": [
    "The 10 most common words in titles in 1990 are **design, interaction, mobile, interactive, user, designing, based, social, exploring, data, hci**"
   ]
  },
  {
   "cell_type": "markdown",
   "metadata": {},
   "source": [
    "## Basic Text Prediction\n",
    "\n",
    "Suppose we wanted to predict, using the words in a paper title, whether it was written after 2000 or not.\n",
    "\n",
    "One way to look at this is to look at the probability of different words appearing in pre-2000 papers and newer papers: that is, for each word, we compute $P(w|R)$ and $P(w|\\neg R)$, where $R$ means the paper is recent and $\\neg R$ means it is not recent.\n",
    "\n",
    "With these computations, and the set $W$ of words used in a paper title, we can compute whether the paper is more likely to be recent or not, by computing the following:\n",
    "\n",
    "$$\\begin{align*}\n",
    "P(R|W) = P(R) \\prod_{w \\in W} P(w|R) \\\\\n",
    "P(\\neg R|W) = P(\\neg R) \\prod_{w \\in W} P(w|\\neg R)\n",
    "\\end{align*}$$\n",
    "\n",
    "So we are going to build a small classifier that uses these probabilities, and classifies a paper as being recent if $P(R|W) > P(\\neg R|W)$."
   ]
  },
  {
   "cell_type": "markdown",
   "metadata": {},
   "source": [
    "First, split articles into training and test articles; we also only need titles."
   ]
  },
  {
   "cell_type": "code",
   "execution_count": 30,
   "metadata": {},
   "outputs": [
    {
     "name": "stderr",
     "output_type": "stream",
     "text": [
      "Joining, by = c(\"id\", \"year\", \"title\", \"recent\")\n"
     ]
    }
   ],
   "source": [
    "summaries = chi_papers_year_processed %>%\n",
    "    select(id, year, title) %>%\n",
    "    mutate(recent = year >= 2000) %>%\n",
    "    filter(!is.na(title) & !is.na(year))\n",
    "test_summaries = summaries %>% sample_frac(0.1)\n",
    "train_summaries = summaries %>% anti_join(test_summaries)"
   ]
  },
  {
   "cell_type": "markdown",
   "metadata": {},
   "source": [
    "Now, compute for recent and non-recent articles in the training data, the probability of a word appearing in recent and non-recent articles.  This is the term frequency of the word over all articles.\n",
    "\n",
    "The result should be a data frame that has three columns: `word`, the word; `new`, the probability of that word appearing in a new article; and `old`, the probability of that word appearing in an old article.  This data frame will be your ‘model’.\n",
    "\n",
    "I recommend the following approach:\n",
    "\n",
    "1. Compute term frequencies by recency (using `group_by`, and `summarize` or `count`; if you use `summarize`, you will probably need to do a couple of groupings and a grouped `mutate` to convert the counts into probabilities: group by recent & word, count, group by recent, divide counts by the sum of counts)\n",
    "2. `spread` the results into a wider table"
   ]
  },
  {
   "cell_type": "markdown",
   "metadata": {},
   "source": [
    "Build the model without stop words removal."
   ]
  },
  {
   "cell_type": "code",
   "execution_count": 31,
   "metadata": {
    "collapsed": true
   },
   "outputs": [],
   "source": [
    "word.recency.prob = train_summaries %>%\n",
    "    unnest_tokens(word, title, drop=FALSE) %>%\n",
    "#     anti_join(stop_words) %>%\n",
    "    group_by(word, recent) %>%\n",
    "    summarize(count=n()) %>%\n",
    "    ungroup() %>%\n",
    "    group_by(recent) %>%\n",
    "    mutate(prob = count / sum(count)) %>%\n",
    "    ungroup() %>%\n",
    "    select(word, recent, prob)"
   ]
  },
  {
   "cell_type": "markdown",
   "metadata": {},
   "source": [
    "Spread the results by `recent` to build the model"
   ]
  },
  {
   "cell_type": "code",
   "execution_count": 32,
   "metadata": {},
   "outputs": [
    {
     "data": {
      "text/html": [
       "<table>\n",
       "<thead><tr><th scope=col>word</th><th scope=col>new</th><th scope=col>old</th></tr></thead>\n",
       "<tbody>\n",
       "\t<tr><td>0           </td><td>0.000000e+00</td><td>4.420671e-05</td></tr>\n",
       "\t<tr><td>00          </td><td>0.000000e+00</td><td>4.420671e-05</td></tr>\n",
       "\t<tr><td>08          </td><td>3.356643e-05</td><td>0.000000e+00</td></tr>\n",
       "\t<tr><td>1           </td><td>7.832168e-05</td><td>8.841342e-05</td></tr>\n",
       "\t<tr><td>10          </td><td>3.356643e-05</td><td>8.841342e-05</td></tr>\n",
       "\t<tr><td>...</td><td>...</td><td>...</td></tr>\n",
       "\t<tr><td>zoozbeat    </td><td>1.118881e-05</td><td>0           </td></tr>\n",
       "\t<tr><td>zpots       </td><td>1.118881e-05</td><td>0           </td></tr>\n",
       "\t<tr><td>zsense      </td><td>1.118881e-05</td><td>0           </td></tr>\n",
       "\t<tr><td>zwerm       </td><td>1.118881e-05</td><td>0           </td></tr>\n",
       "\t<tr><td>zydeco      </td><td>1.118881e-05</td><td>0           </td></tr>\n",
       "</tbody>\n",
       "</table>\n"
      ],
      "text/latex": [
       "\\begin{tabular}{r|lll}\n",
       " word & new & old\\\\\n",
       "\\hline\n",
       "\t 0            & 0.000000e+00 & 4.420671e-05\\\\\n",
       "\t 00           & 0.000000e+00 & 4.420671e-05\\\\\n",
       "\t 08           & 3.356643e-05 & 0.000000e+00\\\\\n",
       "\t 1            & 7.832168e-05 & 8.841342e-05\\\\\n",
       "\t 10           & 3.356643e-05 & 8.841342e-05\\\\\n",
       "\t ... & ... & ...\\\\\n",
       "\t zoozbeat     & 1.118881e-05 & 0           \\\\\n",
       "\t zpots        & 1.118881e-05 & 0           \\\\\n",
       "\t zsense       & 1.118881e-05 & 0           \\\\\n",
       "\t zwerm        & 1.118881e-05 & 0           \\\\\n",
       "\t zydeco       & 1.118881e-05 & 0           \\\\\n",
       "\\end{tabular}\n"
      ],
      "text/markdown": [
       "\n",
       "word | new | old | \n",
       "|---|---|---|---|---|---|---|---|---|---|---|\n",
       "| 0            | 0.000000e+00 | 4.420671e-05 | \n",
       "| 00           | 0.000000e+00 | 4.420671e-05 | \n",
       "| 08           | 3.356643e-05 | 0.000000e+00 | \n",
       "| 1            | 7.832168e-05 | 8.841342e-05 | \n",
       "| 10           | 3.356643e-05 | 8.841342e-05 | \n",
       "| ... | ... | ... | \n",
       "| zoozbeat     | 1.118881e-05 | 0            | \n",
       "| zpots        | 1.118881e-05 | 0            | \n",
       "| zsense       | 1.118881e-05 | 0            | \n",
       "| zwerm        | 1.118881e-05 | 0            | \n",
       "| zydeco       | 1.118881e-05 | 0            | \n",
       "\n",
       "\n"
      ],
      "text/plain": [
       "      word     new          old         \n",
       "1     0        0.000000e+00 4.420671e-05\n",
       "2     00       0.000000e+00 4.420671e-05\n",
       "3     08       3.356643e-05 0.000000e+00\n",
       "4     1        7.832168e-05 8.841342e-05\n",
       "5     10       3.356643e-05 8.841342e-05\n",
       "...   ...      ...          ...         \n",
       "11629 zoozbeat 1.118881e-05 0           \n",
       "11630 zpots    1.118881e-05 0           \n",
       "11631 zsense   1.118881e-05 0           \n",
       "11632 zwerm    1.118881e-05 0           \n",
       "11633 zydeco   1.118881e-05 0           "
      ]
     },
     "metadata": {},
     "output_type": "display_data"
    }
   ],
   "source": [
    "model = word.recency.prob %>%\n",
    "    spread(recent, prob, fill=0) %>%\n",
    "    select(word, new='TRUE', old='FALSE')\n",
    "model"
   ]
  },
  {
   "cell_type": "markdown",
   "metadata": {},
   "source": [
    "Compute, for each test article, the probability of it being recent, and the probability of it being old, using the formulas above.  You will need to tokenize the titles, join with the model (to get probabilities), and multiply the probabilities (using `prod`, it works like `sum`).  Assume $P(R) = P(\\neg R) = 0.5$."
   ]
  },
  {
   "cell_type": "code",
   "execution_count": 33,
   "metadata": {},
   "outputs": [
    {
     "name": "stderr",
     "output_type": "stream",
     "text": [
      "Joining, by = \"word\"\n"
     ]
    }
   ],
   "source": [
    "p_r = 0.5\n",
    "test.preds = test_summaries %>%\n",
    "    unnest_tokens(word, title, drop=FALSE) %>%\n",
    "#     anti_join(stop_words) %>%\n",
    "    left_join(model) %>%\n",
    "    group_by(id, year, title) %>%\n",
    "    mutate(new = p_r*prod(new, na.rm=TRUE),\n",
    "           old = (1 - p_r)*prod(old, na.rm=TRUE)) %>%\n",
    "    ungroup() %>%\n",
    "    mutate(pred = new > old)"
   ]
  },
  {
   "cell_type": "markdown",
   "metadata": {},
   "source": [
    "Classify each test article as 'recent' if $P(R|W) > P(\\neg R|W)$.  What is the accuracy (fraction of articles classified correctly) of your classifier?"
   ]
  },
  {
   "cell_type": "code",
   "execution_count": 34,
   "metadata": {},
   "outputs": [
    {
     "data": {
      "text/html": [
       "0.805469133780907"
      ],
      "text/latex": [
       "0.805469133780907"
      ],
      "text/markdown": [
       "0.805469133780907"
      ],
      "text/plain": [
       "[1] 0.8054691"
      ]
     },
     "metadata": {},
     "output_type": "display_data"
    }
   ],
   "source": [
    "mean(test.preds$recent==test.preds$pred)"
   ]
  },
  {
   "cell_type": "markdown",
   "metadata": {},
   "source": [
    "Congrats! You have built a naive Bayes classifier."
   ]
  }
 ],
 "metadata": {
  "kernelspec": {
   "display_name": "R",
   "language": "R",
   "name": "ir"
  },
  "language_info": {
   "codemirror_mode": "r",
   "file_extension": ".r",
   "mimetype": "text/x-r-source",
   "name": "R",
   "pygments_lexer": "r",
   "version": "3.4.2"
  }
 },
 "nbformat": 4,
 "nbformat_minor": 2
}
