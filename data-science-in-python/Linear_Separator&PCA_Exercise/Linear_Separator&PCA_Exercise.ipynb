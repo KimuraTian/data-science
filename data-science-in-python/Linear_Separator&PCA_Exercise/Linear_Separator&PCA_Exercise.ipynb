{
 "cells": [
  {
   "cell_type": "code",
   "execution_count": 1,
   "metadata": {
    "collapsed": true
   },
   "outputs": [],
   "source": [
    "import numpy as np\n",
    "from numpy import linalg as LA"
   ]
  },
  {
   "cell_type": "markdown",
   "metadata": {},
   "source": [
    "## Linear Separator"
   ]
  },
  {
   "cell_type": "code",
   "execution_count": 2,
   "metadata": {
    "collapsed": true
   },
   "outputs": [],
   "source": [
    "X = np.array([[2, 1, 1, 100],\n",
    "              [100, 1, 1, 2],\n",
    "              [100, 0, 1, 2],\n",
    "              [2, 0, 0, 100],\n",
    "              [100, 0, 1, 2]])\n",
    "y = np.array([-1, -1, -1, 1, 1]).reshape(-1, 1)"
   ]
  },
  {
   "cell_type": "code",
   "execution_count": 3,
   "metadata": {
    "collapsed": true
   },
   "outputs": [],
   "source": [
    "w1 = np.array([0, -2, -1, 0])\n",
    "w2 = np.array([0, -2, 0, 0])\n",
    "w3 = np.array([10, 10, 100, 100])\n",
    "w4 = np.array([0, -4, -1, 0])\n",
    "b1 = 2\n",
    "b2 = 1\n",
    "b3 = -1000\n",
    "b4 = 3"
   ]
  },
  {
   "cell_type": "markdown",
   "metadata": {},
   "source": [
    "Compute the norm-2 of each separator's weights and the linear classification outputs\n",
    "\n",
    "Separator 1"
   ]
  },
  {
   "cell_type": "code",
   "execution_count": 4,
   "metadata": {},
   "outputs": [
    {
     "name": "stdout",
     "output_type": "stream",
     "text": [
      "2.2360679775\n",
      "[-1 -1  1  2  1]\n"
     ]
    }
   ],
   "source": [
    "print(LA.norm(w1))\n",
    "print(X.dot(w1) + b1)"
   ]
  },
  {
   "cell_type": "markdown",
   "metadata": {},
   "source": [
    "Separator 2"
   ]
  },
  {
   "cell_type": "code",
   "execution_count": 5,
   "metadata": {},
   "outputs": [
    {
     "name": "stdout",
     "output_type": "stream",
     "text": [
      "2.0\n",
      "[-1 -1  1  1  1]\n"
     ]
    }
   ],
   "source": [
    "print(LA.norm(w2))\n",
    "print(X.dot(w2) + b2)"
   ]
  },
  {
   "cell_type": "markdown",
   "metadata": {},
   "source": [
    "Separator 3"
   ]
  },
  {
   "cell_type": "code",
   "execution_count": 6,
   "metadata": {},
   "outputs": [
    {
     "name": "stdout",
     "output_type": "stream",
     "text": [
      "142.126704036\n",
      "[9130  310  300 9020  300]\n"
     ]
    }
   ],
   "source": [
    "print(LA.norm(w3))\n",
    "print(X.dot(w3) + b3)"
   ]
  },
  {
   "cell_type": "markdown",
   "metadata": {},
   "source": [
    "Separator 4"
   ]
  },
  {
   "cell_type": "code",
   "execution_count": 7,
   "metadata": {},
   "outputs": [
    {
     "name": "stdout",
     "output_type": "stream",
     "text": [
      "4.12310562562\n",
      "[-2 -2  2  3  2]\n"
     ]
    }
   ],
   "source": [
    "print(LA.norm(w4))\n",
    "print(X.dot(w4) + b4)"
   ]
  },
  {
   "cell_type": "markdown",
   "metadata": {},
   "source": [
    "We can see that the first two classifers has the highest accuracy and lowest norm-2 value of the weights."
   ]
  },
  {
   "cell_type": "markdown",
   "metadata": {},
   "source": [
    "## PCA"
   ]
  },
  {
   "cell_type": "code",
   "execution_count": 8,
   "metadata": {},
   "outputs": [
    {
     "data": {
      "image/png": "[encoded data removed]",
      "text/plain": [
       "<matplotlib.figure.Figure at 0x7f3120180358>"
      ]
     },
     "metadata": {},
     "output_type": "display_data"
    }
   ],
   "source": [
    "from sklearn.decomposition import PCA\n",
    "import matplotlib.pyplot as plt\n",
    "plt.figure(figsize=(8, 6))\n",
    "# Set the colors for different classes\n",
    "colors = ['red' if label ==-1 else 'blue' for label in y]\n",
    "# Create a PCA object with 2 components\n",
    "pca = PCA(n_components=2)\n",
    "# Fit and transform the 4-dimensional data into a new 2-dimensional data\n",
    "X_PCA = pca.fit_transform(X)\n",
    "# Scatter plot the new 2D data, set alpha=0.6 in order to show the overlapping point\n",
    "plt.scatter(X_PCA[:, 0], X_PCA[:, 1], c=colors, alpha=0.6, s=100)\n",
    "# Get the coordinates of the new 2 dimensions in original 4-dimension space\n",
    "PCA1 = pca.components_[0, :]\n",
    "PCA2 = pca.components_[1, :]\n",
    "# Plot the definition (the expression) of the new 2 dimensions in the 2D plot\n",
    "plt.xlabel(\"PCA1 = {:+.2e}*x1 {:+.2e}*x2 {:+.2e}*x3 {:+.2e}*x4\".format(PCA1[0], PCA1[1], PCA1[2], PCA1[3]))\n",
    "plt.ylabel(\"PCA2 = {:+.2e}*x1 {:+.2e}*x2 {:+.2e}*x3 {:+.2e}*x4\".format(PCA2[0], PCA2[1], PCA2[2], PCA2[3]))\n",
    "plt.show()"
   ]
  },
  {
   "cell_type": "code",
   "execution_count": 9,
   "metadata": {},
   "outputs": [
    {
     "name": "stdout",
     "output_type": "stream",
     "text": [
      "PCA1 = -0.7071016681876731*x1 +0.0012025364648884642*x2 -0.003607713745579882*x3 +0.7071016681876733*x4\n",
      "PCA2 = -0.0004540164449235456*x1 +0.8816757722223222*x2 +0.47185529605410526*x3 +0.00045401644494138025*x4\n"
     ]
    }
   ],
   "source": [
    "print(\"PCA1 = {:+}*x1 {:+}*x2 {:+}*x3 {:+}*x4\".format(PCA1[0], PCA1[1], PCA1[2], PCA1[3]))\n",
    "print(\"PCA2 = {:+}*x1 {:+}*x2 {:+}*x3 {:+}*x4\".format(PCA2[0], PCA2[1], PCA2[2], PCA2[3]))"
   ]
  },
  {
   "cell_type": "markdown",
   "metadata": {},
   "source": [
    "Show the explained variance ratio of each new dimension, the higher the value is, the more important the new dimension is"
   ]
  },
  {
   "cell_type": "code",
   "execution_count": 10,
   "metadata": {},
   "outputs": [
    {
     "data": {
      "text/plain": [
       "array([  9.99927699e-01,   6.22194535e-05])"
      ]
     },
     "execution_count": 10,
     "metadata": {},
     "output_type": "execute_result"
    }
   ],
   "source": [
    "pca.explained_variance_ratio_"
   ]
  },
  {
   "cell_type": "markdown",
   "metadata": {},
   "source": [
    "We can see that the first new dimension explained about 99% of the variance, so the first new dimension is the most important dimension.\n",
    "\n",
    "As for the relevance of each new dimension to the original dimensions, we can conclude from the expression in part 2:\n",
    "\n",
    "1. for dimension PCA1, the absolute value of the projection of each original dimension to this new dimension are: 0.7071016681876731, 0.0012025364648884642, 0.003607713745579882, 0.7071016681876733, which means the first and the fourth feature (original dimensions) are the most relevant to this new dimension.\n",
    "\n",
    "2. for dimension PCA2, the absolute value of the projection of each original dimension to this new dimension are: 0.0004540164449235456, 0.8816757722223222, 0.47185529605410526, 0.00045401644494138025, which means the second feature is the most relevant to this new dimension, and the second relevant feature is the third feature."
   ]
  }
 ],
 "metadata": {
  "kernelspec": {
   "display_name": "Python 3",
   "language": "python",
   "name": "python3"
  },
  "language_info": {
   "codemirror_mode": {
    "name": "ipython",
    "version": 3
   },
   "file_extension": ".py",
   "mimetype": "text/x-python",
   "name": "python",
   "nbconvert_exporter": "python",
   "pygments_lexer": "ipython3",
   "version": "3.6.3"
  }
 },
 "nbformat": 4,
 "nbformat_minor": 2
}
