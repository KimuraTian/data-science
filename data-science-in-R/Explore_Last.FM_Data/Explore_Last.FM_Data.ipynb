{
 "cells": [
  {
   "cell_type": "markdown",
   "metadata": {},
   "source": [
    "## Exploring Last.FM data\n",
    "\n",
    "Mucun Tian"
   ]
  },
  {
   "cell_type": "code",
   "execution_count": 1,
   "metadata": {},
   "outputs": [
    {
     "name": "stderr",
     "output_type": "stream",
     "text": [
      "Loading tidyverse: ggplot2\n",
      "Loading tidyverse: tibble\n",
      "Loading tidyverse: tidyr\n",
      "Loading tidyverse: readr\n",
      "Loading tidyverse: purrr\n",
      "Loading tidyverse: dplyr\n",
      "Conflicts with tidy packages ---------------------------------------------------\n",
      "filter(): dplyr, stats\n",
      "lag():    dplyr, stats\n"
     ]
    }
   ],
   "source": [
    "library(tidyverse)"
   ]
  },
  {
   "cell_type": "code",
   "execution_count": 47,
   "metadata": {
    "collapsed": true
   },
   "outputs": [],
   "source": [
    "options(repr.plot.height=4.5)"
   ]
  },
  {
   "cell_type": "markdown",
   "metadata": {
    "collapsed": true
   },
   "source": [
    "# Exploring the Data\n",
    "1. Plot the distribution of **play counts** per artist"
   ]
  },
  {
   "cell_type": "markdown",
   "metadata": {},
   "source": [
    "read data"
   ]
  },
  {
   "cell_type": "code",
   "execution_count": 2,
   "metadata": {
    "scrolled": true
   },
   "outputs": [
    {
     "name": "stderr",
     "output_type": "stream",
     "text": [
      "Parsed with column specification:\n",
      "cols(\n",
      "  userID = col_integer(),\n",
      "  artistID = col_integer(),\n",
      "  weight = col_integer()\n",
      ")\n"
     ]
    },
    {
     "data": {
      "text/html": [
       "<table>\n",
       "<thead><tr><th scope=col>userID</th><th scope=col>artistID</th><th scope=col>weight</th></tr></thead>\n",
       "<tbody>\n",
       "\t<tr><td>2    </td><td>51   </td><td>13883</td></tr>\n",
       "\t<tr><td>2    </td><td>52   </td><td>11690</td></tr>\n",
       "\t<tr><td>2    </td><td>53   </td><td>11351</td></tr>\n",
       "\t<tr><td>2    </td><td>54   </td><td>10300</td></tr>\n",
       "\t<tr><td>2    </td><td>55   </td><td> 8983</td></tr>\n",
       "\t<tr><td>2    </td><td>56   </td><td> 6152</td></tr>\n",
       "</tbody>\n",
       "</table>\n"
      ],
      "text/latex": [
       "\\begin{tabular}{r|lll}\n",
       " userID & artistID & weight\\\\\n",
       "\\hline\n",
       "\t 2     & 51    & 13883\\\\\n",
       "\t 2     & 52    & 11690\\\\\n",
       "\t 2     & 53    & 11351\\\\\n",
       "\t 2     & 54    & 10300\\\\\n",
       "\t 2     & 55    &  8983\\\\\n",
       "\t 2     & 56    &  6152\\\\\n",
       "\\end{tabular}\n"
      ],
      "text/markdown": [
       "\n",
       "userID | artistID | weight | \n",
       "|---|---|---|---|---|---|\n",
       "| 2     | 51    | 13883 | \n",
       "| 2     | 52    | 11690 | \n",
       "| 2     | 53    | 11351 | \n",
       "| 2     | 54    | 10300 | \n",
       "| 2     | 55    |  8983 | \n",
       "| 2     | 56    |  6152 | \n",
       "\n",
       "\n"
      ],
      "text/plain": [
       "  userID artistID weight\n",
       "1 2      51       13883 \n",
       "2 2      52       11690 \n",
       "3 2      53       11351 \n",
       "4 2      54       10300 \n",
       "5 2      55        8983 \n",
       "6 2      56        6152 "
      ]
     },
     "metadata": {},
     "output_type": "display_data"
    }
   ],
   "source": [
    "user_artistis = read_tsv('data/user_artists.dat')\n",
    "head(user_artistis)"
   ]
  },
  {
   "cell_type": "markdown",
   "metadata": {},
   "source": [
    "Group by artistID and compute play counts"
   ]
  },
  {
   "cell_type": "code",
   "execution_count": 4,
   "metadata": {},
   "outputs": [
    {
     "data": {
      "text/html": [
       "<table>\n",
       "<thead><tr><th scope=col>artistID</th><th scope=col>totalPlays</th></tr></thead>\n",
       "<tbody>\n",
       "\t<tr><td>1   </td><td> 771</td></tr>\n",
       "\t<tr><td>2   </td><td>8012</td></tr>\n",
       "\t<tr><td>3   </td><td> 775</td></tr>\n",
       "\t<tr><td>4   </td><td> 563</td></tr>\n",
       "\t<tr><td>5   </td><td> 913</td></tr>\n",
       "\t<tr><td>6   </td><td>5080</td></tr>\n",
       "</tbody>\n",
       "</table>\n"
      ],
      "text/latex": [
       "\\begin{tabular}{r|ll}\n",
       " artistID & totalPlays\\\\\n",
       "\\hline\n",
       "\t 1    &  771\\\\\n",
       "\t 2    & 8012\\\\\n",
       "\t 3    &  775\\\\\n",
       "\t 4    &  563\\\\\n",
       "\t 5    &  913\\\\\n",
       "\t 6    & 5080\\\\\n",
       "\\end{tabular}\n"
      ],
      "text/markdown": [
       "\n",
       "artistID | totalPlays | \n",
       "|---|---|---|---|---|---|\n",
       "| 1    |  771 | \n",
       "| 2    | 8012 | \n",
       "| 3    |  775 | \n",
       "| 4    |  563 | \n",
       "| 5    |  913 | \n",
       "| 6    | 5080 | \n",
       "\n",
       "\n"
      ],
      "text/plain": [
       "  artistID totalPlays\n",
       "1 1         771      \n",
       "2 2        8012      \n",
       "3 3         775      \n",
       "4 4         563      \n",
       "5 5         913      \n",
       "6 6        5080      "
      ]
     },
     "metadata": {},
     "output_type": "display_data"
    }
   ],
   "source": [
    "playCounts = user_artistis %>%\n",
    "    group_by(artistID) %>%\n",
    "    summarize(totalPlays=sum(weight))\n",
    "head(playCounts)"
   ]
  },
  {
   "cell_type": "markdown",
   "metadata": {},
   "source": [
    "summary the data to better selection of plot scale"
   ]
  },
  {
   "cell_type": "code",
   "execution_count": 10,
   "metadata": {},
   "outputs": [
    {
     "data": {
      "text/plain": [
       "    artistID       totalPlays     \n",
       " Min.   :    1   Min.   :      1  \n",
       " 1st Qu.: 4502   1st Qu.:    113  \n",
       " Median : 9048   Median :    350  \n",
       " Mean   : 9157   Mean   :   3924  \n",
       " 3rd Qu.:13769   3rd Qu.:   1234  \n",
       " Max.   :18745   Max.   :2393140  "
      ]
     },
     "metadata": {},
     "output_type": "display_data"
    }
   ],
   "source": [
    "summary(playCounts)"
   ]
  },
  {
   "cell_type": "markdown",
   "metadata": {},
   "source": [
    "since 3rd percentile is 1234, choose about 3 times larger range to plot distribution."
   ]
  },
  {
   "cell_type": "code",
   "execution_count": 27,
   "metadata": {},
   "outputs": [
    {
     "name": "stderr",
     "output_type": "stream",
     "text": [
      "`stat_bin()` using `bins = 30`. Pick better value with `binwidth`.\n",
      "Warning message:\n",
      "“Removed 1681 rows containing non-finite values (stat_bin).”"
     ]
    },
    {
     "data": {},
     "metadata": {},
     "output_type": "display_data"
    },
    {
     "data": {
      "image/png": "[encoded data removed]",
      "text/plain": [
       "plot without title"
      ]
     },
     "metadata": {},
     "output_type": "display_data"
    }
   ],
   "source": [
    "ggplot(data=playCounts) +\n",
    "    aes(x=totalPlays) +\n",
    "    geom_histogram(mapping=aes(y=..density..)) +\n",
    "    xlim(0, 5000)"
   ]
  },
  {
   "cell_type": "markdown",
   "metadata": {},
   "source": [
    "From distribution above, play counts for most artists are within the range 0 to 1000"
   ]
  },
  {
   "cell_type": "markdown",
   "metadata": {
    "collapsed": true
   },
   "source": [
    "2.Plot the distribution of **unique users** playing each artist\n",
    "<p>Group data by artistID and compute number of unique users</p>\n",
    "<font color=\"red\">Notice: it might be good to first check if duplicate rows exist</font>"
   ]
  },
  {
   "cell_type": "code",
   "execution_count": 20,
   "metadata": {},
   "outputs": [
    {
     "data": {
      "text/html": [
       "92834"
      ],
      "text/latex": [
       "92834"
      ],
      "text/markdown": [
       "92834"
      ],
      "text/plain": [
       "[1] 92834"
      ]
     },
     "metadata": {},
     "output_type": "display_data"
    },
    {
     "data": {
      "text/html": [
       "92834"
      ],
      "text/latex": [
       "92834"
      ],
      "text/markdown": [
       "92834"
      ],
      "text/plain": [
       "[1] 92834"
      ]
     },
     "metadata": {},
     "output_type": "display_data"
    }
   ],
   "source": [
    "select(user_artistis, artistID, userID) %>% \n",
    "    distinct() %>%\n",
    "    nrow()\n",
    "nrow(user_artistis)"
   ]
  },
  {
   "cell_type": "markdown",
   "metadata": {},
   "source": [
    "All the rows are distinct, group data to compute number of unique users"
   ]
  },
  {
   "cell_type": "code",
   "execution_count": 21,
   "metadata": {},
   "outputs": [
    {
     "data": {
      "text/html": [
       "<table>\n",
       "<thead><tr><th scope=col>artistID</th><th scope=col>uniqueUsers</th></tr></thead>\n",
       "<tbody>\n",
       "\t<tr><td>1 </td><td> 3</td></tr>\n",
       "\t<tr><td>2 </td><td>12</td></tr>\n",
       "\t<tr><td>3 </td><td> 3</td></tr>\n",
       "\t<tr><td>4 </td><td> 2</td></tr>\n",
       "\t<tr><td>5 </td><td> 2</td></tr>\n",
       "\t<tr><td>6 </td><td>10</td></tr>\n",
       "</tbody>\n",
       "</table>\n"
      ],
      "text/latex": [
       "\\begin{tabular}{r|ll}\n",
       " artistID & uniqueUsers\\\\\n",
       "\\hline\n",
       "\t 1  &  3\\\\\n",
       "\t 2  & 12\\\\\n",
       "\t 3  &  3\\\\\n",
       "\t 4  &  2\\\\\n",
       "\t 5  &  2\\\\\n",
       "\t 6  & 10\\\\\n",
       "\\end{tabular}\n"
      ],
      "text/markdown": [
       "\n",
       "artistID | uniqueUsers | \n",
       "|---|---|---|---|---|---|\n",
       "| 1  |  3 | \n",
       "| 2  | 12 | \n",
       "| 3  |  3 | \n",
       "| 4  |  2 | \n",
       "| 5  |  2 | \n",
       "| 6  | 10 | \n",
       "\n",
       "\n"
      ],
      "text/plain": [
       "  artistID uniqueUsers\n",
       "1 1         3         \n",
       "2 2        12         \n",
       "3 3         3         \n",
       "4 4         2         \n",
       "5 5         2         \n",
       "6 6        10         "
      ]
     },
     "metadata": {},
     "output_type": "display_data"
    }
   ],
   "source": [
    "uniqueUsersPerArtist = user_artistis %>%\n",
    "    group_by(artistID) %>%\n",
    "    summarize(uniqueUsers=n())\n",
    "head(uniqueUsersPerArtist)"
   ]
  },
  {
   "cell_type": "markdown",
   "metadata": {},
   "source": [
    "plot the distribution"
   ]
  },
  {
   "cell_type": "code",
   "execution_count": 26,
   "metadata": {},
   "outputs": [
    {
     "name": "stderr",
     "output_type": "stream",
     "text": [
      "`stat_bin()` using `bins = 30`. Pick better value with `binwidth`.\n"
     ]
    },
    {
     "data": {},
     "metadata": {},
     "output_type": "display_data"
    },
    {
     "data": {
      "image/png": "[encoded data removed]",
      "text/plain": [
       "plot without title"
      ]
     },
     "metadata": {},
     "output_type": "display_data"
    }
   ],
   "source": [
    "ggplot(data=uniqueUsersPerArtist) +\n",
    "    aes(x=uniqueUsers) +\n",
    "    geom_histogram(mapping=aes(y=..density..))"
   ]
  },
  {
   "cell_type": "markdown",
   "metadata": {},
   "source": [
    "most artists are played by less than 100 unique users"
   ]
  },
  {
   "cell_type": "markdown",
   "metadata": {},
   "source": [
    "<p> 3. Plot the distribution of <b>play counts</b> per user</p>\n",
    "- group data by userID and compute the total play counts (summation of weights)"
   ]
  },
  {
   "cell_type": "code",
   "execution_count": 33,
   "metadata": {},
   "outputs": [
    {
     "data": {
      "text/html": [
       "<table>\n",
       "<thead><tr><th scope=col>userID</th><th scope=col>totalPlays</th></tr></thead>\n",
       "<tbody>\n",
       "\t<tr><td>2     </td><td>168737</td></tr>\n",
       "\t<tr><td>3     </td><td> 20501</td></tr>\n",
       "\t<tr><td>4     </td><td> 26930</td></tr>\n",
       "\t<tr><td>5     </td><td> 13159</td></tr>\n",
       "\t<tr><td>6     </td><td>  1011</td></tr>\n",
       "\t<tr><td>7     </td><td>135399</td></tr>\n",
       "</tbody>\n",
       "</table>\n"
      ],
      "text/latex": [
       "\\begin{tabular}{r|ll}\n",
       " userID & totalPlays\\\\\n",
       "\\hline\n",
       "\t 2      & 168737\\\\\n",
       "\t 3      &  20501\\\\\n",
       "\t 4      &  26930\\\\\n",
       "\t 5      &  13159\\\\\n",
       "\t 6      &   1011\\\\\n",
       "\t 7      & 135399\\\\\n",
       "\\end{tabular}\n"
      ],
      "text/markdown": [
       "\n",
       "userID | totalPlays | \n",
       "|---|---|---|---|---|---|\n",
       "| 2      | 168737 | \n",
       "| 3      |  20501 | \n",
       "| 4      |  26930 | \n",
       "| 5      |  13159 | \n",
       "| 6      |   1011 | \n",
       "| 7      | 135399 | \n",
       "\n",
       "\n"
      ],
      "text/plain": [
       "  userID totalPlays\n",
       "1 2      168737    \n",
       "2 3       20501    \n",
       "3 4       26930    \n",
       "4 5       13159    \n",
       "5 6        1011    \n",
       "6 7      135399    "
      ]
     },
     "metadata": {},
     "output_type": "display_data"
    },
    {
     "data": {
      "text/plain": [
       "     userID         totalPlays    \n",
       " Min.   :   2.0   Min.   :     3  \n",
       " 1st Qu.: 505.5   1st Qu.:  9742  \n",
       " Median :1031.0   Median : 21573  \n",
       " Mean   :1038.4   Mean   : 36567  \n",
       " 3rd Qu.:1572.2   3rd Qu.: 42964  \n",
       " Max.   :2100.0   Max.   :480039  "
      ]
     },
     "metadata": {},
     "output_type": "display_data"
    }
   ],
   "source": [
    "playCountsPerUser = user_artistis %>%\n",
    "    group_by(userID) %>%\n",
    "    summarise(totalPlays=sum(weight))\n",
    "head(playCountsPerUser)\n",
    "summary(playCountsPerUser)"
   ]
  },
  {
   "cell_type": "markdown",
   "metadata": {},
   "source": [
    "plot the distribution"
   ]
  },
  {
   "cell_type": "code",
   "execution_count": 37,
   "metadata": {},
   "outputs": [
    {
     "name": "stderr",
     "output_type": "stream",
     "text": [
      "`stat_bin()` using `bins = 30`. Pick better value with `binwidth`.\n"
     ]
    },
    {
     "data": {},
     "metadata": {},
     "output_type": "display_data"
    },
    {
     "data": {
      "image/png": "[encoded data removed]",
      "text/plain": [
       "plot without title"
      ]
     },
     "metadata": {},
     "output_type": "display_data"
    }
   ],
   "source": [
    "ggplot(data=playCountsPerUser) +\n",
    "    aes(x=totalPlays) +\n",
    "    geom_histogram(mapping=aes(y=..density..))"
   ]
  },
  {
   "cell_type": "markdown",
   "metadata": {},
   "source": [
    "most users' play counts are under $1*10^5$ times"
   ]
  },
  {
   "cell_type": "markdown",
   "metadata": {},
   "source": [
    "<p>4. Plot the distribution of **unique artists** per user</p>\n",
    "- Since we already checked there is no duplicate rows, the **\"unique artists per user\"** is just the artist counts group by userID"
   ]
  },
  {
   "cell_type": "code",
   "execution_count": 38,
   "metadata": {},
   "outputs": [
    {
     "data": {
      "text/html": [
       "<table>\n",
       "<thead><tr><th scope=col>userID</th><th scope=col>artistCounts</th></tr></thead>\n",
       "<tbody>\n",
       "\t<tr><td>2 </td><td>50</td></tr>\n",
       "\t<tr><td>3 </td><td>50</td></tr>\n",
       "\t<tr><td>4 </td><td>50</td></tr>\n",
       "\t<tr><td>5 </td><td>50</td></tr>\n",
       "\t<tr><td>6 </td><td>50</td></tr>\n",
       "\t<tr><td>7 </td><td>50</td></tr>\n",
       "</tbody>\n",
       "</table>\n"
      ],
      "text/latex": [
       "\\begin{tabular}{r|ll}\n",
       " userID & artistCounts\\\\\n",
       "\\hline\n",
       "\t 2  & 50\\\\\n",
       "\t 3  & 50\\\\\n",
       "\t 4  & 50\\\\\n",
       "\t 5  & 50\\\\\n",
       "\t 6  & 50\\\\\n",
       "\t 7  & 50\\\\\n",
       "\\end{tabular}\n"
      ],
      "text/markdown": [
       "\n",
       "userID | artistCounts | \n",
       "|---|---|---|---|---|---|\n",
       "| 2  | 50 | \n",
       "| 3  | 50 | \n",
       "| 4  | 50 | \n",
       "| 5  | 50 | \n",
       "| 6  | 50 | \n",
       "| 7  | 50 | \n",
       "\n",
       "\n"
      ],
      "text/plain": [
       "  userID artistCounts\n",
       "1 2      50          \n",
       "2 3      50          \n",
       "3 4      50          \n",
       "4 5      50          \n",
       "5 6      50          \n",
       "6 7      50          "
      ]
     },
     "metadata": {},
     "output_type": "display_data"
    },
    {
     "data": {
      "text/plain": [
       "     userID        artistCounts  \n",
       " Min.   :   2.0   Min.   : 1.00  \n",
       " 1st Qu.: 505.5   1st Qu.:50.00  \n",
       " Median :1031.0   Median :50.00  \n",
       " Mean   :1038.4   Mean   :49.07  \n",
       " 3rd Qu.:1572.2   3rd Qu.:50.00  \n",
       " Max.   :2100.0   Max.   :50.00  "
      ]
     },
     "metadata": {},
     "output_type": "display_data"
    }
   ],
   "source": [
    "uniqueArtistsPerUser = user_artistis %>%\n",
    "    group_by(userID) %>%\n",
    "    summarize(artistCounts=n())\n",
    "head(uniqueArtistsPerUser)\n",
    "summary(uniqueArtistsPerUser)"
   ]
  },
  {
   "cell_type": "markdown",
   "metadata": {},
   "source": [
    "plot the distribution"
   ]
  },
  {
   "cell_type": "code",
   "execution_count": 53,
   "metadata": {
    "scrolled": false
   },
   "outputs": [
    {
     "data": {},
     "metadata": {},
     "output_type": "display_data"
    },
    {
     "data": {
      "image/png": "[encoded data removed]",
      "text/plain": [
       "plot without title"
      ]
     },
     "metadata": {},
     "output_type": "display_data"
    }
   ],
   "source": [
    "ggplot(data=uniqueArtistsPerUser) +\n",
    "    aes(x=artistCounts) +\n",
    "    geom_histogram(binwidth=1)"
   ]
  },
  {
   "cell_type": "markdown",
   "metadata": {},
   "source": [
    "most users listened 50 unique artists."
   ]
  },
  {
   "cell_type": "markdown",
   "metadata": {},
   "source": [
    "<p>5. What is the mean artists-per-user? Users-per-artist? Plays per user/artist pair?</p>\n",
    "- we can use summary to get statistics of each dataframe"
   ]
  },
  {
   "cell_type": "code",
   "execution_count": 56,
   "metadata": {},
   "outputs": [
    {
     "data": {
      "text/plain": [
       "  artistCounts  \n",
       " Min.   : 1.00  \n",
       " 1st Qu.:50.00  \n",
       " Median :50.00  \n",
       " Mean   :49.07  \n",
       " 3rd Qu.:50.00  \n",
       " Max.   :50.00  "
      ]
     },
     "metadata": {},
     "output_type": "display_data"
    },
    {
     "data": {
      "text/plain": [
       "  uniqueUsers     \n",
       " Min.   :  1.000  \n",
       " 1st Qu.:  1.000  \n",
       " Median :  1.000  \n",
       " Mean   :  5.265  \n",
       " 3rd Qu.:  3.000  \n",
       " Max.   :611.000  "
      ]
     },
     "metadata": {},
     "output_type": "display_data"
    },
    {
     "data": {
      "text/plain": [
       "     weight        \n",
       " Min.   :     1.0  \n",
       " 1st Qu.:   107.0  \n",
       " Median :   260.0  \n",
       " Mean   :   745.2  \n",
       " 3rd Qu.:   614.0  \n",
       " Max.   :352698.0  "
      ]
     },
     "metadata": {},
     "output_type": "display_data"
    }
   ],
   "source": [
    "summary(select(uniqueArtistsPerUser, artistCounts))\n",
    "summary(select(uniqueUsersPerArtist, uniqueUsers))\n",
    "summary(select(user_artistis, weight))"
   ]
  },
  {
   "cell_type": "markdown",
   "metadata": {},
   "source": [
    "The mean of artists-per-user is **49.7**\n",
    "<p> The mean of users-per-artist is **5.265**</p>\n",
    "<p> The mean of plays per user/artist pair is <b>745.2</b></p>"
   ]
  },
  {
   "cell_type": "markdown",
   "metadata": {},
   "source": [
    "<p>6. What are the 10 artists with the most plays?</p>\n",
    "- Group by artists and compute the play counts. And inner_join artists.dat to get the artist name information."
   ]
  },
  {
   "cell_type": "code",
   "execution_count": 61,
   "metadata": {},
   "outputs": [
    {
     "name": "stderr",
     "output_type": "stream",
     "text": [
      "Parsed with column specification:\n",
      "cols(\n",
      "  id = col_integer(),\n",
      "  name = col_character(),\n",
      "  url = col_character(),\n",
      "  pictureURL = col_character()\n",
      ")\n",
      "Warning message:\n",
      "“1 parsing failure.\n",
      " row  col           expected actual\n",
      "1678 name delimiter or quote       \n",
      "”Joining, by = \"artistID\"\n"
     ]
    },
    {
     "data": {
      "text/html": [
       "<table>\n",
       "<thead><tr><th scope=col>artistID</th><th scope=col>totalPlays</th><th scope=col>name</th></tr></thead>\n",
       "<tbody>\n",
       "\t<tr><td>289               </td><td>2393140           </td><td>Britney Spears    </td></tr>\n",
       "\t<tr><td> 72               </td><td>1301308           </td><td>Depeche Mode      </td></tr>\n",
       "\t<tr><td> 89               </td><td>1291387           </td><td>Lady Gaga         </td></tr>\n",
       "\t<tr><td>292               </td><td>1058405           </td><td>Christina Aguilera</td></tr>\n",
       "\t<tr><td>498               </td><td> 963449           </td><td>Paramore          </td></tr>\n",
       "\t<tr><td> 67               </td><td> 921198           </td><td>Madonna           </td></tr>\n",
       "\t<tr><td>288               </td><td> 905423           </td><td>Rihanna           </td></tr>\n",
       "\t<tr><td>701               </td><td> 688529           </td><td>Shakira           </td></tr>\n",
       "\t<tr><td>227               </td><td> 662116           </td><td>The Beatles       </td></tr>\n",
       "\t<tr><td>300               </td><td> 532545           </td><td>Katy Perry        </td></tr>\n",
       "</tbody>\n",
       "</table>\n"
      ],
      "text/latex": [
       "\\begin{tabular}{r|lll}\n",
       " artistID & totalPlays & name\\\\\n",
       "\\hline\n",
       "\t 289                & 2393140            & Britney Spears    \\\\\n",
       "\t  72                & 1301308            & Depeche Mode      \\\\\n",
       "\t  89                & 1291387            & Lady Gaga         \\\\\n",
       "\t 292                & 1058405            & Christina Aguilera\\\\\n",
       "\t 498                &  963449            & Paramore          \\\\\n",
       "\t  67                &  921198            & Madonna           \\\\\n",
       "\t 288                &  905423            & Rihanna           \\\\\n",
       "\t 701                &  688529            & Shakira           \\\\\n",
       "\t 227                &  662116            & The Beatles       \\\\\n",
       "\t 300                &  532545            & Katy Perry        \\\\\n",
       "\\end{tabular}\n"
      ],
      "text/markdown": [
       "\n",
       "artistID | totalPlays | name | \n",
       "|---|---|---|---|---|---|---|---|---|---|\n",
       "| 289                | 2393140            | Britney Spears     | \n",
       "|  72                | 1301308            | Depeche Mode       | \n",
       "|  89                | 1291387            | Lady Gaga          | \n",
       "| 292                | 1058405            | Christina Aguilera | \n",
       "| 498                |  963449            | Paramore           | \n",
       "|  67                |  921198            | Madonna            | \n",
       "| 288                |  905423            | Rihanna            | \n",
       "| 701                |  688529            | Shakira            | \n",
       "| 227                |  662116            | The Beatles        | \n",
       "| 300                |  532545            | Katy Perry         | \n",
       "\n",
       "\n"
      ],
      "text/plain": [
       "   artistID totalPlays name              \n",
       "1  289      2393140    Britney Spears    \n",
       "2   72      1301308    Depeche Mode      \n",
       "3   89      1291387    Lady Gaga         \n",
       "4  292      1058405    Christina Aguilera\n",
       "5  498       963449    Paramore          \n",
       "6   67       921198    Madonna           \n",
       "7  288       905423    Rihanna           \n",
       "8  701       688529    Shakira           \n",
       "9  227       662116    The Beatles       \n",
       "10 300       532545    Katy Perry        "
      ]
     },
     "metadata": {},
     "output_type": "display_data"
    }
   ],
   "source": [
    "artists = read_tsv('data/artists.dat')\n",
    "user_artistis %>%\n",
    "    group_by(artistID) %>%\n",
    "    summarize(totalPlays=sum(weight)) %>%\n",
    "    inner_join(select(artists, artistID=id, name=name)) %>%\n",
    "    arrange(desc(totalPlays)) %>%\n",
    "    head(n=10)"
   ]
  },
  {
   "cell_type": "markdown",
   "metadata": {},
   "source": [
    "The 10 artists with the most plays: **Britney Spears, Depeche Mode, Lady Gaga, Christina Aguilera, Paramore, Madonna, Rihanna, Shakira, The Beatles, Katy Perry** "
   ]
  },
  {
   "cell_type": "markdown",
   "metadata": {},
   "source": [
    "<p>7. What are the 10 artists with the most unique playing users?</p>\n",
    "- Group by artist and compute the count of unique users since we already checked each user/item pair is unique for each artist"
   ]
  },
  {
   "cell_type": "code",
   "execution_count": 62,
   "metadata": {},
   "outputs": [
    {
     "name": "stderr",
     "output_type": "stream",
     "text": [
      "Joining, by = \"artistID\"\n"
     ]
    },
    {
     "data": {
      "text/html": [
       "<table>\n",
       "<thead><tr><th scope=col>artistID</th><th scope=col>uniqueUsers</th><th scope=col>name</th></tr></thead>\n",
       "<tbody>\n",
       "\t<tr><td> 89               </td><td>611               </td><td>Lady Gaga         </td></tr>\n",
       "\t<tr><td>289               </td><td>522               </td><td>Britney Spears    </td></tr>\n",
       "\t<tr><td>288               </td><td>484               </td><td>Rihanna           </td></tr>\n",
       "\t<tr><td>227               </td><td>480               </td><td>The Beatles       </td></tr>\n",
       "\t<tr><td>300               </td><td>473               </td><td>Katy Perry        </td></tr>\n",
       "\t<tr><td> 67               </td><td>429               </td><td>Madonna           </td></tr>\n",
       "\t<tr><td>333               </td><td>417               </td><td>Avril Lavigne     </td></tr>\n",
       "\t<tr><td>292               </td><td>407               </td><td>Christina Aguilera</td></tr>\n",
       "\t<tr><td>190               </td><td>400               </td><td>Muse              </td></tr>\n",
       "\t<tr><td>498               </td><td>399               </td><td>Paramore          </td></tr>\n",
       "</tbody>\n",
       "</table>\n"
      ],
      "text/latex": [
       "\\begin{tabular}{r|lll}\n",
       " artistID & uniqueUsers & name\\\\\n",
       "\\hline\n",
       "\t  89                & 611                & Lady Gaga         \\\\\n",
       "\t 289                & 522                & Britney Spears    \\\\\n",
       "\t 288                & 484                & Rihanna           \\\\\n",
       "\t 227                & 480                & The Beatles       \\\\\n",
       "\t 300                & 473                & Katy Perry        \\\\\n",
       "\t  67                & 429                & Madonna           \\\\\n",
       "\t 333                & 417                & Avril Lavigne     \\\\\n",
       "\t 292                & 407                & Christina Aguilera\\\\\n",
       "\t 190                & 400                & Muse              \\\\\n",
       "\t 498                & 399                & Paramore          \\\\\n",
       "\\end{tabular}\n"
      ],
      "text/markdown": [
       "\n",
       "artistID | uniqueUsers | name | \n",
       "|---|---|---|---|---|---|---|---|---|---|\n",
       "|  89                | 611                | Lady Gaga          | \n",
       "| 289                | 522                | Britney Spears     | \n",
       "| 288                | 484                | Rihanna            | \n",
       "| 227                | 480                | The Beatles        | \n",
       "| 300                | 473                | Katy Perry         | \n",
       "|  67                | 429                | Madonna            | \n",
       "| 333                | 417                | Avril Lavigne      | \n",
       "| 292                | 407                | Christina Aguilera | \n",
       "| 190                | 400                | Muse               | \n",
       "| 498                | 399                | Paramore           | \n",
       "\n",
       "\n"
      ],
      "text/plain": [
       "   artistID uniqueUsers name              \n",
       "1   89      611         Lady Gaga         \n",
       "2  289      522         Britney Spears    \n",
       "3  288      484         Rihanna           \n",
       "4  227      480         The Beatles       \n",
       "5  300      473         Katy Perry        \n",
       "6   67      429         Madonna           \n",
       "7  333      417         Avril Lavigne     \n",
       "8  292      407         Christina Aguilera\n",
       "9  190      400         Muse              \n",
       "10 498      399         Paramore          "
      ]
     },
     "metadata": {},
     "output_type": "display_data"
    }
   ],
   "source": [
    "user_artistis %>%\n",
    "    group_by(artistID) %>%\n",
    "    summarize(uniqueUsers=n()) %>%\n",
    "    inner_join(select(artists, artistID=id, name=name)) %>%\n",
    "    arrange(desc(uniqueUsers)) %>%\n",
    "    head(n=10)"
   ]
  },
  {
   "cell_type": "markdown",
   "metadata": {},
   "source": [
    "The 10 artists with the most unique playing users are shown above."
   ]
  },
  {
   "cell_type": "markdown",
   "metadata": {},
   "source": [
    "## Association Rules\n",
    "- get the co-play table"
   ]
  },
  {
   "cell_type": "code",
   "execution_count": 67,
   "metadata": {},
   "outputs": [
    {
     "name": "stderr",
     "output_type": "stream",
     "text": [
      "Joining, by = \"userID\"\n"
     ]
    }
   ],
   "source": [
    "coplays = user_artistis %>%\n",
    "    select(a1=artistID, userID) %>%\n",
    "    inner_join(select(user_artistis, a2=artistID, userID)) %>%\n",
    "    filter(a1 != a2) %>%\n",
    "    group_by(a1, a2) %>%\n",
    "    summarize(count = n())"
   ]
  },
  {
   "cell_type": "markdown",
   "metadata": {},
   "source": [
    "<p>1. What pair of artists has been co-played the most often?</p>\n",
    "- arrange coplays table by count"
   ]
  },
  {
   "cell_type": "code",
   "execution_count": 70,
   "metadata": {},
   "outputs": [
    {
     "name": "stderr",
     "output_type": "stream",
     "text": [
      "Joining, by = \"a1\"\n",
      "Joining, by = \"a2\"\n"
     ]
    },
    {
     "data": {
      "text/html": [
       "<table>\n",
       "<thead><tr><th scope=col>a1</th><th scope=col>a2</th><th scope=col>count</th><th scope=col>name1</th><th scope=col>name2</th></tr></thead>\n",
       "<tbody>\n",
       "\t<tr><td>89            </td><td>289           </td><td>436           </td><td>Lady Gaga     </td><td>Britney Spears</td></tr>\n",
       "</tbody>\n",
       "</table>\n"
      ],
      "text/latex": [
       "\\begin{tabular}{r|lllll}\n",
       " a1 & a2 & count & name1 & name2\\\\\n",
       "\\hline\n",
       "\t 89             & 289            & 436            & Lady Gaga      & Britney Spears\\\\\n",
       "\\end{tabular}\n"
      ],
      "text/markdown": [
       "\n",
       "a1 | a2 | count | name1 | name2 | \n",
       "|---|\n",
       "| 89             | 289            | 436            | Lady Gaga      | Britney Spears | \n",
       "\n",
       "\n"
      ],
      "text/plain": [
       "  a1 a2  count name1     name2         \n",
       "1 89 289 436   Lady Gaga Britney Spears"
      ]
     },
     "metadata": {},
     "output_type": "display_data"
    }
   ],
   "source": [
    "coplays %>%\n",
    "    arrange(desc(count)) %>%\n",
    "    head(n=1) %>%\n",
    "    inner_join(select(artists, a1=id, name1=name)) %>%\n",
    "    inner_join(select(artists, a2=id, name2=name))"
   ]
  },
  {
   "cell_type": "markdown",
   "metadata": {},
   "source": [
    "The pair of artists co-played the most often is **Lady Gaga and Britney Spears**"
   ]
  },
  {
   "cell_type": "markdown",
   "metadata": {},
   "source": [
    "<p>2. How many users have listened to both Nickelback and Britney Spears?</p>\n",
    "- join coplays and artists table to get name of artists and filter that specific row to get the answer"
   ]
  },
  {
   "cell_type": "code",
   "execution_count": 83,
   "metadata": {},
   "outputs": [
    {
     "name": "stderr",
     "output_type": "stream",
     "text": [
      "Joining, by = \"a1\"\n",
      "Joining, by = \"a2\"\n"
     ]
    }
   ],
   "source": [
    "NBPair = coplays %>%\n",
    "    inner_join(select(artists, a1=id, name1=name)) %>%\n",
    "    inner_join(select(artists, a2=id, name2=name)) %>%\n",
    "    filter(name1=='Nickelback') %>%\n",
    "    filter(name2=='Britney Spears')"
   ]
  },
  {
   "cell_type": "code",
   "execution_count": 84,
   "metadata": {},
   "outputs": [
    {
     "data": {
      "text/html": [
       "<table>\n",
       "<thead><tr><th scope=col>a1</th><th scope=col>a2</th><th scope=col>count</th><th scope=col>name1</th><th scope=col>name2</th></tr></thead>\n",
       "<tbody>\n",
       "\t<tr><td>966           </td><td>289           </td><td>46            </td><td>Nickelback    </td><td>Britney Spears</td></tr>\n",
       "</tbody>\n",
       "</table>\n"
      ],
      "text/latex": [
       "\\begin{tabular}{r|lllll}\n",
       " a1 & a2 & count & name1 & name2\\\\\n",
       "\\hline\n",
       "\t 966            & 289            & 46             & Nickelback     & Britney Spears\\\\\n",
       "\\end{tabular}\n"
      ],
      "text/markdown": [
       "\n",
       "a1 | a2 | count | name1 | name2 | \n",
       "|---|\n",
       "| 966            | 289            | 46             | Nickelback     | Britney Spears | \n",
       "\n",
       "\n"
      ],
      "text/plain": [
       "  a1  a2  count name1      name2         \n",
       "1 966 289 46    Nickelback Britney Spears"
      ]
     },
     "metadata": {},
     "output_type": "display_data"
    }
   ],
   "source": [
    "NBPair"
   ]
  },
  {
   "cell_type": "markdown",
   "metadata": {},
   "source": [
    "46 users have listened to both Nickelback and Britney Spears."
   ]
  },
  {
   "cell_type": "markdown",
   "metadata": {},
   "source": [
    "<p>3. What is the probability that a randomly-selected user has listened to both Nickelback and Britney Spears?</p>\n",
    "- the probability is equal to the number of users listened to both artists divided by the number of total users."
   ]
  },
  {
   "cell_type": "code",
   "execution_count": 87,
   "metadata": {},
   "outputs": [
    {
     "data": {
      "text/html": [
       "<table>\n",
       "<thead><tr><th scope=col>count</th></tr></thead>\n",
       "<tbody>\n",
       "\t<tr><td>0.0243129</td></tr>\n",
       "</tbody>\n",
       "</table>\n"
      ],
      "text/latex": [
       "\\begin{tabular}{r|l}\n",
       " count\\\\\n",
       "\\hline\n",
       "\t 0.0243129\\\\\n",
       "\\end{tabular}\n"
      ],
      "text/markdown": [
       "\n",
       "count | \n",
       "|---|\n",
       "| 0.0243129 | \n",
       "\n",
       "\n"
      ],
      "text/plain": [
       "  count    \n",
       "1 0.0243129"
      ]
     },
     "metadata": {},
     "output_type": "display_data"
    }
   ],
   "source": [
    "totalUsers = user_artistis %>%\n",
    "    select(userID) %>%\n",
    "    distinct() %>%\n",
    "    nrow()\n",
    "P = NBPair['count']/totalUsers\n",
    "P"
   ]
  },
  {
   "cell_type": "markdown",
   "metadata": {},
   "source": [
    "Probability of **0.0243129** a randomly-selected user has listened to both Nickelback and Britney Spears"
   ]
  },
  {
   "cell_type": "markdown",
   "metadata": {},
   "source": [
    "<p>4. Given that a user has listened to Nickelback, what is the probability that they have also listened to Britney Spears?</p>\n",
    "- the probability is equal to the number of users listened to both artists divided by the number of users listened to Nickelback"
   ]
  },
  {
   "cell_type": "code",
   "execution_count": 91,
   "metadata": {
    "collapsed": true
   },
   "outputs": [],
   "source": [
    "usersListenedN = uniqueUsersPerArtist %>%\n",
    "    filter(artistID==966) %>%\n",
    "    select(uniqueUsers)"
   ]
  },
  {
   "cell_type": "code",
   "execution_count": 103,
   "metadata": {},
   "outputs": [
    {
     "data": {
      "text/html": [
       "<table>\n",
       "<thead><tr><th scope=col>uniqueUsers</th></tr></thead>\n",
       "<tbody>\n",
       "\t<tr><td>112</td></tr>\n",
       "</tbody>\n",
       "</table>\n"
      ],
      "text/latex": [
       "\\begin{tabular}{r|l}\n",
       " uniqueUsers\\\\\n",
       "\\hline\n",
       "\t 112\\\\\n",
       "\\end{tabular}\n"
      ],
      "text/markdown": [
       "\n",
       "uniqueUsers | \n",
       "|---|\n",
       "| 112 | \n",
       "\n",
       "\n"
      ],
      "text/plain": [
       "  uniqueUsers\n",
       "1 112        "
      ]
     },
     "metadata": {},
     "output_type": "display_data"
    }
   ],
   "source": [
    "usersListenedN"
   ]
  },
  {
   "cell_type": "code",
   "execution_count": 94,
   "metadata": {},
   "outputs": [
    {
     "data": {
      "text/html": [
       "<table>\n",
       "<thead><tr><th scope=col>count</th></tr></thead>\n",
       "<tbody>\n",
       "\t<tr><td>0.4107143</td></tr>\n",
       "</tbody>\n",
       "</table>\n"
      ],
      "text/latex": [
       "\\begin{tabular}{r|l}\n",
       " count\\\\\n",
       "\\hline\n",
       "\t 0.4107143\\\\\n",
       "\\end{tabular}\n"
      ],
      "text/markdown": [
       "\n",
       "count | \n",
       "|---|\n",
       "| 0.4107143 | \n",
       "\n",
       "\n"
      ],
      "text/plain": [
       "  count    \n",
       "1 0.4107143"
      ]
     },
     "metadata": {},
     "output_type": "display_data"
    }
   ],
   "source": [
    "P4 = NBPair['count']/usersListenedN['uniqueUsers']\n",
    "P4"
   ]
  },
  {
   "cell_type": "markdown",
   "metadata": {},
   "source": [
    "The probability is **0.4107143** "
   ]
  },
  {
   "cell_type": "markdown",
   "metadata": {},
   "source": [
    "<p>5. Given that a user has listened to Aretha Franklin, what 10 artists are they most likely to have listened to?</p>\n",
    "- filter coplays table with Aretha Franklin and sort by user count"
   ]
  },
  {
   "cell_type": "code",
   "execution_count": 99,
   "metadata": {},
   "outputs": [
    {
     "name": "stderr",
     "output_type": "stream",
     "text": [
      "Joining, by = \"a1\"\n",
      "Joining, by = \"a2\"\n"
     ]
    }
   ],
   "source": [
    "PairIncludedAF = coplays %>%\n",
    "    inner_join(select(artists, a1=id, name1=name)) %>%\n",
    "    filter(name1=='Aretha Franklin') %>%\n",
    "    inner_join(select(artists, a2=id, name2=name))"
   ]
  },
  {
   "cell_type": "code",
   "execution_count": 100,
   "metadata": {},
   "outputs": [
    {
     "data": {
      "text/html": [
       "<table>\n",
       "<thead><tr><th scope=col>a1</th><th scope=col>a2</th><th scope=col>count</th><th scope=col>name1</th><th scope=col>name2</th></tr></thead>\n",
       "<tbody>\n",
       "\t<tr><td>575               </td><td> 67               </td><td>10                </td><td>Aretha Franklin   </td><td>Madonna           </td></tr>\n",
       "\t<tr><td>575               </td><td>227               </td><td> 9                </td><td>Aretha Franklin   </td><td>The Beatles       </td></tr>\n",
       "\t<tr><td>575               </td><td> 55               </td><td> 8                </td><td>Aretha Franklin   </td><td>Kylie Minogue     </td></tr>\n",
       "\t<tr><td>575               </td><td> 89               </td><td> 8                </td><td>Aretha Franklin   </td><td>Lady Gaga         </td></tr>\n",
       "\t<tr><td>575               </td><td>288               </td><td> 8                </td><td>Aretha Franklin   </td><td>Rihanna           </td></tr>\n",
       "\t<tr><td>575               </td><td>292               </td><td> 8                </td><td>Aretha Franklin   </td><td>Christina Aguilera</td></tr>\n",
       "\t<tr><td>575               </td><td>295               </td><td> 8                </td><td>Aretha Franklin   </td><td>Beyoncé           </td></tr>\n",
       "\t<tr><td>575               </td><td>903               </td><td> 8                </td><td>Aretha Franklin   </td><td>Amy Winehouse     </td></tr>\n",
       "\t<tr><td>575               </td><td>300               </td><td> 7                </td><td>Aretha Franklin   </td><td>Katy Perry        </td></tr>\n",
       "\t<tr><td>575               </td><td> 97               </td><td> 6                </td><td>Aretha Franklin   </td><td>Duffy             </td></tr>\n",
       "</tbody>\n",
       "</table>\n"
      ],
      "text/latex": [
       "\\begin{tabular}{r|lllll}\n",
       " a1 & a2 & count & name1 & name2\\\\\n",
       "\\hline\n",
       "\t 575                &  67                & 10                 & Aretha Franklin    & Madonna           \\\\\n",
       "\t 575                & 227                &  9                 & Aretha Franklin    & The Beatles       \\\\\n",
       "\t 575                &  55                &  8                 & Aretha Franklin    & Kylie Minogue     \\\\\n",
       "\t 575                &  89                &  8                 & Aretha Franklin    & Lady Gaga         \\\\\n",
       "\t 575                & 288                &  8                 & Aretha Franklin    & Rihanna           \\\\\n",
       "\t 575                & 292                &  8                 & Aretha Franklin    & Christina Aguilera\\\\\n",
       "\t 575                & 295                &  8                 & Aretha Franklin    & Beyoncé           \\\\\n",
       "\t 575                & 903                &  8                 & Aretha Franklin    & Amy Winehouse     \\\\\n",
       "\t 575                & 300                &  7                 & Aretha Franklin    & Katy Perry        \\\\\n",
       "\t 575                &  97                &  6                 & Aretha Franklin    & Duffy             \\\\\n",
       "\\end{tabular}\n"
      ],
      "text/markdown": [
       "\n",
       "a1 | a2 | count | name1 | name2 | \n",
       "|---|---|---|---|---|---|---|---|---|---|\n",
       "| 575                |  67                | 10                 | Aretha Franklin    | Madonna            | \n",
       "| 575                | 227                |  9                 | Aretha Franklin    | The Beatles        | \n",
       "| 575                |  55                |  8                 | Aretha Franklin    | Kylie Minogue      | \n",
       "| 575                |  89                |  8                 | Aretha Franklin    | Lady Gaga          | \n",
       "| 575                | 288                |  8                 | Aretha Franklin    | Rihanna            | \n",
       "| 575                | 292                |  8                 | Aretha Franklin    | Christina Aguilera | \n",
       "| 575                | 295                |  8                 | Aretha Franklin    | Beyoncé            | \n",
       "| 575                | 903                |  8                 | Aretha Franklin    | Amy Winehouse      | \n",
       "| 575                | 300                |  7                 | Aretha Franklin    | Katy Perry         | \n",
       "| 575                |  97                |  6                 | Aretha Franklin    | Duffy              | \n",
       "\n",
       "\n"
      ],
      "text/plain": [
       "   a1  a2  count name1           name2             \n",
       "1  575  67 10    Aretha Franklin Madonna           \n",
       "2  575 227  9    Aretha Franklin The Beatles       \n",
       "3  575  55  8    Aretha Franklin Kylie Minogue     \n",
       "4  575  89  8    Aretha Franklin Lady Gaga         \n",
       "5  575 288  8    Aretha Franklin Rihanna           \n",
       "6  575 292  8    Aretha Franklin Christina Aguilera\n",
       "7  575 295  8    Aretha Franklin Beyoncé           \n",
       "8  575 903  8    Aretha Franklin Amy Winehouse     \n",
       "9  575 300  7    Aretha Franklin Katy Perry        \n",
       "10 575  97  6    Aretha Franklin Duffy             "
      ]
     },
     "metadata": {},
     "output_type": "display_data"
    }
   ],
   "source": [
    "PairIncludedAF %>%\n",
    "    arrange(desc(count)) %>%\n",
    "    head(n=10)"
   ]
  },
  {
   "cell_type": "markdown",
   "metadata": {},
   "source": [
    "They are most likely to have listened to those 10 artists in the column of name2 of the dataframe above."
   ]
  },
  {
   "cell_type": "markdown",
   "metadata": {},
   "source": [
    "## Extending Association Rules\n",
    "<p>1. What 10 artists have the highest lift with respect to Aretha Franklin?</p>"
   ]
  },
  {
   "cell_type": "code",
   "execution_count": 117,
   "metadata": {},
   "outputs": [
    {
     "name": "stderr",
     "output_type": "stream",
     "text": [
      "Joining, by = \"a2\"\n",
      "Joining, by = \"a1\"\n",
      "Adding missing grouping variables: `a1`\n"
     ]
    },
    {
     "data": {
      "text/html": [
       "<table>\n",
       "<thead><tr><th scope=col>a1</th><th scope=col>nameY</th><th scope=col>XY_Count</th><th scope=col>X_Count</th><th scope=col>Y_Count</th><th scope=col>lift</th></tr></thead>\n",
       "<tbody>\n",
       "\t<tr><td>575                      </td><td>The Fleshtones           </td><td>1                        </td><td>22                       </td><td>1                        </td><td>86                       </td></tr>\n",
       "\t<tr><td>575                      </td><td>The Satelliters          </td><td>1                        </td><td>22                       </td><td>1                        </td><td>86                       </td></tr>\n",
       "\t<tr><td>575                      </td><td>The Barracudas           </td><td>1                        </td><td>22                       </td><td>1                        </td><td>86                       </td></tr>\n",
       "\t<tr><td>575                      </td><td>The Staggers             </td><td>1                        </td><td>22                       </td><td>1                        </td><td>86                       </td></tr>\n",
       "\t<tr><td>575                      </td><td>The Swingin' Neckbreakers</td><td>1                        </td><td>22                       </td><td>1                        </td><td>86                       </td></tr>\n",
       "\t<tr><td>575                      </td><td>The Strollers            </td><td>1                        </td><td>22                       </td><td>1                        </td><td>86                       </td></tr>\n",
       "\t<tr><td>575                      </td><td>The Fuzztones            </td><td>1                        </td><td>22                       </td><td>1                        </td><td>86                       </td></tr>\n",
       "\t<tr><td>575                      </td><td>The Maharajas            </td><td>1                        </td><td>22                       </td><td>1                        </td><td>86                       </td></tr>\n",
       "\t<tr><td>575                      </td><td>The Untamed Youth        </td><td>1                        </td><td>22                       </td><td>1                        </td><td>86                       </td></tr>\n",
       "\t<tr><td>575                      </td><td>Mahalia Jackson          </td><td>2                        </td><td>22                       </td><td>2                        </td><td>86                       </td></tr>\n",
       "</tbody>\n",
       "</table>\n"
      ],
      "text/latex": [
       "\\begin{tabular}{r|llllll}\n",
       " a1 & nameY & XY\\_Count & X\\_Count & Y\\_Count & lift\\\\\n",
       "\\hline\n",
       "\t 575                       & The Fleshtones            & 1                         & 22                        & 1                         & 86                       \\\\\n",
       "\t 575                       & The Satelliters           & 1                         & 22                        & 1                         & 86                       \\\\\n",
       "\t 575                       & The Barracudas            & 1                         & 22                        & 1                         & 86                       \\\\\n",
       "\t 575                       & The Staggers              & 1                         & 22                        & 1                         & 86                       \\\\\n",
       "\t 575                       & The Swingin' Neckbreakers & 1                         & 22                        & 1                         & 86                       \\\\\n",
       "\t 575                       & The Strollers             & 1                         & 22                        & 1                         & 86                       \\\\\n",
       "\t 575                       & The Fuzztones             & 1                         & 22                        & 1                         & 86                       \\\\\n",
       "\t 575                       & The Maharajas             & 1                         & 22                        & 1                         & 86                       \\\\\n",
       "\t 575                       & The Untamed Youth         & 1                         & 22                        & 1                         & 86                       \\\\\n",
       "\t 575                       & Mahalia Jackson           & 2                         & 22                        & 2                         & 86                       \\\\\n",
       "\\end{tabular}\n"
      ],
      "text/markdown": [
       "\n",
       "a1 | nameY | XY_Count | X_Count | Y_Count | lift | \n",
       "|---|---|---|---|---|---|---|---|---|---|\n",
       "| 575                       | The Fleshtones            | 1                         | 22                        | 1                         | 86                        | \n",
       "| 575                       | The Satelliters           | 1                         | 22                        | 1                         | 86                        | \n",
       "| 575                       | The Barracudas            | 1                         | 22                        | 1                         | 86                        | \n",
       "| 575                       | The Staggers              | 1                         | 22                        | 1                         | 86                        | \n",
       "| 575                       | The Swingin' Neckbreakers | 1                         | 22                        | 1                         | 86                        | \n",
       "| 575                       | The Strollers             | 1                         | 22                        | 1                         | 86                        | \n",
       "| 575                       | The Fuzztones             | 1                         | 22                        | 1                         | 86                        | \n",
       "| 575                       | The Maharajas             | 1                         | 22                        | 1                         | 86                        | \n",
       "| 575                       | The Untamed Youth         | 1                         | 22                        | 1                         | 86                        | \n",
       "| 575                       | Mahalia Jackson           | 2                         | 22                        | 2                         | 86                        | \n",
       "\n",
       "\n"
      ],
      "text/plain": [
       "   a1  nameY                     XY_Count X_Count Y_Count lift\n",
       "1  575 The Fleshtones            1        22      1       86  \n",
       "2  575 The Satelliters           1        22      1       86  \n",
       "3  575 The Barracudas            1        22      1       86  \n",
       "4  575 The Staggers              1        22      1       86  \n",
       "5  575 The Swingin' Neckbreakers 1        22      1       86  \n",
       "6  575 The Strollers             1        22      1       86  \n",
       "7  575 The Fuzztones             1        22      1       86  \n",
       "8  575 The Maharajas             1        22      1       86  \n",
       "9  575 The Untamed Youth         1        22      1       86  \n",
       "10 575 Mahalia Jackson           2        22      2       86  "
      ]
     },
     "metadata": {},
     "output_type": "display_data"
    }
   ],
   "source": [
    "PairIncludedAF %>%\n",
    "    inner_join(select(uniqueUsersPerArtist, a2=artistID, Y_Count=uniqueUsers)) %>%\n",
    "    inner_join(select(uniqueUsersPerArtist, a1=artistID, X_Count=uniqueUsers)) %>%\n",
    "    select(nameY=name2,XY_Count=count,X_Count,Y_Count) %>%\n",
    "    mutate(lift = (XY_Count/totalUsers)/((X_Count/totalUsers)*(Y_Count/totalUsers))) %>%\n",
    "    arrange(desc(lift)) %>%\n",
    "    head(n=10)"
   ]
  },
  {
   "cell_type": "markdown",
   "metadata": {},
   "source": [
    "10 artists have the highest lift with respect to Aretha Franklin is shown as above"
   ]
  },
  {
   "cell_type": "markdown",
   "metadata": {},
   "source": [
    "<p>2. What is the lift of Nickelback and Britney Spears?</p>"
   ]
  },
  {
   "cell_type": "code",
   "execution_count": 118,
   "metadata": {},
   "outputs": [
    {
     "name": "stderr",
     "output_type": "stream",
     "text": [
      "Joining, by = \"a1\"\n",
      "Joining, by = \"a2\"\n"
     ]
    }
   ],
   "source": [
    "NBPair = coplays %>%\n",
    "    inner_join(select(artists, a1=id, name1=name)) %>%\n",
    "    inner_join(select(artists, a2=id, name2=name)) %>%\n",
    "    filter(name1=='Nickelback') %>%\n",
    "    filter(name2=='Britney Spears')"
   ]
  },
  {
   "cell_type": "code",
   "execution_count": 119,
   "metadata": {},
   "outputs": [
    {
     "data": {
      "text/html": [
       "<table>\n",
       "<thead><tr><th scope=col>a1</th><th scope=col>a2</th><th scope=col>count</th><th scope=col>name1</th><th scope=col>name2</th></tr></thead>\n",
       "<tbody>\n",
       "\t<tr><td>966           </td><td>289           </td><td>46            </td><td>Nickelback    </td><td>Britney Spears</td></tr>\n",
       "</tbody>\n",
       "</table>\n"
      ],
      "text/latex": [
       "\\begin{tabular}{r|lllll}\n",
       " a1 & a2 & count & name1 & name2\\\\\n",
       "\\hline\n",
       "\t 966            & 289            & 46             & Nickelback     & Britney Spears\\\\\n",
       "\\end{tabular}\n"
      ],
      "text/markdown": [
       "\n",
       "a1 | a2 | count | name1 | name2 | \n",
       "|---|\n",
       "| 966            | 289            | 46             | Nickelback     | Britney Spears | \n",
       "\n",
       "\n"
      ],
      "text/plain": [
       "  a1  a2  count name1      name2         \n",
       "1 966 289 46    Nickelback Britney Spears"
      ]
     },
     "metadata": {},
     "output_type": "display_data"
    }
   ],
   "source": [
    "NBPair"
   ]
  },
  {
   "cell_type": "code",
   "execution_count": 120,
   "metadata": {},
   "outputs": [
    {
     "name": "stderr",
     "output_type": "stream",
     "text": [
      "Joining, by = \"a2\"\n",
      "Joining, by = \"a1\"\n",
      "Adding missing grouping variables: `a1`\n"
     ]
    },
    {
     "data": {
      "text/html": [
       "<table>\n",
       "<thead><tr><th scope=col>a1</th><th scope=col>nameY</th><th scope=col>XY_Count</th><th scope=col>X_Count</th><th scope=col>Y_Count</th><th scope=col>lift</th></tr></thead>\n",
       "<tbody>\n",
       "\t<tr><td>966           </td><td>Britney Spears</td><td>46            </td><td>112           </td><td>522           </td><td>1.488643      </td></tr>\n",
       "</tbody>\n",
       "</table>\n"
      ],
      "text/latex": [
       "\\begin{tabular}{r|llllll}\n",
       " a1 & nameY & XY\\_Count & X\\_Count & Y\\_Count & lift\\\\\n",
       "\\hline\n",
       "\t 966            & Britney Spears & 46             & 112            & 522            & 1.488643      \\\\\n",
       "\\end{tabular}\n"
      ],
      "text/markdown": [
       "\n",
       "a1 | nameY | XY_Count | X_Count | Y_Count | lift | \n",
       "|---|\n",
       "| 966            | Britney Spears | 46             | 112            | 522            | 1.488643       | \n",
       "\n",
       "\n"
      ],
      "text/plain": [
       "  a1  nameY          XY_Count X_Count Y_Count lift    \n",
       "1 966 Britney Spears 46       112     522     1.488643"
      ]
     },
     "metadata": {},
     "output_type": "display_data"
    }
   ],
   "source": [
    "NBPair %>%\n",
    "    inner_join(select(uniqueUsersPerArtist, a2=artistID, Y_Count=uniqueUsers)) %>%\n",
    "    inner_join(select(uniqueUsersPerArtist, a1=artistID, X_Count=uniqueUsers)) %>%\n",
    "    select(nameY=name2,XY_Count=count,X_Count,Y_Count) %>%\n",
    "    mutate(lift = (XY_Count/totalUsers)/((X_Count/totalUsers)*(Y_Count/totalUsers)))"
   ]
  },
  {
   "cell_type": "markdown",
   "metadata": {},
   "source": [
    "the lift of Nickelback and Britney Spears is 1.488643"
   ]
  },
  {
   "cell_type": "code",
   "execution_count": 124,
   "metadata": {},
   "outputs": [
    {
     "name": "stderr",
     "output_type": "stream",
     "text": [
      "Joining, by = \"a1\"\n",
      "Joining, by = \"a2\"\n"
     ]
    }
   ],
   "source": [
    "BOPair = coplays %>%\n",
    "    inner_join(select(artists, a1=id, name1=name)) %>%\n",
    "    inner_join(select(artists, a2=id, name2=name)) %>%\n",
    "    filter(name1=='Ozzy Ozborne') %>%\n",
    "    filter(name2=='Britney Spears')"
   ]
  },
  {
   "cell_type": "code",
   "execution_count": 125,
   "metadata": {},
   "outputs": [
    {
     "data": {
      "text/html": [
       "<table>\n",
       "<thead><tr><th scope=col>a1</th><th scope=col>a2</th><th scope=col>count</th><th scope=col>name1</th><th scope=col>name2</th></tr></thead>\n",
       "<tbody>\n",
       "</tbody>\n",
       "</table>\n"
      ],
      "text/latex": [
       "\\begin{tabular}{r|lllll}\n",
       " a1 & a2 & count & name1 & name2\\\\\n",
       "\\hline\n",
       "\\end{tabular}\n"
      ],
      "text/markdown": [
       "\n",
       "a1 | a2 | count | name1 | name2 | \n",
       "||\n",
       "\n",
       "\n"
      ],
      "text/plain": [
       "     a1 a2 count name1 name2"
      ]
     },
     "metadata": {},
     "output_type": "display_data"
    }
   ],
   "source": [
    "BOPair"
   ]
  },
  {
   "cell_type": "code",
   "execution_count": 126,
   "metadata": {},
   "outputs": [
    {
     "name": "stderr",
     "output_type": "stream",
     "text": [
      "Joining, by = \"a2\"\n",
      "Joining, by = \"a1\"\n",
      "Adding missing grouping variables: `a1`\n"
     ]
    },
    {
     "data": {
      "text/html": [
       "<table>\n",
       "<thead><tr><th scope=col>a1</th><th scope=col>nameY</th><th scope=col>XY_Count</th><th scope=col>X_Count</th><th scope=col>Y_Count</th><th scope=col>lift</th></tr></thead>\n",
       "<tbody>\n",
       "</tbody>\n",
       "</table>\n"
      ],
      "text/latex": [
       "\\begin{tabular}{r|llllll}\n",
       " a1 & nameY & XY\\_Count & X\\_Count & Y\\_Count & lift\\\\\n",
       "\\hline\n",
       "\\end{tabular}\n"
      ],
      "text/markdown": [
       "\n",
       "a1 | nameY | XY_Count | X_Count | Y_Count | lift | \n",
       "||\n",
       "\n",
       "\n"
      ],
      "text/plain": [
       "     a1 nameY XY_Count X_Count Y_Count lift"
      ]
     },
     "metadata": {},
     "output_type": "display_data"
    }
   ],
   "source": [
    "BOPair %>%\n",
    "    inner_join(select(uniqueUsersPerArtist, a2=artistID, Y_Count=uniqueUsers)) %>%\n",
    "    inner_join(select(uniqueUsersPerArtist, a1=artistID, X_Count=uniqueUsers)) %>%\n",
    "    select(nameY=name2,XY_Count=count,X_Count,Y_Count) %>%\n",
    "    mutate(lift = (XY_Count/totalUsers)/((X_Count/totalUsers)*(Y_Count/totalUsers)))"
   ]
  },
  {
   "cell_type": "markdown",
   "metadata": {},
   "source": [
    "the lift of Britney Spears and Ozzy Ozborne is 0 since no coplay pair of these two artists"
   ]
  },
  {
   "cell_type": "code",
   "execution_count": null,
   "metadata": {
    "collapsed": true
   },
   "outputs": [],
   "source": []
  }
 ],
 "metadata": {
  "kernelspec": {
   "display_name": "R",
   "language": "R",
   "name": "ir"
  },
  "language_info": {
   "codemirror_mode": "r",
   "file_extension": ".r",
   "mimetype": "text/x-r-source",
   "name": "R",
   "pygments_lexer": "r",
   "version": "3.3.2"
  }
 },
 "nbformat": 4,
 "nbformat_minor": 2
}
