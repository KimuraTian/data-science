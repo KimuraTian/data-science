{
 "cells": [
  {
   "cell_type": "markdown",
   "metadata": {},
   "source": [
    "## Quora Question Pairs\n",
    "\n",
    "This notebook predicts if two questions have the similar meaning."
   ]
  },
  {
   "cell_type": "markdown",
   "metadata": {},
   "source": [
    "Load libraries"
   ]
  },
  {
   "cell_type": "code",
   "execution_count": 1,
   "metadata": {
    "collapsed": true
   },
   "outputs": [],
   "source": [
    "import numpy as np\n",
    "import pandas as pd"
   ]
  },
  {
   "cell_type": "code",
   "execution_count": 2,
   "metadata": {
    "collapsed": true
   },
   "outputs": [],
   "source": [
    "# nltk.download()"
   ]
  },
  {
   "cell_type": "markdown",
   "metadata": {},
   "source": [
    "Define tokenizer"
   ]
  },
  {
   "cell_type": "code",
   "execution_count": 5,
   "metadata": {},
   "outputs": [
    {
     "name": "stdout",
     "output_type": "stream",
     "text": [
      "['Find', 'the', 'remainder', 'when', '[', 'math', ']', '23^', '{', '24', '}', '[', '/math', ']', 'is', 'divided', 'by', '24,23', '?']\n",
      "['Find', 'the', 'remainder', 'when', 'math', '23', '24', 'math', 'is', 'divided', 'by', '24', '23']\n"
     ]
    }
   ],
   "source": [
    "from nltk.tokenize import sent_tokenize, word_tokenize, RegexpTokenizer\n",
    "\n",
    "reg_tknzr = RegexpTokenizer('\\w+')\n",
    "\n",
    "def tokenize_sentence(sentence, tokenizer='word'):\n",
    "    if tokenizer == 'word':\n",
    "        return word_tokenize(str(sentence))\n",
    "    if tokenizer == 'regexp':\n",
    "        return reg_tknzr.tokenize(str(sentence))\n",
    "\n",
    "example_str = 'Find the remainder when [math]23^{24}[/math] is divided by 24,23?'\n",
    "print(tokenize_sentence(example_str))\n",
    "print(tokenize_sentence(example_str, 'regexp'))"
   ]
  },
  {
   "cell_type": "code",
   "execution_count": 38,
   "metadata": {},
   "outputs": [
    {
     "name": "stdout",
     "output_type": "stream",
     "text": [
      "['Find', 'the', 'remainder', 'when', '[', 'math', ']', '23', '^{', '24', '}[/', 'math', ']', 'is', 'divided', 'by', '24', ',', '23', '?']\n",
      "['Find', 'the', 'remainder', 'when', 'math', '23', '24', 'math', 'is', 'divided', 'by', '24', '23']\n"
     ]
    }
   ],
   "source": [
    "from nltk.tokenize import WordPunctTokenizer, RegexpTokenizer\n",
    "\n",
    "# def tokenize_sentence(sentence, tokenizer='word'):\n",
    "#     if tokenizer == 'word':\n",
    "#         return word_tokenize(str(sentence))\n",
    "#     if tokenizer == 'regexp':\n",
    "#         return reg_tknzr.tokenize(str(sentence))\n",
    "    \n",
    "def tokenize_sentence(sentence, tokenizer=WordPunctTokenizer()):\n",
    "    return tokenizer.tokenize(sentence)\n",
    "\n",
    "reg_tknzr = RegexpTokenizer('\\w+')\n",
    "word_tknzr = WordPunctTokenizer()\n",
    "\n",
    "example_str = 'Find the remainder when [math]23^{24}[/math] is divided by 24,23?'\n",
    "print(tokenize_sentence(example_str))\n",
    "print(tokenize_sentence(example_str, reg_tknzr))"
   ]
  },
  {
   "cell_type": "markdown",
   "metadata": {},
   "source": [
    "Define a function to pre-process questions."
   ]
  },
  {
   "cell_type": "code",
   "execution_count": 2,
   "metadata": {
    "collapsed": true
   },
   "outputs": [],
   "source": [
    "def text_preprocess(question, tokenizer, remove_stopwords=True, stemming=True):\n",
    "    from nltk.corpus import stopwords\n",
    "    from nltk.stem import PorterStemmer\n",
    "    # tokenize sentence\n",
    "    words = tokenizer.tokenize(str(question))\n",
    "    # remove stopwords\n",
    "    if remove_stopwords:\n",
    "        stopwords = set(stopwords.words('english'))\n",
    "        words = [x.lower() for x in words if x.lower() not in stopwords]\n",
    "    # stemming\n",
    "    if stemming:\n",
    "        ps = PorterStemmer()\n",
    "        words = [ps.stem(x) for x in words]\n",
    "    return words"
   ]
  },
  {
   "cell_type": "markdown",
   "metadata": {},
   "source": [
    "Example"
   ]
  },
  {
   "cell_type": "code",
   "execution_count": 3,
   "metadata": {},
   "outputs": [
    {
     "name": "stdout",
     "output_type": "stream",
     "text": [
      "['find', 'remaind', '[', 'math', ']', '23', '^{', '24', '}[/', 'math', ']', 'divid', '24', ',', '23', '?']\n",
      "['find', 'remaind', 'math', '23', '24', 'math', 'divid', '24', '23']\n"
     ]
    }
   ],
   "source": [
    "from nltk.tokenize import RegexpTokenizer, WordPunctTokenizer\n",
    "\n",
    "reg_tknzr = RegexpTokenizer('\\w+')\n",
    "word_tknzr = WordPunctTokenizer()\n",
    "\n",
    "example_str = 'Find the remainder when [math]23^{24}[/math] is divided by 24,23?'\n",
    "print(text_preprocess(example_str, word_tknzr))\n",
    "print(text_preprocess(example_str, reg_tknzr))"
   ]
  },
  {
   "cell_type": "markdown",
   "metadata": {},
   "source": [
    "### Load data"
   ]
  },
  {
   "cell_type": "code",
   "execution_count": 4,
   "metadata": {
    "collapsed": true
   },
   "outputs": [],
   "source": [
    "data = pd.read_csv('./train.csv')"
   ]
  },
  {
   "cell_type": "code",
   "execution_count": 5,
   "metadata": {},
   "outputs": [
    {
     "data": {
      "text/plain": [
       "id               int64\n",
       "qid1             int64\n",
       "qid2             int64\n",
       "question1       object\n",
       "question2       object\n",
       "is_duplicate     int64\n",
       "dtype: object"
      ]
     },
     "execution_count": 5,
     "metadata": {},
     "output_type": "execute_result"
    }
   ],
   "source": [
    "data.dtypes"
   ]
  },
  {
   "cell_type": "code",
   "execution_count": 6,
   "metadata": {},
   "outputs": [
    {
     "data": {
      "text/html": [
       "<div>\n",
       "<style scoped>\n",
       "    .dataframe tbody tr th:only-of-type {\n",
       "        vertical-align: middle;\n",
       "    }\n",
       "\n",
       "    .dataframe tbody tr th {\n",
       "        vertical-align: top;\n",
       "    }\n",
       "\n",
       "    .dataframe thead th {\n",
       "        text-align: right;\n",
       "    }\n",
       "</style>\n",
       "<table border=\"1\" class=\"dataframe\">\n",
       "  <thead>\n",
       "    <tr style=\"text-align: right;\">\n",
       "      <th></th>\n",
       "      <th>id</th>\n",
       "      <th>qid1</th>\n",
       "      <th>qid2</th>\n",
       "      <th>question1</th>\n",
       "      <th>question2</th>\n",
       "      <th>is_duplicate</th>\n",
       "    </tr>\n",
       "  </thead>\n",
       "  <tbody>\n",
       "    <tr>\n",
       "      <th>0</th>\n",
       "      <td>0</td>\n",
       "      <td>1</td>\n",
       "      <td>2</td>\n",
       "      <td>What is the step by step guide to invest in sh...</td>\n",
       "      <td>What is the step by step guide to invest in sh...</td>\n",
       "      <td>0</td>\n",
       "    </tr>\n",
       "    <tr>\n",
       "      <th>1</th>\n",
       "      <td>1</td>\n",
       "      <td>3</td>\n",
       "      <td>4</td>\n",
       "      <td>What is the story of Kohinoor (Koh-i-Noor) Dia...</td>\n",
       "      <td>What would happen if the Indian government sto...</td>\n",
       "      <td>0</td>\n",
       "    </tr>\n",
       "    <tr>\n",
       "      <th>2</th>\n",
       "      <td>2</td>\n",
       "      <td>5</td>\n",
       "      <td>6</td>\n",
       "      <td>How can I increase the speed of my internet co...</td>\n",
       "      <td>How can Internet speed be increased by hacking...</td>\n",
       "      <td>0</td>\n",
       "    </tr>\n",
       "    <tr>\n",
       "      <th>3</th>\n",
       "      <td>3</td>\n",
       "      <td>7</td>\n",
       "      <td>8</td>\n",
       "      <td>Why am I mentally very lonely? How can I solve...</td>\n",
       "      <td>Find the remainder when [math]23^{24}[/math] i...</td>\n",
       "      <td>0</td>\n",
       "    </tr>\n",
       "    <tr>\n",
       "      <th>4</th>\n",
       "      <td>4</td>\n",
       "      <td>9</td>\n",
       "      <td>10</td>\n",
       "      <td>Which one dissolve in water quikly sugar, salt...</td>\n",
       "      <td>Which fish would survive in salt water?</td>\n",
       "      <td>0</td>\n",
       "    </tr>\n",
       "  </tbody>\n",
       "</table>\n",
       "</div>"
      ],
      "text/plain": [
       "   id  qid1  qid2                                          question1  \\\n",
       "0   0     1     2  What is the step by step guide to invest in sh...   \n",
       "1   1     3     4  What is the story of Kohinoor (Koh-i-Noor) Dia...   \n",
       "2   2     5     6  How can I increase the speed of my internet co...   \n",
       "3   3     7     8  Why am I mentally very lonely? How can I solve...   \n",
       "4   4     9    10  Which one dissolve in water quikly sugar, salt...   \n",
       "\n",
       "                                           question2  is_duplicate  \n",
       "0  What is the step by step guide to invest in sh...             0  \n",
       "1  What would happen if the Indian government sto...             0  \n",
       "2  How can Internet speed be increased by hacking...             0  \n",
       "3  Find the remainder when [math]23^{24}[/math] i...             0  \n",
       "4            Which fish would survive in salt water?             0  "
      ]
     },
     "execution_count": 6,
     "metadata": {},
     "output_type": "execute_result"
    }
   ],
   "source": [
    "data.head(5)"
   ]
  },
  {
   "cell_type": "code",
   "execution_count": 7,
   "metadata": {
    "collapsed": true
   },
   "outputs": [],
   "source": [
    "nquestions = len(data)"
   ]
  },
  {
   "cell_type": "code",
   "execution_count": 8,
   "metadata": {},
   "outputs": [
    {
     "data": {
      "text/plain": [
       "300000"
      ]
     },
     "execution_count": 8,
     "metadata": {},
     "output_type": "execute_result"
    }
   ],
   "source": [
    "nquestions"
   ]
  },
  {
   "cell_type": "markdown",
   "metadata": {},
   "source": [
    "Pre-process each question."
   ]
  },
  {
   "cell_type": "code",
   "execution_count": 9,
   "metadata": {},
   "outputs": [
    {
     "name": "stdout",
     "output_type": "stream",
     "text": [
      "8\n"
     ]
    }
   ],
   "source": [
    "import multiprocessing\n",
    "from multiprocessing import Pool\n",
    "\n",
    "print(multiprocessing.cpu_count())"
   ]
  },
  {
   "cell_type": "code",
   "execution_count": 10,
   "metadata": {
    "collapsed": true
   },
   "outputs": [],
   "source": [
    "with Pool(4) as p:\n",
    "    question_tokens = p.starmap(text_preprocess, zip(data['question1'].values, [word_tknzr] * nquestions))\n",
    "    data['q1_tokens'] = question_tokens\n",
    "    \n",
    "with Pool(4) as p:\n",
    "    question_tokens = p.starmap(text_preprocess, zip(data['question2'].values, [word_tknzr] * nquestions))\n",
    "    data['q2_tokens'] = question_tokens"
   ]
  },
  {
   "cell_type": "code",
   "execution_count": 11,
   "metadata": {},
   "outputs": [
    {
     "data": {
      "text/html": [
       "<div>\n",
       "<style scoped>\n",
       "    .dataframe tbody tr th:only-of-type {\n",
       "        vertical-align: middle;\n",
       "    }\n",
       "\n",
       "    .dataframe tbody tr th {\n",
       "        vertical-align: top;\n",
       "    }\n",
       "\n",
       "    .dataframe thead th {\n",
       "        text-align: right;\n",
       "    }\n",
       "</style>\n",
       "<table border=\"1\" class=\"dataframe\">\n",
       "  <thead>\n",
       "    <tr style=\"text-align: right;\">\n",
       "      <th></th>\n",
       "      <th>id</th>\n",
       "      <th>qid1</th>\n",
       "      <th>qid2</th>\n",
       "      <th>question1</th>\n",
       "      <th>question2</th>\n",
       "      <th>is_duplicate</th>\n",
       "      <th>q1_tokens</th>\n",
       "      <th>q2_tokens</th>\n",
       "    </tr>\n",
       "  </thead>\n",
       "  <tbody>\n",
       "    <tr>\n",
       "      <th>0</th>\n",
       "      <td>0</td>\n",
       "      <td>1</td>\n",
       "      <td>2</td>\n",
       "      <td>What is the step by step guide to invest in sh...</td>\n",
       "      <td>What is the step by step guide to invest in sh...</td>\n",
       "      <td>0</td>\n",
       "      <td>[step, step, guid, invest, share, market, indi...</td>\n",
       "      <td>[step, step, guid, invest, share, market, ?]</td>\n",
       "    </tr>\n",
       "    <tr>\n",
       "      <th>1</th>\n",
       "      <td>1</td>\n",
       "      <td>3</td>\n",
       "      <td>4</td>\n",
       "      <td>What is the story of Kohinoor (Koh-i-Noor) Dia...</td>\n",
       "      <td>What would happen if the Indian government sto...</td>\n",
       "      <td>0</td>\n",
       "      <td>[stori, kohinoor, (, koh, -, -, noor, ), diamo...</td>\n",
       "      <td>[would, happen, indian, govern, stole, kohinoo...</td>\n",
       "    </tr>\n",
       "    <tr>\n",
       "      <th>2</th>\n",
       "      <td>2</td>\n",
       "      <td>5</td>\n",
       "      <td>6</td>\n",
       "      <td>How can I increase the speed of my internet co...</td>\n",
       "      <td>How can Internet speed be increased by hacking...</td>\n",
       "      <td>0</td>\n",
       "      <td>[increas, speed, internet, connect, use, vpn, ?]</td>\n",
       "      <td>[internet, speed, increas, hack, dn, ?]</td>\n",
       "    </tr>\n",
       "    <tr>\n",
       "      <th>3</th>\n",
       "      <td>3</td>\n",
       "      <td>7</td>\n",
       "      <td>8</td>\n",
       "      <td>Why am I mentally very lonely? How can I solve...</td>\n",
       "      <td>Find the remainder when [math]23^{24}[/math] i...</td>\n",
       "      <td>0</td>\n",
       "      <td>[mental, lone, ?, solv, ?]</td>\n",
       "      <td>[find, remaind, [, math, ], 23, ^{, 24, }[/, m...</td>\n",
       "    </tr>\n",
       "    <tr>\n",
       "      <th>4</th>\n",
       "      <td>4</td>\n",
       "      <td>9</td>\n",
       "      <td>10</td>\n",
       "      <td>Which one dissolve in water quikly sugar, salt...</td>\n",
       "      <td>Which fish would survive in salt water?</td>\n",
       "      <td>0</td>\n",
       "      <td>[one, dissolv, water, quikli, sugar, ,, salt, ...</td>\n",
       "      <td>[fish, would, surviv, salt, water, ?]</td>\n",
       "    </tr>\n",
       "  </tbody>\n",
       "</table>\n",
       "</div>"
      ],
      "text/plain": [
       "   id  qid1  qid2                                          question1  \\\n",
       "0   0     1     2  What is the step by step guide to invest in sh...   \n",
       "1   1     3     4  What is the story of Kohinoor (Koh-i-Noor) Dia...   \n",
       "2   2     5     6  How can I increase the speed of my internet co...   \n",
       "3   3     7     8  Why am I mentally very lonely? How can I solve...   \n",
       "4   4     9    10  Which one dissolve in water quikly sugar, salt...   \n",
       "\n",
       "                                           question2  is_duplicate  \\\n",
       "0  What is the step by step guide to invest in sh...             0   \n",
       "1  What would happen if the Indian government sto...             0   \n",
       "2  How can Internet speed be increased by hacking...             0   \n",
       "3  Find the remainder when [math]23^{24}[/math] i...             0   \n",
       "4            Which fish would survive in salt water?             0   \n",
       "\n",
       "                                           q1_tokens  \\\n",
       "0  [step, step, guid, invest, share, market, indi...   \n",
       "1  [stori, kohinoor, (, koh, -, -, noor, ), diamo...   \n",
       "2   [increas, speed, internet, connect, use, vpn, ?]   \n",
       "3                         [mental, lone, ?, solv, ?]   \n",
       "4  [one, dissolv, water, quikli, sugar, ,, salt, ...   \n",
       "\n",
       "                                           q2_tokens  \n",
       "0       [step, step, guid, invest, share, market, ?]  \n",
       "1  [would, happen, indian, govern, stole, kohinoo...  \n",
       "2            [internet, speed, increas, hack, dn, ?]  \n",
       "3  [find, remaind, [, math, ], 23, ^{, 24, }[/, m...  \n",
       "4              [fish, would, surviv, salt, water, ?]  "
      ]
     },
     "execution_count": 11,
     "metadata": {},
     "output_type": "execute_result"
    }
   ],
   "source": [
    "data.head()"
   ]
  },
  {
   "cell_type": "markdown",
   "metadata": {},
   "source": [
    "Combine all the tokenized questions together and train a word2vec model"
   ]
  },
  {
   "cell_type": "code",
   "execution_count": 12,
   "metadata": {
    "collapsed": true
   },
   "outputs": [],
   "source": [
    "sentences_w2v = np.hstack((data['q1_tokens'].values, data['q2_tokens'].values))"
   ]
  },
  {
   "cell_type": "code",
   "execution_count": 13,
   "metadata": {
    "collapsed": true
   },
   "outputs": [],
   "source": [
    "from gensim.models import Word2Vec\n",
    "\n",
    "model = Word2Vec(sentences_w2v, min_count=1, workers=6)"
   ]
  },
  {
   "cell_type": "code",
   "execution_count": 14,
   "metadata": {
    "collapsed": true
   },
   "outputs": [],
   "source": [
    "model.save('./word2vec_model')"
   ]
  },
  {
   "cell_type": "code",
   "execution_count": 15,
   "metadata": {
    "collapsed": true
   },
   "outputs": [],
   "source": [
    "model = Word2Vec.load('./word2vec_model')"
   ]
  },
  {
   "cell_type": "code",
   "execution_count": 16,
   "metadata": {
    "collapsed": true
   },
   "outputs": [],
   "source": [
    "word_vectors = model.wv\n",
    "vector_size = model.vector_size\n",
    "del model"
   ]
  },
  {
   "cell_type": "markdown",
   "metadata": {},
   "source": [
    "For each question, each word is a vector of length 100, use element-wise summation of each word vector to represent a question vector.\n",
    "\n",
    "For each question pair, combine two question vectors to form a vector of length 200."
   ]
  },
  {
   "cell_type": "code",
   "execution_count": 17,
   "metadata": {
    "collapsed": true
   },
   "outputs": [],
   "source": [
    "def question2vector(question_tokens):\n",
    "    vector = np.zeros(vector_size)\n",
    "    for token in question_tokens:\n",
    "        if token in word_vectors:\n",
    "            vector += word_vectors[token]\n",
    "    return vector"
   ]
  },
  {
   "cell_type": "code",
   "execution_count": 18,
   "metadata": {
    "collapsed": true
   },
   "outputs": [],
   "source": [
    "def qpair2vector(question_pair):\n",
    "    q1_tokens = question_pair[0]\n",
    "    q2_tokens = question_pair[1]\n",
    "    return np.hstack((question2vector(q1_tokens), question2vector(q2_tokens)))"
   ]
  },
  {
   "cell_type": "code",
   "execution_count": 62,
   "metadata": {
    "collapsed": true
   },
   "outputs": [],
   "source": [
    "def print_row(question_pair):\n",
    "#     print(question_pair)\n",
    "    q1_tokens = question_pair['q1_tokens']\n",
    "    q2_tokens = question_pair['q2_tokens']\n",
    "#     print(question_pair[0])\n",
    "    print(np.hstack((question2vector(q1_tokens), question2vector(q2_tokens))).shape)"
   ]
  },
  {
   "cell_type": "code",
   "execution_count": 30,
   "metadata": {},
   "outputs": [
    {
     "data": {
      "text/html": [
       "<div>\n",
       "<style scoped>\n",
       "    .dataframe tbody tr th:only-of-type {\n",
       "        vertical-align: middle;\n",
       "    }\n",
       "\n",
       "    .dataframe tbody tr th {\n",
       "        vertical-align: top;\n",
       "    }\n",
       "\n",
       "    .dataframe thead th {\n",
       "        text-align: right;\n",
       "    }\n",
       "</style>\n",
       "<table border=\"1\" class=\"dataframe\">\n",
       "  <thead>\n",
       "    <tr style=\"text-align: right;\">\n",
       "      <th></th>\n",
       "      <th>0</th>\n",
       "      <th>1</th>\n",
       "      <th>2</th>\n",
       "      <th>3</th>\n",
       "      <th>4</th>\n",
       "      <th>5</th>\n",
       "      <th>6</th>\n",
       "      <th>7</th>\n",
       "      <th>8</th>\n",
       "      <th>9</th>\n",
       "      <th>...</th>\n",
       "      <th>190</th>\n",
       "      <th>191</th>\n",
       "      <th>192</th>\n",
       "      <th>193</th>\n",
       "      <th>194</th>\n",
       "      <th>195</th>\n",
       "      <th>196</th>\n",
       "      <th>197</th>\n",
       "      <th>198</th>\n",
       "      <th>199</th>\n",
       "    </tr>\n",
       "  </thead>\n",
       "  <tbody>\n",
       "    <tr>\n",
       "      <th>0</th>\n",
       "      <td>2.714490</td>\n",
       "      <td>-1.889232</td>\n",
       "      <td>6.313279</td>\n",
       "      <td>-2.514522</td>\n",
       "      <td>8.944314</td>\n",
       "      <td>-2.902041</td>\n",
       "      <td>3.089314</td>\n",
       "      <td>-5.209131</td>\n",
       "      <td>10.915428</td>\n",
       "      <td>-5.649148</td>\n",
       "      <td>...</td>\n",
       "      <td>-6.647331</td>\n",
       "      <td>-6.039927</td>\n",
       "      <td>1.730403</td>\n",
       "      <td>-3.567446</td>\n",
       "      <td>-3.031167</td>\n",
       "      <td>5.482224</td>\n",
       "      <td>0.470136</td>\n",
       "      <td>5.073454</td>\n",
       "      <td>-0.033691</td>\n",
       "      <td>5.039478</td>\n",
       "    </tr>\n",
       "    <tr>\n",
       "      <th>1</th>\n",
       "      <td>7.049123</td>\n",
       "      <td>-1.390078</td>\n",
       "      <td>0.920012</td>\n",
       "      <td>-0.655459</td>\n",
       "      <td>2.292866</td>\n",
       "      <td>2.158312</td>\n",
       "      <td>2.059679</td>\n",
       "      <td>-4.494858</td>\n",
       "      <td>8.220999</td>\n",
       "      <td>-0.361380</td>\n",
       "      <td>...</td>\n",
       "      <td>-12.072350</td>\n",
       "      <td>-5.861679</td>\n",
       "      <td>0.854648</td>\n",
       "      <td>1.267382</td>\n",
       "      <td>1.767869</td>\n",
       "      <td>-0.670569</td>\n",
       "      <td>6.786275</td>\n",
       "      <td>1.822016</td>\n",
       "      <td>0.677717</td>\n",
       "      <td>-6.960064</td>\n",
       "    </tr>\n",
       "    <tr>\n",
       "      <th>2</th>\n",
       "      <td>-2.164086</td>\n",
       "      <td>-1.286572</td>\n",
       "      <td>5.425792</td>\n",
       "      <td>0.241514</td>\n",
       "      <td>1.255902</td>\n",
       "      <td>1.259389</td>\n",
       "      <td>2.981848</td>\n",
       "      <td>-1.324762</td>\n",
       "      <td>3.025864</td>\n",
       "      <td>0.509957</td>\n",
       "      <td>...</td>\n",
       "      <td>-1.279771</td>\n",
       "      <td>-4.862660</td>\n",
       "      <td>1.645046</td>\n",
       "      <td>-4.889607</td>\n",
       "      <td>3.412172</td>\n",
       "      <td>4.415983</td>\n",
       "      <td>-2.126426</td>\n",
       "      <td>2.846926</td>\n",
       "      <td>0.580243</td>\n",
       "      <td>-0.312583</td>\n",
       "    </tr>\n",
       "    <tr>\n",
       "      <th>3</th>\n",
       "      <td>-1.200881</td>\n",
       "      <td>1.628280</td>\n",
       "      <td>1.452742</td>\n",
       "      <td>3.400235</td>\n",
       "      <td>0.926025</td>\n",
       "      <td>4.084927</td>\n",
       "      <td>0.196195</td>\n",
       "      <td>-1.380525</td>\n",
       "      <td>2.067565</td>\n",
       "      <td>0.287943</td>\n",
       "      <td>...</td>\n",
       "      <td>3.636922</td>\n",
       "      <td>-19.423926</td>\n",
       "      <td>5.476170</td>\n",
       "      <td>17.641724</td>\n",
       "      <td>-21.450284</td>\n",
       "      <td>-8.547889</td>\n",
       "      <td>-2.729999</td>\n",
       "      <td>0.930419</td>\n",
       "      <td>-2.607553</td>\n",
       "      <td>-7.117223</td>\n",
       "    </tr>\n",
       "    <tr>\n",
       "      <th>4</th>\n",
       "      <td>5.993781</td>\n",
       "      <td>6.729430</td>\n",
       "      <td>-3.042960</td>\n",
       "      <td>9.272593</td>\n",
       "      <td>-1.250820</td>\n",
       "      <td>4.452209</td>\n",
       "      <td>-2.823149</td>\n",
       "      <td>-1.734193</td>\n",
       "      <td>-4.676058</td>\n",
       "      <td>-3.729774</td>\n",
       "      <td>...</td>\n",
       "      <td>-3.296289</td>\n",
       "      <td>-0.927679</td>\n",
       "      <td>6.030814</td>\n",
       "      <td>4.330371</td>\n",
       "      <td>0.276846</td>\n",
       "      <td>2.907170</td>\n",
       "      <td>0.225902</td>\n",
       "      <td>-5.039953</td>\n",
       "      <td>-6.598514</td>\n",
       "      <td>-0.455986</td>\n",
       "    </tr>\n",
       "  </tbody>\n",
       "</table>\n",
       "<p>5 rows × 200 columns</p>\n",
       "</div>"
      ],
      "text/plain": [
       "        0         1         2         3         4         5         6    \\\n",
       "0  2.714490 -1.889232  6.313279 -2.514522  8.944314 -2.902041  3.089314   \n",
       "1  7.049123 -1.390078  0.920012 -0.655459  2.292866  2.158312  2.059679   \n",
       "2 -2.164086 -1.286572  5.425792  0.241514  1.255902  1.259389  2.981848   \n",
       "3 -1.200881  1.628280  1.452742  3.400235  0.926025  4.084927  0.196195   \n",
       "4  5.993781  6.729430 -3.042960  9.272593 -1.250820  4.452209 -2.823149   \n",
       "\n",
       "        7          8         9      ...           190        191       192  \\\n",
       "0 -5.209131  10.915428 -5.649148    ...     -6.647331  -6.039927  1.730403   \n",
       "1 -4.494858   8.220999 -0.361380    ...    -12.072350  -5.861679  0.854648   \n",
       "2 -1.324762   3.025864  0.509957    ...     -1.279771  -4.862660  1.645046   \n",
       "3 -1.380525   2.067565  0.287943    ...      3.636922 -19.423926  5.476170   \n",
       "4 -1.734193  -4.676058 -3.729774    ...     -3.296289  -0.927679  6.030814   \n",
       "\n",
       "         193        194       195       196       197       198       199  \n",
       "0  -3.567446  -3.031167  5.482224  0.470136  5.073454 -0.033691  5.039478  \n",
       "1   1.267382   1.767869 -0.670569  6.786275  1.822016  0.677717 -6.960064  \n",
       "2  -4.889607   3.412172  4.415983 -2.126426  2.846926  0.580243 -0.312583  \n",
       "3  17.641724 -21.450284 -8.547889 -2.729999  0.930419 -2.607553 -7.117223  \n",
       "4   4.330371   0.276846  2.907170  0.225902 -5.039953 -6.598514 -0.455986  \n",
       "\n",
       "[5 rows x 200 columns]"
      ]
     },
     "execution_count": 30,
     "metadata": {},
     "output_type": "execute_result"
    }
   ],
   "source": [
    "data[['q1_tokens', 'q2_tokens']].head().apply(qpair2vector, axis=1, result_type='expand')"
   ]
  },
  {
   "cell_type": "code",
   "execution_count": 31,
   "metadata": {
    "collapsed": true
   },
   "outputs": [],
   "source": [
    "from functools import reduce\n",
    "from numpy import linalg as LA\n",
    "vectors = []\n",
    "for idx in range(len(train)):\n",
    "    q1vec = np.zeros(100)\n",
    "    for word in q1split[idx]:\n",
    "        q1vec += model[word] \n",
    "    q2vec = np.zeros(100)\n",
    "    for word in q2split[idx]:\n",
    "        q2vec += model[word]\n",
    "    vector = np.hstack((q1vec,q2vec))\n",
    "    vectors.append(vector)    "
   ]
  },
  {
   "cell_type": "code",
   "execution_count": 28,
   "metadata": {
    "collapsed": true
   },
   "outputs": [],
   "source": [
    "train_vectors = pd.DataFrame.from_records(data[['q1_tokens', 'q2_tokens']].head().apply(qpair2vector, axis=1))"
   ]
  },
  {
   "cell_type": "code",
   "execution_count": 29,
   "metadata": {},
   "outputs": [
    {
     "data": {
      "text/html": [
       "<div>\n",
       "<style scoped>\n",
       "    .dataframe tbody tr th:only-of-type {\n",
       "        vertical-align: middle;\n",
       "    }\n",
       "\n",
       "    .dataframe tbody tr th {\n",
       "        vertical-align: top;\n",
       "    }\n",
       "\n",
       "    .dataframe thead th {\n",
       "        text-align: right;\n",
       "    }\n",
       "</style>\n",
       "<table border=\"1\" class=\"dataframe\">\n",
       "  <thead>\n",
       "    <tr style=\"text-align: right;\">\n",
       "      <th></th>\n",
       "      <th>0</th>\n",
       "      <th>1</th>\n",
       "      <th>2</th>\n",
       "      <th>3</th>\n",
       "      <th>4</th>\n",
       "      <th>5</th>\n",
       "      <th>6</th>\n",
       "      <th>7</th>\n",
       "      <th>8</th>\n",
       "      <th>9</th>\n",
       "      <th>...</th>\n",
       "      <th>190</th>\n",
       "      <th>191</th>\n",
       "      <th>192</th>\n",
       "      <th>193</th>\n",
       "      <th>194</th>\n",
       "      <th>195</th>\n",
       "      <th>196</th>\n",
       "      <th>197</th>\n",
       "      <th>198</th>\n",
       "      <th>199</th>\n",
       "    </tr>\n",
       "  </thead>\n",
       "  <tbody>\n",
       "    <tr>\n",
       "      <th>0</th>\n",
       "      <td>2.714490</td>\n",
       "      <td>-1.889232</td>\n",
       "      <td>6.313279</td>\n",
       "      <td>-2.514522</td>\n",
       "      <td>8.944314</td>\n",
       "      <td>-2.902041</td>\n",
       "      <td>3.089314</td>\n",
       "      <td>-5.209131</td>\n",
       "      <td>10.915428</td>\n",
       "      <td>-5.649148</td>\n",
       "      <td>...</td>\n",
       "      <td>-6.647331</td>\n",
       "      <td>-6.039927</td>\n",
       "      <td>1.730403</td>\n",
       "      <td>-3.567446</td>\n",
       "      <td>-3.031167</td>\n",
       "      <td>5.482224</td>\n",
       "      <td>0.470136</td>\n",
       "      <td>5.073454</td>\n",
       "      <td>-0.033691</td>\n",
       "      <td>5.039478</td>\n",
       "    </tr>\n",
       "    <tr>\n",
       "      <th>1</th>\n",
       "      <td>7.049123</td>\n",
       "      <td>-1.390078</td>\n",
       "      <td>0.920012</td>\n",
       "      <td>-0.655459</td>\n",
       "      <td>2.292866</td>\n",
       "      <td>2.158312</td>\n",
       "      <td>2.059679</td>\n",
       "      <td>-4.494858</td>\n",
       "      <td>8.220999</td>\n",
       "      <td>-0.361380</td>\n",
       "      <td>...</td>\n",
       "      <td>-12.072350</td>\n",
       "      <td>-5.861679</td>\n",
       "      <td>0.854648</td>\n",
       "      <td>1.267382</td>\n",
       "      <td>1.767869</td>\n",
       "      <td>-0.670569</td>\n",
       "      <td>6.786275</td>\n",
       "      <td>1.822016</td>\n",
       "      <td>0.677717</td>\n",
       "      <td>-6.960064</td>\n",
       "    </tr>\n",
       "    <tr>\n",
       "      <th>2</th>\n",
       "      <td>-2.164086</td>\n",
       "      <td>-1.286572</td>\n",
       "      <td>5.425792</td>\n",
       "      <td>0.241514</td>\n",
       "      <td>1.255902</td>\n",
       "      <td>1.259389</td>\n",
       "      <td>2.981848</td>\n",
       "      <td>-1.324762</td>\n",
       "      <td>3.025864</td>\n",
       "      <td>0.509957</td>\n",
       "      <td>...</td>\n",
       "      <td>-1.279771</td>\n",
       "      <td>-4.862660</td>\n",
       "      <td>1.645046</td>\n",
       "      <td>-4.889607</td>\n",
       "      <td>3.412172</td>\n",
       "      <td>4.415983</td>\n",
       "      <td>-2.126426</td>\n",
       "      <td>2.846926</td>\n",
       "      <td>0.580243</td>\n",
       "      <td>-0.312583</td>\n",
       "    </tr>\n",
       "    <tr>\n",
       "      <th>3</th>\n",
       "      <td>-1.200881</td>\n",
       "      <td>1.628280</td>\n",
       "      <td>1.452742</td>\n",
       "      <td>3.400235</td>\n",
       "      <td>0.926025</td>\n",
       "      <td>4.084927</td>\n",
       "      <td>0.196195</td>\n",
       "      <td>-1.380525</td>\n",
       "      <td>2.067565</td>\n",
       "      <td>0.287943</td>\n",
       "      <td>...</td>\n",
       "      <td>3.636922</td>\n",
       "      <td>-19.423926</td>\n",
       "      <td>5.476170</td>\n",
       "      <td>17.641724</td>\n",
       "      <td>-21.450284</td>\n",
       "      <td>-8.547889</td>\n",
       "      <td>-2.729999</td>\n",
       "      <td>0.930419</td>\n",
       "      <td>-2.607553</td>\n",
       "      <td>-7.117223</td>\n",
       "    </tr>\n",
       "    <tr>\n",
       "      <th>4</th>\n",
       "      <td>5.993781</td>\n",
       "      <td>6.729430</td>\n",
       "      <td>-3.042960</td>\n",
       "      <td>9.272593</td>\n",
       "      <td>-1.250820</td>\n",
       "      <td>4.452209</td>\n",
       "      <td>-2.823149</td>\n",
       "      <td>-1.734193</td>\n",
       "      <td>-4.676058</td>\n",
       "      <td>-3.729774</td>\n",
       "      <td>...</td>\n",
       "      <td>-3.296289</td>\n",
       "      <td>-0.927679</td>\n",
       "      <td>6.030814</td>\n",
       "      <td>4.330371</td>\n",
       "      <td>0.276846</td>\n",
       "      <td>2.907170</td>\n",
       "      <td>0.225902</td>\n",
       "      <td>-5.039953</td>\n",
       "      <td>-6.598514</td>\n",
       "      <td>-0.455986</td>\n",
       "    </tr>\n",
       "  </tbody>\n",
       "</table>\n",
       "<p>5 rows × 200 columns</p>\n",
       "</div>"
      ],
      "text/plain": [
       "        0         1         2         3         4         5         6    \\\n",
       "0  2.714490 -1.889232  6.313279 -2.514522  8.944314 -2.902041  3.089314   \n",
       "1  7.049123 -1.390078  0.920012 -0.655459  2.292866  2.158312  2.059679   \n",
       "2 -2.164086 -1.286572  5.425792  0.241514  1.255902  1.259389  2.981848   \n",
       "3 -1.200881  1.628280  1.452742  3.400235  0.926025  4.084927  0.196195   \n",
       "4  5.993781  6.729430 -3.042960  9.272593 -1.250820  4.452209 -2.823149   \n",
       "\n",
       "        7          8         9      ...           190        191       192  \\\n",
       "0 -5.209131  10.915428 -5.649148    ...     -6.647331  -6.039927  1.730403   \n",
       "1 -4.494858   8.220999 -0.361380    ...    -12.072350  -5.861679  0.854648   \n",
       "2 -1.324762   3.025864  0.509957    ...     -1.279771  -4.862660  1.645046   \n",
       "3 -1.380525   2.067565  0.287943    ...      3.636922 -19.423926  5.476170   \n",
       "4 -1.734193  -4.676058 -3.729774    ...     -3.296289  -0.927679  6.030814   \n",
       "\n",
       "         193        194       195       196       197       198       199  \n",
       "0  -3.567446  -3.031167  5.482224  0.470136  5.073454 -0.033691  5.039478  \n",
       "1   1.267382   1.767869 -0.670569  6.786275  1.822016  0.677717 -6.960064  \n",
       "2  -4.889607   3.412172  4.415983 -2.126426  2.846926  0.580243 -0.312583  \n",
       "3  17.641724 -21.450284 -8.547889 -2.729999  0.930419 -2.607553 -7.117223  \n",
       "4   4.330371   0.276846  2.907170  0.225902 -5.039953 -6.598514 -0.455986  \n",
       "\n",
       "[5 rows x 200 columns]"
      ]
     },
     "execution_count": 29,
     "metadata": {},
     "output_type": "execute_result"
    }
   ],
   "source": [
    "train_vectors"
   ]
  },
  {
   "cell_type": "code",
   "execution_count": 33,
   "metadata": {
    "collapsed": true
   },
   "outputs": [],
   "source": [
    "label = train.loc[:,'is_duplicate'].reset_index(drop=True)"
   ]
  },
  {
   "cell_type": "code",
   "execution_count": 34,
   "metadata": {
    "collapsed": true
   },
   "outputs": [],
   "source": [
    "train_vectors['label'] = label"
   ]
  },
  {
   "cell_type": "code",
   "execution_count": 35,
   "metadata": {},
   "outputs": [
    {
     "data": {
      "text/html": [
       "<div>\n",
       "<style>\n",
       "    .dataframe thead tr:only-child th {\n",
       "        text-align: right;\n",
       "    }\n",
       "\n",
       "    .dataframe thead th {\n",
       "        text-align: left;\n",
       "    }\n",
       "\n",
       "    .dataframe tbody tr th {\n",
       "        vertical-align: top;\n",
       "    }\n",
       "</style>\n",
       "<table border=\"1\" class=\"dataframe\">\n",
       "  <thead>\n",
       "    <tr style=\"text-align: right;\">\n",
       "      <th></th>\n",
       "      <th>0</th>\n",
       "      <th>1</th>\n",
       "      <th>2</th>\n",
       "      <th>3</th>\n",
       "      <th>4</th>\n",
       "      <th>5</th>\n",
       "      <th>6</th>\n",
       "      <th>7</th>\n",
       "      <th>8</th>\n",
       "      <th>9</th>\n",
       "      <th>...</th>\n",
       "      <th>191</th>\n",
       "      <th>192</th>\n",
       "      <th>193</th>\n",
       "      <th>194</th>\n",
       "      <th>195</th>\n",
       "      <th>196</th>\n",
       "      <th>197</th>\n",
       "      <th>198</th>\n",
       "      <th>199</th>\n",
       "      <th>label</th>\n",
       "    </tr>\n",
       "  </thead>\n",
       "  <tbody>\n",
       "    <tr>\n",
       "      <th>0</th>\n",
       "      <td>3.737285</td>\n",
       "      <td>-1.076791</td>\n",
       "      <td>1.692858</td>\n",
       "      <td>-7.499455</td>\n",
       "      <td>-9.055481</td>\n",
       "      <td>-4.709146</td>\n",
       "      <td>2.997658</td>\n",
       "      <td>0.653588</td>\n",
       "      <td>-2.253008</td>\n",
       "      <td>3.467384</td>\n",
       "      <td>...</td>\n",
       "      <td>-6.565960</td>\n",
       "      <td>7.983998</td>\n",
       "      <td>8.465503</td>\n",
       "      <td>1.630318</td>\n",
       "      <td>-0.577622</td>\n",
       "      <td>3.999445</td>\n",
       "      <td>5.490358</td>\n",
       "      <td>-1.736918</td>\n",
       "      <td>7.677512</td>\n",
       "      <td>0</td>\n",
       "    </tr>\n",
       "    <tr>\n",
       "      <th>1</th>\n",
       "      <td>0.456444</td>\n",
       "      <td>-1.556494</td>\n",
       "      <td>-0.258488</td>\n",
       "      <td>-1.483942</td>\n",
       "      <td>-0.150758</td>\n",
       "      <td>-2.063886</td>\n",
       "      <td>-0.544661</td>\n",
       "      <td>-0.528503</td>\n",
       "      <td>2.829182</td>\n",
       "      <td>2.483006</td>\n",
       "      <td>...</td>\n",
       "      <td>3.284165</td>\n",
       "      <td>7.190341</td>\n",
       "      <td>4.746468</td>\n",
       "      <td>6.300947</td>\n",
       "      <td>0.987304</td>\n",
       "      <td>-0.897003</td>\n",
       "      <td>0.883633</td>\n",
       "      <td>-0.426671</td>\n",
       "      <td>3.077626</td>\n",
       "      <td>0</td>\n",
       "    </tr>\n",
       "    <tr>\n",
       "      <th>2</th>\n",
       "      <td>1.444396</td>\n",
       "      <td>-1.210374</td>\n",
       "      <td>-2.423130</td>\n",
       "      <td>-3.792901</td>\n",
       "      <td>0.425228</td>\n",
       "      <td>-2.014401</td>\n",
       "      <td>3.214325</td>\n",
       "      <td>4.528892</td>\n",
       "      <td>3.701342</td>\n",
       "      <td>-6.312274</td>\n",
       "      <td>...</td>\n",
       "      <td>-5.982558</td>\n",
       "      <td>3.102681</td>\n",
       "      <td>-0.257002</td>\n",
       "      <td>5.310513</td>\n",
       "      <td>0.167242</td>\n",
       "      <td>-0.095607</td>\n",
       "      <td>-0.634812</td>\n",
       "      <td>-6.138686</td>\n",
       "      <td>6.374227</td>\n",
       "      <td>0</td>\n",
       "    </tr>\n",
       "    <tr>\n",
       "      <th>3</th>\n",
       "      <td>1.864265</td>\n",
       "      <td>-1.934835</td>\n",
       "      <td>3.492548</td>\n",
       "      <td>-8.790129</td>\n",
       "      <td>7.653095</td>\n",
       "      <td>-2.400476</td>\n",
       "      <td>1.638999</td>\n",
       "      <td>1.043160</td>\n",
       "      <td>3.483204</td>\n",
       "      <td>0.576606</td>\n",
       "      <td>...</td>\n",
       "      <td>-5.443393</td>\n",
       "      <td>0.158519</td>\n",
       "      <td>0.205542</td>\n",
       "      <td>6.941473</td>\n",
       "      <td>-1.402384</td>\n",
       "      <td>-11.223416</td>\n",
       "      <td>5.195816</td>\n",
       "      <td>-1.278976</td>\n",
       "      <td>5.416936</td>\n",
       "      <td>0</td>\n",
       "    </tr>\n",
       "    <tr>\n",
       "      <th>4</th>\n",
       "      <td>3.837334</td>\n",
       "      <td>-4.155881</td>\n",
       "      <td>-2.965749</td>\n",
       "      <td>-6.012306</td>\n",
       "      <td>8.969730</td>\n",
       "      <td>3.857528</td>\n",
       "      <td>-7.284541</td>\n",
       "      <td>5.774252</td>\n",
       "      <td>12.329093</td>\n",
       "      <td>-0.991230</td>\n",
       "      <td>...</td>\n",
       "      <td>0.178410</td>\n",
       "      <td>5.452885</td>\n",
       "      <td>-5.131496</td>\n",
       "      <td>7.208042</td>\n",
       "      <td>-0.060435</td>\n",
       "      <td>-5.239600</td>\n",
       "      <td>1.320953</td>\n",
       "      <td>4.231333</td>\n",
       "      <td>-2.743696</td>\n",
       "      <td>0</td>\n",
       "    </tr>\n",
       "  </tbody>\n",
       "</table>\n",
       "<p>5 rows × 201 columns</p>\n",
       "</div>"
      ],
      "text/plain": [
       "          0         1         2         3         4         5         6  \\\n",
       "0  3.737285 -1.076791  1.692858 -7.499455 -9.055481 -4.709146  2.997658   \n",
       "1  0.456444 -1.556494 -0.258488 -1.483942 -0.150758 -2.063886 -0.544661   \n",
       "2  1.444396 -1.210374 -2.423130 -3.792901  0.425228 -2.014401  3.214325   \n",
       "3  1.864265 -1.934835  3.492548 -8.790129  7.653095 -2.400476  1.638999   \n",
       "4  3.837334 -4.155881 -2.965749 -6.012306  8.969730  3.857528 -7.284541   \n",
       "\n",
       "          7          8         9  ...         191       192       193  \\\n",
       "0  0.653588  -2.253008  3.467384  ...   -6.565960  7.983998  8.465503   \n",
       "1 -0.528503   2.829182  2.483006  ...    3.284165  7.190341  4.746468   \n",
       "2  4.528892   3.701342 -6.312274  ...   -5.982558  3.102681 -0.257002   \n",
       "3  1.043160   3.483204  0.576606  ...   -5.443393  0.158519  0.205542   \n",
       "4  5.774252  12.329093 -0.991230  ...    0.178410  5.452885 -5.131496   \n",
       "\n",
       "        194       195        196       197       198       199  label  \n",
       "0  1.630318 -0.577622   3.999445  5.490358 -1.736918  7.677512      0  \n",
       "1  6.300947  0.987304  -0.897003  0.883633 -0.426671  3.077626      0  \n",
       "2  5.310513  0.167242  -0.095607 -0.634812 -6.138686  6.374227      0  \n",
       "3  6.941473 -1.402384 -11.223416  5.195816 -1.278976  5.416936      0  \n",
       "4  7.208042 -0.060435  -5.239600  1.320953  4.231333 -2.743696      0  \n",
       "\n",
       "[5 rows x 201 columns]"
      ]
     },
     "execution_count": 35,
     "metadata": {},
     "output_type": "execute_result"
    }
   ],
   "source": [
    "train_vectors.head()"
   ]
  },
  {
   "cell_type": "code",
   "execution_count": 36,
   "metadata": {},
   "outputs": [
    {
     "data": {
      "text/html": [
       "<div>\n",
       "<style>\n",
       "    .dataframe thead tr:only-child th {\n",
       "        text-align: right;\n",
       "    }\n",
       "\n",
       "    .dataframe thead th {\n",
       "        text-align: left;\n",
       "    }\n",
       "\n",
       "    .dataframe tbody tr th {\n",
       "        vertical-align: top;\n",
       "    }\n",
       "</style>\n",
       "<table border=\"1\" class=\"dataframe\">\n",
       "  <thead>\n",
       "    <tr style=\"text-align: right;\">\n",
       "      <th></th>\n",
       "      <th>id</th>\n",
       "      <th>qid1</th>\n",
       "      <th>qid2</th>\n",
       "      <th>question1</th>\n",
       "      <th>question2</th>\n",
       "      <th>is_duplicate</th>\n",
       "    </tr>\n",
       "  </thead>\n",
       "  <tbody>\n",
       "    <tr>\n",
       "      <th>0</th>\n",
       "      <td>0</td>\n",
       "      <td>1</td>\n",
       "      <td>2</td>\n",
       "      <td>What is the step by step guide to invest in sh...</td>\n",
       "      <td>What is the step by step guide to invest in sh...</td>\n",
       "      <td>0</td>\n",
       "    </tr>\n",
       "    <tr>\n",
       "      <th>1</th>\n",
       "      <td>1</td>\n",
       "      <td>3</td>\n",
       "      <td>4</td>\n",
       "      <td>What is the story of Kohinoor (Koh-i-Noor) Dia...</td>\n",
       "      <td>What would happen if the Indian government sto...</td>\n",
       "      <td>0</td>\n",
       "    </tr>\n",
       "    <tr>\n",
       "      <th>2</th>\n",
       "      <td>2</td>\n",
       "      <td>5</td>\n",
       "      <td>6</td>\n",
       "      <td>How can I increase the speed of my internet co...</td>\n",
       "      <td>How can Internet speed be increased by hacking...</td>\n",
       "      <td>0</td>\n",
       "    </tr>\n",
       "    <tr>\n",
       "      <th>3</th>\n",
       "      <td>3</td>\n",
       "      <td>7</td>\n",
       "      <td>8</td>\n",
       "      <td>Why am I mentally very lonely? How can I solve...</td>\n",
       "      <td>Find the remainder when [math]23^{24}[/math] i...</td>\n",
       "      <td>0</td>\n",
       "    </tr>\n",
       "    <tr>\n",
       "      <th>4</th>\n",
       "      <td>4</td>\n",
       "      <td>9</td>\n",
       "      <td>10</td>\n",
       "      <td>Which one dissolve in water quikly sugar, salt...</td>\n",
       "      <td>Which fish would survive in salt water?</td>\n",
       "      <td>0</td>\n",
       "    </tr>\n",
       "  </tbody>\n",
       "</table>\n",
       "</div>"
      ],
      "text/plain": [
       "   id  qid1  qid2                                          question1  \\\n",
       "0   0     1     2  What is the step by step guide to invest in sh...   \n",
       "1   1     3     4  What is the story of Kohinoor (Koh-i-Noor) Dia...   \n",
       "2   2     5     6  How can I increase the speed of my internet co...   \n",
       "3   3     7     8  Why am I mentally very lonely? How can I solve...   \n",
       "4   4     9    10  Which one dissolve in water quikly sugar, salt...   \n",
       "\n",
       "                                           question2  is_duplicate  \n",
       "0  What is the step by step guide to invest in sh...             0  \n",
       "1  What would happen if the Indian government sto...             0  \n",
       "2  How can Internet speed be increased by hacking...             0  \n",
       "3  Find the remainder when [math]23^{24}[/math] i...             0  \n",
       "4            Which fish would survive in salt water?             0  "
      ]
     },
     "execution_count": 36,
     "metadata": {},
     "output_type": "execute_result"
    }
   ],
   "source": [
    "train.head()"
   ]
  },
  {
   "cell_type": "code",
   "execution_count": 37,
   "metadata": {},
   "outputs": [
    {
     "name": "stderr",
     "output_type": "stream",
     "text": [
      "/home/mtian/anaconda3/lib/python3.6/site-packages/sklearn/cross_validation.py:41: DeprecationWarning: This module was deprecated in version 0.18 in favor of the model_selection module into which all the refactored classes and functions are moved. Also note that the interface of the new CV iterators are different from that of this module. This module will be removed in 0.20.\n",
      "  \"This module will be removed in 0.20.\", DeprecationWarning)\n"
     ]
    }
   ],
   "source": [
    "from xgboost import XGBClassifier\n",
    "from sklearn.metrics import accuracy_score"
   ]
  },
  {
   "cell_type": "code",
   "execution_count": 38,
   "metadata": {
    "collapsed": true
   },
   "outputs": [],
   "source": [
    "x = train_vectors.iloc[:, 0:200]\n",
    "y = train_vectors.loc[:,'label']"
   ]
  },
  {
   "cell_type": "code",
   "execution_count": 39,
   "metadata": {},
   "outputs": [
    {
     "data": {
      "text/plain": [
       "XGBClassifier(base_score=0.5, colsample_bylevel=1, colsample_bytree=1,\n",
       "       gamma=0, learning_rate=0.1, max_delta_step=0, max_depth=12,\n",
       "       min_child_weight=1, missing=None, n_estimators=150, nthread=8,\n",
       "       objective='binary:logistic', reg_alpha=0, reg_lambda=1,\n",
       "       scale_pos_weight=1, seed=0, silent=True, subsample=1)"
      ]
     },
     "execution_count": 39,
     "metadata": {},
     "output_type": "execute_result"
    }
   ],
   "source": [
    "xgb_model = XGBClassifier()\n",
    "parameters = {'max_depth':12, 'n_estimators': 150, 'nthread': 8}\n",
    "xgb_model.set_params(**parameters)"
   ]
  },
  {
   "cell_type": "code",
   "execution_count": 41,
   "metadata": {},
   "outputs": [
    {
     "data": {
      "text/plain": [
       "XGBClassifier(base_score=0.5, colsample_bylevel=1, colsample_bytree=1,\n",
       "       gamma=0, learning_rate=0.1, max_delta_step=0, max_depth=12,\n",
       "       min_child_weight=1, missing=None, n_estimators=150, nthread=8,\n",
       "       objective='binary:logistic', reg_alpha=0, reg_lambda=1,\n",
       "       scale_pos_weight=1, seed=0, silent=True, subsample=1)"
      ]
     },
     "execution_count": 41,
     "metadata": {},
     "output_type": "execute_result"
    }
   ],
   "source": [
    "xgb_model.fit(x, y)"
   ]
  },
  {
   "cell_type": "code",
   "execution_count": 66,
   "metadata": {},
   "outputs": [
    {
     "data": {
      "text/plain": [
       "0.96839666666666668"
      ]
     },
     "execution_count": 66,
     "metadata": {},
     "output_type": "execute_result"
    }
   ],
   "source": [
    "np.sum(xgb_model.predict(x) == y.values) / len(y)"
   ]
  },
  {
   "cell_type": "code",
   "execution_count": 62,
   "metadata": {
    "collapsed": true
   },
   "outputs": [],
   "source": [
    "xgb_model._Booster.save_model('quota_question_mapping_xgb.model')"
   ]
  },
  {
   "cell_type": "markdown",
   "metadata": {},
   "source": [
    "Or save to pickle"
   ]
  },
  {
   "cell_type": "code",
   "execution_count": 74,
   "metadata": {
    "collapsed": true
   },
   "outputs": [],
   "source": [
    "import pickle as pkl\n",
    "\n",
    "with open('xgb_model.pkl', 'wb') as f:\n",
    "    pkl.dump(xgb_model, f)"
   ]
  },
  {
   "cell_type": "code",
   "execution_count": 75,
   "metadata": {
    "collapsed": true
   },
   "outputs": [],
   "source": [
    "with open('xgb_model.pkl', 'rb') as f:\n",
    "    xgb_model_load_pkl = pkl.load(f)"
   ]
  },
  {
   "cell_type": "code",
   "execution_count": 76,
   "metadata": {},
   "outputs": [
    {
     "data": {
      "text/plain": [
       "0.96839666666666668"
      ]
     },
     "execution_count": 76,
     "metadata": {},
     "output_type": "execute_result"
    }
   ],
   "source": [
    "np.sum(xgb_model_load_pkl.predict(x) == y.values) / len(y)"
   ]
  },
  {
   "cell_type": "markdown",
   "metadata": {},
   "source": [
    "Load model"
   ]
  },
  {
   "cell_type": "code",
   "execution_count": 72,
   "metadata": {
    "collapsed": true
   },
   "outputs": [],
   "source": [
    "from xgboost import Booster\n",
    "from sklearn.preprocessing import LabelEncoder\n",
    "\n",
    "bst = Booster()\n",
    "bst.load_model('quota_question_mapping_xgb.model')\n",
    "model_loaded = XGBClassifier()\n",
    "model_loaded._Booster = bst\n",
    "model_loaded._le = LabelEncoder().fit(y)"
   ]
  },
  {
   "cell_type": "code",
   "execution_count": 73,
   "metadata": {},
   "outputs": [
    {
     "data": {
      "text/plain": [
       "0.96839666666666668"
      ]
     },
     "execution_count": 73,
     "metadata": {},
     "output_type": "execute_result"
    }
   ],
   "source": [
    "np.sum(model_loaded.predict(x) == y.values) / len(y)"
   ]
  },
  {
   "cell_type": "markdown",
   "metadata": {},
   "source": [
    "test"
   ]
  },
  {
   "cell_type": "code",
   "execution_count": 47,
   "metadata": {
    "collapsed": true
   },
   "outputs": [],
   "source": [
    "model = gensim.models.Word2Vec.load('./word2vecModel_RMStop_Lower')"
   ]
  },
  {
   "cell_type": "code",
   "execution_count": 48,
   "metadata": {
    "collapsed": true
   },
   "outputs": [],
   "source": [
    "q1 = test.loc[:, 'question1'].values\n",
    "q2 = test.loc[:, 'question2'].values\n",
    "q1split = [str(x) for x in q1]\n",
    "q2split = [str(x) for x in q2]\n",
    "q1split = [re.split('\\W+', x) for x in q1split]\n",
    "q2split = [re.split('\\W+', x) for x in q2split]"
   ]
  },
  {
   "cell_type": "code",
   "execution_count": 49,
   "metadata": {
    "collapsed": true
   },
   "outputs": [],
   "source": [
    "q1split = [[x for x in sen if x not in stopWords] for sen in q1split]\n",
    "q2split = [[x for x in sen if x not in stopWords] for sen in q2split]"
   ]
  },
  {
   "cell_type": "code",
   "execution_count": 50,
   "metadata": {
    "collapsed": true
   },
   "outputs": [],
   "source": [
    "q1split = [[x.lower() for x in sen] for sen in q1split]\n",
    "q2split = [[x.lower() for x in sen] for sen in q2split]"
   ]
  },
  {
   "cell_type": "code",
   "execution_count": 51,
   "metadata": {
    "collapsed": true
   },
   "outputs": [],
   "source": [
    "q1split = [[ps.stem(x) for x in sen] for sen in q1split]\n",
    "q2split = [[ps.stem(x) for x in sen] for sen in q2split]"
   ]
  },
  {
   "cell_type": "code",
   "execution_count": 54,
   "metadata": {
    "collapsed": true
   },
   "outputs": [],
   "source": [
    "vectors = []\n",
    "from functools import reduce\n",
    "from numpy import linalg as LA\n",
    "for idx in range(len(test)):\n",
    "    q1vec = np.zeros(100)\n",
    "    for word in q1split[idx]:\n",
    "        if word in model.wv.vocab:\n",
    "            q1vec += model[word] \n",
    "    q2vec = np.zeros(100)\n",
    "    for word in q2split[idx]:\n",
    "        if word in model.wv.vocab:\n",
    "            q2vec += model[word]\n",
    "    vector = np.hstack((q1vec,q2vec))\n",
    "    vectors.append(vector)"
   ]
  },
  {
   "cell_type": "code",
   "execution_count": 55,
   "metadata": {
    "collapsed": true
   },
   "outputs": [],
   "source": [
    "test_vectors = pd.DataFrame.from_records(vectors)"
   ]
  },
  {
   "cell_type": "code",
   "execution_count": 56,
   "metadata": {},
   "outputs": [
    {
     "data": {
      "text/html": [
       "<div>\n",
       "<style>\n",
       "    .dataframe thead tr:only-child th {\n",
       "        text-align: right;\n",
       "    }\n",
       "\n",
       "    .dataframe thead th {\n",
       "        text-align: left;\n",
       "    }\n",
       "\n",
       "    .dataframe tbody tr th {\n",
       "        vertical-align: top;\n",
       "    }\n",
       "</style>\n",
       "<table border=\"1\" class=\"dataframe\">\n",
       "  <thead>\n",
       "    <tr style=\"text-align: right;\">\n",
       "      <th></th>\n",
       "      <th>0</th>\n",
       "      <th>1</th>\n",
       "      <th>2</th>\n",
       "      <th>3</th>\n",
       "      <th>4</th>\n",
       "      <th>5</th>\n",
       "      <th>6</th>\n",
       "      <th>7</th>\n",
       "      <th>8</th>\n",
       "      <th>9</th>\n",
       "      <th>...</th>\n",
       "      <th>190</th>\n",
       "      <th>191</th>\n",
       "      <th>192</th>\n",
       "      <th>193</th>\n",
       "      <th>194</th>\n",
       "      <th>195</th>\n",
       "      <th>196</th>\n",
       "      <th>197</th>\n",
       "      <th>198</th>\n",
       "      <th>199</th>\n",
       "    </tr>\n",
       "  </thead>\n",
       "  <tbody>\n",
       "    <tr>\n",
       "      <th>0</th>\n",
       "      <td>4.419960</td>\n",
       "      <td>-1.543700</td>\n",
       "      <td>0.150230</td>\n",
       "      <td>-6.127230</td>\n",
       "      <td>8.095272</td>\n",
       "      <td>-0.542514</td>\n",
       "      <td>-0.443302</td>\n",
       "      <td>5.059507</td>\n",
       "      <td>-1.878882</td>\n",
       "      <td>2.207661</td>\n",
       "      <td>...</td>\n",
       "      <td>-2.178357</td>\n",
       "      <td>-2.234044</td>\n",
       "      <td>-4.043585</td>\n",
       "      <td>-1.034116</td>\n",
       "      <td>0.925721</td>\n",
       "      <td>0.619350</td>\n",
       "      <td>-0.352615</td>\n",
       "      <td>1.390167</td>\n",
       "      <td>-3.487625</td>\n",
       "      <td>2.823298</td>\n",
       "    </tr>\n",
       "    <tr>\n",
       "      <th>1</th>\n",
       "      <td>5.749731</td>\n",
       "      <td>-4.656629</td>\n",
       "      <td>1.051494</td>\n",
       "      <td>-9.750124</td>\n",
       "      <td>19.239902</td>\n",
       "      <td>-0.606078</td>\n",
       "      <td>4.005198</td>\n",
       "      <td>-0.360755</td>\n",
       "      <td>-6.190962</td>\n",
       "      <td>-0.391755</td>\n",
       "      <td>...</td>\n",
       "      <td>1.300382</td>\n",
       "      <td>-3.638298</td>\n",
       "      <td>3.762069</td>\n",
       "      <td>7.266968</td>\n",
       "      <td>5.804556</td>\n",
       "      <td>-3.441204</td>\n",
       "      <td>-2.662728</td>\n",
       "      <td>-0.922300</td>\n",
       "      <td>-3.022260</td>\n",
       "      <td>9.835109</td>\n",
       "    </tr>\n",
       "    <tr>\n",
       "      <th>2</th>\n",
       "      <td>15.812096</td>\n",
       "      <td>-15.134778</td>\n",
       "      <td>9.855990</td>\n",
       "      <td>-9.319308</td>\n",
       "      <td>23.659766</td>\n",
       "      <td>-21.714300</td>\n",
       "      <td>13.739175</td>\n",
       "      <td>-3.099473</td>\n",
       "      <td>8.334608</td>\n",
       "      <td>8.396172</td>\n",
       "      <td>...</td>\n",
       "      <td>8.443089</td>\n",
       "      <td>-17.689333</td>\n",
       "      <td>16.891249</td>\n",
       "      <td>-2.333238</td>\n",
       "      <td>10.577844</td>\n",
       "      <td>-1.070029</td>\n",
       "      <td>4.096502</td>\n",
       "      <td>-6.346195</td>\n",
       "      <td>-3.393667</td>\n",
       "      <td>9.532553</td>\n",
       "    </tr>\n",
       "    <tr>\n",
       "      <th>3</th>\n",
       "      <td>-0.032283</td>\n",
       "      <td>1.154847</td>\n",
       "      <td>3.585843</td>\n",
       "      <td>-7.157040</td>\n",
       "      <td>9.037101</td>\n",
       "      <td>-4.455307</td>\n",
       "      <td>2.756896</td>\n",
       "      <td>-4.226796</td>\n",
       "      <td>0.785194</td>\n",
       "      <td>3.533270</td>\n",
       "      <td>...</td>\n",
       "      <td>6.362015</td>\n",
       "      <td>-11.998778</td>\n",
       "      <td>6.599363</td>\n",
       "      <td>4.008316</td>\n",
       "      <td>12.246902</td>\n",
       "      <td>1.581720</td>\n",
       "      <td>-4.093464</td>\n",
       "      <td>-0.041705</td>\n",
       "      <td>-4.961662</td>\n",
       "      <td>10.674281</td>\n",
       "    </tr>\n",
       "    <tr>\n",
       "      <th>4</th>\n",
       "      <td>-1.715576</td>\n",
       "      <td>-3.158687</td>\n",
       "      <td>0.130192</td>\n",
       "      <td>-3.463692</td>\n",
       "      <td>3.310188</td>\n",
       "      <td>-2.552888</td>\n",
       "      <td>1.070980</td>\n",
       "      <td>10.039039</td>\n",
       "      <td>2.901516</td>\n",
       "      <td>2.071235</td>\n",
       "      <td>...</td>\n",
       "      <td>6.555799</td>\n",
       "      <td>-1.293155</td>\n",
       "      <td>4.129984</td>\n",
       "      <td>1.293328</td>\n",
       "      <td>0.948797</td>\n",
       "      <td>5.200791</td>\n",
       "      <td>-1.121328</td>\n",
       "      <td>0.250134</td>\n",
       "      <td>1.477031</td>\n",
       "      <td>-3.717828</td>\n",
       "    </tr>\n",
       "  </tbody>\n",
       "</table>\n",
       "<p>5 rows × 200 columns</p>\n",
       "</div>"
      ],
      "text/plain": [
       "         0          1         2         3          4          5          6    \\\n",
       "0   4.419960  -1.543700  0.150230 -6.127230   8.095272  -0.542514  -0.443302   \n",
       "1   5.749731  -4.656629  1.051494 -9.750124  19.239902  -0.606078   4.005198   \n",
       "2  15.812096 -15.134778  9.855990 -9.319308  23.659766 -21.714300  13.739175   \n",
       "3  -0.032283   1.154847  3.585843 -7.157040   9.037101  -4.455307   2.756896   \n",
       "4  -1.715576  -3.158687  0.130192 -3.463692   3.310188  -2.552888   1.070980   \n",
       "\n",
       "         7         8         9      ...           190        191        192  \\\n",
       "0   5.059507 -1.878882  2.207661    ...     -2.178357  -2.234044  -4.043585   \n",
       "1  -0.360755 -6.190962 -0.391755    ...      1.300382  -3.638298   3.762069   \n",
       "2  -3.099473  8.334608  8.396172    ...      8.443089 -17.689333  16.891249   \n",
       "3  -4.226796  0.785194  3.533270    ...      6.362015 -11.998778   6.599363   \n",
       "4  10.039039  2.901516  2.071235    ...      6.555799  -1.293155   4.129984   \n",
       "\n",
       "        193        194       195       196       197       198        199  \n",
       "0 -1.034116   0.925721  0.619350 -0.352615  1.390167 -3.487625   2.823298  \n",
       "1  7.266968   5.804556 -3.441204 -2.662728 -0.922300 -3.022260   9.835109  \n",
       "2 -2.333238  10.577844 -1.070029  4.096502 -6.346195 -3.393667   9.532553  \n",
       "3  4.008316  12.246902  1.581720 -4.093464 -0.041705 -4.961662  10.674281  \n",
       "4  1.293328   0.948797  5.200791 -1.121328  0.250134  1.477031  -3.717828  \n",
       "\n",
       "[5 rows x 200 columns]"
      ]
     },
     "execution_count": 56,
     "metadata": {},
     "output_type": "execute_result"
    }
   ],
   "source": [
    "test_vectors.head()"
   ]
  },
  {
   "cell_type": "code",
   "execution_count": 55,
   "metadata": {
    "collapsed": true
   },
   "outputs": [],
   "source": [
    "test_pred = xgb_model.predict(test_vectors)\n",
    "predictions = [round(pred) for pred in test_pred]"
   ]
  },
  {
   "cell_type": "code",
   "execution_count": 56,
   "metadata": {
    "collapsed": true
   },
   "outputs": [],
   "source": [
    "is_duplicate = [int(x) for x in predictions]\n",
    "test['is_duplicate'] = is_duplicate\n",
    "submission = test.loc[:, ['id', 'is_duplicate']]\n",
    "submission.to_csv('./submission.csv', index=False)"
   ]
  },
  {
   "cell_type": "code",
   "execution_count": 57,
   "metadata": {
    "collapsed": true
   },
   "outputs": [],
   "source": [
    "submission = pd.read_csv('./submission.csv')"
   ]
  },
  {
   "cell_type": "code",
   "execution_count": 58,
   "metadata": {},
   "outputs": [
    {
     "data": {
      "text/html": [
       "<div>\n",
       "<style>\n",
       "    .dataframe thead tr:only-child th {\n",
       "        text-align: right;\n",
       "    }\n",
       "\n",
       "    .dataframe thead th {\n",
       "        text-align: left;\n",
       "    }\n",
       "\n",
       "    .dataframe tbody tr th {\n",
       "        vertical-align: top;\n",
       "    }\n",
       "</style>\n",
       "<table border=\"1\" class=\"dataframe\">\n",
       "  <thead>\n",
       "    <tr style=\"text-align: right;\">\n",
       "      <th></th>\n",
       "      <th>id</th>\n",
       "      <th>is_duplicate</th>\n",
       "    </tr>\n",
       "  </thead>\n",
       "  <tbody>\n",
       "    <tr>\n",
       "      <th>0</th>\n",
       "      <td>300000</td>\n",
       "      <td>0</td>\n",
       "    </tr>\n",
       "    <tr>\n",
       "      <th>1</th>\n",
       "      <td>300001</td>\n",
       "      <td>1</td>\n",
       "    </tr>\n",
       "    <tr>\n",
       "      <th>2</th>\n",
       "      <td>300002</td>\n",
       "      <td>0</td>\n",
       "    </tr>\n",
       "    <tr>\n",
       "      <th>3</th>\n",
       "      <td>300003</td>\n",
       "      <td>0</td>\n",
       "    </tr>\n",
       "    <tr>\n",
       "      <th>4</th>\n",
       "      <td>300004</td>\n",
       "      <td>1</td>\n",
       "    </tr>\n",
       "  </tbody>\n",
       "</table>\n",
       "</div>"
      ],
      "text/plain": [
       "       id  is_duplicate\n",
       "0  300000             0\n",
       "1  300001             1\n",
       "2  300002             0\n",
       "3  300003             0\n",
       "4  300004             1"
      ]
     },
     "execution_count": 58,
     "metadata": {},
     "output_type": "execute_result"
    }
   ],
   "source": [
    "submission.head(5)"
   ]
  },
  {
   "cell_type": "code",
   "execution_count": null,
   "metadata": {
    "collapsed": true
   },
   "outputs": [],
   "source": []
  }
 ],
 "metadata": {
  "kernelspec": {
   "display_name": "Python 3",
   "language": "python",
   "name": "python3"
  },
  "language_info": {
   "codemirror_mode": {
    "name": "ipython",
    "version": 3
   },
   "file_extension": ".py",
   "mimetype": "text/x-python",
   "name": "python",
   "nbconvert_exporter": "python",
   "pygments_lexer": "ipython3",
   "version": "3.6.7"
  }
 },
 "nbformat": 4,
 "nbformat_minor": 2
}
