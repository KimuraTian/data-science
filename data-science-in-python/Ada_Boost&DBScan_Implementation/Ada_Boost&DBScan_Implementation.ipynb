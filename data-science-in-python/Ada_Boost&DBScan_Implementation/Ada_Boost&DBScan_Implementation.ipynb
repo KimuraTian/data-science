{
 "cells": [
  {
   "cell_type": "markdown",
   "metadata": {},
   "source": [
    "### Ada_Boost_Implementation\n",
    "\n",
    "Load data"
   ]
  },
  {
   "cell_type": "code",
   "execution_count": 1,
   "metadata": {},
   "outputs": [
    {
     "data": {
      "text/plain": [
       "array([0, 0, 0, 0, 0, 0, 0, 0, 0, 0, 0, 0, 0, 0, 0, 0, 0, 0, 0, 0, 0, 0, 0,\n",
       "       0, 0, 0, 0, 0, 0, 0, 0, 0, 0, 0, 0, 0, 0, 0, 0, 0, 0, 0, 0, 0, 0, 0,\n",
       "       0, 0, 0, 0, 1, 1, 1, 1, 1, 1, 1, 1, 1, 1, 1, 1, 1, 1, 1, 1, 1, 1, 1,\n",
       "       1, 1, 1, 1, 1, 1, 1, 1, 1, 1, 1, 1, 1, 1, 1, 1, 1, 1, 1, 1, 1, 1, 1,\n",
       "       1, 1, 1, 1, 1, 1, 1, 1, 0, 0, 0, 0, 0, 0, 0, 0, 0, 0, 0, 0, 0, 0, 0,\n",
       "       0, 0, 0, 0, 0, 0, 0, 0, 0, 0, 0, 0, 0, 0, 0, 0, 0, 0, 0, 0, 0, 0, 0,\n",
       "       0, 0, 0, 0, 0, 0, 0, 0, 0, 0, 0, 0])"
      ]
     },
     "execution_count": 1,
     "metadata": {},
     "output_type": "execute_result"
    }
   ],
   "source": [
    "import numpy as np\n",
    "import pandas as pd\n",
    "from sklearn.datasets import load_iris\n",
    "\n",
    "data = load_iris()\n",
    "X = data.data\n",
    "y = data.target\n",
    "# The second class vs others is the most difficult separation\n",
    "y_bi = np.array([1 if label==1 else 0 for label in y])\n",
    "y_bi"
   ]
  },
  {
   "cell_type": "code",
   "execution_count": 2,
   "metadata": {
    "collapsed": true
   },
   "outputs": [],
   "source": [
    "# define a function to compute the error rate of a model \n",
    "def compute_model_error(X, y, prediction, weights):\n",
    "    error = np.sum((prediction != y) * weights)\n",
    "    return error"
   ]
  },
  {
   "cell_type": "code",
   "execution_count": 3,
   "metadata": {
    "collapsed": true
   },
   "outputs": [],
   "source": [
    "from sklearn.linear_model import LogisticRegression\n",
    "\n",
    "# define a fuction to instantiate a logistic regression model\n",
    "def init_logistic_regression():\n",
    "    return LogisticRegression()"
   ]
  },
  {
   "cell_type": "code",
   "execution_count": 4,
   "metadata": {
    "collapsed": true
   },
   "outputs": [],
   "source": [
    "# define a dictionary of name:model_init_function, then we can add more models later on\n",
    "model_dict = {'LR':init_logistic_regression}"
   ]
  },
  {
   "cell_type": "code",
   "execution_count": 5,
   "metadata": {
    "collapsed": true
   },
   "outputs": [],
   "source": [
    "def ada_boost_train(X, y, k, classifier='LR'):\n",
    "    d = len(X)\n",
    "    # initialize the weight\n",
    "    weights = np.array([1/d] * d)\n",
    "    # create errors place holder for k models\n",
    "    errors = np.ones(k)\n",
    "    models = []\n",
    "    for i in range(k):\n",
    "        D_i = None\n",
    "        y_i = None\n",
    "        prediction = None\n",
    "        sample_indices = None\n",
    "        while (errors[i] > 0.5):\n",
    "            # sample d with replacement based on weights\n",
    "            sample_indices = np.random.choice(d, d, p=weights)\n",
    "            # get train data and labels\n",
    "            D_i = X[sample_indices]\n",
    "            y_i = y[sample_indices]\n",
    "            # instantiate a new model\n",
    "            model = model_dict[classifier]()\n",
    "            # fit with samples\n",
    "            model.fit(D_i, y_i)\n",
    "            # make predictions\n",
    "            prediction = model.predict(D_i)\n",
    "            # update error(Mi)\n",
    "            errors[i] = compute_model_error(D_i, y_i, prediction, weights)\n",
    "        # save the model\n",
    "        models.append(model)\n",
    "        # compute updating factor\n",
    "        update_factor = errors[i] / (1 - errors[i])\n",
    "        # for each sample in D_i with correctly classified, update the weight\n",
    "        for index in sample_indices[prediction == y_i]:\n",
    "            weights[index] = weights[index] * update_factor\n",
    "        # normalize the weights\n",
    "        weights = weights / np.linalg.norm(weights, ord=1)\n",
    "    return models, errors   "
   ]
  },
  {
   "cell_type": "code",
   "execution_count": 6,
   "metadata": {
    "collapsed": true
   },
   "outputs": [],
   "source": [
    "def ada_boost_predict(X, models, errors):\n",
    "    assert len(models) == len(errors)\n",
    "    n_models = len(models)\n",
    "    n_samples = len(X)\n",
    "    # create weights of two classes for each data point, [n_samples, 2]\n",
    "    weights = np.zeros((n_samples, 2))\n",
    "    \n",
    "    for i in range(n_models):\n",
    "        # compute the weight of the classifier's vote\n",
    "        weight_i = np.log((1 - errors[i]) / errors[i])\n",
    "        # compute prediction for each sample using model i\n",
    "        label = models[i].predict(X)\n",
    "        # update the weight of the corresponding class for each sample\n",
    "        weights[range(n_samples), label] += weight_i\n",
    "    return np.argmax(weights, axis=1)"
   ]
  },
  {
   "cell_type": "markdown",
   "metadata": {},
   "source": [
    "### Compare ensemble models with the single logistic regression model"
   ]
  },
  {
   "cell_type": "code",
   "execution_count": 7,
   "metadata": {},
   "outputs": [
    {
     "name": "stdout",
     "output_type": "stream",
     "text": [
      "avg accuracy of single logistic regression and AdaBoost are 0.604817927171 0.630276110444\n"
     ]
    }
   ],
   "source": [
    "from sklearn.model_selection import StratifiedKFold\n",
    "kf = StratifiedKFold(n_splits=3)\n",
    "acc_single = []\n",
    "acc_adaboost = []\n",
    "for train_index, test_index in kf.split(X, y_bi):\n",
    "    X_train=X[train_index]\n",
    "    y_train=y_bi[train_index]\n",
    "    X_test=X[test_index]\n",
    "    y_test=y_bi[test_index]\n",
    "    # single model\n",
    "    clf = LogisticRegression()\n",
    "    clf.fit(X_train, y_train)\n",
    "    predictions1 = clf.predict(X_test)\n",
    "    acc1 = np.mean(predictions1 == y_test)\n",
    "    acc_single.append(acc1)\n",
    "    # adaBoost model\n",
    "    models, errors = ada_boost_train(X_train, y_train, 20)\n",
    "    predictions2 = ada_boost_predict(X_test, models, errors)\n",
    "    acc2 = np.mean(predictions2 == y_test)\n",
    "    acc_adaboost.append(acc2)\n",
    "    \n",
    "print('avg accuracy of single logistic regression and AdaBoost are', np.mean(acc_single), np.mean(acc_adaboost))"
   ]
  },
  {
   "cell_type": "markdown",
   "metadata": {},
   "source": [
    "We can see that AdaBoost increased the accuracy."
   ]
  },
  {
   "cell_type": "markdown",
   "metadata": {},
   "source": [
    "### DBScan Implementation"
   ]
  },
  {
   "cell_type": "code",
   "execution_count": 12,
   "metadata": {
    "collapsed": true
   },
   "outputs": [],
   "source": [
    "# Define a function to compute the Euclidean distance between p vector and q vector\n",
    "def compute_Euclidean_distance(p, q):\n",
    "    return np.linalg.norm(p - q)"
   ]
  },
  {
   "cell_type": "code",
   "execution_count": 13,
   "metadata": {
    "collapsed": true
   },
   "outputs": [],
   "source": [
    "# This is a inner function of dbscan to find neighbors of p_data \n",
    "def get_eps_neighbors(data, p_data, dist_fun, eps=0.5):\n",
    "    neighbors = []\n",
    "    # search through all points in X\n",
    "    for q_data in data:\n",
    "        # compute distance between q and p\n",
    "        q = q_data[:-3]\n",
    "        p = p_data[:-3]\n",
    "        if dist_fun(q, p) <= eps:\n",
    "            neighbors.append(q_data.tolist())\n",
    "    return np.array(neighbors)"
   ]
  },
  {
   "cell_type": "code",
   "execution_count": 14,
   "metadata": {
    "collapsed": true
   },
   "outputs": [],
   "source": [
    "def dbscan(X, dist_fun, eps=0.5, min_samples=5):\n",
    "    # number of samples\n",
    "    n_X = len(X)\n",
    "    # create the \"visited\" marker (col 4) (1: visited, 0: not) and cluster labels (col 5)\n",
    "    indicator = np.zeros((n_X, 2))\n",
    "    # initialize to noise\n",
    "    indicator[:, 1] = -1\n",
    "    # stack into one data\n",
    "    data = np.hstack((X, indicator))\n",
    "    # add data index (col 6)\n",
    "    data = np.hstack((data, np.array(range(n_X)).reshape(-1, 1)))\n",
    "    \n",
    "    unvistied_points_mask = (data[:, 4] == 0)\n",
    "    # check unvisited\n",
    "    has_unvisited = np.any(unvistied_points_mask)\n",
    "    # initialize cluster label value\n",
    "    cluster = -1\n",
    "    while has_unvisited:\n",
    "\n",
    "        # select unvisited points\n",
    "        unvisited_points = data[unvistied_points_mask]\n",
    "        # shuffle them and pick first one\n",
    "        np.random.shuffle(unvisited_points)\n",
    "        p = unvisited_points[0]\n",
    "        # get index of p\n",
    "        p_index = int(p[6])\n",
    "\n",
    "        # update p as visited\n",
    "        data[p_index, 4] = 1\n",
    "        \n",
    "        neighbors = get_eps_neighbors(data, p, dist_fun, eps)\n",
    "\n",
    "        \n",
    "        if len(neighbors) >= min_samples:\n",
    "            # create a new cluster\n",
    "            cluster += 1\n",
    "            data[p_index, 5] = cluster\n",
    "            \n",
    "            while len(neighbors) > 0:\n",
    "                # start from first one neighbor\n",
    "                p_prime = neighbors[0]\n",
    "                # get index of p_prime\n",
    "                p_prime_index = int(p_prime[6])\n",
    "                # if unvisited\n",
    "                if p_prime[4] == 0:\n",
    "                    # update p_prime as visited\n",
    "                    p_prime[4] = 1\n",
    "                    data[p_prime_index, 4] = 1\n",
    "                    # get neighbors of p_prime\n",
    "                    neighbors_p_prime = get_eps_neighbors(data, p_prime, dist_fun, eps)\n",
    "#                     print(neighbors_p_prime)\n",
    "                    if len(neighbors_p_prime) >= min_samples:\n",
    "                        # get indices of neighbors of p_prime and add them to neighbors of p\n",
    "                        neighbors_indices = list(set(neighbors[:, 6]).union(set(neighbors_p_prime[:, 6])))\n",
    "                        neighbors_indices = [int(i) for i in neighbors_indices]\n",
    "                        # update neighbors\n",
    "                        neighbors = data[neighbors_indices]\n",
    "                # if p_prime is not clustered\n",
    "                if p_prime[5] < 0:\n",
    "                    p_prime[5] = cluster\n",
    "                    data[p_prime_index, 5] = cluster\n",
    "                # remove current p_prime from neighbors of p    \n",
    "                neighbors_indices = list(set(neighbors[:, 6]) - set([p_prime_index]))\n",
    "                neighbors_indices = [int(i) for i in neighbors_indices]\n",
    "                # update neighbors\n",
    "                neighbors = data[neighbors_indices]\n",
    "        else:\n",
    "            p[5] = -1\n",
    "            data[p_index, 5] = -1\n",
    "        # update unvistied\n",
    "        unvistied_points_mask = (data[:, 4] == 0)\n",
    "        # check unvisited\n",
    "        has_unvisited = np.any(unvistied_points_mask)\n",
    "    \n",
    "    return np.array([int(cluster_label) for cluster_label in data[:, 5].tolist()]) "
   ]
  },
  {
   "cell_type": "markdown",
   "metadata": {},
   "source": [
    "### Test it with sklearn implementation"
   ]
  },
  {
   "cell_type": "code",
   "execution_count": 15,
   "metadata": {},
   "outputs": [
    {
     "name": "stdout",
     "output_type": "stream",
     "text": [
      "0\n"
     ]
    }
   ],
   "source": [
    "from sklearn.cluster import DBSCAN\n",
    "\n",
    "my_labels = dbscan(X, compute_Euclidean_distance, 0.5, 5)\n",
    "dbscan_skl = DBSCAN(eps=0.5, min_samples=5)\n",
    "dbscan_skl.fit(X)\n",
    "\n",
    "print(np.sum(my_labels != dbscan_skl.labels_))"
   ]
  },
  {
   "cell_type": "markdown",
   "metadata": {},
   "source": [
    "Looks good!\n",
    "\n",
    "Compute each pair's distance in order to tune dbscan"
   ]
  },
  {
   "cell_type": "code",
   "execution_count": 16,
   "metadata": {
    "collapsed": true
   },
   "outputs": [],
   "source": [
    "dist_mat = np.zeros((len(X), len(X)))\n",
    "for i in range(len(X)):\n",
    "    for j in range(i+1, len(X)):\n",
    "        dist = compute_Euclidean_distance(X[i], X[j])\n",
    "        dist_mat[i, j] = dist\n",
    "        dist_mat[j, i] = dist"
   ]
  },
  {
   "cell_type": "code",
   "execution_count": 17,
   "metadata": {},
   "outputs": [
    {
     "data": {
      "text/plain": [
       "7.0851958335673411"
      ]
     },
     "execution_count": 17,
     "metadata": {},
     "output_type": "execute_result"
    }
   ],
   "source": [
    "max_dist = np.max(dist_mat)\n",
    "max_dist"
   ]
  },
  {
   "cell_type": "code",
   "execution_count": 18,
   "metadata": {},
   "outputs": [
    {
     "data": {
      "text/plain": [
       "0.099999999999999645"
      ]
     },
     "execution_count": 18,
     "metadata": {},
     "output_type": "execute_result"
    }
   ],
   "source": [
    "min_dist_except_zero = np.sort(list(set(dist_mat.flatten())))[1]\n",
    "min_dist_except_zero"
   ]
  },
  {
   "cell_type": "markdown",
   "metadata": {},
   "source": [
    "Create param grid"
   ]
  },
  {
   "cell_type": "code",
   "execution_count": 19,
   "metadata": {
    "collapsed": true
   },
   "outputs": [],
   "source": [
    "import itertools\n",
    "\n",
    "eps_list = np.linspace(0.1, 7, 20)\n",
    "min_samples_list = list(range(5, 20))\n",
    "dbscan_param_grid = list(itertools.product(eps_list, min_samples_list))"
   ]
  },
  {
   "cell_type": "markdown",
   "metadata": {},
   "source": [
    "Choose the best param based on silhouette score"
   ]
  },
  {
   "cell_type": "code",
   "execution_count": 20,
   "metadata": {},
   "outputs": [
    {
     "name": "stderr",
     "output_type": "stream",
     "text": [
      "100%|██████████| 300/300 [01:33<00:00,  3.21it/s]\n"
     ]
    }
   ],
   "source": [
    "from sklearn.metrics import silhouette_score\n",
    "from tqdm import tqdm\n",
    "\n",
    "silhouette_avgs = []\n",
    "for param in tqdm(dbscan_param_grid):\n",
    "    labels = dbscan(X, compute_Euclidean_distance, eps=param[0], min_samples=param[1])\n",
    "    n_clusters = len(set(labels)) - (1 if -1 in labels else 0)\n",
    "    silhouette_avg = 0\n",
    "\n",
    "    if n_clusters > 1:\n",
    "        silhouette_avg = silhouette_score(X, labels)\n",
    "    silhouette_avgs.append(silhouette_avg)"
   ]
  },
  {
   "cell_type": "code",
   "execution_count": 21,
   "metadata": {},
   "outputs": [
    {
     "data": {
      "text/plain": [
       "array([  1.55263158,  19.        ])"
      ]
     },
     "execution_count": 21,
     "metadata": {},
     "output_type": "execute_result"
    }
   ],
   "source": [
    "optimal_params = np.array(dbscan_param_grid)[np.argsort(silhouette_avgs)][-1]\n",
    "optimal_params"
   ]
  },
  {
   "cell_type": "markdown",
   "metadata": {},
   "source": [
    "Use the optimal parameters to retrain a model"
   ]
  },
  {
   "cell_type": "code",
   "execution_count": 22,
   "metadata": {
    "collapsed": true
   },
   "outputs": [],
   "source": [
    "dbscan_labels = dbscan(X, compute_Euclidean_distance, optimal_params[0], optimal_params[1])"
   ]
  },
  {
   "cell_type": "markdown",
   "metadata": {
    "collapsed": true
   },
   "source": [
    "### Compare with kmeans\n",
    "\n",
    "Tune K"
   ]
  },
  {
   "cell_type": "code",
   "execution_count": 23,
   "metadata": {},
   "outputs": [
    {
     "name": "stderr",
     "output_type": "stream",
     "text": [
      "100%|██████████| 3/3 [00:00<00:00, 41.70it/s]\n"
     ]
    }
   ],
   "source": [
    "from sklearn.cluster import KMeans\n",
    "\n",
    "silhouette_avgs = []\n",
    "for k in tqdm(range(1, 4)):\n",
    "    kmeans = KMeans(n_clusters=k).fit(X)\n",
    "    labels = kmeans.labels_\n",
    "    n_clusters = len(set(labels))\n",
    "    silhouette_avg = 0\n",
    "\n",
    "    if n_clusters > 1:\n",
    "        silhouette_avg = silhouette_score(X, labels)\n",
    "    silhouette_avgs.append(silhouette_avg)"
   ]
  },
  {
   "cell_type": "code",
   "execution_count": 24,
   "metadata": {},
   "outputs": [
    {
     "data": {
      "text/plain": [
       "2"
      ]
     },
     "execution_count": 24,
     "metadata": {},
     "output_type": "execute_result"
    }
   ],
   "source": [
    "optimal_k = np.array(range(1, 4))[np.argsort(silhouette_avgs)][-1]\n",
    "optimal_k"
   ]
  },
  {
   "cell_type": "code",
   "execution_count": 25,
   "metadata": {
    "collapsed": true
   },
   "outputs": [],
   "source": [
    "kmeans = KMeans(n_clusters=optimal_k).fit(X)\n",
    "kmeans_labels = kmeans.labels_"
   ]
  },
  {
   "cell_type": "code",
   "execution_count": 26,
   "metadata": {
    "collapsed": true
   },
   "outputs": [],
   "source": [
    "def color(s):\n",
    "    if s==0:\n",
    "        return 'red'\n",
    "    elif s==1:\n",
    "        return 'blue'\n",
    "    elif s==2:\n",
    "        return 'yellow'\n",
    "    return 'black'"
   ]
  },
  {
   "cell_type": "code",
   "execution_count": 27,
   "metadata": {
    "collapsed": true
   },
   "outputs": [],
   "source": [
    "colors_correct = [color(label) for label in y_bi]\n",
    "colors_dbscan = [color(label) for label in dbscan_labels]\n",
    "colors_kmeans = [color(label) for label in kmeans_labels]"
   ]
  },
  {
   "cell_type": "code",
   "execution_count": 29,
   "metadata": {},
   "outputs": [
    {
     "data": {
      "image/png": "[encoded data removed]",
      "text/plain": [
       "<matplotlib.figure.Figure at 0x7efbc90e3860>"
      ]
     },
     "metadata": {},
     "output_type": "display_data"
    },
    {
     "data": {
      "image/png": "[encoded data removed]",
      "text/plain": [
       "<matplotlib.figure.Figure at 0x7efbc90cd940>"
      ]
     },
     "metadata": {},
     "output_type": "display_data"
    },
    {
     "data": {
      "image/png": "[encoded data removed]",
      "text/plain": [
       "<matplotlib.figure.Figure at 0x7efbc911dac8>"
      ]
     },
     "metadata": {},
     "output_type": "display_data"
    }
   ],
   "source": [
    "import matplotlib.pyplot as plt\n",
    "from sklearn.decomposition import PCA\n",
    "\n",
    "X_PCA = PCA(n_components=2).fit_transform(X)\n",
    "plt.scatter(X_PCA[:,0], X_PCA[:,1],  c=colors_correct)\n",
    "plt.title('original')\n",
    "plt.show()\n",
    "\n",
    "plt.scatter(X_PCA[:,0], X_PCA[:,1],  c=colors_dbscan)\n",
    "plt.title('dbscan')\n",
    "plt.show()\n",
    "\n",
    "plt.scatter(X_PCA[:,0], X_PCA[:,1],  c=colors_kmeans)\n",
    "plt.title('kmeans')\n",
    "plt.show()"
   ]
  },
  {
   "cell_type": "markdown",
   "metadata": {
    "collapsed": true
   },
   "source": [
    "Looks like dbscan is better for the binary case.\n",
    "\n",
    "Let's look at 3 classes case"
   ]
  },
  {
   "cell_type": "code",
   "execution_count": 30,
   "metadata": {},
   "outputs": [
    {
     "name": "stderr",
     "output_type": "stream",
     "text": [
      "100%|██████████| 300/300 [01:35<00:00,  3.15it/s]\n"
     ]
    }
   ],
   "source": [
    "param_list = []\n",
    "\n",
    "for param in tqdm(dbscan_param_grid):\n",
    "    labels = dbscan(X, compute_Euclidean_distance, eps=param[0], min_samples=param[1])\n",
    "    n_clusters = len(set(labels)) - (1 if -1 in labels else 0)\n",
    "\n",
    "    if n_clusters > 2:\n",
    "        param_list.append(param)"
   ]
  },
  {
   "cell_type": "code",
   "execution_count": 31,
   "metadata": {},
   "outputs": [
    {
     "data": {
      "text/plain": [
       "[(0.4631578947368421, 10)]"
      ]
     },
     "execution_count": 31,
     "metadata": {},
     "output_type": "execute_result"
    }
   ],
   "source": [
    "param_list"
   ]
  },
  {
   "cell_type": "code",
   "execution_count": 32,
   "metadata": {
    "collapsed": true
   },
   "outputs": [],
   "source": [
    "dbscan_labels = dbscan(X, compute_Euclidean_distance, eps=param_list[0][0], min_samples=param_list[0][1])"
   ]
  },
  {
   "cell_type": "code",
   "execution_count": 33,
   "metadata": {
    "collapsed": true
   },
   "outputs": [],
   "source": [
    "kmeans = KMeans(n_clusters=3).fit(X)\n",
    "kmeans_labels = kmeans.labels_"
   ]
  },
  {
   "cell_type": "code",
   "execution_count": 34,
   "metadata": {
    "collapsed": true
   },
   "outputs": [],
   "source": [
    "colors_correct = [color(label) for label in y]\n",
    "colors_dbscan = [color(label) for label in dbscan_labels]\n",
    "colors_kmeans = [color(label) for label in kmeans_labels]"
   ]
  },
  {
   "cell_type": "code",
   "execution_count": 35,
   "metadata": {},
   "outputs": [
    {
     "data": {
      "image/png": "[encoded data removed]",
      "text/plain": [
       "<matplotlib.figure.Figure at 0x7efbc8f305c0>"
      ]
     },
     "metadata": {},
     "output_type": "display_data"
    },
    {
     "data": {
      "image/png": "[encoded data removed]",
      "text/plain": [
       "<matplotlib.figure.Figure at 0x7efbc912fd30>"
      ]
     },
     "metadata": {},
     "output_type": "display_data"
    },
    {
     "data": {
      "image/png": "[encoded data removed]",
      "text/plain": [
       "<matplotlib.figure.Figure at 0x7efbc8fbc898>"
      ]
     },
     "metadata": {},
     "output_type": "display_data"
    }
   ],
   "source": [
    "plt.scatter(X_PCA[:,0], X_PCA[:,1],  c=colors_correct)\n",
    "plt.title('original')\n",
    "plt.show()\n",
    "\n",
    "plt.scatter(X_PCA[:,0], X_PCA[:,1],  c=colors_dbscan)\n",
    "plt.title('dbscan')\n",
    "plt.show()\n",
    "\n",
    "plt.scatter(X_PCA[:,0], X_PCA[:,1],  c=colors_kmeans)\n",
    "plt.title('kmeans')\n",
    "plt.show()"
   ]
  },
  {
   "cell_type": "markdown",
   "metadata": {},
   "source": [
    "We can see that in 3 classes case, dbscan does a worse job since it classify many points as the noise (black spots)"
   ]
  }
 ],
 "metadata": {
  "kernelspec": {
   "display_name": "Python 3",
   "language": "python",
   "name": "python3"
  },
  "language_info": {
   "codemirror_mode": {
    "name": "ipython",
    "version": 3
   },
   "file_extension": ".py",
   "mimetype": "text/x-python",
   "name": "python",
   "nbconvert_exporter": "python",
   "pygments_lexer": "ipython3",
   "version": "3.6.3"
  }
 },
 "nbformat": 4,
 "nbformat_minor": 2
}
