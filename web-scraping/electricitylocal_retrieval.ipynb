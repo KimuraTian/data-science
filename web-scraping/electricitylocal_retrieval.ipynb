{
 "cells": [
  {
   "cell_type": "code",
   "execution_count": 9,
   "metadata": {
    "collapsed": true
   },
   "outputs": [],
   "source": [
    "import requests\n",
    "from bs4 import BeautifulSoup\n",
    "from selenium import webdriver\n",
    "import re\n",
    "import time\n",
    "import pandas as pd\n",
    "import numpy as np\n",
    "import datetime\n",
    "from tqdm import tqdm"
   ]
  },
  {
   "cell_type": "code",
   "execution_count": 2,
   "metadata": {
    "collapsed": true
   },
   "outputs": [],
   "source": [
    "chrome_driver = webdriver.Chrome()"
   ]
  },
  {
   "cell_type": "code",
   "execution_count": 3,
   "metadata": {
    "collapsed": true
   },
   "outputs": [],
   "source": [
    "url = 'https://www.electricitylocal.com/states'\n",
    "state = 'oregon'\n",
    "city = ''"
   ]
  },
  {
   "cell_type": "code",
   "execution_count": 4,
   "metadata": {
    "collapsed": true
   },
   "outputs": [],
   "source": [
    "electricity_url = '/'.join([url, state, city])"
   ]
  },
  {
   "cell_type": "code",
   "execution_count": 5,
   "metadata": {
    "collapsed": true
   },
   "outputs": [],
   "source": [
    "chrome_driver.get(electricity_url)"
   ]
  },
  {
   "cell_type": "code",
   "execution_count": 6,
   "metadata": {
    "collapsed": true
   },
   "outputs": [],
   "source": [
    "soup = BeautifulSoup(chrome_driver.page_source, 'html.parser')"
   ]
  },
  {
   "cell_type": "code",
   "execution_count": 7,
   "metadata": {
    "collapsed": true
   },
   "outputs": [],
   "source": [
    "cities = [city.get('value') for city in soup.select('select#city option')][1:]"
   ]
  },
  {
   "cell_type": "code",
   "execution_count": 11,
   "metadata": {
    "scrolled": true
   },
   "outputs": [
    {
     "name": "stderr",
     "output_type": "stream",
     "text": [
      "  0%|          | 0/243 [00:00<?, ?it/s]"
     ]
    },
    {
     "name": "stdout",
     "output_type": "stream",
     "text": [
      "electricity rate at adair-village: Commericial 8.43Residential 10.38Industrial 6.75\n"
     ]
    },
    {
     "name": "stderr",
     "output_type": "stream",
     "text": [
      "  0%|          | 1/243 [00:06<26:38,  6.60s/it]"
     ]
    },
    {
     "name": "stdout",
     "output_type": "stream",
     "text": [
      "electricity rate at adams: Commericial 8.43Residential 10.38Industrial 6.75\n"
     ]
    },
    {
     "name": "stderr",
     "output_type": "stream",
     "text": [
      "/home/mtian/anaconda3/lib/python3.6/site-packages/tqdm/_monitor.py:89: TqdmSynchronisationWarning: Set changed size during iteration (see https://github.com/tqdm/tqdm/issues/481)\n",
      "  TqdmSynchronisationWarning)\n",
      "  1%|          | 2/243 [00:13<27:21,  6.81s/it]"
     ]
    },
    {
     "name": "stdout",
     "output_type": "stream",
     "text": [
      "electricity rate at adrian: Commericial 7.29Residential 8.83Industrial 5.89\n"
     ]
    },
    {
     "name": "stderr",
     "output_type": "stream",
     "text": [
      "  1%|          | 3/243 [00:20<27:15,  6.81s/it]"
     ]
    },
    {
     "name": "stdout",
     "output_type": "stream",
     "text": [
      "electricity rate at albany: Commericial 8.43Residential 10.38Industrial 6.75\n"
     ]
    },
    {
     "name": "stderr",
     "output_type": "stream",
     "text": [
      "  2%|▏         | 4/243 [00:26<26:41,  6.70s/it]"
     ]
    },
    {
     "name": "stdout",
     "output_type": "stream",
     "text": [
      "electricity rate at amity: Commericial 8.45Residential 10.72Industrial 5.35\n"
     ]
    },
    {
     "name": "stderr",
     "output_type": "stream",
     "text": [
      "  2%|▏         | 5/243 [00:48<38:43,  9.76s/it]"
     ]
    },
    {
     "name": "stdout",
     "output_type": "stream",
     "text": [
      "electricity rate at antelope: Commericial 9.66Residential 9.56Industrial 7.39\n"
     ]
    },
    {
     "name": "stderr",
     "output_type": "stream",
     "text": [
      "  2%|▏         | 6/243 [00:55<36:18,  9.19s/it]"
     ]
    },
    {
     "name": "stdout",
     "output_type": "stream",
     "text": [
      "electricity rate at arlington: Commericial 8.43Residential 10.38Industrial 6.75\n"
     ]
    },
    {
     "name": "stderr",
     "output_type": "stream",
     "text": [
      "  3%|▎         | 7/243 [01:01<34:26,  8.76s/it]"
     ]
    },
    {
     "name": "stdout",
     "output_type": "stream",
     "text": [
      "electricity rate at ashland: Commericial 8.43Residential 10.38Industrial 6.75\n"
     ]
    },
    {
     "name": "stderr",
     "output_type": "stream",
     "text": [
      "  3%|▎         | 8/243 [01:09<33:53,  8.65s/it]"
     ]
    },
    {
     "name": "stdout",
     "output_type": "stream",
     "text": [
      "electricity rate at astoria: Commericial 8.43Residential 10.38Industrial 6.75\n"
     ]
    },
    {
     "name": "stderr",
     "output_type": "stream",
     "text": [
      "  4%|▎         | 9/243 [01:16<33:04,  8.48s/it]"
     ]
    },
    {
     "name": "stdout",
     "output_type": "stream",
     "text": [
      "electricity rate at athena: Commericial 8.43Residential 10.38Industrial 6.75\n"
     ]
    },
    {
     "name": "stderr",
     "output_type": "stream",
     "text": [
      "  4%|▍         | 10/243 [01:22<32:03,  8.25s/it]"
     ]
    },
    {
     "name": "stdout",
     "output_type": "stream",
     "text": [
      "electricity rate at aumsville: Commericial 8.45Residential 10.72Industrial 5.35\n"
     ]
    },
    {
     "name": "stderr",
     "output_type": "stream",
     "text": [
      "  5%|▍         | 11/243 [01:29<31:23,  8.12s/it]"
     ]
    },
    {
     "name": "stdout",
     "output_type": "stream",
     "text": [
      "electricity rate at aurora: Commericial 8.45Residential 10.72Industrial 5.35\n"
     ]
    },
    {
     "name": "stderr",
     "output_type": "stream",
     "text": [
      "  5%|▍         | 12/243 [01:36<30:52,  8.02s/it]"
     ]
    },
    {
     "name": "stdout",
     "output_type": "stream",
     "text": [
      "electricity rate at baker-city: Commericial 6.74Residential 8.76Industrial 5.17\n"
     ]
    },
    {
     "name": "stderr",
     "output_type": "stream",
     "text": [
      "  5%|▌         | 13/243 [01:43<30:22,  7.93s/it]"
     ]
    },
    {
     "name": "stdout",
     "output_type": "stream",
     "text": [
      "electricity rate at bandon: Commericial 7.83Residential 7.66Industrial 9.83\n"
     ]
    },
    {
     "name": "stderr",
     "output_type": "stream",
     "text": [
      "  6%|▌         | 14/243 [01:51<30:28,  7.99s/it]"
     ]
    },
    {
     "name": "stdout",
     "output_type": "stream",
     "text": [
      "electricity rate at banks: Commericial 8.45Residential 10.72Industrial 5.35\n"
     ]
    },
    {
     "name": "stderr",
     "output_type": "stream",
     "text": [
      "  6%|▌         | 15/243 [01:59<30:09,  7.94s/it]"
     ]
    },
    {
     "name": "stdout",
     "output_type": "stream",
     "text": [
      "electricity rate at barlow: Commericial 8.45Residential 10.72Industrial 5.35\n"
     ]
    },
    {
     "name": "stderr",
     "output_type": "stream",
     "text": [
      "  7%|▋         | 16/243 [02:05<29:42,  7.85s/it]"
     ]
    },
    {
     "name": "stdout",
     "output_type": "stream",
     "text": [
      "electricity rate at bay-city: Commericial 6.94Residential 8.37Industrial 4.85\n"
     ]
    },
    {
     "name": "stderr",
     "output_type": "stream",
     "text": [
      "  7%|▋         | 17/243 [02:13<29:33,  7.85s/it]"
     ]
    },
    {
     "name": "stdout",
     "output_type": "stream",
     "text": [
      "electricity rate at beaverton: Commericial 8.45Residential 10.72Industrial 5.35\n"
     ]
    },
    {
     "name": "stderr",
     "output_type": "stream",
     "text": [
      "  7%|▋         | 18/243 [02:20<29:13,  7.79s/it]"
     ]
    },
    {
     "name": "stdout",
     "output_type": "stream",
     "text": [
      "electricity rate at bend: Commericial 8.43Residential 10.38Industrial 6.75\n"
     ]
    },
    {
     "name": "stderr",
     "output_type": "stream",
     "text": [
      "  8%|▊         | 19/243 [02:27<29:02,  7.78s/it]"
     ]
    },
    {
     "name": "stdout",
     "output_type": "stream",
     "text": [
      "electricity rate at boardman: Commericial 8.43Residential 10.38Industrial 6.75\n"
     ]
    },
    {
     "name": "stderr",
     "output_type": "stream",
     "text": [
      "  8%|▊         | 20/243 [02:34<28:45,  7.74s/it]"
     ]
    },
    {
     "name": "stdout",
     "output_type": "stream",
     "text": [
      "electricity rate at bonanza: Commericial 8.43Residential 10.38Industrial 6.75\n"
     ]
    },
    {
     "name": "stderr",
     "output_type": "stream",
     "text": [
      "  9%|▊         | 21/243 [02:41<28:25,  7.68s/it]"
     ]
    },
    {
     "name": "stdout",
     "output_type": "stream",
     "text": [
      "electricity rate at brookings: Commericial 8.78Residential 9.61Industrial 7.48\n"
     ]
    },
    {
     "name": "stderr",
     "output_type": "stream",
     "text": [
      "  9%|▉         | 22/243 [02:48<28:10,  7.65s/it]"
     ]
    },
    {
     "name": "stdout",
     "output_type": "stream",
     "text": [
      "electricity rate at brownsville: Commericial 7.04Residential 8.9Industrial 7.59\n"
     ]
    },
    {
     "name": "stderr",
     "output_type": "stream",
     "text": [
      "  9%|▉         | 23/243 [02:54<27:53,  7.61s/it]"
     ]
    },
    {
     "name": "stdout",
     "output_type": "stream",
     "text": [
      "electricity rate at burns: Commericial 6.74Residential 8.76Industrial 5.17\n"
     ]
    },
    {
     "name": "stderr",
     "output_type": "stream",
     "text": [
      " 10%|▉         | 24/243 [03:02<27:42,  7.59s/it]"
     ]
    },
    {
     "name": "stdout",
     "output_type": "stream",
     "text": [
      "electricity rate at butte-falls: Commericial 8.43Residential 10.38Industrial 6.75\n"
     ]
    },
    {
     "name": "stderr",
     "output_type": "stream",
     "text": [
      " 10%|█         | 25/243 [03:09<27:28,  7.56s/it]"
     ]
    },
    {
     "name": "stdout",
     "output_type": "stream",
     "text": [
      "electricity rate at canby: Commericial 8.45Residential 10.72Industrial 5.35\n"
     ]
    },
    {
     "name": "stderr",
     "output_type": "stream",
     "text": [
      " 11%|█         | 26/243 [03:17<27:27,  7.59s/it]"
     ]
    },
    {
     "name": "stdout",
     "output_type": "stream",
     "text": [
      "electricity rate at cannon-beach: Commericial 8.43Residential 10.38Industrial 6.75\n"
     ]
    },
    {
     "name": "stderr",
     "output_type": "stream",
     "text": [
      " 11%|█         | 27/243 [03:24<27:12,  7.56s/it]"
     ]
    },
    {
     "name": "stdout",
     "output_type": "stream",
     "text": [
      "electricity rate at canyon-city: Commericial 6.74Residential 8.76Industrial 5.17\n"
     ]
    },
    {
     "name": "stderr",
     "output_type": "stream",
     "text": [
      " 12%|█▏        | 28/243 [03:30<26:57,  7.52s/it]"
     ]
    },
    {
     "name": "stdout",
     "output_type": "stream",
     "text": [
      "electricity rate at canyonville: Commericial 8.43Residential 10.38Industrial 6.75\n"
     ]
    },
    {
     "name": "stderr",
     "output_type": "stream",
     "text": [
      " 12%|█▏        | 29/243 [03:37<26:42,  7.49s/it]"
     ]
    },
    {
     "name": "stdout",
     "output_type": "stream",
     "text": [
      "electricity rate at carlton: Commericial 8.45Residential 10.72Industrial 5.35\n"
     ]
    },
    {
     "name": "stderr",
     "output_type": "stream",
     "text": [
      " 12%|█▏        | 30/243 [03:44<26:33,  7.48s/it]"
     ]
    },
    {
     "name": "stdout",
     "output_type": "stream",
     "text": [
      "electricity rate at cascade-locks: Commericial 8.07Residential 8.78Industrial 5.59\n"
     ]
    },
    {
     "name": "stderr",
     "output_type": "stream",
     "text": [
      " 13%|█▎        | 31/243 [03:52<26:30,  7.50s/it]"
     ]
    },
    {
     "name": "stdout",
     "output_type": "stream",
     "text": [
      "electricity rate at cave-junction: Commericial 8.43Residential 10.38Industrial 6.75\n"
     ]
    },
    {
     "name": "stderr",
     "output_type": "stream",
     "text": [
      " 13%|█▎        | 32/243 [04:00<26:24,  7.51s/it]"
     ]
    },
    {
     "name": "stdout",
     "output_type": "stream",
     "text": [
      "electricity rate at central-point: Commericial 8.43Residential 10.38Industrial 6.75\n"
     ]
    },
    {
     "name": "stderr",
     "output_type": "stream",
     "text": [
      " 14%|█▎        | 33/243 [04:06<26:11,  7.48s/it]"
     ]
    },
    {
     "name": "stdout",
     "output_type": "stream",
     "text": [
      "electricity rate at chiloquin: Commericial 8.43Residential 10.38Industrial 6.75\n"
     ]
    },
    {
     "name": "stderr",
     "output_type": "stream",
     "text": [
      " 14%|█▍        | 34/243 [04:13<25:57,  7.45s/it]"
     ]
    },
    {
     "name": "stdout",
     "output_type": "stream",
     "text": [
      "electricity rate at clatskanie: Commericial 5.14Residential 4.84Industrial 4.26\n"
     ]
    },
    {
     "name": "stderr",
     "output_type": "stream",
     "text": [
      " 14%|█▍        | 35/243 [04:19<25:44,  7.43s/it]"
     ]
    },
    {
     "name": "stdout",
     "output_type": "stream",
     "text": [
      "electricity rate at coburg: Commericial 8.59Residential 8.48Industrial 1.84\n"
     ]
    },
    {
     "name": "stderr",
     "output_type": "stream",
     "text": [
      " 15%|█▍        | 36/243 [04:26<25:32,  7.40s/it]"
     ]
    },
    {
     "name": "stdout",
     "output_type": "stream",
     "text": [
      "electricity rate at columbia-city: Commericial 7.21Residential 6.74Industrial 4.25\n"
     ]
    },
    {
     "name": "stderr",
     "output_type": "stream",
     "text": [
      " 15%|█▌        | 37/243 [04:34<25:26,  7.41s/it]"
     ]
    },
    {
     "name": "stdout",
     "output_type": "stream",
     "text": [
      "electricity rate at condon: Commericial 6.99Residential 9.05Industrial 5.18\n"
     ]
    },
    {
     "name": "stderr",
     "output_type": "stream",
     "text": [
      " 16%|█▌        | 38/243 [04:41<25:18,  7.41s/it]"
     ]
    },
    {
     "name": "stdout",
     "output_type": "stream",
     "text": [
      "electricity rate at coos-bay: Commericial 8.43Residential 10.38Industrial 6.75\n"
     ]
    },
    {
     "name": "stderr",
     "output_type": "stream",
     "text": [
      " 16%|█▌        | 39/243 [04:48<25:08,  7.40s/it]"
     ]
    },
    {
     "name": "stdout",
     "output_type": "stream",
     "text": [
      "electricity rate at coquille: Commericial 8.43Residential 10.38Industrial 6.75\n"
     ]
    },
    {
     "name": "stderr",
     "output_type": "stream",
     "text": [
      " 16%|█▋        | 40/243 [05:02<25:34,  7.56s/it]"
     ]
    },
    {
     "name": "stdout",
     "output_type": "stream",
     "text": [
      "electricity rate at cornelius: Commericial 8.45Residential 10.72Industrial 5.35\n"
     ]
    },
    {
     "name": "stderr",
     "output_type": "stream",
     "text": [
      " 17%|█▋        | 41/243 [05:09<25:22,  7.54s/it]"
     ]
    },
    {
     "name": "stdout",
     "output_type": "stream",
     "text": [
      "electricity rate at corvallis: Commericial 8.43Residential 10.38Industrial 6.75\n"
     ]
    },
    {
     "name": "stderr",
     "output_type": "stream",
     "text": [
      " 17%|█▋        | 42/243 [05:16<25:12,  7.52s/it]"
     ]
    },
    {
     "name": "stdout",
     "output_type": "stream",
     "text": [
      "electricity rate at cottage-grove: Commericial 8.59Residential 8.48Industrial 1.84\n"
     ]
    },
    {
     "name": "stderr",
     "output_type": "stream",
     "text": [
      " 18%|█▊        | 43/243 [05:23<25:03,  7.52s/it]"
     ]
    },
    {
     "name": "stdout",
     "output_type": "stream",
     "text": [
      "electricity rate at cove: Commericial 6.74Residential 8.76Industrial 5.17\n"
     ]
    },
    {
     "name": "stderr",
     "output_type": "stream",
     "text": [
      " 18%|█▊        | 44/243 [05:30<24:52,  7.50s/it]"
     ]
    },
    {
     "name": "stdout",
     "output_type": "stream",
     "text": [
      "electricity rate at creswell: Commericial 7.68Residential 9.64Industrial 4.67\n"
     ]
    },
    {
     "name": "stderr",
     "output_type": "stream",
     "text": [
      " 19%|█▊        | 45/243 [05:36<24:41,  7.48s/it]"
     ]
    },
    {
     "name": "stdout",
     "output_type": "stream",
     "text": [
      "electricity rate at culver: Commericial 8.43Residential 10.38Industrial 6.75\n"
     ]
    },
    {
     "name": "stderr",
     "output_type": "stream",
     "text": [
      " 19%|█▉        | 46/243 [05:43<24:32,  7.47s/it]"
     ]
    },
    {
     "name": "stdout",
     "output_type": "stream",
     "text": [
      "electricity rate at dallas: Commericial 8.43Residential 10.38Industrial 6.75\n"
     ]
    },
    {
     "name": "stderr",
     "output_type": "stream",
     "text": [
      " 19%|█▉        | 47/243 [05:50<24:22,  7.46s/it]"
     ]
    },
    {
     "name": "stdout",
     "output_type": "stream",
     "text": [
      "electricity rate at damascus: Commericial 8.45Residential 10.72Industrial 5.35\n"
     ]
    },
    {
     "name": "stderr",
     "output_type": "stream",
     "text": [
      " 20%|█▉        | 48/243 [05:59<24:19,  7.48s/it]"
     ]
    },
    {
     "name": "stdout",
     "output_type": "stream",
     "text": [
      "electricity rate at dayton: Commericial 8.45Residential 10.72Industrial 5.35\n"
     ]
    },
    {
     "name": "stderr",
     "output_type": "stream",
     "text": [
      " 20%|██        | 49/243 [06:06<24:12,  7.49s/it]"
     ]
    },
    {
     "name": "stdout",
     "output_type": "stream",
     "text": [
      "electricity rate at dayville: Commericial 6.74Residential 8.76Industrial 5.17\n"
     ]
    },
    {
     "name": "stderr",
     "output_type": "stream",
     "text": [
      " 21%|██        | 50/243 [06:13<24:02,  7.47s/it]"
     ]
    },
    {
     "name": "stdout",
     "output_type": "stream",
     "text": [
      "electricity rate at depoe-bay: Commericial 7.25Residential 7.85Industrial 4.08\n"
     ]
    },
    {
     "name": "stderr",
     "output_type": "stream",
     "text": [
      " 21%|██        | 51/243 [06:20<23:51,  7.46s/it]"
     ]
    },
    {
     "name": "stdout",
     "output_type": "stream",
     "text": [
      "electricity rate at detroit: Commericial 7.04Residential 8.9Industrial 7.59\n"
     ]
    },
    {
     "name": "stderr",
     "output_type": "stream",
     "text": [
      " 21%|██▏       | 52/243 [06:27<23:41,  7.44s/it]"
     ]
    },
    {
     "name": "stdout",
     "output_type": "stream",
     "text": [
      "electricity rate at donald: Commericial 8.45Residential 10.72Industrial 5.35\n"
     ]
    },
    {
     "name": "stderr",
     "output_type": "stream",
     "text": [
      " 22%|██▏       | 53/243 [06:33<23:31,  7.43s/it]"
     ]
    },
    {
     "name": "stdout",
     "output_type": "stream",
     "text": [
      "electricity rate at drain: Commericial 9.34Residential 8.37Industrial 7.31\n"
     ]
    },
    {
     "name": "stderr",
     "output_type": "stream",
     "text": [
      " 22%|██▏       | 54/243 [06:40<23:22,  7.42s/it]"
     ]
    },
    {
     "name": "stdout",
     "output_type": "stream",
     "text": [
      "electricity rate at dufur: Commericial 5.65Residential 5.83Industrial 4.2\n"
     ]
    },
    {
     "name": "stderr",
     "output_type": "stream",
     "text": [
      " 23%|██▎       | 55/243 [06:48<23:16,  7.43s/it]"
     ]
    },
    {
     "name": "stdout",
     "output_type": "stream",
     "text": [
      "electricity rate at dundee: Commericial 8.45Residential 10.72Industrial 5.35\n"
     ]
    },
    {
     "name": "stderr",
     "output_type": "stream",
     "text": [
      " 23%|██▎       | 56/243 [06:55<23:06,  7.42s/it]"
     ]
    },
    {
     "name": "stdout",
     "output_type": "stream",
     "text": [
      "electricity rate at dunes-city: Commericial 7.25Residential 7.85Industrial 4.08\n"
     ]
    },
    {
     "name": "stderr",
     "output_type": "stream",
     "text": [
      " 23%|██▎       | 57/243 [07:02<22:57,  7.41s/it]"
     ]
    },
    {
     "name": "stdout",
     "output_type": "stream",
     "text": [
      "electricity rate at durham: Commericial 8.45Residential 10.72Industrial 5.35\n"
     ]
    },
    {
     "name": "stderr",
     "output_type": "stream",
     "text": [
      " 24%|██▍       | 58/243 [07:09<22:49,  7.40s/it]"
     ]
    },
    {
     "name": "stdout",
     "output_type": "stream",
     "text": [
      "electricity rate at eagle-point: Commericial 8.43Residential 10.38Industrial 6.75\n"
     ]
    },
    {
     "name": "stderr",
     "output_type": "stream",
     "text": [
      " 24%|██▍       | 59/243 [07:15<22:39,  7.39s/it]"
     ]
    },
    {
     "name": "stdout",
     "output_type": "stream",
     "text": [
      "electricity rate at echo: Commericial 8.43Residential 10.38Industrial 6.75\n"
     ]
    },
    {
     "name": "stderr",
     "output_type": "stream",
     "text": [
      " 25%|██▍       | 60/243 [07:22<22:30,  7.38s/it]"
     ]
    },
    {
     "name": "stdout",
     "output_type": "stream",
     "text": [
      "electricity rate at elgin: Commericial 6.74Residential 8.76Industrial 5.17\n"
     ]
    },
    {
     "name": "stderr",
     "output_type": "stream",
     "text": [
      " 25%|██▌       | 61/243 [07:29<22:21,  7.37s/it]"
     ]
    },
    {
     "name": "stdout",
     "output_type": "stream",
     "text": [
      "electricity rate at elkton: Commericial 9.43Residential 9.31Industrial 7.76\n"
     ]
    },
    {
     "name": "stderr",
     "output_type": "stream",
     "text": [
      " 26%|██▌       | 62/243 [07:36<22:13,  7.37s/it]"
     ]
    },
    {
     "name": "stdout",
     "output_type": "stream",
     "text": [
      "electricity rate at enterprise: Commericial 8.43Residential 10.38Industrial 6.75\n"
     ]
    },
    {
     "name": "stderr",
     "output_type": "stream",
     "text": [
      " 26%|██▌       | 63/243 [07:43<22:03,  7.35s/it]"
     ]
    },
    {
     "name": "stdout",
     "output_type": "stream",
     "text": [
      "electricity rate at estacada: Commericial 8.45Residential 10.72Industrial 5.35\n"
     ]
    },
    {
     "name": "stderr",
     "output_type": "stream",
     "text": [
      " 26%|██▋       | 64/243 [07:50<21:55,  7.35s/it]"
     ]
    },
    {
     "name": "stdout",
     "output_type": "stream",
     "text": [
      "electricity rate at eugene: Commericial 7.68Residential 9.64Industrial 4.67\n"
     ]
    },
    {
     "name": "stderr",
     "output_type": "stream",
     "text": [
      " 27%|██▋       | 65/243 [07:56<21:46,  7.34s/it]"
     ]
    },
    {
     "name": "stdout",
     "output_type": "stream",
     "text": [
      "electricity rate at fairview: Commericial 8.45Residential 10.72Industrial 5.35\n"
     ]
    },
    {
     "name": "stderr",
     "output_type": "stream",
     "text": [
      " 27%|██▋       | 66/243 [08:03<21:37,  7.33s/it]"
     ]
    },
    {
     "name": "stdout",
     "output_type": "stream",
     "text": [
      "electricity rate at falls-city: Commericial 8.43Residential 10.38Industrial 6.75\n"
     ]
    },
    {
     "name": "stderr",
     "output_type": "stream",
     "text": [
      " 28%|██▊       | 67/243 [08:10<21:29,  7.32s/it]"
     ]
    },
    {
     "name": "stdout",
     "output_type": "stream",
     "text": [
      "electricity rate at florence: Commericial 7.25Residential 7.85Industrial 4.08\n"
     ]
    },
    {
     "name": "stderr",
     "output_type": "stream",
     "text": [
      " 28%|██▊       | 68/243 [08:17<21:19,  7.31s/it]"
     ]
    },
    {
     "name": "stdout",
     "output_type": "stream",
     "text": [
      "electricity rate at forest-grove: Commericial 6.77Residential 6.54Industrial 5.2\n"
     ]
    },
    {
     "name": "stderr",
     "output_type": "stream",
     "text": [
      " 28%|██▊       | 69/243 [08:23<21:10,  7.30s/it]"
     ]
    },
    {
     "name": "stdout",
     "output_type": "stream",
     "text": [
      "electricity rate at fossil: Commericial 6.99Residential 9.05Industrial 5.18\n"
     ]
    },
    {
     "name": "stderr",
     "output_type": "stream",
     "text": [
      " 29%|██▉       | 70/243 [08:31<21:04,  7.31s/it]"
     ]
    },
    {
     "name": "stdout",
     "output_type": "stream",
     "text": [
      "electricity rate at garibaldi: Commericial 6.94Residential 8.37Industrial 4.85\n"
     ]
    },
    {
     "name": "stderr",
     "output_type": "stream",
     "text": [
      " 29%|██▉       | 71/243 [08:38<20:56,  7.31s/it]"
     ]
    },
    {
     "name": "stdout",
     "output_type": "stream",
     "text": [
      "electricity rate at gaston: Commericial 8.45Residential 10.72Industrial 5.35\n"
     ]
    },
    {
     "name": "stderr",
     "output_type": "stream",
     "text": [
      " 30%|██▉       | 72/243 [08:46<20:50,  7.31s/it]"
     ]
    },
    {
     "name": "stdout",
     "output_type": "stream",
     "text": [
      "electricity rate at gates: Commericial 7.04Residential 8.9Industrial 7.59\n"
     ]
    },
    {
     "name": "stderr",
     "output_type": "stream",
     "text": [
      " 30%|███       | 73/243 [08:53<20:42,  7.31s/it]"
     ]
    },
    {
     "name": "stdout",
     "output_type": "stream",
     "text": [
      "electricity rate at gearhart: Commericial 8.43Residential 10.38Industrial 6.75\n"
     ]
    },
    {
     "name": "stderr",
     "output_type": "stream",
     "text": [
      " 30%|███       | 74/243 [09:00<20:34,  7.31s/it]"
     ]
    },
    {
     "name": "stdout",
     "output_type": "stream",
     "text": [
      "electricity rate at gervais: Commericial 8.45Residential 10.72Industrial 5.35\n"
     ]
    },
    {
     "name": "stderr",
     "output_type": "stream",
     "text": [
      " 31%|███       | 75/243 [09:07<20:27,  7.30s/it]"
     ]
    },
    {
     "name": "stdout",
     "output_type": "stream",
     "text": [
      "electricity rate at gladstone: Commericial 8.45Residential 10.72Industrial 5.35\n"
     ]
    },
    {
     "name": "stderr",
     "output_type": "stream",
     "text": [
      " 31%|███▏      | 76/243 [09:14<20:19,  7.30s/it]"
     ]
    },
    {
     "name": "stdout",
     "output_type": "stream",
     "text": [
      "electricity rate at glendale: Commericial 8.43Residential 10.38Industrial 6.75\n"
     ]
    },
    {
     "name": "stderr",
     "output_type": "stream",
     "text": [
      " 32%|███▏      | 77/243 [09:21<20:10,  7.29s/it]"
     ]
    },
    {
     "name": "stdout",
     "output_type": "stream",
     "text": [
      "electricity rate at gold-beach: Commericial 8.78Residential 9.61Industrial 7.48\n"
     ]
    },
    {
     "name": "stderr",
     "output_type": "stream",
     "text": [
      " 32%|███▏      | 78/243 [09:28<20:02,  7.29s/it]"
     ]
    },
    {
     "name": "stdout",
     "output_type": "stream",
     "text": [
      "electricity rate at gold-hill: Commericial 8.43Residential 10.38Industrial 6.75\n"
     ]
    },
    {
     "name": "stderr",
     "output_type": "stream",
     "text": [
      " 33%|███▎      | 79/243 [09:35<19:53,  7.28s/it]"
     ]
    },
    {
     "name": "stdout",
     "output_type": "stream",
     "text": [
      "electricity rate at granite: Commericial 6.74Residential 8.76Industrial 5.17\n"
     ]
    },
    {
     "name": "stderr",
     "output_type": "stream",
     "text": [
      " 33%|███▎      | 80/243 [09:42<19:46,  7.28s/it]"
     ]
    },
    {
     "name": "stdout",
     "output_type": "stream",
     "text": [
      "electricity rate at grants-pass: Commericial 8.43Residential 10.38Industrial 6.75\n"
     ]
    },
    {
     "name": "stderr",
     "output_type": "stream",
     "text": [
      " 33%|███▎      | 81/243 [09:48<19:37,  7.27s/it]"
     ]
    },
    {
     "name": "stdout",
     "output_type": "stream",
     "text": [
      "electricity rate at grass-valley: Commericial 9.66Residential 9.56Industrial 7.39\n"
     ]
    },
    {
     "name": "stderr",
     "output_type": "stream",
     "text": [
      " 34%|███▎      | 82/243 [09:56<19:30,  7.27s/it]"
     ]
    },
    {
     "name": "stdout",
     "output_type": "stream",
     "text": [
      "electricity rate at greenhorn: Commericial 6.74Residential 8.76Industrial 5.17\n"
     ]
    },
    {
     "name": "stderr",
     "output_type": "stream",
     "text": [
      " 34%|███▍      | 83/243 [10:03<19:22,  7.27s/it]"
     ]
    },
    {
     "name": "stdout",
     "output_type": "stream",
     "text": [
      "electricity rate at gresham: Commericial 8.45Residential 10.72Industrial 5.35\n"
     ]
    },
    {
     "name": "stderr",
     "output_type": "stream",
     "text": [
      " 35%|███▍      | 84/243 [10:10<19:15,  7.26s/it]"
     ]
    },
    {
     "name": "stdout",
     "output_type": "stream",
     "text": [
      "electricity rate at haines: Commericial 6.74Residential 8.76Industrial 5.17\n"
     ]
    },
    {
     "name": "stderr",
     "output_type": "stream",
     "text": [
      " 35%|███▍      | 85/243 [10:17<19:07,  7.26s/it]"
     ]
    },
    {
     "name": "stdout",
     "output_type": "stream",
     "text": [
      "electricity rate at halfway: Commericial 7.29Residential 8.83Industrial 5.89\n"
     ]
    },
    {
     "name": "stderr",
     "output_type": "stream",
     "text": [
      " 35%|███▌      | 86/243 [10:24<18:59,  7.26s/it]"
     ]
    },
    {
     "name": "stdout",
     "output_type": "stream",
     "text": [
      "electricity rate at halsey: Commericial 7.04Residential 8.9Industrial 7.59\n"
     ]
    },
    {
     "name": "stderr",
     "output_type": "stream",
     "text": [
      " 36%|███▌      | 87/243 [10:31<18:51,  7.25s/it]"
     ]
    },
    {
     "name": "stdout",
     "output_type": "stream",
     "text": [
      "electricity rate at happy-valley: Commericial 8.45Residential 10.72Industrial 5.35\n"
     ]
    },
    {
     "name": "stderr",
     "output_type": "stream",
     "text": [
      " 36%|███▌      | 88/243 [10:38<18:45,  7.26s/it]"
     ]
    },
    {
     "name": "stdout",
     "output_type": "stream",
     "text": [
      "electricity rate at harrisburg: Commericial 8.43Residential 10.38Industrial 6.75\n"
     ]
    },
    {
     "name": "stderr",
     "output_type": "stream",
     "text": [
      " 37%|███▋      | 89/243 [10:45<18:36,  7.25s/it]"
     ]
    },
    {
     "name": "stdout",
     "output_type": "stream",
     "text": [
      "electricity rate at helix: Commericial 8.43Residential 10.38Industrial 6.75\n"
     ]
    },
    {
     "name": "stderr",
     "output_type": "stream",
     "text": [
      " 37%|███▋      | 90/243 [10:51<18:28,  7.24s/it]"
     ]
    },
    {
     "name": "stdout",
     "output_type": "stream",
     "text": [
      "electricity rate at heppner: Commericial 6.99Residential 9.05Industrial 5.18\n"
     ]
    },
    {
     "name": "stderr",
     "output_type": "stream",
     "text": [
      " 37%|███▋      | 91/243 [10:58<18:20,  7.24s/it]"
     ]
    },
    {
     "name": "stdout",
     "output_type": "stream",
     "text": [
      "electricity rate at hermiston: Commericial 6.35Residential 7.39Industrial 5.18\n"
     ]
    },
    {
     "name": "stderr",
     "output_type": "stream",
     "text": [
      " 38%|███▊      | 92/243 [11:05<18:12,  7.23s/it]"
     ]
    },
    {
     "name": "stdout",
     "output_type": "stream",
     "text": [
      "electricity rate at hillsboro: Commericial 8.45Residential 10.72Industrial 5.35\n"
     ]
    },
    {
     "name": "stderr",
     "output_type": "stream",
     "text": [
      " 38%|███▊      | 93/243 [11:13<18:05,  7.24s/it]"
     ]
    },
    {
     "name": "stdout",
     "output_type": "stream",
     "text": [
      "electricity rate at hines: Commericial 6.74Residential 8.76Industrial 5.17\n"
     ]
    },
    {
     "name": "stderr",
     "output_type": "stream",
     "text": [
      " 39%|███▊      | 94/243 [11:20<17:58,  7.24s/it]"
     ]
    },
    {
     "name": "stdout",
     "output_type": "stream",
     "text": [
      "electricity rate at hood-river: Commericial 7.03Residential 7.08Industrial 5.56\n"
     ]
    },
    {
     "name": "stderr",
     "output_type": "stream",
     "text": [
      " 39%|███▉      | 95/243 [11:26<17:49,  7.23s/it]"
     ]
    },
    {
     "name": "stdout",
     "output_type": "stream",
     "text": [
      "electricity rate at hubbard: Commericial 8.45Residential 10.72Industrial 5.35\n"
     ]
    },
    {
     "name": "stderr",
     "output_type": "stream",
     "text": [
      " 40%|███▉      | 96/243 [11:34<17:42,  7.23s/it]"
     ]
    },
    {
     "name": "stdout",
     "output_type": "stream",
     "text": [
      "electricity rate at huntington: Commericial 7.29Residential 8.83Industrial 5.89\n"
     ]
    },
    {
     "name": "stderr",
     "output_type": "stream",
     "text": [
      " 40%|███▉      | 97/243 [11:41<17:35,  7.23s/it]"
     ]
    },
    {
     "name": "stdout",
     "output_type": "stream",
     "text": [
      "electricity rate at idanha: Commericial 7.04Residential 8.9Industrial 7.59\n"
     ]
    },
    {
     "name": "stderr",
     "output_type": "stream",
     "text": [
      " 40%|████      | 98/243 [11:47<17:27,  7.22s/it]"
     ]
    },
    {
     "name": "stdout",
     "output_type": "stream",
     "text": [
      "electricity rate at imbler: Commericial 6.74Residential 8.76Industrial 5.17\n"
     ]
    },
    {
     "name": "stderr",
     "output_type": "stream",
     "text": [
      " 41%|████      | 99/243 [11:54<17:19,  7.22s/it]"
     ]
    },
    {
     "name": "stdout",
     "output_type": "stream",
     "text": [
      "electricity rate at independence: Commericial 7.04Residential 8.9Industrial 7.59\n"
     ]
    },
    {
     "name": "stderr",
     "output_type": "stream",
     "text": [
      " 41%|████      | 100/243 [12:01<17:11,  7.22s/it]"
     ]
    },
    {
     "name": "stdout",
     "output_type": "stream",
     "text": [
      "electricity rate at ione: Commericial 6.99Residential 9.05Industrial 5.18\n"
     ]
    },
    {
     "name": "stderr",
     "output_type": "stream",
     "text": [
      " 42%|████▏     | 101/243 [12:08<17:03,  7.21s/it]"
     ]
    },
    {
     "name": "stdout",
     "output_type": "stream",
     "text": [
      "electricity rate at irrigon: Commericial 6.19Residential 7.78Industrial 4.77\n"
     ]
    },
    {
     "name": "stderr",
     "output_type": "stream",
     "text": [
      " 42%|████▏     | 102/243 [12:15<16:56,  7.21s/it]"
     ]
    },
    {
     "name": "stdout",
     "output_type": "stream",
     "text": [
      "electricity rate at island-city: Commericial 7.53Residential 9.28Industrial 5.38\n"
     ]
    },
    {
     "name": "stderr",
     "output_type": "stream",
     "text": [
      " 42%|████▏     | 103/243 [12:22<16:48,  7.21s/it]"
     ]
    },
    {
     "name": "stdout",
     "output_type": "stream",
     "text": [
      "electricity rate at jacksonville: Commericial 8.43Residential 10.38Industrial 6.75\n"
     ]
    },
    {
     "name": "stderr",
     "output_type": "stream",
     "text": [
      " 43%|████▎     | 104/243 [12:28<16:41,  7.20s/it]"
     ]
    },
    {
     "name": "stdout",
     "output_type": "stream",
     "text": [
      "electricity rate at jefferson: Commericial 8.43Residential 10.38Industrial 6.75\n"
     ]
    },
    {
     "name": "stderr",
     "output_type": "stream",
     "text": [
      " 43%|████▎     | 105/243 [12:37<16:35,  7.21s/it]"
     ]
    },
    {
     "name": "stdout",
     "output_type": "stream",
     "text": [
      "electricity rate at john-day: Commericial 6.74Residential 8.76Industrial 5.17\n"
     ]
    },
    {
     "name": "stderr",
     "output_type": "stream",
     "text": [
      " 44%|████▎     | 106/243 [12:44<16:27,  7.21s/it]"
     ]
    },
    {
     "name": "stdout",
     "output_type": "stream",
     "text": [
      "electricity rate at johnson-city: Commericial 8.45Residential 10.72Industrial 5.35\n"
     ]
    },
    {
     "name": "stderr",
     "output_type": "stream",
     "text": [
      " 44%|████▍     | 107/243 [12:51<16:20,  7.21s/it]"
     ]
    },
    {
     "name": "stdout",
     "output_type": "stream",
     "text": [
      "electricity rate at jordan-valley: Commericial 7.29Residential 8.83Industrial 5.89\n"
     ]
    },
    {
     "name": "stderr",
     "output_type": "stream",
     "text": [
      " 44%|████▍     | 108/243 [12:58<16:12,  7.20s/it]"
     ]
    },
    {
     "name": "stdout",
     "output_type": "stream",
     "text": [
      "electricity rate at joseph: Commericial 8.43Residential 10.38Industrial 6.75\n"
     ]
    },
    {
     "name": "stderr",
     "output_type": "stream",
     "text": [
      " 45%|████▍     | 109/243 [13:04<16:04,  7.20s/it]"
     ]
    },
    {
     "name": "stdout",
     "output_type": "stream",
     "text": [
      "electricity rate at junction-city: Commericial 8.59Residential 8.48Industrial 1.84\n"
     ]
    },
    {
     "name": "stderr",
     "output_type": "stream",
     "text": [
      " 45%|████▌     | 110/243 [13:11<15:56,  7.19s/it]"
     ]
    },
    {
     "name": "stdout",
     "output_type": "stream",
     "text": [
      "electricity rate at keizer: Commericial 8.45Residential 10.72Industrial 5.35\n"
     ]
    },
    {
     "name": "stderr",
     "output_type": "stream",
     "text": [
      " 46%|████▌     | 111/243 [13:17<15:48,  7.18s/it]"
     ]
    },
    {
     "name": "stdout",
     "output_type": "stream",
     "text": [
      "electricity rate at king-city: Commericial 8.45Residential 10.72Industrial 5.35\n"
     ]
    },
    {
     "name": "stderr",
     "output_type": "stream",
     "text": [
      " 46%|████▌     | 112/243 [13:24<15:40,  7.18s/it]"
     ]
    },
    {
     "name": "stdout",
     "output_type": "stream",
     "text": [
      "electricity rate at klamath-falls: Commericial 8.43Residential 10.38Industrial 6.75\n"
     ]
    },
    {
     "name": "stderr",
     "output_type": "stream",
     "text": [
      " 47%|████▋     | 113/243 [13:30<15:32,  7.17s/it]"
     ]
    },
    {
     "name": "stdout",
     "output_type": "stream",
     "text": [
      "electricity rate at lafayette: Commericial 8.45Residential 10.72Industrial 5.35\n"
     ]
    },
    {
     "name": "stderr",
     "output_type": "stream",
     "text": [
      " 47%|████▋     | 114/243 [13:37<15:25,  7.18s/it]"
     ]
    },
    {
     "name": "stdout",
     "output_type": "stream",
     "text": [
      "electricity rate at la-grande: Commericial 7.53Residential 9.28Industrial 5.38\n"
     ]
    },
    {
     "name": "stderr",
     "output_type": "stream",
     "text": [
      " 47%|████▋     | 115/243 [13:44<15:18,  7.17s/it]"
     ]
    },
    {
     "name": "stdout",
     "output_type": "stream",
     "text": [
      "electricity rate at lake-oswego: Commericial 8.45Residential 10.72Industrial 5.35\n"
     ]
    },
    {
     "name": "stderr",
     "output_type": "stream",
     "text": [
      " 48%|████▊     | 116/243 [13:52<15:10,  7.17s/it]"
     ]
    },
    {
     "name": "stdout",
     "output_type": "stream",
     "text": [
      "electricity rate at lakeside: Commericial 7.25Residential 7.85Industrial 4.08\n"
     ]
    },
    {
     "name": "stderr",
     "output_type": "stream",
     "text": [
      " 48%|████▊     | 117/243 [13:59<15:03,  7.17s/it]"
     ]
    },
    {
     "name": "stdout",
     "output_type": "stream",
     "text": [
      "electricity rate at lakeview: Commericial 8.43Residential 10.38Industrial 6.75\n"
     ]
    },
    {
     "name": "stderr",
     "output_type": "stream",
     "text": [
      " 49%|████▊     | 118/243 [14:05<14:55,  7.17s/it]"
     ]
    },
    {
     "name": "stdout",
     "output_type": "stream",
     "text": [
      "electricity rate at la-pine: Commericial 6.63Residential 7.73Industrial 6.46\n"
     ]
    },
    {
     "name": "stderr",
     "output_type": "stream",
     "text": [
      " 49%|████▉     | 119/243 [14:12<14:48,  7.16s/it]"
     ]
    },
    {
     "name": "stdout",
     "output_type": "stream",
     "text": [
      "electricity rate at lebanon: Commericial 8.43Residential 10.38Industrial 6.75\n"
     ]
    },
    {
     "name": "stderr",
     "output_type": "stream",
     "text": [
      " 49%|████▉     | 120/243 [14:19<14:40,  7.16s/it]"
     ]
    },
    {
     "name": "stdout",
     "output_type": "stream",
     "text": [
      "electricity rate at lexington: Commericial 6.99Residential 9.05Industrial 5.18\n"
     ]
    },
    {
     "name": "stderr",
     "output_type": "stream",
     "text": [
      " 50%|████▉     | 121/243 [14:26<14:33,  7.16s/it]"
     ]
    },
    {
     "name": "stdout",
     "output_type": "stream",
     "text": [
      "electricity rate at lincoln-city: Commericial 8.43Residential 10.38Industrial 6.75\n"
     ]
    },
    {
     "name": "stderr",
     "output_type": "stream",
     "text": [
      " 50%|█████     | 122/243 [14:33<14:26,  7.16s/it]"
     ]
    },
    {
     "name": "stdout",
     "output_type": "stream",
     "text": [
      "electricity rate at lonerock: Commericial 6.99Residential 9.05Industrial 5.18\n"
     ]
    },
    {
     "name": "stderr",
     "output_type": "stream",
     "text": [
      " 51%|█████     | 123/243 [14:40<14:18,  7.16s/it]"
     ]
    },
    {
     "name": "stdout",
     "output_type": "stream",
     "text": [
      "electricity rate at long-creek: Commericial 6.74Residential 8.76Industrial 5.17\n"
     ]
    },
    {
     "name": "stderr",
     "output_type": "stream",
     "text": [
      " 51%|█████     | 124/243 [14:48<14:12,  7.16s/it]"
     ]
    },
    {
     "name": "stdout",
     "output_type": "stream",
     "text": [
      "electricity rate at lostine: Commericial 8.43Residential 10.38Industrial 6.75\n"
     ]
    },
    {
     "name": "stderr",
     "output_type": "stream",
     "text": [
      " 51%|█████▏    | 125/243 [14:54<14:04,  7.16s/it]"
     ]
    },
    {
     "name": "stdout",
     "output_type": "stream",
     "text": [
      "electricity rate at lowell: Commericial 9.12Residential 9.29Industrial 7.16\n"
     ]
    },
    {
     "name": "stderr",
     "output_type": "stream",
     "text": [
      " 52%|█████▏    | 126/243 [15:01<13:57,  7.16s/it]"
     ]
    },
    {
     "name": "stdout",
     "output_type": "stream",
     "text": [
      "electricity rate at lyons: Commericial 8.43Residential 10.38Industrial 6.75\n"
     ]
    },
    {
     "name": "stderr",
     "output_type": "stream",
     "text": [
      " 52%|█████▏    | 127/243 [15:08<13:50,  7.16s/it]"
     ]
    },
    {
     "name": "stdout",
     "output_type": "stream",
     "text": [
      "electricity rate at madras: Commericial 8.43Residential 10.38Industrial 6.75\n"
     ]
    },
    {
     "name": "stderr",
     "output_type": "stream",
     "text": [
      " 53%|█████▎    | 128/243 [15:15<13:42,  7.15s/it]"
     ]
    },
    {
     "name": "stdout",
     "output_type": "stream",
     "text": [
      "electricity rate at malin: Commericial 8.43Residential 10.38Industrial 6.75\n"
     ]
    },
    {
     "name": "stderr",
     "output_type": "stream",
     "text": [
      " 53%|█████▎    | 129/243 [15:22<13:35,  7.15s/it]"
     ]
    },
    {
     "name": "stdout",
     "output_type": "stream",
     "text": [
      "electricity rate at manzanita: Commericial 6.94Residential 8.37Industrial 4.85\n"
     ]
    },
    {
     "name": "stderr",
     "output_type": "stream",
     "text": [
      " 53%|█████▎    | 130/243 [15:28<13:27,  7.14s/it]"
     ]
    },
    {
     "name": "stdout",
     "output_type": "stream",
     "text": [
      "electricity rate at maupin: Commericial 5.65Residential 5.83Industrial 4.2\n"
     ]
    },
    {
     "name": "stderr",
     "output_type": "stream",
     "text": [
      " 54%|█████▍    | 131/243 [15:35<13:19,  7.14s/it]"
     ]
    },
    {
     "name": "stdout",
     "output_type": "stream",
     "text": [
      "electricity rate at maywood-park: Commericial 8.45Residential 10.72Industrial 5.35\n"
     ]
    },
    {
     "name": "stderr",
     "output_type": "stream",
     "text": [
      " 54%|█████▍    | 132/243 [15:42<13:12,  7.14s/it]"
     ]
    },
    {
     "name": "stdout",
     "output_type": "stream",
     "text": [
      "electricity rate at mcminnville: Commericial 6.68Residential 5.36Industrial 3.86\n"
     ]
    },
    {
     "name": "stderr",
     "output_type": "stream",
     "text": [
      " 55%|█████▍    | 133/243 [15:49<13:05,  7.14s/it]"
     ]
    },
    {
     "name": "stdout",
     "output_type": "stream",
     "text": [
      "electricity rate at medford: Commericial 8.43Residential 10.38Industrial 6.75\n"
     ]
    },
    {
     "name": "stderr",
     "output_type": "stream",
     "text": [
      " 55%|█████▌    | 134/243 [15:56<12:57,  7.14s/it]"
     ]
    },
    {
     "name": "stdout",
     "output_type": "stream",
     "text": [
      "electricity rate at merrill: Commericial 8.43Residential 10.38Industrial 6.75\n"
     ]
    },
    {
     "name": "stderr",
     "output_type": "stream",
     "text": [
      " 56%|█████▌    | 135/243 [16:03<12:50,  7.14s/it]"
     ]
    },
    {
     "name": "stdout",
     "output_type": "stream",
     "text": [
      "electricity rate at metolius: Commericial 8.43Residential 10.38Industrial 6.75\n"
     ]
    },
    {
     "name": "stderr",
     "output_type": "stream",
     "text": [
      " 56%|█████▌    | 136/243 [16:10<12:43,  7.13s/it]"
     ]
    },
    {
     "name": "stdout",
     "output_type": "stream",
     "text": [
      "electricity rate at mill-city: Commericial 8.43Residential 10.38Industrial 6.75\n"
     ]
    },
    {
     "name": "stderr",
     "output_type": "stream",
     "text": [
      " 56%|█████▋    | 137/243 [16:16<12:35,  7.13s/it]"
     ]
    },
    {
     "name": "stdout",
     "output_type": "stream",
     "text": [
      "electricity rate at millersburg: Commericial 8.43Residential 10.38Industrial 6.75\n"
     ]
    },
    {
     "name": "stderr",
     "output_type": "stream",
     "text": [
      " 57%|█████▋    | 138/243 [16:23<12:28,  7.13s/it]"
     ]
    },
    {
     "name": "stdout",
     "output_type": "stream",
     "text": [
      "electricity rate at milton-freewater: Commericial 17.01Residential 9.47Industrial 6.59\n"
     ]
    },
    {
     "name": "stderr",
     "output_type": "stream",
     "text": [
      " 57%|█████▋    | 139/243 [16:30<12:21,  7.13s/it]"
     ]
    },
    {
     "name": "stdout",
     "output_type": "stream",
     "text": [
      "electricity rate at milwaukie: Commericial 8.45Residential 10.72Industrial 5.35\n"
     ]
    },
    {
     "name": "stderr",
     "output_type": "stream",
     "text": [
      " 58%|█████▊    | 140/243 [16:37<12:14,  7.13s/it]"
     ]
    },
    {
     "name": "stdout",
     "output_type": "stream",
     "text": [
      "electricity rate at mitchell: Commericial 8.05Residential 9.2Industrial 6.87\n"
     ]
    },
    {
     "name": "stderr",
     "output_type": "stream",
     "text": [
      " 58%|█████▊    | 141/243 [16:45<12:07,  7.13s/it]"
     ]
    },
    {
     "name": "stdout",
     "output_type": "stream",
     "text": [
      "electricity rate at molalla: Commericial 8.45Residential 10.72Industrial 5.35\n"
     ]
    },
    {
     "name": "stderr",
     "output_type": "stream",
     "text": [
      " 58%|█████▊    | 142/243 [16:52<11:59,  7.13s/it]"
     ]
    },
    {
     "name": "stdout",
     "output_type": "stream",
     "text": [
      "electricity rate at monmouth: Commericial 8.81Residential 8.62Industrial 7.64\n"
     ]
    },
    {
     "name": "stderr",
     "output_type": "stream",
     "text": [
      " 59%|█████▉    | 143/243 [16:59<11:52,  7.13s/it]"
     ]
    },
    {
     "name": "stdout",
     "output_type": "stream",
     "text": [
      "electricity rate at monroe: Commericial 8.43Residential 10.38Industrial 6.75\n"
     ]
    },
    {
     "name": "stderr",
     "output_type": "stream",
     "text": [
      " 59%|█████▉    | 144/243 [17:05<11:45,  7.12s/it]"
     ]
    },
    {
     "name": "stdout",
     "output_type": "stream",
     "text": [
      "electricity rate at monument: Commericial 8.05Residential 9.2Industrial 6.87\n"
     ]
    },
    {
     "name": "stderr",
     "output_type": "stream",
     "text": [
      " 60%|█████▉    | 145/243 [17:12<11:37,  7.12s/it]"
     ]
    },
    {
     "name": "stdout",
     "output_type": "stream",
     "text": [
      "electricity rate at moro: Commericial 9.66Residential 9.56Industrial 7.39\n"
     ]
    },
    {
     "name": "stderr",
     "output_type": "stream",
     "text": [
      " 60%|██████    | 146/243 [17:19<11:30,  7.12s/it]"
     ]
    },
    {
     "name": "stdout",
     "output_type": "stream",
     "text": [
      "electricity rate at mosier: Commericial 5.65Residential 5.83Industrial 4.2\n"
     ]
    },
    {
     "name": "stderr",
     "output_type": "stream",
     "text": [
      " 60%|██████    | 147/243 [17:27<11:23,  7.12s/it]"
     ]
    },
    {
     "name": "stdout",
     "output_type": "stream",
     "text": [
      "electricity rate at mount-angel: Commericial 8.45Residential 10.72Industrial 5.35\n"
     ]
    },
    {
     "name": "stderr",
     "output_type": "stream",
     "text": [
      " 61%|██████    | 148/243 [17:34<11:16,  7.12s/it]"
     ]
    },
    {
     "name": "stdout",
     "output_type": "stream",
     "text": [
      "electricity rate at mount-vernon: Commericial 6.74Residential 8.76Industrial 5.17\n"
     ]
    },
    {
     "name": "stderr",
     "output_type": "stream",
     "text": [
      " 61%|██████▏   | 149/243 [17:41<11:09,  7.12s/it]"
     ]
    },
    {
     "name": "stdout",
     "output_type": "stream",
     "text": [
      "electricity rate at myrtle-creek: Commericial 8.43Residential 10.38Industrial 6.75\n"
     ]
    },
    {
     "name": "stderr",
     "output_type": "stream",
     "text": [
      " 62%|██████▏   | 150/243 [17:49<11:03,  7.13s/it]"
     ]
    },
    {
     "name": "stdout",
     "output_type": "stream",
     "text": [
      "electricity rate at myrtle-point: Commericial 8.43Residential 10.38Industrial 6.75\n"
     ]
    },
    {
     "name": "stderr",
     "output_type": "stream",
     "text": [
      " 62%|██████▏   | 151/243 [17:56<10:55,  7.13s/it]"
     ]
    },
    {
     "name": "stdout",
     "output_type": "stream",
     "text": [
      "electricity rate at nehalem: Commericial 6.94Residential 8.37Industrial 4.85\n"
     ]
    },
    {
     "name": "stderr",
     "output_type": "stream",
     "text": [
      " 63%|██████▎   | 152/243 [18:02<10:48,  7.12s/it]"
     ]
    },
    {
     "name": "stdout",
     "output_type": "stream",
     "text": [
      "electricity rate at newberg: Commericial 8.45Residential 10.72Industrial 5.35\n"
     ]
    },
    {
     "name": "stderr",
     "output_type": "stream",
     "text": [
      " 63%|██████▎   | 153/243 [18:09<10:40,  7.12s/it]"
     ]
    },
    {
     "name": "stdout",
     "output_type": "stream",
     "text": [
      "electricity rate at newport: Commericial 7.25Residential 7.85Industrial 4.08\n"
     ]
    },
    {
     "name": "stderr",
     "output_type": "stream",
     "text": [
      " 63%|██████▎   | 154/243 [18:16<10:33,  7.12s/it]"
     ]
    },
    {
     "name": "stdout",
     "output_type": "stream",
     "text": [
      "electricity rate at north-bend: Commericial 8.43Residential 10.38Industrial 6.75\n"
     ]
    },
    {
     "name": "stderr",
     "output_type": "stream",
     "text": [
      " 64%|██████▍   | 155/243 [18:22<10:26,  7.12s/it]"
     ]
    },
    {
     "name": "stdout",
     "output_type": "stream",
     "text": [
      "electricity rate at north-plains: Commericial 8.45Residential 10.72Industrial 5.35\n"
     ]
    },
    {
     "name": "stderr",
     "output_type": "stream",
     "text": [
      " 64%|██████▍   | 156/243 [18:29<10:18,  7.11s/it]"
     ]
    },
    {
     "name": "stdout",
     "output_type": "stream",
     "text": [
      "electricity rate at north-powder: Commericial 6.74Residential 8.76Industrial 5.17\n"
     ]
    },
    {
     "name": "stderr",
     "output_type": "stream",
     "text": [
      " 65%|██████▍   | 157/243 [18:36<10:11,  7.11s/it]"
     ]
    },
    {
     "name": "stdout",
     "output_type": "stream",
     "text": [
      "electricity rate at nyssa: Commericial 7.29Residential 8.83Industrial 5.89\n"
     ]
    },
    {
     "name": "stderr",
     "output_type": "stream",
     "text": [
      " 65%|██████▌   | 158/243 [18:43<10:04,  7.11s/it]"
     ]
    },
    {
     "name": "stdout",
     "output_type": "stream",
     "text": [
      "electricity rate at oakland: Commericial 8.43Residential 10.38Industrial 6.75\n"
     ]
    },
    {
     "name": "stderr",
     "output_type": "stream",
     "text": [
      " 65%|██████▌   | 159/243 [18:50<09:57,  7.11s/it]"
     ]
    },
    {
     "name": "stdout",
     "output_type": "stream",
     "text": [
      "electricity rate at oakridge: Commericial 9.12Residential 9.29Industrial 7.16\n"
     ]
    },
    {
     "name": "stderr",
     "output_type": "stream",
     "text": [
      " 66%|██████▌   | 160/243 [18:57<09:50,  7.11s/it]"
     ]
    },
    {
     "name": "stdout",
     "output_type": "stream",
     "text": [
      "electricity rate at ontario: Commericial 7.29Residential 8.83Industrial 5.89\n"
     ]
    },
    {
     "name": "stderr",
     "output_type": "stream",
     "text": [
      " 66%|██████▋   | 161/243 [19:04<09:42,  7.11s/it]"
     ]
    },
    {
     "name": "stdout",
     "output_type": "stream",
     "text": [
      "electricity rate at oregon-city: Commericial 8.45Residential 10.72Industrial 5.35\n"
     ]
    },
    {
     "name": "stderr",
     "output_type": "stream",
     "text": [
      " 67%|██████▋   | 162/243 [19:10<09:35,  7.10s/it]"
     ]
    },
    {
     "name": "stdout",
     "output_type": "stream",
     "text": [
      "electricity rate at paisley: Commericial 7.67Residential 7.34Industrial 6.52\n"
     ]
    },
    {
     "name": "stderr",
     "output_type": "stream",
     "text": [
      " 67%|██████▋   | 163/243 [19:17<09:28,  7.10s/it]"
     ]
    },
    {
     "name": "stdout",
     "output_type": "stream",
     "text": [
      "electricity rate at pendleton: Commericial 8.43Residential 10.38Industrial 6.75\n"
     ]
    },
    {
     "name": "stderr",
     "output_type": "stream",
     "text": [
      " 67%|██████▋   | 164/243 [19:24<09:20,  7.10s/it]"
     ]
    },
    {
     "name": "stdout",
     "output_type": "stream",
     "text": [
      "electricity rate at philomath: Commericial 8.43Residential 10.38Industrial 6.75\n"
     ]
    },
    {
     "name": "stderr",
     "output_type": "stream",
     "text": [
      " 68%|██████▊   | 165/243 [19:31<09:13,  7.10s/it]"
     ]
    },
    {
     "name": "stdout",
     "output_type": "stream",
     "text": [
      "electricity rate at phoenix: Commericial 8.43Residential 10.38Industrial 6.75\n"
     ]
    },
    {
     "name": "stderr",
     "output_type": "stream",
     "text": [
      " 68%|██████▊   | 166/243 [19:37<09:06,  7.09s/it]"
     ]
    },
    {
     "name": "stdout",
     "output_type": "stream",
     "text": [
      "electricity rate at pilot-rock: Commericial 8.43Residential 10.38Industrial 6.75\n"
     ]
    },
    {
     "name": "stderr",
     "output_type": "stream",
     "text": [
      " 69%|██████▊   | 167/243 [19:44<08:58,  7.09s/it]"
     ]
    },
    {
     "name": "stdout",
     "output_type": "stream",
     "text": [
      "electricity rate at portland: Commericial 8.45Residential 10.72Industrial 5.35\n"
     ]
    },
    {
     "name": "stderr",
     "output_type": "stream",
     "text": [
      " 69%|██████▉   | 168/243 [19:50<08:51,  7.09s/it]"
     ]
    },
    {
     "name": "stdout",
     "output_type": "stream",
     "text": [
      "electricity rate at port-orford: Commericial 8.78Residential 9.61Industrial 7.48\n"
     ]
    },
    {
     "name": "stderr",
     "output_type": "stream",
     "text": [
      " 70%|██████▉   | 169/243 [19:57<08:44,  7.09s/it]"
     ]
    },
    {
     "name": "stdout",
     "output_type": "stream",
     "text": [
      "electricity rate at powers: Commericial 8.43Residential 10.38Industrial 6.75\n"
     ]
    },
    {
     "name": "stderr",
     "output_type": "stream",
     "text": [
      " 70%|██████▉   | 170/243 [20:04<08:37,  7.08s/it]"
     ]
    },
    {
     "name": "stdout",
     "output_type": "stream",
     "text": [
      "electricity rate at prairie-city: Commericial 6.74Residential 8.76Industrial 5.17\n"
     ]
    },
    {
     "name": "stderr",
     "output_type": "stream",
     "text": [
      " 70%|███████   | 171/243 [20:10<08:29,  7.08s/it]"
     ]
    },
    {
     "name": "stdout",
     "output_type": "stream",
     "text": [
      "electricity rate at prescott: Commericial 7.21Residential 6.74Industrial 4.25\n"
     ]
    },
    {
     "name": "stderr",
     "output_type": "stream",
     "text": [
      " 71%|███████   | 172/243 [20:17<08:22,  7.08s/it]"
     ]
    },
    {
     "name": "stdout",
     "output_type": "stream",
     "text": [
      "electricity rate at prineville: Commericial 8.43Residential 10.38Industrial 6.75\n"
     ]
    },
    {
     "name": "stderr",
     "output_type": "stream",
     "text": [
      " 71%|███████   | 173/243 [20:24<08:15,  7.08s/it]"
     ]
    },
    {
     "name": "stdout",
     "output_type": "stream",
     "text": [
      "electricity rate at rainier: Commericial 7.21Residential 6.74Industrial 4.25\n"
     ]
    },
    {
     "name": "stderr",
     "output_type": "stream",
     "text": [
      " 72%|███████▏  | 174/243 [20:30<08:07,  7.07s/it]"
     ]
    },
    {
     "name": "stdout",
     "output_type": "stream",
     "text": [
      "electricity rate at redmond: Commericial 8.43Residential 10.38Industrial 6.75\n"
     ]
    },
    {
     "name": "stderr",
     "output_type": "stream",
     "text": [
      " 72%|███████▏  | 175/243 [20:37<08:00,  7.07s/it]"
     ]
    },
    {
     "name": "stdout",
     "output_type": "stream",
     "text": [
      "electricity rate at reedsport: Commericial 7.25Residential 7.85Industrial 4.08\n"
     ]
    },
    {
     "name": "stderr",
     "output_type": "stream",
     "text": [
      " 72%|███████▏  | 176/243 [20:43<07:53,  7.07s/it]"
     ]
    },
    {
     "name": "stdout",
     "output_type": "stream",
     "text": [
      "electricity rate at richland: Commericial 7.29Residential 8.83Industrial 5.89\n"
     ]
    },
    {
     "name": "stderr",
     "output_type": "stream",
     "text": [
      " 73%|███████▎  | 177/243 [20:50<07:46,  7.06s/it]"
     ]
    },
    {
     "name": "stdout",
     "output_type": "stream",
     "text": [
      "electricity rate at riddle: Commericial 8.43Residential 10.38Industrial 6.75\n"
     ]
    },
    {
     "name": "stderr",
     "output_type": "stream",
     "text": [
      " 73%|███████▎  | 178/243 [20:57<07:39,  7.06s/it]"
     ]
    },
    {
     "name": "stdout",
     "output_type": "stream",
     "text": [
      "electricity rate at rivergrove: Commericial 8.45Residential 10.72Industrial 5.35\n"
     ]
    },
    {
     "name": "stderr",
     "output_type": "stream",
     "text": [
      " 74%|███████▎  | 179/243 [21:03<07:31,  7.06s/it]"
     ]
    },
    {
     "name": "stdout",
     "output_type": "stream",
     "text": [
      "electricity rate at rockaway-beach: Commericial 6.94Residential 8.37Industrial 4.85\n"
     ]
    },
    {
     "name": "stderr",
     "output_type": "stream",
     "text": [
      " 74%|███████▍  | 180/243 [21:10<07:24,  7.06s/it]"
     ]
    },
    {
     "name": "stdout",
     "output_type": "stream",
     "text": [
      "electricity rate at rogue-river: Commericial 8.43Residential 10.38Industrial 6.75\n"
     ]
    },
    {
     "name": "stderr",
     "output_type": "stream",
     "text": [
      " 74%|███████▍  | 181/243 [21:17<07:17,  7.06s/it]"
     ]
    },
    {
     "name": "stdout",
     "output_type": "stream",
     "text": [
      "electricity rate at roseburg: Commericial 8.43Residential 10.38Industrial 6.75\n"
     ]
    },
    {
     "name": "stderr",
     "output_type": "stream",
     "text": [
      " 75%|███████▍  | 182/243 [21:23<07:10,  7.05s/it]"
     ]
    },
    {
     "name": "stdout",
     "output_type": "stream",
     "text": [
      "electricity rate at rufus: Commericial 8.31Residential 9.8Industrial 5.59\n"
     ]
    },
    {
     "name": "stderr",
     "output_type": "stream",
     "text": [
      " 75%|███████▌  | 183/243 [21:30<07:02,  7.05s/it]"
     ]
    },
    {
     "name": "stdout",
     "output_type": "stream",
     "text": [
      "electricity rate at salem: Commericial 7.67Residential 8.21Industrial 6.44\n"
     ]
    },
    {
     "name": "stderr",
     "output_type": "stream",
     "text": [
      " 76%|███████▌  | 184/243 [21:36<06:55,  7.05s/it]"
     ]
    },
    {
     "name": "stdout",
     "output_type": "stream",
     "text": [
      "electricity rate at sandy: Commericial 8.45Residential 10.72Industrial 5.35\n"
     ]
    },
    {
     "name": "stderr",
     "output_type": "stream",
     "text": [
      " 76%|███████▌  | 185/243 [21:43<06:48,  7.04s/it]"
     ]
    },
    {
     "name": "stdout",
     "output_type": "stream",
     "text": [
      "electricity rate at scappoose: Commericial 7.21Residential 6.74Industrial 4.25\n"
     ]
    },
    {
     "name": "stderr",
     "output_type": "stream",
     "text": [
      " 77%|███████▋  | 186/243 [21:50<06:41,  7.04s/it]"
     ]
    },
    {
     "name": "stdout",
     "output_type": "stream",
     "text": [
      "electricity rate at scio: Commericial 8.43Residential 10.38Industrial 6.75\n"
     ]
    },
    {
     "name": "stderr",
     "output_type": "stream",
     "text": [
      " 77%|███████▋  | 187/243 [21:56<06:34,  7.04s/it]"
     ]
    },
    {
     "name": "stdout",
     "output_type": "stream",
     "text": [
      "electricity rate at scotts-mills: Commericial 8.45Residential 10.72Industrial 5.35\n"
     ]
    },
    {
     "name": "stderr",
     "output_type": "stream",
     "text": [
      " 77%|███████▋  | 188/243 [22:03<06:27,  7.04s/it]"
     ]
    },
    {
     "name": "stdout",
     "output_type": "stream",
     "text": [
      "electricity rate at seaside: Commericial 8.43Residential 10.38Industrial 6.75\n"
     ]
    },
    {
     "name": "stderr",
     "output_type": "stream",
     "text": [
      " 78%|███████▊  | 189/243 [22:10<06:20,  7.04s/it]"
     ]
    },
    {
     "name": "stdout",
     "output_type": "stream",
     "text": [
      "electricity rate at seneca: Commericial 6.74Residential 8.76Industrial 5.17\n"
     ]
    },
    {
     "name": "stderr",
     "output_type": "stream",
     "text": [
      " 78%|███████▊  | 190/243 [22:16<06:12,  7.04s/it]"
     ]
    },
    {
     "name": "stdout",
     "output_type": "stream",
     "text": [
      "electricity rate at shady-cove: Commericial 8.43Residential 10.38Industrial 6.75\n"
     ]
    },
    {
     "name": "stderr",
     "output_type": "stream",
     "text": [
      " 79%|███████▊  | 191/243 [22:23<06:05,  7.03s/it]"
     ]
    },
    {
     "name": "stdout",
     "output_type": "stream",
     "text": [
      "electricity rate at shaniko: Commericial 9.66Residential 9.56Industrial 7.39\n"
     ]
    },
    {
     "name": "stderr",
     "output_type": "stream",
     "text": [
      " 79%|███████▉  | 192/243 [22:29<05:58,  7.03s/it]"
     ]
    },
    {
     "name": "stdout",
     "output_type": "stream",
     "text": [
      "electricity rate at sheridan: Commericial 8.45Residential 10.72Industrial 5.35\n"
     ]
    },
    {
     "name": "stderr",
     "output_type": "stream",
     "text": [
      " 79%|███████▉  | 193/243 [22:36<05:51,  7.03s/it]"
     ]
    },
    {
     "name": "stdout",
     "output_type": "stream",
     "text": [
      "electricity rate at sherwood: Commericial 8.45Residential 10.72Industrial 5.35\n"
     ]
    },
    {
     "name": "stderr",
     "output_type": "stream",
     "text": [
      " 80%|███████▉  | 194/243 [22:42<05:44,  7.03s/it]"
     ]
    },
    {
     "name": "stdout",
     "output_type": "stream",
     "text": [
      "electricity rate at siletz: Commericial 7.25Residential 7.85Industrial 4.08\n"
     ]
    },
    {
     "name": "stderr",
     "output_type": "stream",
     "text": [
      " 80%|████████  | 195/243 [22:49<05:37,  7.02s/it]"
     ]
    },
    {
     "name": "stdout",
     "output_type": "stream",
     "text": [
      "electricity rate at silverton: Commericial 8.45Residential 10.72Industrial 5.35\n"
     ]
    },
    {
     "name": "stderr",
     "output_type": "stream",
     "text": [
      " 81%|████████  | 196/243 [22:56<05:30,  7.02s/it]"
     ]
    },
    {
     "name": "stdout",
     "output_type": "stream",
     "text": [
      "electricity rate at sisters: Commericial 7.28Residential 8.11Industrial 5.82\n"
     ]
    },
    {
     "name": "stderr",
     "output_type": "stream",
     "text": [
      " 81%|████████  | 197/243 [23:03<05:22,  7.02s/it]"
     ]
    },
    {
     "name": "stdout",
     "output_type": "stream",
     "text": [
      "electricity rate at sodaville: Commericial 8.43Residential 10.38Industrial 6.75\n"
     ]
    },
    {
     "name": "stderr",
     "output_type": "stream",
     "text": [
      " 81%|████████▏ | 198/243 [23:09<05:15,  7.02s/it]"
     ]
    },
    {
     "name": "stdout",
     "output_type": "stream",
     "text": [
      "electricity rate at spray: Commericial 8.05Residential 9.2Industrial 6.87\n"
     ]
    },
    {
     "name": "stderr",
     "output_type": "stream",
     "text": [
      " 82%|████████▏ | 199/243 [23:16<05:08,  7.02s/it]"
     ]
    },
    {
     "name": "stdout",
     "output_type": "stream",
     "text": [
      "electricity rate at springfield: Commericial 5.54Residential 5.57Industrial 4.83\n"
     ]
    },
    {
     "name": "stderr",
     "output_type": "stream",
     "text": [
      " 82%|████████▏ | 200/243 [23:23<05:01,  7.02s/it]"
     ]
    },
    {
     "name": "stdout",
     "output_type": "stream",
     "text": [
      "electricity rate at stanfield: Commericial 6.19Residential 7.78Industrial 4.77\n"
     ]
    },
    {
     "name": "stderr",
     "output_type": "stream",
     "text": [
      " 83%|████████▎ | 201/243 [23:29<04:54,  7.01s/it]"
     ]
    },
    {
     "name": "stdout",
     "output_type": "stream",
     "text": [
      "electricity rate at stayton: Commericial 8.31Residential 9.8Industrial 5.59\n"
     ]
    },
    {
     "name": "stderr",
     "output_type": "stream",
     "text": [
      " 83%|████████▎ | 202/243 [23:36<04:47,  7.01s/it]"
     ]
    },
    {
     "name": "stdout",
     "output_type": "stream",
     "text": [
      "electricity rate at saint-helens: Commericial 7.21Residential 6.74Industrial 4.25\n"
     ]
    },
    {
     "name": "stderr",
     "output_type": "stream",
     "text": [
      " 84%|████████▎ | 203/243 [23:43<04:40,  7.01s/it]"
     ]
    },
    {
     "name": "stdout",
     "output_type": "stream",
     "text": [
      "electricity rate at saint-paul: Commericial 8.45Residential 10.72Industrial 5.35\n"
     ]
    },
    {
     "name": "stderr",
     "output_type": "stream",
     "text": [
      " 84%|████████▍ | 204/243 [23:49<04:33,  7.01s/it]"
     ]
    },
    {
     "name": "stdout",
     "output_type": "stream",
     "text": [
      "electricity rate at sublimity: Commericial 8.31Residential 9.8Industrial 5.59\n"
     ]
    },
    {
     "name": "stderr",
     "output_type": "stream",
     "text": [
      " 84%|████████▍ | 205/243 [23:57<04:26,  7.01s/it]"
     ]
    },
    {
     "name": "stdout",
     "output_type": "stream",
     "text": [
      "electricity rate at summerville: Commericial 6.74Residential 8.76Industrial 5.17\n"
     ]
    },
    {
     "name": "stderr",
     "output_type": "stream",
     "text": [
      " 85%|████████▍ | 206/243 [24:04<04:19,  7.01s/it]"
     ]
    },
    {
     "name": "stdout",
     "output_type": "stream",
     "text": [
      "electricity rate at sumpter: Commericial 6.74Residential 8.76Industrial 5.17\n"
     ]
    },
    {
     "name": "stderr",
     "output_type": "stream",
     "text": [
      " 85%|████████▌ | 207/243 [24:11<04:12,  7.01s/it]"
     ]
    },
    {
     "name": "stdout",
     "output_type": "stream",
     "text": [
      "electricity rate at sutherlin: Commericial 8.43Residential 10.38Industrial 6.75\n"
     ]
    },
    {
     "name": "stderr",
     "output_type": "stream",
     "text": [
      " 86%|████████▌ | 208/243 [24:18<04:05,  7.01s/it]"
     ]
    },
    {
     "name": "stdout",
     "output_type": "stream",
     "text": [
      "electricity rate at sweet-home: Commericial 8.43Residential 10.38Industrial 6.75\n"
     ]
    },
    {
     "name": "stderr",
     "output_type": "stream",
     "text": [
      " 86%|████████▌ | 209/243 [24:25<03:58,  7.01s/it]"
     ]
    },
    {
     "name": "stdout",
     "output_type": "stream",
     "text": [
      "electricity rate at talent: Commericial 8.43Residential 10.38Industrial 6.75\n"
     ]
    },
    {
     "name": "stderr",
     "output_type": "stream",
     "text": [
      " 86%|████████▋ | 210/243 [24:31<03:51,  7.01s/it]"
     ]
    },
    {
     "name": "stdout",
     "output_type": "stream",
     "text": [
      "electricity rate at tangent: Commericial 8.43Residential 10.38Industrial 6.75\n"
     ]
    },
    {
     "name": "stderr",
     "output_type": "stream",
     "text": [
      " 87%|████████▋ | 211/243 [24:38<03:44,  7.01s/it]"
     ]
    },
    {
     "name": "stdout",
     "output_type": "stream",
     "text": [
      "electricity rate at the-dalles: Commericial 5.65Residential 5.83Industrial 4.2\n"
     ]
    },
    {
     "name": "stderr",
     "output_type": "stream",
     "text": [
      " 87%|████████▋ | 212/243 [24:45<03:37,  7.01s/it]"
     ]
    },
    {
     "name": "stdout",
     "output_type": "stream",
     "text": [
      "electricity rate at tigard: Commericial 8.45Residential 10.72Industrial 5.35\n"
     ]
    },
    {
     "name": "stderr",
     "output_type": "stream",
     "text": [
      " 88%|████████▊ | 213/243 [24:59<03:31,  7.04s/it]"
     ]
    },
    {
     "name": "stdout",
     "output_type": "stream",
     "text": [
      "electricity rate at tillamook: Commericial 6.94Residential 8.37Industrial 4.85\n"
     ]
    },
    {
     "name": "stderr",
     "output_type": "stream",
     "text": [
      " 88%|████████▊ | 214/243 [25:06<03:24,  7.04s/it]"
     ]
    },
    {
     "name": "stdout",
     "output_type": "stream",
     "text": [
      "electricity rate at toledo: Commericial 7.04Residential 8.9Industrial 7.59\n"
     ]
    },
    {
     "name": "stderr",
     "output_type": "stream",
     "text": [
      " 88%|████████▊ | 215/243 [25:13<03:17,  7.04s/it]"
     ]
    },
    {
     "name": "stdout",
     "output_type": "stream",
     "text": [
      "electricity rate at troutdale: Commericial 8.45Residential 10.72Industrial 5.35\n"
     ]
    },
    {
     "name": "stderr",
     "output_type": "stream",
     "text": [
      " 89%|████████▉ | 216/243 [25:19<03:09,  7.04s/it]"
     ]
    },
    {
     "name": "stdout",
     "output_type": "stream",
     "text": [
      "electricity rate at tualatin: Commericial 8.45Residential 10.72Industrial 5.35\n"
     ]
    },
    {
     "name": "stderr",
     "output_type": "stream",
     "text": [
      " 89%|████████▉ | 217/243 [25:26<03:02,  7.04s/it]"
     ]
    },
    {
     "name": "stdout",
     "output_type": "stream",
     "text": [
      "electricity rate at turner: Commericial 8.45Residential 10.72Industrial 5.35\n"
     ]
    },
    {
     "name": "stderr",
     "output_type": "stream",
     "text": [
      " 90%|████████▉ | 218/243 [25:33<02:55,  7.03s/it]"
     ]
    },
    {
     "name": "stdout",
     "output_type": "stream",
     "text": [
      "electricity rate at ukiah: Commericial 8.05Residential 9.2Industrial 6.87\n"
     ]
    },
    {
     "name": "stderr",
     "output_type": "stream",
     "text": [
      " 90%|█████████ | 219/243 [25:39<02:48,  7.03s/it]"
     ]
    },
    {
     "name": "stdout",
     "output_type": "stream",
     "text": [
      "electricity rate at umatilla: Commericial 8.43Residential 10.38Industrial 6.75\n"
     ]
    },
    {
     "name": "stderr",
     "output_type": "stream",
     "text": [
      " 91%|█████████ | 220/243 [25:49<02:42,  7.04s/it]"
     ]
    },
    {
     "name": "stdout",
     "output_type": "stream",
     "text": [
      "electricity rate at union: Commericial 6.74Residential 8.76Industrial 5.17\n"
     ]
    },
    {
     "name": "stderr",
     "output_type": "stream",
     "text": [
      " 91%|█████████ | 221/243 [25:56<02:34,  7.04s/it]"
     ]
    },
    {
     "name": "stdout",
     "output_type": "stream",
     "text": [
      "electricity rate at unity: Commericial 7.29Residential 8.83Industrial 5.89\n"
     ]
    },
    {
     "name": "stderr",
     "output_type": "stream",
     "text": [
      " 91%|█████████▏| 222/243 [26:03<02:27,  7.04s/it]"
     ]
    },
    {
     "name": "stdout",
     "output_type": "stream",
     "text": [
      "electricity rate at vale: Commericial 7.29Residential 8.83Industrial 5.89\n"
     ]
    },
    {
     "name": "stderr",
     "output_type": "stream",
     "text": [
      " 92%|█████████▏| 223/243 [26:10<02:20,  7.04s/it]"
     ]
    },
    {
     "name": "stdout",
     "output_type": "stream",
     "text": [
      "electricity rate at veneta: Commericial 8.59Residential 8.48Industrial 1.84\n"
     ]
    },
    {
     "name": "stderr",
     "output_type": "stream",
     "text": [
      " 92%|█████████▏| 224/243 [26:17<02:13,  7.04s/it]"
     ]
    },
    {
     "name": "stdout",
     "output_type": "stream",
     "text": [
      "electricity rate at vernonia: Commericial 13.37Residential 13.49Industrial 11.04\n"
     ]
    },
    {
     "name": "stderr",
     "output_type": "stream",
     "text": [
      " 93%|█████████▎| 225/243 [26:23<02:06,  7.04s/it]"
     ]
    },
    {
     "name": "stdout",
     "output_type": "stream",
     "text": [
      "electricity rate at waldport: Commericial 7.25Residential 7.85Industrial 4.08\n"
     ]
    },
    {
     "name": "stderr",
     "output_type": "stream",
     "text": [
      " 93%|█████████▎| 226/243 [26:30<01:59,  7.04s/it]"
     ]
    },
    {
     "name": "stdout",
     "output_type": "stream",
     "text": [
      "electricity rate at wallowa: Commericial 8.43Residential 10.38Industrial 6.75\n"
     ]
    },
    {
     "name": "stderr",
     "output_type": "stream",
     "text": [
      " 93%|█████████▎| 227/243 [26:37<01:52,  7.04s/it]"
     ]
    },
    {
     "name": "stdout",
     "output_type": "stream",
     "text": [
      "electricity rate at warrenton: Commericial 8.43Residential 10.38Industrial 6.75\n"
     ]
    },
    {
     "name": "stderr",
     "output_type": "stream",
     "text": [
      " 94%|█████████▍| 228/243 [26:44<01:45,  7.04s/it]"
     ]
    },
    {
     "name": "stdout",
     "output_type": "stream",
     "text": [
      "electricity rate at wasco: Commericial 8.43Residential 10.38Industrial 6.75\n"
     ]
    },
    {
     "name": "stderr",
     "output_type": "stream",
     "text": [
      " 94%|█████████▍| 229/243 [26:51<01:38,  7.04s/it]"
     ]
    },
    {
     "name": "stdout",
     "output_type": "stream",
     "text": [
      "electricity rate at waterloo: Commericial 8.43Residential 10.38Industrial 6.75\n"
     ]
    },
    {
     "name": "stderr",
     "output_type": "stream",
     "text": [
      " 95%|█████████▍| 230/243 [26:58<01:31,  7.04s/it]"
     ]
    },
    {
     "name": "stdout",
     "output_type": "stream",
     "text": [
      "electricity rate at welches: Commericial 8.45Residential 10.72Industrial 5.35\n"
     ]
    },
    {
     "name": "stderr",
     "output_type": "stream",
     "text": [
      " 95%|█████████▌| 231/243 [27:05<01:24,  7.04s/it]"
     ]
    },
    {
     "name": "stdout",
     "output_type": "stream",
     "text": [
      "electricity rate at westfir: Commericial 9.12Residential 9.29Industrial 7.16\n"
     ]
    },
    {
     "name": "stderr",
     "output_type": "stream",
     "text": [
      " 95%|█████████▌| 232/243 [27:12<01:17,  7.04s/it]"
     ]
    },
    {
     "name": "stdout",
     "output_type": "stream",
     "text": [
      "electricity rate at west-linn: Commericial 8.45Residential 10.72Industrial 5.35\n"
     ]
    },
    {
     "name": "stderr",
     "output_type": "stream",
     "text": [
      " 96%|█████████▌| 233/243 [27:18<01:10,  7.03s/it]"
     ]
    },
    {
     "name": "stdout",
     "output_type": "stream",
     "text": [
      "electricity rate at weston: Commericial 8.43Residential 10.38Industrial 6.75\n"
     ]
    },
    {
     "name": "stderr",
     "output_type": "stream",
     "text": [
      " 96%|█████████▋| 234/243 [27:25<01:03,  7.03s/it]"
     ]
    },
    {
     "name": "stdout",
     "output_type": "stream",
     "text": [
      "electricity rate at wheeler: Commericial 6.94Residential 8.37Industrial 4.85\n"
     ]
    },
    {
     "name": "stderr",
     "output_type": "stream",
     "text": [
      " 97%|█████████▋| 235/243 [27:32<00:56,  7.03s/it]"
     ]
    },
    {
     "name": "stdout",
     "output_type": "stream",
     "text": [
      "electricity rate at willamina: Commericial 8.45Residential 10.72Industrial 5.35\n"
     ]
    },
    {
     "name": "stderr",
     "output_type": "stream",
     "text": [
      " 97%|█████████▋| 236/243 [27:39<00:49,  7.03s/it]"
     ]
    },
    {
     "name": "stdout",
     "output_type": "stream",
     "text": [
      "electricity rate at wilsonville: Commericial 8.45Residential 10.72Industrial 5.35\n"
     ]
    },
    {
     "name": "stderr",
     "output_type": "stream",
     "text": [
      " 98%|█████████▊| 237/243 [27:46<00:42,  7.03s/it]"
     ]
    },
    {
     "name": "stdout",
     "output_type": "stream",
     "text": [
      "electricity rate at winston: Commericial 8.43Residential 10.38Industrial 6.75\n"
     ]
    },
    {
     "name": "stderr",
     "output_type": "stream",
     "text": [
      " 98%|█████████▊| 238/243 [27:53<00:35,  7.03s/it]"
     ]
    },
    {
     "name": "stdout",
     "output_type": "stream",
     "text": [
      "electricity rate at woodburn: Commericial 8.45Residential 10.72Industrial 5.35\n"
     ]
    },
    {
     "name": "stderr",
     "output_type": "stream",
     "text": [
      " 98%|█████████▊| 239/243 [27:59<00:28,  7.03s/it]"
     ]
    },
    {
     "name": "stdout",
     "output_type": "stream",
     "text": [
      "electricity rate at wood-village: Commericial 8.45Residential 10.72Industrial 5.35\n"
     ]
    },
    {
     "name": "stderr",
     "output_type": "stream",
     "text": [
      " 99%|█████████▉| 240/243 [28:06<00:21,  7.03s/it]"
     ]
    },
    {
     "name": "stdout",
     "output_type": "stream",
     "text": [
      "electricity rate at yachats: Commericial 7.25Residential 7.85Industrial 4.08\n"
     ]
    },
    {
     "name": "stderr",
     "output_type": "stream",
     "text": [
      " 99%|█████████▉| 241/243 [28:13<00:14,  7.03s/it]"
     ]
    },
    {
     "name": "stdout",
     "output_type": "stream",
     "text": [
      "electricity rate at yamhill: Commericial 8.45Residential 10.72Industrial 5.35\n"
     ]
    },
    {
     "name": "stderr",
     "output_type": "stream",
     "text": [
      "100%|█████████▉| 242/243 [28:30<00:07,  7.07s/it]"
     ]
    },
    {
     "name": "stdout",
     "output_type": "stream",
     "text": [
      "electricity rate at yoncalla: Commericial 9.43Residential 9.31Industrial 7.76\n"
     ]
    },
    {
     "name": "stderr",
     "output_type": "stream",
     "text": [
      "100%|██████████| 243/243 [28:37<00:00,  7.07s/it]\n"
     ]
    }
   ],
   "source": [
    "rate_results = []\n",
    "for city in tqdm(cities):\n",
    "    electricity_url = '/'.join([url, state, city])\n",
    "    chrome_driver.get(electricity_url)\n",
    "    soup = BeautifulSoup(chrome_driver.page_source, 'html.parser')\n",
    "    rate_result = [city]\n",
    "    for i in range(1, 10, 4):\n",
    "        rate_text = soup.find_all('strong')[:12][i].get_text()\n",
    "        rate_result.extend(re.match(\"([0-9]+.[0-9]+)(\\W+\\w+)\", rate_text).groups())\n",
    "    rate_results.append(rate_result)\n",
    "    print(\"electricity rate at \" + city +\": Commericial \" + rate_result[0] + \n",
    "          \" Residential \" + rate_result[2] + \n",
    "          \" Industrial \" + rate_result[4])\n",
    "    time.sleep(5)"
   ]
  },
  {
   "cell_type": "code",
   "execution_count": 15,
   "metadata": {
    "collapsed": true
   },
   "outputs": [],
   "source": [
    "chrome_driver.quit()"
   ]
  },
  {
   "cell_type": "code",
   "execution_count": 12,
   "metadata": {
    "collapsed": true
   },
   "outputs": [],
   "source": [
    "results_pd = pd.DataFrame.from_records(rate_results, columns=['Commericial', 'unit', 'Residential', 'unit', 'Industrial', 'unit'])"
   ]
  },
  {
   "cell_type": "code",
   "execution_count": 14,
   "metadata": {},
   "outputs": [],
   "source": [
    "results_pd['Commericial'] = results_pd['Commericial'].map(lambda x : float(x))\n",
    "results_pd['Residential'] = results_pd['Residential'].map(lambda x : float(x))\n",
    "results_pd['Industrial'] = results_pd['Industrial'].map(lambda x : float(x))"
   ]
  },
  {
   "cell_type": "code",
   "execution_count": 20,
   "metadata": {},
   "outputs": [
    {
     "data": {
      "text/html": [
       "<div>\n",
       "<style>\n",
       "    .dataframe thead tr:only-child th {\n",
       "        text-align: right;\n",
       "    }\n",
       "\n",
       "    .dataframe thead th {\n",
       "        text-align: left;\n",
       "    }\n",
       "\n",
       "    .dataframe tbody tr th {\n",
       "        vertical-align: top;\n",
       "    }\n",
       "</style>\n",
       "<table border=\"1\" class=\"dataframe\">\n",
       "  <thead>\n",
       "    <tr style=\"text-align: right;\">\n",
       "      <th></th>\n",
       "      <th>Commericial</th>\n",
       "      <th>unit</th>\n",
       "      <th>Residential</th>\n",
       "      <th>unit</th>\n",
       "      <th>Industrial</th>\n",
       "      <th>unit</th>\n",
       "      <th>city</th>\n",
       "    </tr>\n",
       "  </thead>\n",
       "  <tbody>\n",
       "    <tr>\n",
       "      <th>0</th>\n",
       "      <td>8.43</td>\n",
       "      <td>¢/kWh</td>\n",
       "      <td>10.38</td>\n",
       "      <td>¢/kWh</td>\n",
       "      <td>6.75</td>\n",
       "      <td>¢/kWh</td>\n",
       "      <td>adair-village</td>\n",
       "    </tr>\n",
       "    <tr>\n",
       "      <th>1</th>\n",
       "      <td>8.43</td>\n",
       "      <td>¢/kWh</td>\n",
       "      <td>10.38</td>\n",
       "      <td>¢/kWh</td>\n",
       "      <td>6.75</td>\n",
       "      <td>¢/kWh</td>\n",
       "      <td>adams</td>\n",
       "    </tr>\n",
       "    <tr>\n",
       "      <th>2</th>\n",
       "      <td>7.29</td>\n",
       "      <td>¢/kWh</td>\n",
       "      <td>8.83</td>\n",
       "      <td>¢/kWh</td>\n",
       "      <td>5.89</td>\n",
       "      <td>¢/kWh</td>\n",
       "      <td>adrian</td>\n",
       "    </tr>\n",
       "    <tr>\n",
       "      <th>3</th>\n",
       "      <td>8.43</td>\n",
       "      <td>¢/kWh</td>\n",
       "      <td>10.38</td>\n",
       "      <td>¢/kWh</td>\n",
       "      <td>6.75</td>\n",
       "      <td>¢/kWh</td>\n",
       "      <td>albany</td>\n",
       "    </tr>\n",
       "    <tr>\n",
       "      <th>4</th>\n",
       "      <td>8.45</td>\n",
       "      <td>¢/kWh</td>\n",
       "      <td>10.72</td>\n",
       "      <td>¢/kWh</td>\n",
       "      <td>5.35</td>\n",
       "      <td>¢/kWh</td>\n",
       "      <td>amity</td>\n",
       "    </tr>\n",
       "  </tbody>\n",
       "</table>\n",
       "</div>"
      ],
      "text/plain": [
       "   Commericial   unit  Residential   unit  Industrial   unit           city\n",
       "0         8.43  ¢/kWh        10.38  ¢/kWh        6.75  ¢/kWh  adair-village\n",
       "1         8.43  ¢/kWh        10.38  ¢/kWh        6.75  ¢/kWh          adams\n",
       "2         7.29  ¢/kWh         8.83  ¢/kWh        5.89  ¢/kWh         adrian\n",
       "3         8.43  ¢/kWh        10.38  ¢/kWh        6.75  ¢/kWh         albany\n",
       "4         8.45  ¢/kWh        10.72  ¢/kWh        5.35  ¢/kWh          amity"
      ]
     },
     "execution_count": 20,
     "metadata": {},
     "output_type": "execute_result"
    }
   ],
   "source": [
    "results_pd['city'] = cities\n",
    "results_pd.head()"
   ]
  },
  {
   "cell_type": "code",
   "execution_count": 23,
   "metadata": {},
   "outputs": [
    {
     "data": {
      "text/html": [
       "<div>\n",
       "<style>\n",
       "    .dataframe thead tr:only-child th {\n",
       "        text-align: right;\n",
       "    }\n",
       "\n",
       "    .dataframe thead th {\n",
       "        text-align: left;\n",
       "    }\n",
       "\n",
       "    .dataframe tbody tr th {\n",
       "        vertical-align: top;\n",
       "    }\n",
       "</style>\n",
       "<table border=\"1\" class=\"dataframe\">\n",
       "  <thead>\n",
       "    <tr style=\"text-align: right;\">\n",
       "      <th></th>\n",
       "      <th>Commericial</th>\n",
       "      <th>unit</th>\n",
       "      <th>Residential</th>\n",
       "      <th>unit</th>\n",
       "      <th>Industrial</th>\n",
       "      <th>unit</th>\n",
       "      <th>city</th>\n",
       "    </tr>\n",
       "  </thead>\n",
       "  <tbody>\n",
       "    <tr>\n",
       "      <th>34</th>\n",
       "      <td>5.14</td>\n",
       "      <td>¢/kWh</td>\n",
       "      <td>4.84</td>\n",
       "      <td>¢/kWh</td>\n",
       "      <td>4.26</td>\n",
       "      <td>¢/kWh</td>\n",
       "      <td>clatskanie</td>\n",
       "    </tr>\n",
       "    <tr>\n",
       "      <th>199</th>\n",
       "      <td>5.54</td>\n",
       "      <td>¢/kWh</td>\n",
       "      <td>5.57</td>\n",
       "      <td>¢/kWh</td>\n",
       "      <td>4.83</td>\n",
       "      <td>¢/kWh</td>\n",
       "      <td>springfield</td>\n",
       "    </tr>\n",
       "    <tr>\n",
       "      <th>54</th>\n",
       "      <td>5.65</td>\n",
       "      <td>¢/kWh</td>\n",
       "      <td>5.83</td>\n",
       "      <td>¢/kWh</td>\n",
       "      <td>4.20</td>\n",
       "      <td>¢/kWh</td>\n",
       "      <td>dufur</td>\n",
       "    </tr>\n",
       "    <tr>\n",
       "      <th>130</th>\n",
       "      <td>5.65</td>\n",
       "      <td>¢/kWh</td>\n",
       "      <td>5.83</td>\n",
       "      <td>¢/kWh</td>\n",
       "      <td>4.20</td>\n",
       "      <td>¢/kWh</td>\n",
       "      <td>maupin</td>\n",
       "    </tr>\n",
       "    <tr>\n",
       "      <th>146</th>\n",
       "      <td>5.65</td>\n",
       "      <td>¢/kWh</td>\n",
       "      <td>5.83</td>\n",
       "      <td>¢/kWh</td>\n",
       "      <td>4.20</td>\n",
       "      <td>¢/kWh</td>\n",
       "      <td>mosier</td>\n",
       "    </tr>\n",
       "    <tr>\n",
       "      <th>211</th>\n",
       "      <td>5.65</td>\n",
       "      <td>¢/kWh</td>\n",
       "      <td>5.83</td>\n",
       "      <td>¢/kWh</td>\n",
       "      <td>4.20</td>\n",
       "      <td>¢/kWh</td>\n",
       "      <td>the-dalles</td>\n",
       "    </tr>\n",
       "    <tr>\n",
       "      <th>101</th>\n",
       "      <td>6.19</td>\n",
       "      <td>¢/kWh</td>\n",
       "      <td>7.78</td>\n",
       "      <td>¢/kWh</td>\n",
       "      <td>4.77</td>\n",
       "      <td>¢/kWh</td>\n",
       "      <td>irrigon</td>\n",
       "    </tr>\n",
       "    <tr>\n",
       "      <th>200</th>\n",
       "      <td>6.19</td>\n",
       "      <td>¢/kWh</td>\n",
       "      <td>7.78</td>\n",
       "      <td>¢/kWh</td>\n",
       "      <td>4.77</td>\n",
       "      <td>¢/kWh</td>\n",
       "      <td>stanfield</td>\n",
       "    </tr>\n",
       "    <tr>\n",
       "      <th>91</th>\n",
       "      <td>6.35</td>\n",
       "      <td>¢/kWh</td>\n",
       "      <td>7.39</td>\n",
       "      <td>¢/kWh</td>\n",
       "      <td>5.18</td>\n",
       "      <td>¢/kWh</td>\n",
       "      <td>hermiston</td>\n",
       "    </tr>\n",
       "    <tr>\n",
       "      <th>118</th>\n",
       "      <td>6.63</td>\n",
       "      <td>¢/kWh</td>\n",
       "      <td>7.73</td>\n",
       "      <td>¢/kWh</td>\n",
       "      <td>6.46</td>\n",
       "      <td>¢/kWh</td>\n",
       "      <td>la-pine</td>\n",
       "    </tr>\n",
       "  </tbody>\n",
       "</table>\n",
       "</div>"
      ],
      "text/plain": [
       "     Commericial   unit  Residential   unit  Industrial   unit         city\n",
       "34          5.14  ¢/kWh         4.84  ¢/kWh        4.26  ¢/kWh   clatskanie\n",
       "199         5.54  ¢/kWh         5.57  ¢/kWh        4.83  ¢/kWh  springfield\n",
       "54          5.65  ¢/kWh         5.83  ¢/kWh        4.20  ¢/kWh        dufur\n",
       "130         5.65  ¢/kWh         5.83  ¢/kWh        4.20  ¢/kWh       maupin\n",
       "146         5.65  ¢/kWh         5.83  ¢/kWh        4.20  ¢/kWh       mosier\n",
       "211         5.65  ¢/kWh         5.83  ¢/kWh        4.20  ¢/kWh   the-dalles\n",
       "101         6.19  ¢/kWh         7.78  ¢/kWh        4.77  ¢/kWh      irrigon\n",
       "200         6.19  ¢/kWh         7.78  ¢/kWh        4.77  ¢/kWh    stanfield\n",
       "91          6.35  ¢/kWh         7.39  ¢/kWh        5.18  ¢/kWh    hermiston\n",
       "118         6.63  ¢/kWh         7.73  ¢/kWh        6.46  ¢/kWh      la-pine"
      ]
     },
     "execution_count": 23,
     "metadata": {},
     "output_type": "execute_result"
    }
   ],
   "source": [
    "results_pd.sort_values(['Commericial', 'Industrial']).head(10)"
   ]
  },
  {
   "cell_type": "code",
   "execution_count": 25,
   "metadata": {},
   "outputs": [
    {
     "data": {
      "text/html": [
       "<div>\n",
       "<style>\n",
       "    .dataframe thead tr:only-child th {\n",
       "        text-align: right;\n",
       "    }\n",
       "\n",
       "    .dataframe thead th {\n",
       "        text-align: left;\n",
       "    }\n",
       "\n",
       "    .dataframe tbody tr th {\n",
       "        vertical-align: top;\n",
       "    }\n",
       "</style>\n",
       "<table border=\"1\" class=\"dataframe\">\n",
       "  <thead>\n",
       "    <tr style=\"text-align: right;\">\n",
       "      <th></th>\n",
       "      <th>Commericial</th>\n",
       "      <th>unit</th>\n",
       "      <th>Residential</th>\n",
       "      <th>unit</th>\n",
       "      <th>Industrial</th>\n",
       "      <th>unit</th>\n",
       "      <th>city</th>\n",
       "    </tr>\n",
       "  </thead>\n",
       "  <tbody>\n",
       "    <tr>\n",
       "      <th>35</th>\n",
       "      <td>8.59</td>\n",
       "      <td>¢/kWh</td>\n",
       "      <td>8.48</td>\n",
       "      <td>¢/kWh</td>\n",
       "      <td>1.84</td>\n",
       "      <td>¢/kWh</td>\n",
       "      <td>coburg</td>\n",
       "    </tr>\n",
       "    <tr>\n",
       "      <th>42</th>\n",
       "      <td>8.59</td>\n",
       "      <td>¢/kWh</td>\n",
       "      <td>8.48</td>\n",
       "      <td>¢/kWh</td>\n",
       "      <td>1.84</td>\n",
       "      <td>¢/kWh</td>\n",
       "      <td>cottage-grove</td>\n",
       "    </tr>\n",
       "    <tr>\n",
       "      <th>109</th>\n",
       "      <td>8.59</td>\n",
       "      <td>¢/kWh</td>\n",
       "      <td>8.48</td>\n",
       "      <td>¢/kWh</td>\n",
       "      <td>1.84</td>\n",
       "      <td>¢/kWh</td>\n",
       "      <td>junction-city</td>\n",
       "    </tr>\n",
       "    <tr>\n",
       "      <th>223</th>\n",
       "      <td>8.59</td>\n",
       "      <td>¢/kWh</td>\n",
       "      <td>8.48</td>\n",
       "      <td>¢/kWh</td>\n",
       "      <td>1.84</td>\n",
       "      <td>¢/kWh</td>\n",
       "      <td>veneta</td>\n",
       "    </tr>\n",
       "    <tr>\n",
       "      <th>132</th>\n",
       "      <td>6.68</td>\n",
       "      <td>¢/kWh</td>\n",
       "      <td>5.36</td>\n",
       "      <td>¢/kWh</td>\n",
       "      <td>3.86</td>\n",
       "      <td>¢/kWh</td>\n",
       "      <td>mcminnville</td>\n",
       "    </tr>\n",
       "    <tr>\n",
       "      <th>50</th>\n",
       "      <td>7.25</td>\n",
       "      <td>¢/kWh</td>\n",
       "      <td>7.85</td>\n",
       "      <td>¢/kWh</td>\n",
       "      <td>4.08</td>\n",
       "      <td>¢/kWh</td>\n",
       "      <td>depoe-bay</td>\n",
       "    </tr>\n",
       "    <tr>\n",
       "      <th>56</th>\n",
       "      <td>7.25</td>\n",
       "      <td>¢/kWh</td>\n",
       "      <td>7.85</td>\n",
       "      <td>¢/kWh</td>\n",
       "      <td>4.08</td>\n",
       "      <td>¢/kWh</td>\n",
       "      <td>dunes-city</td>\n",
       "    </tr>\n",
       "    <tr>\n",
       "      <th>67</th>\n",
       "      <td>7.25</td>\n",
       "      <td>¢/kWh</td>\n",
       "      <td>7.85</td>\n",
       "      <td>¢/kWh</td>\n",
       "      <td>4.08</td>\n",
       "      <td>¢/kWh</td>\n",
       "      <td>florence</td>\n",
       "    </tr>\n",
       "    <tr>\n",
       "      <th>116</th>\n",
       "      <td>7.25</td>\n",
       "      <td>¢/kWh</td>\n",
       "      <td>7.85</td>\n",
       "      <td>¢/kWh</td>\n",
       "      <td>4.08</td>\n",
       "      <td>¢/kWh</td>\n",
       "      <td>lakeside</td>\n",
       "    </tr>\n",
       "    <tr>\n",
       "      <th>153</th>\n",
       "      <td>7.25</td>\n",
       "      <td>¢/kWh</td>\n",
       "      <td>7.85</td>\n",
       "      <td>¢/kWh</td>\n",
       "      <td>4.08</td>\n",
       "      <td>¢/kWh</td>\n",
       "      <td>newport</td>\n",
       "    </tr>\n",
       "    <tr>\n",
       "      <th>175</th>\n",
       "      <td>7.25</td>\n",
       "      <td>¢/kWh</td>\n",
       "      <td>7.85</td>\n",
       "      <td>¢/kWh</td>\n",
       "      <td>4.08</td>\n",
       "      <td>¢/kWh</td>\n",
       "      <td>reedsport</td>\n",
       "    </tr>\n",
       "    <tr>\n",
       "      <th>194</th>\n",
       "      <td>7.25</td>\n",
       "      <td>¢/kWh</td>\n",
       "      <td>7.85</td>\n",
       "      <td>¢/kWh</td>\n",
       "      <td>4.08</td>\n",
       "      <td>¢/kWh</td>\n",
       "      <td>siletz</td>\n",
       "    </tr>\n",
       "    <tr>\n",
       "      <th>225</th>\n",
       "      <td>7.25</td>\n",
       "      <td>¢/kWh</td>\n",
       "      <td>7.85</td>\n",
       "      <td>¢/kWh</td>\n",
       "      <td>4.08</td>\n",
       "      <td>¢/kWh</td>\n",
       "      <td>waldport</td>\n",
       "    </tr>\n",
       "    <tr>\n",
       "      <th>240</th>\n",
       "      <td>7.25</td>\n",
       "      <td>¢/kWh</td>\n",
       "      <td>7.85</td>\n",
       "      <td>¢/kWh</td>\n",
       "      <td>4.08</td>\n",
       "      <td>¢/kWh</td>\n",
       "      <td>yachats</td>\n",
       "    </tr>\n",
       "    <tr>\n",
       "      <th>54</th>\n",
       "      <td>5.65</td>\n",
       "      <td>¢/kWh</td>\n",
       "      <td>5.83</td>\n",
       "      <td>¢/kWh</td>\n",
       "      <td>4.20</td>\n",
       "      <td>¢/kWh</td>\n",
       "      <td>dufur</td>\n",
       "    </tr>\n",
       "    <tr>\n",
       "      <th>130</th>\n",
       "      <td>5.65</td>\n",
       "      <td>¢/kWh</td>\n",
       "      <td>5.83</td>\n",
       "      <td>¢/kWh</td>\n",
       "      <td>4.20</td>\n",
       "      <td>¢/kWh</td>\n",
       "      <td>maupin</td>\n",
       "    </tr>\n",
       "    <tr>\n",
       "      <th>146</th>\n",
       "      <td>5.65</td>\n",
       "      <td>¢/kWh</td>\n",
       "      <td>5.83</td>\n",
       "      <td>¢/kWh</td>\n",
       "      <td>4.20</td>\n",
       "      <td>¢/kWh</td>\n",
       "      <td>mosier</td>\n",
       "    </tr>\n",
       "    <tr>\n",
       "      <th>211</th>\n",
       "      <td>5.65</td>\n",
       "      <td>¢/kWh</td>\n",
       "      <td>5.83</td>\n",
       "      <td>¢/kWh</td>\n",
       "      <td>4.20</td>\n",
       "      <td>¢/kWh</td>\n",
       "      <td>the-dalles</td>\n",
       "    </tr>\n",
       "    <tr>\n",
       "      <th>36</th>\n",
       "      <td>7.21</td>\n",
       "      <td>¢/kWh</td>\n",
       "      <td>6.74</td>\n",
       "      <td>¢/kWh</td>\n",
       "      <td>4.25</td>\n",
       "      <td>¢/kWh</td>\n",
       "      <td>columbia-city</td>\n",
       "    </tr>\n",
       "    <tr>\n",
       "      <th>171</th>\n",
       "      <td>7.21</td>\n",
       "      <td>¢/kWh</td>\n",
       "      <td>6.74</td>\n",
       "      <td>¢/kWh</td>\n",
       "      <td>4.25</td>\n",
       "      <td>¢/kWh</td>\n",
       "      <td>prescott</td>\n",
       "    </tr>\n",
       "  </tbody>\n",
       "</table>\n",
       "</div>"
      ],
      "text/plain": [
       "     Commericial   unit  Residential   unit  Industrial   unit           city\n",
       "35          8.59  ¢/kWh         8.48  ¢/kWh        1.84  ¢/kWh         coburg\n",
       "42          8.59  ¢/kWh         8.48  ¢/kWh        1.84  ¢/kWh  cottage-grove\n",
       "109         8.59  ¢/kWh         8.48  ¢/kWh        1.84  ¢/kWh  junction-city\n",
       "223         8.59  ¢/kWh         8.48  ¢/kWh        1.84  ¢/kWh         veneta\n",
       "132         6.68  ¢/kWh         5.36  ¢/kWh        3.86  ¢/kWh    mcminnville\n",
       "50          7.25  ¢/kWh         7.85  ¢/kWh        4.08  ¢/kWh      depoe-bay\n",
       "56          7.25  ¢/kWh         7.85  ¢/kWh        4.08  ¢/kWh     dunes-city\n",
       "67          7.25  ¢/kWh         7.85  ¢/kWh        4.08  ¢/kWh       florence\n",
       "116         7.25  ¢/kWh         7.85  ¢/kWh        4.08  ¢/kWh       lakeside\n",
       "153         7.25  ¢/kWh         7.85  ¢/kWh        4.08  ¢/kWh        newport\n",
       "175         7.25  ¢/kWh         7.85  ¢/kWh        4.08  ¢/kWh      reedsport\n",
       "194         7.25  ¢/kWh         7.85  ¢/kWh        4.08  ¢/kWh         siletz\n",
       "225         7.25  ¢/kWh         7.85  ¢/kWh        4.08  ¢/kWh       waldport\n",
       "240         7.25  ¢/kWh         7.85  ¢/kWh        4.08  ¢/kWh        yachats\n",
       "54          5.65  ¢/kWh         5.83  ¢/kWh        4.20  ¢/kWh          dufur\n",
       "130         5.65  ¢/kWh         5.83  ¢/kWh        4.20  ¢/kWh         maupin\n",
       "146         5.65  ¢/kWh         5.83  ¢/kWh        4.20  ¢/kWh         mosier\n",
       "211         5.65  ¢/kWh         5.83  ¢/kWh        4.20  ¢/kWh     the-dalles\n",
       "36          7.21  ¢/kWh         6.74  ¢/kWh        4.25  ¢/kWh  columbia-city\n",
       "171         7.21  ¢/kWh         6.74  ¢/kWh        4.25  ¢/kWh       prescott"
      ]
     },
     "execution_count": 25,
     "metadata": {},
     "output_type": "execute_result"
    }
   ],
   "source": [
    "results_pd.sort_values(['Industrial', 'Commericial']).head(20)"
   ]
  },
  {
   "cell_type": "code",
   "execution_count": 26,
   "metadata": {
    "collapsed": true
   },
   "outputs": [],
   "source": [
    "results_pd.to_csv('./data/electricity_rate_OR_electricitylocal.csv', index=False)"
   ]
  },
  {
   "cell_type": "code",
   "execution_count": null,
   "metadata": {
    "collapsed": true
   },
   "outputs": [],
   "source": []
  }
 ],
 "metadata": {
  "kernelspec": {
   "display_name": "Python 3",
   "language": "python",
   "name": "python3"
  },
  "language_info": {
   "codemirror_mode": {
    "name": "ipython",
    "version": 3
   },
   "file_extension": ".py",
   "mimetype": "text/x-python",
   "name": "python",
   "nbconvert_exporter": "python",
   "pygments_lexer": "ipython3",
   "version": "3.7.2"
  }
 },
 "nbformat": 4,
 "nbformat_minor": 2
}
