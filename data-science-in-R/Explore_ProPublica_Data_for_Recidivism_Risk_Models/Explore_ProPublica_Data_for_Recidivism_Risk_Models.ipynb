{
 "cells": [
  {
   "cell_type": "markdown",
   "metadata": {},
   "source": [
    "## Explore ProPublica Data for Recidivism Risk Models\n",
    "\n",
    "Mucun Tian"
   ]
  },
  {
   "cell_type": "markdown",
   "metadata": {},
   "source": [
    "### Load library"
   ]
  },
  {
   "cell_type": "code",
   "execution_count": 1,
   "metadata": {},
   "outputs": [
    {
     "name": "stderr",
     "output_type": "stream",
     "text": [
      "Loading tidyverse: ggplot2\n",
      "Loading tidyverse: tibble\n",
      "Loading tidyverse: tidyr\n",
      "Loading tidyverse: readr\n",
      "Loading tidyverse: purrr\n",
      "Loading tidyverse: dplyr\n",
      "Conflicts with tidy packages ---------------------------------------------------\n",
      "filter(): dplyr, stats\n",
      "lag():    dplyr, stats\n"
     ]
    },
    {
     "ename": "ERROR",
     "evalue": "Error in library(plotROC): there is no package called ‘plotROC’\n",
     "output_type": "error",
     "traceback": [
      "Error in library(plotROC): there is no package called ‘plotROC’\nTraceback:\n",
      "1. library(plotROC)",
      "2. stop(txt, domain = NA)"
     ]
    }
   ],
   "source": [
    "library(tidyverse)\n",
    "library(plotROC)"
   ]
  },
  {
   "cell_type": "markdown",
   "metadata": {},
   "source": [
    "options"
   ]
  },
  {
   "cell_type": "code",
   "execution_count": 2,
   "metadata": {
    "collapsed": true
   },
   "outputs": [],
   "source": [
    "options(repr.plot.height=5)\n",
    "options(repr.matrix.max.rows=10)"
   ]
  },
  {
   "cell_type": "markdown",
   "metadata": {},
   "source": [
    "### Load data"
   ]
  },
  {
   "cell_type": "code",
   "execution_count": 34,
   "metadata": {},
   "outputs": [
    {
     "name": "stderr",
     "output_type": "stream",
     "text": [
      "Warning message:\n",
      "“Duplicated column names deduplicated: 'decile_score' => 'decile_score_1' [40], 'priors_count' => 'priors_count_1' [49]”Parsed with column specification:\n",
      "cols(\n",
      "  .default = col_character(),\n",
      "  id = col_integer(),\n",
      "  compas_screening_date = col_date(format = \"\"),\n",
      "  dob = col_date(format = \"\"),\n",
      "  age = col_integer(),\n",
      "  juv_fel_count = col_integer(),\n",
      "  decile_score = col_integer(),\n",
      "  juv_misd_count = col_integer(),\n",
      "  juv_other_count = col_integer(),\n",
      "  priors_count = col_integer(),\n",
      "  days_b_screening_arrest = col_integer(),\n",
      "  c_jail_in = col_datetime(format = \"\"),\n",
      "  c_jail_out = col_datetime(format = \"\"),\n",
      "  c_offense_date = col_date(format = \"\"),\n",
      "  c_arrest_date = col_date(format = \"\"),\n",
      "  c_days_from_compas = col_integer(),\n",
      "  is_recid = col_integer(),\n",
      "  r_days_from_arrest = col_integer(),\n",
      "  r_offense_date = col_date(format = \"\"),\n",
      "  r_jail_in = col_date(format = \"\"),\n",
      "  r_jail_out = col_date(format = \"\")\n",
      "  # ... with 13 more columns\n",
      ")\n",
      "See spec(...) for full column specifications.\n"
     ]
    },
    {
     "data": {
      "text/html": [
       "7214"
      ],
      "text/latex": [
       "7214"
      ],
      "text/markdown": [
       "7214"
      ],
      "text/plain": [
       "[1] 7214"
      ]
     },
     "metadata": {},
     "output_type": "display_data"
    }
   ],
   "source": [
    "raw_data = read_csv(\"./compas-scores-two-years.csv\")\n",
    "raw_data %>%\n",
    " nrow()"
   ]
  },
  {
   "cell_type": "markdown",
   "metadata": {},
   "source": [
    "### Filtering data"
   ]
  },
  {
   "cell_type": "code",
   "execution_count": 35,
   "metadata": {
    "collapsed": true
   },
   "outputs": [],
   "source": [
    "df = raw_data %>% \n",
    "    filter(days_b_screening_arrest <= 30) %>%\n",
    "    filter(days_b_screening_arrest >= -30) %>%\n",
    "    filter(is_recid != -1) %>%\n",
    "    filter(c_charge_degree != \"O\") %>%\n",
    "    filter(score_text != 'N/A') %>%\n",
    "    select(race, sex, decile_score, score_text, is_recid, v_decile_score, v_score_text, is_violent_recid)"
   ]
  },
  {
   "cell_type": "code",
   "execution_count": 36,
   "metadata": {},
   "outputs": [
    {
     "data": {
      "text/plain": [
       "     race               sex             decile_score     score_text       \n",
       " Length:6172        Length:6172        Min.   : 1.000   Length:6172       \n",
       " Class :character   Class :character   1st Qu.: 2.000   Class :character  \n",
       " Mode  :character   Mode  :character   Median : 4.000   Mode  :character  \n",
       "                                       Mean   : 4.419                     \n",
       "                                       3rd Qu.: 7.000                     \n",
       "                                       Max.   :10.000                     \n",
       "    is_recid      v_decile_score   v_score_text       is_violent_recid\n",
       " Min.   :0.0000   Min.   : 1.000   Length:6172        Min.   :0.0000  \n",
       " 1st Qu.:0.0000   1st Qu.: 1.000   Class :character   1st Qu.:0.0000  \n",
       " Median :0.0000   Median : 3.000   Mode  :character   Median :0.0000  \n",
       " Mean   :0.4844   Mean   : 3.642                      Mean   :0.1121  \n",
       " 3rd Qu.:1.0000   3rd Qu.: 5.000                      3rd Qu.:0.0000  \n",
       " Max.   :1.0000   Max.   :10.000                      Max.   :1.0000  "
      ]
     },
     "metadata": {},
     "output_type": "display_data"
    }
   ],
   "source": [
    "summary(df)"
   ]
  },
  {
   "cell_type": "code",
   "execution_count": 67,
   "metadata": {
    "collapsed": true
   },
   "outputs": [],
   "source": [
    "df = df %>%\n",
    "    mutate(is_recid=is_recid==1,\n",
    "           is_violent_recid=is_violent_recid==1,\n",
    "           score_text=factor(score_text, levels=c(\"Low\",\"Medium\",\"High\")),\n",
    "           v_score_text=factor(v_score_text, levels=c(\"Low\",\"Medium\",\"High\")))"
   ]
  },
  {
   "cell_type": "markdown",
   "metadata": {},
   "source": [
    "Plot ROC curves for recidivism"
   ]
  },
  {
   "cell_type": "code",
   "execution_count": 68,
   "metadata": {},
   "outputs": [
    {
     "name": "stderr",
     "output_type": "stream",
     "text": [
      "Warning message in verify_d(data$d):\n",
      "“D not labeled 0/1, assuming FALSE = 0 and TRUE = 1!”"
     ]
    },
    {
     "data": {},
     "metadata": {},
     "output_type": "display_data"
    },
    {
     "data": {
      "image/png": "[encoded data removed]",
      "text/plain": [
       "plot without title"
      ]
     },
     "metadata": {},
     "output_type": "display_data"
    }
   ],
   "source": [
    "roc_plot = ggplot(df) +\n",
    "    aes(d=is_recid, m=decile_score) +\n",
    "    geom_roc()\n",
    "roc_plot"
   ]
  },
  {
   "cell_type": "markdown",
   "metadata": {},
   "source": [
    "Plot ROC curves for violent recidivism"
   ]
  },
  {
   "cell_type": "code",
   "execution_count": 69,
   "metadata": {},
   "outputs": [
    {
     "name": "stderr",
     "output_type": "stream",
     "text": [
      "Warning message in verify_d(data$d):\n",
      "“D not labeled 0/1, assuming FALSE = 0 and TRUE = 1!”"
     ]
    },
    {
     "data": {},
     "metadata": {},
     "output_type": "display_data"
    },
    {
     "data": {
      "image/png": "[encoded data removed]",
      "text/plain": [
       "plot without title"
      ]
     },
     "metadata": {},
     "output_type": "display_data"
    }
   ],
   "source": [
    "roc_plot = ggplot(df) +\n",
    "    aes(d=is_violent_recid, m=v_decile_score) +\n",
    "    geom_roc()\n",
    "roc_plot"
   ]
  },
  {
   "cell_type": "markdown",
   "metadata": {},
   "source": [
    "Compute the precision, recall, false positive rate, and false negative rate\n",
    "\n",
    "\"High Risk\" is used as threshold for \"will recidivate\", and _positive_ is _'will recidivate'_\n",
    "\n",
    "Add prediction columns: \"High\" for predict positive (will_recid), \"Low\" for predict negative (not_recid)"
   ]
  },
  {
   "cell_type": "code",
   "execution_count": 70,
   "metadata": {
    "collapsed": true
   },
   "outputs": [],
   "source": [
    "df = df %>%\n",
    "    mutate(pred_recid=score_text==\"High\",\n",
    "           pred_violent_recid=v_score_text==\"High\",\n",
    "           pred_low=score_text==\"Low\",\n",
    "           pred_violent_low=v_score_text==\"Low\")"
   ]
  },
  {
   "cell_type": "markdown",
   "metadata": {},
   "source": [
    "**Precision**\n",
    "\n",
    "Recidivism"
   ]
  },
  {
   "cell_type": "code",
   "execution_count": 71,
   "metadata": {},
   "outputs": [
    {
     "data": {
      "text/html": [
       "<table>\n",
       "<thead><tr><th scope=col>score_text</th><th scope=col>Precision</th></tr></thead>\n",
       "<tbody>\n",
       "\t<tr><td>High     </td><td>0.7666084</td></tr>\n",
       "</tbody>\n",
       "</table>\n"
      ],
      "text/latex": [
       "\\begin{tabular}{r|ll}\n",
       " score\\_text & Precision\\\\\n",
       "\\hline\n",
       "\t High      & 0.7666084\\\\\n",
       "\\end{tabular}\n"
      ],
      "text/markdown": [
       "\n",
       "score_text | Precision | \n",
       "|---|\n",
       "| High      | 0.7666084 | \n",
       "\n",
       "\n"
      ],
      "text/plain": [
       "  score_text Precision\n",
       "1 High       0.7666084"
      ]
     },
     "metadata": {},
     "output_type": "display_data"
    }
   ],
   "source": [
    "df %>%\n",
    "    filter(score_text==\"High\") %>%\n",
    "    group_by(score_text) %>%\n",
    "    summarize(Precision=mean(is_recid)) %>%\n",
    "    ungroup()"
   ]
  },
  {
   "cell_type": "markdown",
   "metadata": {},
   "source": [
    "violent recidivism"
   ]
  },
  {
   "cell_type": "code",
   "execution_count": 72,
   "metadata": {},
   "outputs": [
    {
     "data": {
      "text/html": [
       "<table>\n",
       "<thead><tr><th scope=col>v_score_text</th><th scope=col>Precision</th></tr></thead>\n",
       "<tbody>\n",
       "\t<tr><td>High     </td><td>0.2431507</td></tr>\n",
       "</tbody>\n",
       "</table>\n"
      ],
      "text/latex": [
       "\\begin{tabular}{r|ll}\n",
       " v\\_score\\_text & Precision\\\\\n",
       "\\hline\n",
       "\t High      & 0.2431507\\\\\n",
       "\\end{tabular}\n"
      ],
      "text/markdown": [
       "\n",
       "v_score_text | Precision | \n",
       "|---|\n",
       "| High      | 0.2431507 | \n",
       "\n",
       "\n"
      ],
      "text/plain": [
       "  v_score_text Precision\n",
       "1 High         0.2431507"
      ]
     },
     "metadata": {},
     "output_type": "display_data"
    }
   ],
   "source": [
    "df %>%\n",
    "    filter(v_score_text==\"High\") %>%\n",
    "    group_by(v_score_text) %>%\n",
    "    summarize(Precision=mean(is_violent_recid)) %>%\n",
    "    ungroup()"
   ]
  },
  {
   "cell_type": "markdown",
   "metadata": {},
   "source": [
    "**Recall**\n",
    "\n",
    "Recidivism"
   ]
  },
  {
   "cell_type": "code",
   "execution_count": 73,
   "metadata": {},
   "outputs": [
    {
     "data": {
      "text/html": [
       "<table>\n",
       "<thead><tr><th scope=col>is_recid</th><th scope=col>Recall</th></tr></thead>\n",
       "<tbody>\n",
       "\t<tr><td>TRUE    </td><td>0.293311</td></tr>\n",
       "</tbody>\n",
       "</table>\n"
      ],
      "text/latex": [
       "\\begin{tabular}{r|ll}\n",
       " is\\_recid & Recall\\\\\n",
       "\\hline\n",
       "\t TRUE     & 0.293311\\\\\n",
       "\\end{tabular}\n"
      ],
      "text/markdown": [
       "\n",
       "is_recid | Recall | \n",
       "|---|\n",
       "| TRUE     | 0.293311 | \n",
       "\n",
       "\n"
      ],
      "text/plain": [
       "  is_recid Recall  \n",
       "1 TRUE     0.293311"
      ]
     },
     "metadata": {},
     "output_type": "display_data"
    }
   ],
   "source": [
    "df %>%\n",
    "    filter(is_recid==TRUE) %>%\n",
    "    group_by(is_recid) %>%\n",
    "    summarize(Recall=mean(pred_recid)) %>%\n",
    "    ungroup()"
   ]
  },
  {
   "cell_type": "markdown",
   "metadata": {},
   "source": [
    "violent recidivism"
   ]
  },
  {
   "cell_type": "code",
   "execution_count": 74,
   "metadata": {},
   "outputs": [
    {
     "data": {
      "text/html": [
       "<table>\n",
       "<thead><tr><th scope=col>is_violent_recid</th><th scope=col>Recall</th></tr></thead>\n",
       "<tbody>\n",
       "\t<tr><td>TRUE     </td><td>0.2052023</td></tr>\n",
       "</tbody>\n",
       "</table>\n"
      ],
      "text/latex": [
       "\\begin{tabular}{r|ll}\n",
       " is\\_violent\\_recid & Recall\\\\\n",
       "\\hline\n",
       "\t TRUE      & 0.2052023\\\\\n",
       "\\end{tabular}\n"
      ],
      "text/markdown": [
       "\n",
       "is_violent_recid | Recall | \n",
       "|---|\n",
       "| TRUE      | 0.2052023 | \n",
       "\n",
       "\n"
      ],
      "text/plain": [
       "  is_violent_recid Recall   \n",
       "1 TRUE             0.2052023"
      ]
     },
     "metadata": {},
     "output_type": "display_data"
    }
   ],
   "source": [
    "df %>%\n",
    "    filter(is_violent_recid==TRUE) %>%\n",
    "    group_by(is_violent_recid) %>%\n",
    "    summarize(Recall=mean(pred_violent_recid)) %>%\n",
    "    ungroup()"
   ]
  },
  {
   "cell_type": "markdown",
   "metadata": {},
   "source": [
    "**Fasle Positive Rate**\n",
    "\n",
    "Recidivism"
   ]
  },
  {
   "cell_type": "code",
   "execution_count": 75,
   "metadata": {},
   "outputs": [
    {
     "data": {
      "text/html": [
       "<table>\n",
       "<thead><tr><th scope=col>is_recid</th><th scope=col>FaslePositiveRate</th></tr></thead>\n",
       "<tbody>\n",
       "\t<tr><td>FALSE     </td><td>0.08390949</td></tr>\n",
       "</tbody>\n",
       "</table>\n"
      ],
      "text/latex": [
       "\\begin{tabular}{r|ll}\n",
       " is\\_recid & FaslePositiveRate\\\\\n",
       "\\hline\n",
       "\t FALSE      & 0.08390949\\\\\n",
       "\\end{tabular}\n"
      ],
      "text/markdown": [
       "\n",
       "is_recid | FaslePositiveRate | \n",
       "|---|\n",
       "| FALSE      | 0.08390949 | \n",
       "\n",
       "\n"
      ],
      "text/plain": [
       "  is_recid FaslePositiveRate\n",
       "1 FALSE    0.08390949       "
      ]
     },
     "metadata": {},
     "output_type": "display_data"
    }
   ],
   "source": [
    "df %>%\n",
    "    filter(is_recid==FALSE) %>%\n",
    "    group_by(is_recid) %>%\n",
    "    summarize(FaslePositiveRate=mean(pred_recid)) %>%\n",
    "    ungroup()"
   ]
  },
  {
   "cell_type": "markdown",
   "metadata": {},
   "source": [
    "violent recidivism"
   ]
  },
  {
   "cell_type": "code",
   "execution_count": 76,
   "metadata": {},
   "outputs": [
    {
     "data": {
      "text/html": [
       "<table>\n",
       "<thead><tr><th scope=col>is_violent_recid</th><th scope=col>FaslePositiveRate</th></tr></thead>\n",
       "<tbody>\n",
       "\t<tr><td>FALSE     </td><td>0.08065693</td></tr>\n",
       "</tbody>\n",
       "</table>\n"
      ],
      "text/latex": [
       "\\begin{tabular}{r|ll}\n",
       " is\\_violent\\_recid & FaslePositiveRate\\\\\n",
       "\\hline\n",
       "\t FALSE      & 0.08065693\\\\\n",
       "\\end{tabular}\n"
      ],
      "text/markdown": [
       "\n",
       "is_violent_recid | FaslePositiveRate | \n",
       "|---|\n",
       "| FALSE      | 0.08065693 | \n",
       "\n",
       "\n"
      ],
      "text/plain": [
       "  is_violent_recid FaslePositiveRate\n",
       "1 FALSE            0.08065693       "
      ]
     },
     "metadata": {},
     "output_type": "display_data"
    }
   ],
   "source": [
    "df %>%\n",
    "    filter(is_violent_recid==FALSE) %>%\n",
    "    group_by(is_violent_recid) %>%\n",
    "    summarize(FaslePositiveRate=mean(pred_violent_recid)) %>%\n",
    "    ungroup()"
   ]
  },
  {
   "cell_type": "markdown",
   "metadata": {},
   "source": [
    "**False Negative Rate**\n",
    "\n",
    "Recidivism"
   ]
  },
  {
   "cell_type": "code",
   "execution_count": 77,
   "metadata": {},
   "outputs": [
    {
     "data": {
      "text/html": [
       "<table>\n",
       "<thead><tr><th scope=col>is_recid</th><th scope=col>FasleNegativeRate</th></tr></thead>\n",
       "<tbody>\n",
       "\t<tr><td>TRUE     </td><td>0.3923077</td></tr>\n",
       "</tbody>\n",
       "</table>\n"
      ],
      "text/latex": [
       "\\begin{tabular}{r|ll}\n",
       " is\\_recid & FasleNegativeRate\\\\\n",
       "\\hline\n",
       "\t TRUE      & 0.3923077\\\\\n",
       "\\end{tabular}\n"
      ],
      "text/markdown": [
       "\n",
       "is_recid | FasleNegativeRate | \n",
       "|---|\n",
       "| TRUE      | 0.3923077 | \n",
       "\n",
       "\n"
      ],
      "text/plain": [
       "  is_recid FasleNegativeRate\n",
       "1 TRUE     0.3923077        "
      ]
     },
     "metadata": {},
     "output_type": "display_data"
    }
   ],
   "source": [
    "df %>%\n",
    "    filter(is_recid==TRUE) %>%\n",
    "    group_by(is_recid) %>%\n",
    "    summarize(FasleNegativeRate=mean(pred_low)) %>%\n",
    "    ungroup()"
   ]
  },
  {
   "cell_type": "markdown",
   "metadata": {},
   "source": [
    "violent recidivism"
   ]
  },
  {
   "cell_type": "code",
   "execution_count": 78,
   "metadata": {},
   "outputs": [
    {
     "data": {
      "text/html": [
       "<table>\n",
       "<thead><tr><th scope=col>is_violent_recid</th><th scope=col>FasleNegativeRate</th></tr></thead>\n",
       "<tbody>\n",
       "\t<tr><td>TRUE     </td><td>0.4710983</td></tr>\n",
       "</tbody>\n",
       "</table>\n"
      ],
      "text/latex": [
       "\\begin{tabular}{r|ll}\n",
       " is\\_violent\\_recid & FasleNegativeRate\\\\\n",
       "\\hline\n",
       "\t TRUE      & 0.4710983\\\\\n",
       "\\end{tabular}\n"
      ],
      "text/markdown": [
       "\n",
       "is_violent_recid | FasleNegativeRate | \n",
       "|---|\n",
       "| TRUE      | 0.4710983 | \n",
       "\n",
       "\n"
      ],
      "text/plain": [
       "  is_violent_recid FasleNegativeRate\n",
       "1 TRUE             0.4710983        "
      ]
     },
     "metadata": {},
     "output_type": "display_data"
    }
   ],
   "source": [
    "df %>%\n",
    "    filter(is_violent_recid==TRUE) %>%\n",
    "    group_by(is_violent_recid) %>%\n",
    "    summarize(FasleNegativeRate=mean(pred_violent_low)) %>%\n",
    "    ungroup()"
   ]
  },
  {
   "cell_type": "markdown",
   "metadata": {},
   "source": [
    "We want to look at racial disparities among groups: _Caucasian_, _Black_, and _Hispanic_.\n",
    "\n",
    "filter data"
   ]
  },
  {
   "cell_type": "code",
   "execution_count": 79,
   "metadata": {
    "collapsed": true
   },
   "outputs": [],
   "source": [
    "df.race = df %>% filter(race %in% c(\"African-American\", \"Caucasian\", \"Hispanic\"))"
   ]
  },
  {
   "cell_type": "markdown",
   "metadata": {},
   "source": [
    "1. The likelihood that a defendant with each of the three risk score levels recidivates."
   ]
  },
  {
   "cell_type": "code",
   "execution_count": 80,
   "metadata": {
    "collapsed": true
   },
   "outputs": [],
   "source": [
    "recid.likelihood = df.race %>% \n",
    "    select(race, score_text, is_recid) %>%\n",
    "    group_by(race, score_text) %>%\n",
    "    summarize(recid_likelihood=mean(is_recid)) %>%\n",
    "    ungroup()\n",
    "\n",
    "v.recid.likelihood = df.race %>% \n",
    "    select(race, v_score_text, is_violent_recid) %>%\n",
    "    group_by(race, v_score_text) %>%\n",
    "    summarize(v_recid_likelihood=mean(is_violent_recid)) %>%\n",
    "    ungroup() %>%\n",
    "    rename(score_text=v_score_text,\n",
    "           recid_likelihood=v_recid_likelihood)\n",
    "\n",
    "likelihood = bind_rows(Recidivism=recid.likelihood,\n",
    "          ViolentRecidivism=v.recid.likelihood,\n",
    "          .id=\"RecidivismType\")"
   ]
  },
  {
   "cell_type": "markdown",
   "metadata": {},
   "source": [
    "Barplot of the likelihood"
   ]
  },
  {
   "cell_type": "code",
   "execution_count": 81,
   "metadata": {},
   "outputs": [
    {
     "data": {},
     "metadata": {},
     "output_type": "display_data"
    },
    {
     "data": {
      "image/png": "[encoded data removed]",
      "text/plain": [
       "plot without title"
      ]
     },
     "metadata": {},
     "output_type": "display_data"
    }
   ],
   "source": [
    "ggplot(likelihood) +\n",
    "    aes(x=score_text, y=recid_likelihood) + \n",
    "    geom_bar(stat=\"identity\") +\n",
    "    geom_text(mapping=aes(label=round(recid_likelihood,2)), \n",
    "                          vjust=-0.1, \n",
    "                          size=2.5) +\n",
    "    facet_grid(RecidivismType~race, scales=\"free\")"
   ]
  },
  {
   "cell_type": "markdown",
   "metadata": {},
   "source": [
    "It looks like the likelihood trend matches the prediction risk score level. High level has high likelihood of recidivate."
   ]
  },
  {
   "cell_type": "markdown",
   "metadata": {},
   "source": [
    "2.Compute the False Positive Rate for each race"
   ]
  },
  {
   "cell_type": "code",
   "execution_count": 82,
   "metadata": {},
   "outputs": [
    {
     "data": {
      "text/html": [
       "<table>\n",
       "<thead><tr><th scope=col>RecidivismType</th><th scope=col>race</th><th scope=col>FaslePositiveRate</th></tr></thead>\n",
       "<tbody>\n",
       "\t<tr><td>Recidivism       </td><td>African-American </td><td>0.13552068       </td></tr>\n",
       "\t<tr><td>Recidivism       </td><td>Caucasian        </td><td>0.04556550       </td></tr>\n",
       "\t<tr><td>Recidivism       </td><td>Hispanic         </td><td>0.05769231       </td></tr>\n",
       "\t<tr><td>ViolentRecidivism</td><td>African-American </td><td>0.12149873       </td></tr>\n",
       "\t<tr><td>ViolentRecidivism</td><td>Caucasian        </td><td>0.04016693       </td></tr>\n",
       "\t<tr><td>ViolentRecidivism</td><td>Hispanic         </td><td>0.04883227       </td></tr>\n",
       "</tbody>\n",
       "</table>\n"
      ],
      "text/latex": [
       "\\begin{tabular}{r|lll}\n",
       " RecidivismType & race & FaslePositiveRate\\\\\n",
       "\\hline\n",
       "\t Recidivism        & African-American  & 0.13552068       \\\\\n",
       "\t Recidivism        & Caucasian         & 0.04556550       \\\\\n",
       "\t Recidivism        & Hispanic          & 0.05769231       \\\\\n",
       "\t ViolentRecidivism & African-American  & 0.12149873       \\\\\n",
       "\t ViolentRecidivism & Caucasian         & 0.04016693       \\\\\n",
       "\t ViolentRecidivism & Hispanic          & 0.04883227       \\\\\n",
       "\\end{tabular}\n"
      ],
      "text/markdown": [
       "\n",
       "RecidivismType | race | FaslePositiveRate | \n",
       "|---|---|---|---|---|---|\n",
       "| Recidivism        | African-American  | 0.13552068        | \n",
       "| Recidivism        | Caucasian         | 0.04556550        | \n",
       "| Recidivism        | Hispanic          | 0.05769231        | \n",
       "| ViolentRecidivism | African-American  | 0.12149873        | \n",
       "| ViolentRecidivism | Caucasian         | 0.04016693        | \n",
       "| ViolentRecidivism | Hispanic          | 0.04883227        | \n",
       "\n",
       "\n"
      ],
      "text/plain": [
       "  RecidivismType    race             FaslePositiveRate\n",
       "1 Recidivism        African-American 0.13552068       \n",
       "2 Recidivism        Caucasian        0.04556550       \n",
       "3 Recidivism        Hispanic         0.05769231       \n",
       "4 ViolentRecidivism African-American 0.12149873       \n",
       "5 ViolentRecidivism Caucasian        0.04016693       \n",
       "6 ViolentRecidivism Hispanic         0.04883227       "
      ]
     },
     "metadata": {},
     "output_type": "display_data"
    }
   ],
   "source": [
    "recid.fp = df.race %>%\n",
    "    filter(is_recid==FALSE) %>%\n",
    "    group_by(race) %>% \n",
    "    summarize(FaslePositiveRate=mean(pred_recid)) %>%\n",
    "    ungroup()\n",
    "\n",
    "v.recid.fp = df.race %>%\n",
    "    filter(is_violent_recid==FALSE) %>%\n",
    "    group_by(race) %>% \n",
    "    summarize(FaslePositiveRate=mean(pred_violent_recid)) %>%\n",
    "    ungroup()\n",
    "\n",
    "race.recid.fp = bind_rows(Recidivism=recid.fp,\n",
    "          ViolentRecidivism=v.recid.fp,\n",
    "          .id=\"RecidivismType\")\n",
    "race.recid.fp"
   ]
  },
  {
   "cell_type": "markdown",
   "metadata": {},
   "source": [
    "Barplot of the False Positive Rate"
   ]
  },
  {
   "cell_type": "code",
   "execution_count": 83,
   "metadata": {},
   "outputs": [
    {
     "data": {},
     "metadata": {},
     "output_type": "display_data"
    },
    {
     "data": {
      "image/png": "[encoded data removed]",
      "text/plain": [
       "plot without title"
      ]
     },
     "metadata": {},
     "output_type": "display_data"
    }
   ],
   "source": [
    "ggplot(race.recid.fp) +\n",
    "    aes(x=race, y=FaslePositiveRate) +\n",
    "    geom_bar(stat=\"identity\") +\n",
    "    geom_text(mapping=aes(label=round(FaslePositiveRate,2)), \n",
    "                          vjust=-0.1, \n",
    "                          size=3) +\n",
    "    facet_wrap(~RecidivismType, scales=\"free\")"
   ]
  },
  {
   "cell_type": "markdown",
   "metadata": {},
   "source": [
    "3.Compute the False Negative Rate for each race"
   ]
  },
  {
   "cell_type": "code",
   "execution_count": 54,
   "metadata": {},
   "outputs": [
    {
     "data": {
      "text/html": [
       "<table>\n",
       "<thead><tr><th scope=col>RecidivismType</th><th scope=col>race</th><th scope=col>FasleNegativeRate</th></tr></thead>\n",
       "<tbody>\n",
       "\t<tr><td>Recidivism       </td><td>African-American </td><td>0.2961083        </td></tr>\n",
       "\t<tr><td>Recidivism       </td><td>Caucasian        </td><td>0.5080092        </td></tr>\n",
       "\t<tr><td>Recidivism       </td><td>Hispanic         </td><td>0.5736041        </td></tr>\n",
       "\t<tr><td>ViolentRecidivism</td><td>African-American </td><td>0.3873239        </td></tr>\n",
       "\t<tr><td>ViolentRecidivism</td><td>Caucasian        </td><td>0.6290323        </td></tr>\n",
       "\t<tr><td>ViolentRecidivism</td><td>Hispanic         </td><td>0.6578947        </td></tr>\n",
       "</tbody>\n",
       "</table>\n"
      ],
      "text/latex": [
       "\\begin{tabular}{r|lll}\n",
       " RecidivismType & race & FasleNegativeRate\\\\\n",
       "\\hline\n",
       "\t Recidivism        & African-American  & 0.2961083        \\\\\n",
       "\t Recidivism        & Caucasian         & 0.5080092        \\\\\n",
       "\t Recidivism        & Hispanic          & 0.5736041        \\\\\n",
       "\t ViolentRecidivism & African-American  & 0.3873239        \\\\\n",
       "\t ViolentRecidivism & Caucasian         & 0.6290323        \\\\\n",
       "\t ViolentRecidivism & Hispanic          & 0.6578947        \\\\\n",
       "\\end{tabular}\n"
      ],
      "text/markdown": [
       "\n",
       "RecidivismType | race | FasleNegativeRate | \n",
       "|---|---|---|---|---|---|\n",
       "| Recidivism        | African-American  | 0.2961083         | \n",
       "| Recidivism        | Caucasian         | 0.5080092         | \n",
       "| Recidivism        | Hispanic          | 0.5736041         | \n",
       "| ViolentRecidivism | African-American  | 0.3873239         | \n",
       "| ViolentRecidivism | Caucasian         | 0.6290323         | \n",
       "| ViolentRecidivism | Hispanic          | 0.6578947         | \n",
       "\n",
       "\n"
      ],
      "text/plain": [
       "  RecidivismType    race             FasleNegativeRate\n",
       "1 Recidivism        African-American 0.2961083        \n",
       "2 Recidivism        Caucasian        0.5080092        \n",
       "3 Recidivism        Hispanic         0.5736041        \n",
       "4 ViolentRecidivism African-American 0.3873239        \n",
       "5 ViolentRecidivism Caucasian        0.6290323        \n",
       "6 ViolentRecidivism Hispanic         0.6578947        "
      ]
     },
     "metadata": {},
     "output_type": "display_data"
    }
   ],
   "source": [
    "recid.fn = df.race %>%\n",
    "    filter(is_recid==TRUE) %>%\n",
    "    group_by(race) %>% \n",
    "    summarize(FasleNegativeRate=mean(pred_low)) %>%\n",
    "    ungroup()\n",
    "\n",
    "v.recid.fn = df.race %>%\n",
    "    filter(is_violent_recid==TRUE) %>%\n",
    "    group_by(race) %>% \n",
    "    summarize(FasleNegativeRate=mean(pred_violent_low)) %>%\n",
    "    ungroup()\n",
    "\n",
    "race.recid.fn = bind_rows(Recidivism=recid.fn,\n",
    "          ViolentRecidivism=v.recid.fn,\n",
    "          .id=\"RecidivismType\")\n",
    "race.recid.fn"
   ]
  },
  {
   "cell_type": "markdown",
   "metadata": {},
   "source": [
    "Barplot of the False Negative Rate for each race"
   ]
  },
  {
   "cell_type": "code",
   "execution_count": 55,
   "metadata": {},
   "outputs": [
    {
     "data": {},
     "metadata": {},
     "output_type": "display_data"
    },
    {
     "data": {
      "image/png": "[encoded data removed]",
      "text/plain": [
       "plot without title"
      ]
     },
     "metadata": {},
     "output_type": "display_data"
    }
   ],
   "source": [
    "ggplot(race.recid.fn) +\n",
    "    aes(x=race, y=FasleNegativeRate) +\n",
    "    geom_bar(stat=\"identity\") +\n",
    "    geom_text(mapping=aes(label=round(FasleNegativeRate,2)), \n",
    "                          vjust=-0.1, \n",
    "                          size=3) +\n",
    "    facet_wrap(~RecidivismType, scales=\"free\")"
   ]
  },
  {
   "cell_type": "markdown",
   "metadata": {},
   "source": [
    "4.Compute the Positive Predictive Value (Precision) for each race"
   ]
  },
  {
   "cell_type": "code",
   "execution_count": 56,
   "metadata": {},
   "outputs": [
    {
     "data": {
      "text/html": [
       "<table>\n",
       "<thead><tr><th scope=col>RecidivismType</th><th scope=col>race</th><th scope=col>PPV</th></tr></thead>\n",
       "<tbody>\n",
       "\t<tr><td>Recidivism       </td><td>African-American </td><td>0.7751479        </td></tr>\n",
       "\t<tr><td>Recidivism       </td><td>Caucasian        </td><td>0.7488789        </td></tr>\n",
       "\t<tr><td>Recidivism       </td><td>Hispanic         </td><td>0.6170213        </td></tr>\n",
       "\t<tr><td>ViolentRecidivism</td><td>African-American </td><td>0.2391800        </td></tr>\n",
       "\t<tr><td>ViolentRecidivism</td><td>Caucasian        </td><td>0.2061856        </td></tr>\n",
       "\t<tr><td>ViolentRecidivism</td><td>Hispanic         </td><td>0.2068966        </td></tr>\n",
       "</tbody>\n",
       "</table>\n"
      ],
      "text/latex": [
       "\\begin{tabular}{r|lll}\n",
       " RecidivismType & race & PPV\\\\\n",
       "\\hline\n",
       "\t Recidivism        & African-American  & 0.7751479        \\\\\n",
       "\t Recidivism        & Caucasian         & 0.7488789        \\\\\n",
       "\t Recidivism        & Hispanic          & 0.6170213        \\\\\n",
       "\t ViolentRecidivism & African-American  & 0.2391800        \\\\\n",
       "\t ViolentRecidivism & Caucasian         & 0.2061856        \\\\\n",
       "\t ViolentRecidivism & Hispanic          & 0.2068966        \\\\\n",
       "\\end{tabular}\n"
      ],
      "text/markdown": [
       "\n",
       "RecidivismType | race | PPV | \n",
       "|---|---|---|---|---|---|\n",
       "| Recidivism        | African-American  | 0.7751479         | \n",
       "| Recidivism        | Caucasian         | 0.7488789         | \n",
       "| Recidivism        | Hispanic          | 0.6170213         | \n",
       "| ViolentRecidivism | African-American  | 0.2391800         | \n",
       "| ViolentRecidivism | Caucasian         | 0.2061856         | \n",
       "| ViolentRecidivism | Hispanic          | 0.2068966         | \n",
       "\n",
       "\n"
      ],
      "text/plain": [
       "  RecidivismType    race             PPV      \n",
       "1 Recidivism        African-American 0.7751479\n",
       "2 Recidivism        Caucasian        0.7488789\n",
       "3 Recidivism        Hispanic         0.6170213\n",
       "4 ViolentRecidivism African-American 0.2391800\n",
       "5 ViolentRecidivism Caucasian        0.2061856\n",
       "6 ViolentRecidivism Hispanic         0.2068966"
      ]
     },
     "metadata": {},
     "output_type": "display_data"
    }
   ],
   "source": [
    "recid.PPV = df.race %>%\n",
    "    filter(pred_recid==TRUE) %>%\n",
    "    group_by(race) %>% \n",
    "    summarize(PPV=mean(is_recid)) %>%\n",
    "    ungroup()\n",
    "\n",
    "v.recid.PPV = df.race %>%\n",
    "    filter(pred_violent_recid==TRUE) %>%\n",
    "    group_by(race) %>% \n",
    "    summarize(PPV=mean(is_violent_recid)) %>%\n",
    "    ungroup()\n",
    "\n",
    "race.recid.PPV = bind_rows(Recidivism=recid.PPV,\n",
    "                           ViolentRecidivism=v.recid.PPV,\n",
    "                           .id=\"RecidivismType\")\n",
    "race.recid.PPV"
   ]
  },
  {
   "cell_type": "code",
   "execution_count": 57,
   "metadata": {},
   "outputs": [
    {
     "data": {},
     "metadata": {},
     "output_type": "display_data"
    },
    {
     "data": {
      "image/png": "[encoded data removed]",
      "text/plain": [
       "plot without title"
      ]
     },
     "metadata": {},
     "output_type": "display_data"
    }
   ],
   "source": [
    "ggplot(race.recid.PPV) +\n",
    "    aes(x=race, y=PPV) +\n",
    "    geom_bar(stat=\"identity\") +\n",
    "    geom_text(mapping=aes(label=round(PPV,2)), \n",
    "                          vjust=-0.1, \n",
    "                          size=3) +\n",
    "    facet_wrap(~RecidivismType, scales=\"free\")"
   ]
  },
  {
   "cell_type": "markdown",
   "metadata": {},
   "source": [
    "5.Compute the Negative Predictive Value for each race"
   ]
  },
  {
   "cell_type": "code",
   "execution_count": 61,
   "metadata": {},
   "outputs": [
    {
     "data": {
      "text/html": [
       "<table>\n",
       "<thead><tr><th scope=col>RecidivismType</th><th scope=col>race</th><th scope=col>NegativePredictiveValue</th></tr></thead>\n",
       "<tbody>\n",
       "\t<tr><td>Recidivism       </td><td>African-American </td><td>0.39004458       </td></tr>\n",
       "\t<tr><td>Recidivism       </td><td>Caucasian        </td><td>0.31556503       </td></tr>\n",
       "\t<tr><td>Recidivism       </td><td>Hispanic         </td><td>0.30706522       </td></tr>\n",
       "\t<tr><td>ViolentRecidivism</td><td>African-American </td><td>0.09223030       </td></tr>\n",
       "\t<tr><td>ViolentRecidivism</td><td>Caucasian        </td><td>0.07099515       </td></tr>\n",
       "\t<tr><td>ViolentRecidivism</td><td>Hispanic         </td><td>0.06596306       </td></tr>\n",
       "</tbody>\n",
       "</table>\n"
      ],
      "text/latex": [
       "\\begin{tabular}{r|lll}\n",
       " RecidivismType & race & NegativePredictiveValue\\\\\n",
       "\\hline\n",
       "\t Recidivism        & African-American  & 0.39004458       \\\\\n",
       "\t Recidivism        & Caucasian         & 0.31556503       \\\\\n",
       "\t Recidivism        & Hispanic          & 0.30706522       \\\\\n",
       "\t ViolentRecidivism & African-American  & 0.09223030       \\\\\n",
       "\t ViolentRecidivism & Caucasian         & 0.07099515       \\\\\n",
       "\t ViolentRecidivism & Hispanic          & 0.06596306       \\\\\n",
       "\\end{tabular}\n"
      ],
      "text/markdown": [
       "\n",
       "RecidivismType | race | NegativePredictiveValue | \n",
       "|---|---|---|---|---|---|\n",
       "| Recidivism        | African-American  | 0.39004458        | \n",
       "| Recidivism        | Caucasian         | 0.31556503        | \n",
       "| Recidivism        | Hispanic          | 0.30706522        | \n",
       "| ViolentRecidivism | African-American  | 0.09223030        | \n",
       "| ViolentRecidivism | Caucasian         | 0.07099515        | \n",
       "| ViolentRecidivism | Hispanic          | 0.06596306        | \n",
       "\n",
       "\n"
      ],
      "text/plain": [
       "  RecidivismType    race             NegativePredictiveValue\n",
       "1 Recidivism        African-American 0.39004458             \n",
       "2 Recidivism        Caucasian        0.31556503             \n",
       "3 Recidivism        Hispanic         0.30706522             \n",
       "4 ViolentRecidivism African-American 0.09223030             \n",
       "5 ViolentRecidivism Caucasian        0.07099515             \n",
       "6 ViolentRecidivism Hispanic         0.06596306             "
      ]
     },
     "metadata": {},
     "output_type": "display_data"
    }
   ],
   "source": [
    "recid.NPV = df.race %>%\n",
    "    filter(pred_low==TRUE) %>%\n",
    "    group_by(race) %>% \n",
    "    summarize(NegativePredictiveValue=mean(is_recid)) %>%\n",
    "    ungroup()\n",
    "\n",
    "v.recid.NPV = df.race %>%\n",
    "    filter(pred_violent_low==TRUE) %>%\n",
    "    group_by(race) %>% \n",
    "    summarize(NegativePredictiveValue=mean(is_violent_recid)) %>%\n",
    "    ungroup()\n",
    "\n",
    "race.recid.NPV = bind_rows(Recidivism=recid.NPV,\n",
    "                           ViolentRecidivism=v.recid.NPV,\n",
    "                           .id=\"RecidivismType\")\n",
    "race.recid.NPV"
   ]
  },
  {
   "cell_type": "markdown",
   "metadata": {},
   "source": [
    "Barplot"
   ]
  },
  {
   "cell_type": "code",
   "execution_count": 62,
   "metadata": {},
   "outputs": [
    {
     "data": {},
     "metadata": {},
     "output_type": "display_data"
    },
    {
     "data": {
      "image/png": "[encoded data removed]",
      "text/plain": [
       "plot without title"
      ]
     },
     "metadata": {},
     "output_type": "display_data"
    }
   ],
   "source": [
    "ggplot(race.recid.NPV) +\n",
    "    aes(x=race, y=NegativePredictiveValue) +\n",
    "    geom_bar(stat=\"identity\") +\n",
    "    geom_text(mapping=aes(label=round(NegativePredictiveValue,2)), \n",
    "                          vjust=-0.1, \n",
    "                          size=3) +\n",
    "    facet_wrap(~RecidivismType, scales=\"free\")"
   ]
  },
  {
   "cell_type": "markdown",
   "metadata": {},
   "source": [
    "6.Plot ROC for each race"
   ]
  },
  {
   "cell_type": "code",
   "execution_count": 63,
   "metadata": {},
   "outputs": [
    {
     "data": {
      "text/html": [
       "<table>\n",
       "<thead><tr><th scope=col>RecidivismType</th><th scope=col>is_recid</th><th scope=col>decile_score</th><th scope=col>race</th></tr></thead>\n",
       "<tbody>\n",
       "\t<tr><td>Recidivism      </td><td> TRUE           </td><td>3               </td><td>African-American</td></tr>\n",
       "\t<tr><td>Recidivism      </td><td> TRUE           </td><td>4               </td><td>African-American</td></tr>\n",
       "\t<tr><td>Recidivism      </td><td> TRUE           </td><td>6               </td><td>Caucasian       </td></tr>\n",
       "\t<tr><td>Recidivism      </td><td>FALSE           </td><td>1               </td><td>Caucasian       </td></tr>\n",
       "\t<tr><td>Recidivism      </td><td>FALSE           </td><td>4               </td><td>Caucasian       </td></tr>\n",
       "\t<tr><td>⋮</td><td>⋮</td><td>⋮</td><td>⋮</td></tr>\n",
       "\t<tr><td>ViolentRecidivism</td><td>FALSE            </td><td>9                </td><td>African-American </td></tr>\n",
       "\t<tr><td>ViolentRecidivism</td><td>FALSE            </td><td>5                </td><td>African-American </td></tr>\n",
       "\t<tr><td>ViolentRecidivism</td><td>FALSE            </td><td>5                </td><td>African-American </td></tr>\n",
       "\t<tr><td>ViolentRecidivism</td><td>FALSE            </td><td>2                </td><td>African-American </td></tr>\n",
       "\t<tr><td>ViolentRecidivism</td><td>FALSE            </td><td>4                </td><td>Hispanic         </td></tr>\n",
       "</tbody>\n",
       "</table>\n"
      ],
      "text/latex": [
       "\\begin{tabular}{r|llll}\n",
       " RecidivismType & is\\_recid & decile\\_score & race\\\\\n",
       "\\hline\n",
       "\t Recidivism       &  TRUE            & 3                & African-American\\\\\n",
       "\t Recidivism       &  TRUE            & 4                & African-American\\\\\n",
       "\t Recidivism       &  TRUE            & 6                & Caucasian       \\\\\n",
       "\t Recidivism       & FALSE            & 1                & Caucasian       \\\\\n",
       "\t Recidivism       & FALSE            & 4                & Caucasian       \\\\\n",
       "\t ⋮ & ⋮ & ⋮ & ⋮\\\\\n",
       "\t ViolentRecidivism & FALSE             & 9                 & African-American \\\\\n",
       "\t ViolentRecidivism & FALSE             & 5                 & African-American \\\\\n",
       "\t ViolentRecidivism & FALSE             & 5                 & African-American \\\\\n",
       "\t ViolentRecidivism & FALSE             & 2                 & African-American \\\\\n",
       "\t ViolentRecidivism & FALSE             & 4                 & Hispanic         \\\\\n",
       "\\end{tabular}\n"
      ],
      "text/markdown": [
       "\n",
       "RecidivismType | is_recid | decile_score | race | \n",
       "|---|---|---|---|---|---|---|---|---|---|---|\n",
       "| Recidivism       |  TRUE            | 3                | African-American | \n",
       "| Recidivism       |  TRUE            | 4                | African-American | \n",
       "| Recidivism       |  TRUE            | 6                | Caucasian        | \n",
       "| Recidivism       | FALSE            | 1                | Caucasian        | \n",
       "| Recidivism       | FALSE            | 4                | Caucasian        | \n",
       "| ⋮ | ⋮ | ⋮ | ⋮ | \n",
       "| ViolentRecidivism | FALSE             | 9                 | African-American  | \n",
       "| ViolentRecidivism | FALSE             | 5                 | African-American  | \n",
       "| ViolentRecidivism | FALSE             | 5                 | African-American  | \n",
       "| ViolentRecidivism | FALSE             | 2                 | African-American  | \n",
       "| ViolentRecidivism | FALSE             | 4                 | Hispanic          | \n",
       "\n",
       "\n"
      ],
      "text/plain": [
       "      RecidivismType    is_recid decile_score race            \n",
       "1     Recidivism         TRUE    3            African-American\n",
       "2     Recidivism         TRUE    4            African-American\n",
       "3     Recidivism         TRUE    6            Caucasian       \n",
       "4     Recidivism        FALSE    1            Caucasian       \n",
       "5     Recidivism        FALSE    4            Caucasian       \n",
       "⋮     ⋮                 ⋮        ⋮            ⋮               \n",
       "11570 ViolentRecidivism FALSE    9            African-American\n",
       "11571 ViolentRecidivism FALSE    5            African-American\n",
       "11572 ViolentRecidivism FALSE    5            African-American\n",
       "11573 ViolentRecidivism FALSE    2            African-American\n",
       "11574 ViolentRecidivism FALSE    4            Hispanic        "
      ]
     },
     "metadata": {},
     "output_type": "display_data"
    }
   ],
   "source": [
    "recid.roc = df.race %>%\n",
    "    select(is_recid, decile_score, race)\n",
    "\n",
    "v.recid.roc = df.race %>%\n",
    "    select(is_violent_recid, v_decile_score, race) %>%\n",
    "    rename(is_recid=is_violent_recid,\n",
    "           decile_score=v_decile_score)\n",
    "\n",
    "race.recid.roc = bind_rows(Recidivism=recid.roc,\n",
    "                           ViolentRecidivism=v.recid.roc,\n",
    "                           .id=\"RecidivismType\")\n",
    "race.recid.roc"
   ]
  },
  {
   "cell_type": "code",
   "execution_count": 64,
   "metadata": {
    "collapsed": true
   },
   "outputs": [],
   "source": [
    "options(repr.plot.width=10)"
   ]
  },
  {
   "cell_type": "code",
   "execution_count": 65,
   "metadata": {},
   "outputs": [
    {
     "name": "stderr",
     "output_type": "stream",
     "text": [
      "Warning message in verify_d(data$d):\n",
      "“D not labeled 0/1, assuming FALSE = 0 and TRUE = 1!”"
     ]
    },
    {
     "data": {},
     "metadata": {},
     "output_type": "display_data"
    },
    {
     "data": {
      "image/png": "[encoded data removed]",
      "text/plain": [
       "plot without title"
      ]
     },
     "metadata": {},
     "output_type": "display_data"
    }
   ],
   "source": [
    "roc_plot = ggplot(race.recid.roc) +\n",
    "    aes(d=is_recid, m=decile_score, color=race, linetype=race) +\n",
    "    geom_roc() +\n",
    "    facet_wrap(~RecidivismType, scales=\"free\")\n",
    "roc_plot"
   ]
  },
  {
   "cell_type": "code",
   "execution_count": 66,
   "metadata": {},
   "outputs": [
    {
     "name": "stderr",
     "output_type": "stream",
     "text": [
      "Warning message in verify_d(data$d):\n",
      "“D not labeled 0/1, assuming FALSE = 0 and TRUE = 1!”"
     ]
    },
    {
     "data": {
      "text/html": [
       "<table>\n",
       "<thead><tr><th scope=col>PANEL</th><th scope=col>group</th><th scope=col>AUC</th></tr></thead>\n",
       "<tbody>\n",
       "\t<tr><td>1        </td><td>1        </td><td>0.7018905</td></tr>\n",
       "\t<tr><td>1        </td><td>2        </td><td>0.6914968</td></tr>\n",
       "\t<tr><td>1        </td><td>3        </td><td>0.6478101</td></tr>\n",
       "\t<tr><td>2        </td><td>1        </td><td>0.6383431</td></tr>\n",
       "\t<tr><td>2        </td><td>2        </td><td>0.6369047</td></tr>\n",
       "\t<tr><td>2        </td><td>3        </td><td>0.6195664</td></tr>\n",
       "</tbody>\n",
       "</table>\n"
      ],
      "text/latex": [
       "\\begin{tabular}{r|lll}\n",
       " PANEL & group & AUC\\\\\n",
       "\\hline\n",
       "\t 1         & 1         & 0.7018905\\\\\n",
       "\t 1         & 2         & 0.6914968\\\\\n",
       "\t 1         & 3         & 0.6478101\\\\\n",
       "\t 2         & 1         & 0.6383431\\\\\n",
       "\t 2         & 2         & 0.6369047\\\\\n",
       "\t 2         & 3         & 0.6195664\\\\\n",
       "\\end{tabular}\n"
      ],
      "text/markdown": [
       "\n",
       "PANEL | group | AUC | \n",
       "|---|---|---|---|---|---|\n",
       "| 1         | 1         | 0.7018905 | \n",
       "| 1         | 2         | 0.6914968 | \n",
       "| 1         | 3         | 0.6478101 | \n",
       "| 2         | 1         | 0.6383431 | \n",
       "| 2         | 2         | 0.6369047 | \n",
       "| 2         | 3         | 0.6195664 | \n",
       "\n",
       "\n"
      ],
      "text/plain": [
       "  PANEL group AUC      \n",
       "1 1     1     0.7018905\n",
       "2 1     2     0.6914968\n",
       "3 1     3     0.6478101\n",
       "4 2     1     0.6383431\n",
       "5 2     2     0.6369047\n",
       "6 2     3     0.6195664"
      ]
     },
     "metadata": {},
     "output_type": "display_data"
    }
   ],
   "source": [
    "calc_auc(roc_plot)"
   ]
  },
  {
   "cell_type": "markdown",
   "metadata": {
    "collapsed": true
   },
   "source": [
    "### Discussion"
   ]
  },
  {
   "cell_type": "markdown",
   "metadata": {},
   "source": [
    "1. members of different races's experience of the prediction systems\n",
    "    - False Positive Rate: African-American has highest false positive rate (0.14), the second one is Hispanic group(0.06), the last one is Caucasian (0.05). It seems that the judgment for **_\"will recidivate\"_** made by this prediction system is much more **strict for African-American** group than the other two groups. \n",
    "    - False Negative Rate: Hispanic group has highest score(0.57), the second one is Caucasian (0.51), and the last one is African-American group (0.3). It seems that the judgment of **_\"will not recidivate\"_** is much more loose for Hispanic and Caucasian group than for the African-American group. It shows that more than half of Hispanic and Caucasian people who actually recidivate were predicted as **\"will not recidivate\"**\n",
    "    - Positive Predictive Value: 0.78, 0.75, 0.62 for African-American, Caucasian and Hispanic group respectively. It shows that all the group have similar experience on positive predictive vaule.\n",
    "    - Negative Predictive Value: 0.39, 0.32, 0.31 for African-American, Caucasian and Hispanic group respectively. It shows that all the group have similar experience based on error of predict negative cases.\n",
    "2. Because the condition given to compute FPR and PPV is different. \n",
    "    - FPR is to compute False Positive given all the defendants who actually does not recidivate, so this is looking at the reality domain. \n",
    "    - However the PPV is to compute the True Positive given all the predicted \"will recidivate\", so this is looking at the prediction domain."
   ]
  },
  {
   "cell_type": "markdown",
   "metadata": {},
   "source": [
    "Let's compute the count number of False Negative, True Positive, and False Positive"
   ]
  },
  {
   "cell_type": "markdown",
   "metadata": {},
   "source": [
    "FN"
   ]
  },
  {
   "cell_type": "code",
   "execution_count": 85,
   "metadata": {},
   "outputs": [
    {
     "data": {
      "text/html": [
       "<table>\n",
       "<thead><tr><th scope=col>race</th><th scope=col>Count</th></tr></thead>\n",
       "<tbody>\n",
       "\t<tr><td>African-American</td><td>525             </td></tr>\n",
       "\t<tr><td>Caucasian       </td><td>444             </td></tr>\n",
       "\t<tr><td>Hispanic        </td><td>113             </td></tr>\n",
       "</tbody>\n",
       "</table>\n"
      ],
      "text/latex": [
       "\\begin{tabular}{r|ll}\n",
       " race & Count\\\\\n",
       "\\hline\n",
       "\t African-American & 525             \\\\\n",
       "\t Caucasian        & 444             \\\\\n",
       "\t Hispanic         & 113             \\\\\n",
       "\\end{tabular}\n"
      ],
      "text/markdown": [
       "\n",
       "race | Count | \n",
       "|---|---|---|\n",
       "| African-American | 525              | \n",
       "| Caucasian        | 444              | \n",
       "| Hispanic         | 113              | \n",
       "\n",
       "\n"
      ],
      "text/plain": [
       "  race             Count\n",
       "1 African-American 525  \n",
       "2 Caucasian        444  \n",
       "3 Hispanic         113  "
      ]
     },
     "metadata": {},
     "output_type": "display_data"
    }
   ],
   "source": [
    "df.race %>%\n",
    "    filter(is_recid==TRUE & pred_low==TRUE) %>%\n",
    "    group_by(race) %>% \n",
    "    summarize(Count=n()) %>%\n",
    "    ungroup()"
   ]
  },
  {
   "cell_type": "markdown",
   "metadata": {},
   "source": [
    "TP"
   ]
  },
  {
   "cell_type": "code",
   "execution_count": 86,
   "metadata": {},
   "outputs": [
    {
     "data": {
      "text/html": [
       "<table>\n",
       "<thead><tr><th scope=col>race</th><th scope=col>Count</th></tr></thead>\n",
       "<tbody>\n",
       "\t<tr><td>African-American</td><td>655             </td></tr>\n",
       "\t<tr><td>Caucasian       </td><td>167             </td></tr>\n",
       "\t<tr><td>Hispanic        </td><td> 29             </td></tr>\n",
       "</tbody>\n",
       "</table>\n"
      ],
      "text/latex": [
       "\\begin{tabular}{r|ll}\n",
       " race & Count\\\\\n",
       "\\hline\n",
       "\t African-American & 655             \\\\\n",
       "\t Caucasian        & 167             \\\\\n",
       "\t Hispanic         &  29             \\\\\n",
       "\\end{tabular}\n"
      ],
      "text/markdown": [
       "\n",
       "race | Count | \n",
       "|---|---|---|\n",
       "| African-American | 655              | \n",
       "| Caucasian        | 167              | \n",
       "| Hispanic         |  29              | \n",
       "\n",
       "\n"
      ],
      "text/plain": [
       "  race             Count\n",
       "1 African-American 655  \n",
       "2 Caucasian        167  \n",
       "3 Hispanic          29  "
      ]
     },
     "metadata": {},
     "output_type": "display_data"
    }
   ],
   "source": [
    "df.race %>%\n",
    "    filter(is_recid==TRUE & pred_recid==TRUE) %>%\n",
    "    group_by(race) %>% \n",
    "    summarize(Count=n()) %>%\n",
    "    ungroup()"
   ]
  },
  {
   "cell_type": "markdown",
   "metadata": {},
   "source": [
    "FP"
   ]
  },
  {
   "cell_type": "code",
   "execution_count": 87,
   "metadata": {},
   "outputs": [
    {
     "data": {
      "text/html": [
       "<table>\n",
       "<thead><tr><th scope=col>race</th><th scope=col>Count</th></tr></thead>\n",
       "<tbody>\n",
       "\t<tr><td>African-American</td><td>190             </td></tr>\n",
       "\t<tr><td>Caucasian       </td><td> 56             </td></tr>\n",
       "\t<tr><td>Hispanic        </td><td> 18             </td></tr>\n",
       "</tbody>\n",
       "</table>\n"
      ],
      "text/latex": [
       "\\begin{tabular}{r|ll}\n",
       " race & Count\\\\\n",
       "\\hline\n",
       "\t African-American & 190             \\\\\n",
       "\t Caucasian        &  56             \\\\\n",
       "\t Hispanic         &  18             \\\\\n",
       "\\end{tabular}\n"
      ],
      "text/markdown": [
       "\n",
       "race | Count | \n",
       "|---|---|---|\n",
       "| African-American | 190              | \n",
       "| Caucasian        |  56              | \n",
       "| Hispanic         |  18              | \n",
       "\n",
       "\n"
      ],
      "text/plain": [
       "  race             Count\n",
       "1 African-American 190  \n",
       "2 Caucasian         56  \n",
       "3 Hispanic          18  "
      ]
     },
     "metadata": {},
     "output_type": "display_data"
    }
   ],
   "source": [
    "df.race %>%\n",
    "    filter(is_recid==FALSE & pred_recid==TRUE) %>%\n",
    "    group_by(race) %>% \n",
    "    summarize(Count=n()) %>%\n",
    "    ungroup()"
   ]
  },
  {
   "cell_type": "markdown",
   "metadata": {},
   "source": [
    "From above, we can see FP and TP have similar proportion for each group, this makes the PPV similar. However, for FN, the number of Caucasian and Hispanic group increased a lot, this makes the proportion be not similar to TP. So the FNR is not similar. "
   ]
  },
  {
   "cell_type": "code",
   "execution_count": null,
   "metadata": {
    "collapsed": true
   },
   "outputs": [],
   "source": []
  }
 ],
 "metadata": {
  "kernelspec": {
   "display_name": "R",
   "language": "R",
   "name": "ir"
  },
  "language_info": {
   "codemirror_mode": "r",
   "file_extension": ".r",
   "mimetype": "text/x-r-source",
   "name": "R",
   "pygments_lexer": "r",
   "version": "3.4.2"
  }
 },
 "nbformat": 4,
 "nbformat_minor": 2
}
